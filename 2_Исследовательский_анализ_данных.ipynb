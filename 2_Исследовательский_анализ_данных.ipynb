{
 "cells": [
  {
   "cell_type": "markdown",
   "metadata": {},
   "source": [
    "# Исследование объявлений о продаже квартир\n",
    "\n",
    "В нашем распоряжении данные сервиса Яндекс.Недвижимость — архив объявлений о продаже квартир в Санкт-Петербурге и соседних населённых пунктов за несколько лет. Нужно научиться определять рыночную стоимость объектов недвижимости. Задача — установить параметры. Это позволит построить автоматизированную систему: она отследит аномалии и мошенническую деятельность. \n",
    "\n",
    "По каждой квартире на продажу доступны два вида данных. Первые вписаны пользователем, вторые — получены автоматически на основе картографических данных. Например, расстояние до центра, аэропорта, ближайшего парка и водоёма. "
   ]
  },
  {
   "cell_type": "markdown",
   "metadata": {},
   "source": [
    "<div style=\"border:solid green 2px; padding: 20px\"> <h1 style=\"color:green; margin-bottom:20px\">Комментарий наставника</h1>\n",
    "\n",
    "Привет! Спасибо, что сдал задание:) Ты проделал большую работу. Далее в файле мои комментарии ты сможешь найти в ячейках, аналогичных данной ( если рамки комментария зелёные - всё сделано правильно; жёлтые - есть замечания, но не критично; красные - нужно переделать). Не удаляй эти комментарии и постарайся учесть их в ходе выпфолнения проекта. \n",
    "\n",
    "</div>"
   ]
  },
  {
   "cell_type": "markdown",
   "metadata": {},
   "source": [
    "### Описание данных\n",
    "- airports_nearest — расстояние до ближайшего аэропорта в метрах (м)\n",
    "- balcony — число балконов\n",
    "- ceiling_height — высота потолков (м)\n",
    "- cityCenters_nearest — расстояние до центра города (м)\n",
    "- days_exposition — сколько дней было размещено объявление (от публикации до снятия)\n",
    "- first_day_exposition — дата публикации\n",
    "- floor — этаж\n",
    "- floors_total — всего этажей в доме\n",
    "- is_apartment — апартаменты (булев тип)\n",
    "- kitchen_area — площадь кухни в квадратных метрах (м²)\n",
    "- last_price — цена на момент снятия с публикации\n",
    "- living_area — жилая площадь в квадратных метрах(м²)\n",
    "- locality_name — название населённого пункта\n",
    "- open_plan — свободная планировка (булев тип)\n",
    "- parks_around3000 — число парков в радиусе 3 км\n",
    "- parks_nearest — расстояние до ближайшего парка (м)\n",
    "- ponds_around3000 — число водоёмов в радиусе 3 км\n",
    "- ponds_nearest — расстояние до ближайшего водоёма (м)\n",
    "- rooms — число комнат\n",
    "- studio — квартира-студия (булев тип)\n",
    "- total_area — площадь квартиры в квадратных метрах (м²)\n",
    "- total_images — число фотографий квартиры в объявлении"
   ]
  },
  {
   "cell_type": "markdown",
   "metadata": {},
   "source": [
    "### Краткий план настоящей работы\n",
    "\n",
    "- определить и заполнить пропущенные значения;\n",
    "- исследовать и заменить при необходимости типы данных;\n",
    "- исследовать и удалить дубликаты;\n",
    "- посчитать и добавить в набор данных цену квадратного метра, день недели, месяц и год публикации объявления, этаж квартиры (варианты — первый, последний, другой), соотношение жилой и общей площади, отношение площади кухни к общей;\n",
    "- изучить параметры: площадь, цена, число комнат, высота потолков. Построить гистограммы для каждого параметра;\n",
    "- изучите время продажи квартиры. Постройте гистограмму. Посчитайте среднее и медиану;\n",
    "- описать, сколько обычно занимает продажа. Когда можно считать, что продажи прошли очень быстро, а когда необычно долго?;\n",
    "- убрать редкие и выбивающиеся значения. Описать, какие особенности обнаружены;\n",
    "- выделить - какие факторы больше всего влияют на стоимость квартиры?;\n",
    "- изучить, зависит ли цена от квадратного метра, числа комнат, удалённости от центра;\n",
    "- изучить зависимость цены от того, на каком этаже расположена квартира: первом, последнем или другом;\n",
    "- изучите зависимость от даты размещения: дня недели, месяца и года;\n",
    "- выбрать 10 населённых пунктов с наибольшим числом объявлений. Посчитать среднюю цену квадратного метра в этих населённых пунктах;\n",
    "- выделить населённые пункты с самой высокой и низкой стоимостью жилья;\n",
    "- изучить предложения квартир: для каждой квартиры есть информация о расстоянии до центра;\n",
    "- выделить квартиры в Санкт-Петербурге;\n",
    "- выяснить, какая область входит в центр города;\n",
    "- создать столбец с расстоянием до центра в километрах: округлить до целых значений;\n",
    "- посчитать среднюю цену для каждого километра. Построить график: он должен показывать, как цена зависит от удалённости от центра;\n",
    "- выделить сегмент квартир в центре. Проанализировать эту территорию и изучить следующие параметры: площадь, цена, число комнат, высота потолков;\n",
    "- выделить факторы, которые влияют на стоимость квартиры (число комнат, этаж, удалённость от центра, дата размещения объявления). Сделать выводы; \n",
    "- отличаются ли они от общих выводов по всему городу?\n",
    "- сделать общий вывод по проделанной работе."
   ]
  },
  {
   "cell_type": "markdown",
   "metadata": {},
   "source": [
    "### Шаг 1. Откройте файл с данными и изучите общую информацию. "
   ]
  },
  {
   "cell_type": "code",
   "execution_count": 1,
   "metadata": {},
   "outputs": [],
   "source": [
    "#импорт библиотек используемых в проекте\n",
    "import pandas as pd\n",
    "import seaborn as sns\n",
    "import matplotlib.pyplot as plt\n",
    "import numpy as np\n",
    "from datetime import datetime"
   ]
  },
  {
   "cell_type": "code",
   "execution_count": 2,
   "metadata": {},
   "outputs": [],
   "source": [
    "residence = pd.read_csv('/datasets/real_estate_data.csv', sep='\\t')"
   ]
  },
  {
   "cell_type": "code",
   "execution_count": 3,
   "metadata": {},
   "outputs": [
    {
     "name": "stdout",
     "output_type": "stream",
     "text": [
      "Размер набора данных: (23699, 22)\n"
     ]
    }
   ],
   "source": [
    "print('Размер набора данных:', residence.shape)"
   ]
  },
  {
   "cell_type": "markdown",
   "metadata": {},
   "source": [
    "Посмотрим информацию по набору данных и оценим пропуски"
   ]
  },
  {
   "cell_type": "code",
   "execution_count": 4,
   "metadata": {},
   "outputs": [
    {
     "name": "stdout",
     "output_type": "stream",
     "text": [
      "<class 'pandas.core.frame.DataFrame'>\n",
      "RangeIndex: 23699 entries, 0 to 23698\n",
      "Data columns (total 22 columns):\n",
      "total_images            23699 non-null int64\n",
      "last_price              23699 non-null float64\n",
      "total_area              23699 non-null float64\n",
      "first_day_exposition    23699 non-null object\n",
      "rooms                   23699 non-null int64\n",
      "ceiling_height          14504 non-null float64\n",
      "floors_total            23613 non-null float64\n",
      "living_area             21796 non-null float64\n",
      "floor                   23699 non-null int64\n",
      "is_apartment            2775 non-null object\n",
      "studio                  23699 non-null bool\n",
      "open_plan               23699 non-null bool\n",
      "kitchen_area            21421 non-null float64\n",
      "balcony                 12180 non-null float64\n",
      "locality_name           23650 non-null object\n",
      "airports_nearest        18157 non-null float64\n",
      "cityCenters_nearest     18180 non-null float64\n",
      "parks_around3000        18181 non-null float64\n",
      "parks_nearest           8079 non-null float64\n",
      "ponds_around3000        18181 non-null float64\n",
      "ponds_nearest           9110 non-null float64\n",
      "days_exposition         20518 non-null float64\n",
      "dtypes: bool(2), float64(14), int64(3), object(3)\n",
      "memory usage: 3.7+ MB\n"
     ]
    }
   ],
   "source": [
    "residence.info()"
   ]
  },
  {
   "cell_type": "markdown",
   "metadata": {},
   "source": [
    "Пропусков большое количество в различных столбцах, разберемся с заполнением и природой пропусков на следующих этапе работы с набором данных."
   ]
  },
  {
   "cell_type": "markdown",
   "metadata": {},
   "source": [
    "Выведем информацию о пропусках по каждому из столбцов (процент содержания NaN в каждом столбце относительно общего количества строк):"
   ]
  },
  {
   "cell_type": "code",
   "execution_count": 5,
   "metadata": {},
   "outputs": [
    {
     "data": {
      "image/png": "[encoded data removed]",
      "text/plain": [
       "<Figure size 1224x576 with 1 Axes>"
      ]
     },
     "metadata": {
      "needs_background": "light"
     },
     "output_type": "display_data"
    }
   ],
   "source": [
    "#для этого напишем функцию, которая будет строить график процентного соотношения \n",
    "#пропущенных значений к общему количеству строк и показывать среднее значение пропущенных значений в столбцах\n",
    "\n",
    "#эту фунцию я честно нашел на просторах интернета, она мне очень понравилась, \n",
    "#я решил ее здесь применить и оставить, на мой взгляд, очень удобная\n",
    "\n",
    "def percent_hbar(df, old_threshold=None):\n",
    "    percent_of_nulls = (df.isnull().sum()/len(df)*100).sort_values().round(1)\n",
    "    threshold = percent_of_nulls.mean()\n",
    "    ax = percent_of_nulls.plot(kind='barh', figsize=(17, 8), title='% of NaN', \n",
    "                               color='#86bf91', legend=False, fontsize=10)\n",
    "    ax.set_xlabel('Count of NaN')\n",
    "    dict_percent = dict(percent_of_nulls)\n",
    "    i = 0\n",
    "    for k in dict_percent:\n",
    "        color = 'black'\n",
    "        if dict_percent[k] > 0:\n",
    "            if dict_percent[k] > threshold:\n",
    "                color = 'red'\n",
    "            ax.text(dict_percent[k]+0.1, i + 0.09, str(dict_percent[k])+'%', color=color, \n",
    "                    fontweight='bold', fontsize='large')\n",
    "        i += 0.98\n",
    "    if old_threshold is not None:\n",
    "        plt.axvline(x=old_threshold,linewidth=1, color='r', linestyle='--')\n",
    "        ax.text(old_threshold+0.3, 10, '{0:.2%}'.format(old_threshold/100), color='r', fontweight='bold', fontsize='large')\n",
    "        plt.axvline(x=threshold,linewidth=1, color='green', linestyle='--')\n",
    "        ax.text(threshold+0.3, 10, '{0:.2%}'.format(threshold/100), color='green', fontweight='bold', fontsize='large')\n",
    "    else:\n",
    "        plt.axvline(x=threshold,linewidth=1, color='r', linestyle='--')\n",
    "        ax.text(threshold+0.3, 10, '{0:.2%}'.format(threshold/100), color='r', fontweight='bold', fontsize='large')\n",
    "    return ax, threshold\n",
    "\n",
    "plot, threshold = percent_hbar(residence)\n"
   ]
  },
  {
   "cell_type": "markdown",
   "metadata": {},
   "source": [
    "Посмотрим количество пропусков по каждому из интересующих нас столбцу, возможно проявятся закономерности."
   ]
  },
  {
   "cell_type": "code",
   "execution_count": 6,
   "metadata": {},
   "outputs": [
    {
     "name": "stdout",
     "output_type": "stream",
     "text": [
      "Количество NaN в столбце is_apartment: 20924\n",
      "Количество NaN в столбце parks_nearest : 15620\n",
      "Количество NaN в столбце ponds_nearest: 14589\n",
      "Количество NaN в столбце balcony: 11519\n",
      "Количество NaN в столбце ceiling_height: 9195\n",
      "Количество NaN в столбце airports_nearest: 5542\n",
      "Количество NaN в столбце cityCenters_nearest: 5519\n",
      "Количество NaN в столбце parks_around3000: 5518\n",
      "Количество NaN в столбце ponds_around3000: 5518\n",
      "Количество NaN в столбце days_exposition: 3181\n",
      "Количество NaN в столбце kitchen_area: 2278\n",
      "Количество NaN в столбце living_area: 1903\n",
      "Количество NaN в столбце floors_total: 86\n",
      "Количество NaN в столбце locality_name: 49\n"
     ]
    }
   ],
   "source": [
    "print('Количество NaN в столбце is_apartment:', residence['is_apartment'].isnull().sum())\n",
    "print('Количество NaN в столбце parks_nearest :', residence['parks_nearest'].isnull().sum())\n",
    "print('Количество NaN в столбце ponds_nearest:', residence['ponds_nearest'].isnull().sum())\n",
    "print('Количество NaN в столбце balcony:', residence['balcony'].isnull().sum())\n",
    "print('Количество NaN в столбце ceiling_height:', residence['ceiling_height'].isnull().sum())\n",
    "print('Количество NaN в столбце airports_nearest:', residence['airports_nearest'].isnull().sum())\n",
    "print('Количество NaN в столбце cityCenters_nearest:', residence['cityCenters_nearest'].isnull().sum())\n",
    "print('Количество NaN в столбце parks_around3000:', residence['parks_around3000'].isnull().sum())\n",
    "print('Количество NaN в столбце ponds_around3000:', residence['ponds_around3000'].isnull().sum())\n",
    "print('Количество NaN в столбце days_exposition:', residence['days_exposition'].isnull().sum())\n",
    "print('Количество NaN в столбце kitchen_area:', residence['kitchen_area'].isnull().sum())\n",
    "print('Количество NaN в столбце living_area:', residence['living_area'].isnull().sum())\n",
    "print('Количество NaN в столбце floors_total:', residence['floors_total'].isnull().sum())\n",
    "print('Количество NaN в столбце locality_name:', residence['locality_name'].isnull().sum())"
   ]
  },
  {
   "cell_type": "markdown",
   "metadata": {},
   "source": [
    "###### Вывод по пропускам в наборе данных."
   ]
  },
  {
   "cell_type": "markdown",
   "metadata": {},
   "source": [
    "Средний процент пропусков в столбцах составляет порядка 19%. Этот порог преодолели 9 столбцов из 22.\n",
    "Разберем столбцы с пропущенными значениями:\n",
    "- is_apartment — апартаменты (булев тип) - сложный тип данных, заполняется людьми, какой процент людей знает разницу между квартирой и апартаментами, на сто процентов доверять даже заполненным данным в этом столбце нельзя;\n",
    "- parks_nearest — расстояние до ближайшего парка (м) - данный вид пропуска заполнить адекватным значением будет проблематично, ввиду отсутствия дополнительных сведений, скорее всего эти данные генерируются машиной;\n",
    "- ponds_nearest — расстояние до ближайшего водоёма (м) - аналогично пропускам по переменной parks_nearest;\n",
    "- balcony — число балконов - вероятнее всего, пропуски это остутсвие балкона, люди оставляли поле пустым;\n",
    "- ceiling_height — высота потолков (м), высоту потолков, думаю этот параметр люди леняться заполнять, так как наверняка не знают, а гадать не хотят, оставляют поле пустым;\n",
    "- airports_nearest — расстояние до ближайшего аэропорта в метрах (м),   - данный вид пропуска заполнить адекватным значением будет проблематично, ввиду отсутствия дополнительных сведений, скорее всего эти данные генерируются машиной;\n",
    "- cityCenters_nearest — расстояние до центра города (м) - данный вид пропуска заполнить адекватным значением будет проблематично, ввиду отсутствия дополнительных сведений, скорее всего эти данные генерируются машиной;\n",
    "- parks_around3000 — число парков в радиусе 3 км, думаю данные генерируются машиной, заполнить эти сведения возможно получится сформировав дополнительный столбец с группами по значениям расстояния от центра, и далее взять среднее количество парков для этих групп и присвоить на место отсутствующих значений;\n",
    "- ponds_around3000 — число водоёмов в радиусе 3 км - аналогично паркам;\n",
    "- days_exposition — сколько дней было размещено объявление (от публикации до снятия) - данные могут отсутствовать по необязательности пользователя, сделка закрыта, но на ресурсе пользователь не поставил \"галочку\" что сделка закрыта, это так же возможная причина большого разброса значений в этом столбце;\n",
    "- kitchen_area — площадь кухни в квадратных метрах (м²), предположительно здесь причиной могут являться квартиры студии, где площадь кухни значение не столь осязаемое как в стандартной квартире;\n",
    "- living_area — жилая площадь в квадратных метрах(м²), аналогично столбцу kitchen_area, думаю при заполнение данными пренебрегли;\n",
    "- floors_total — всего этажей в доме, пропусков очень мало, 86 штук, думаю их природа, человеческий фактор;\n",
    "- locality_name — название населённого пункта, аналогично этажности, количество пропусков очень мало, человеческий фактор, возможно потеря данных при переносах баз, обработке инормации.\n",
    "\n",
    "Есть подозрение что пропуски в парах столбцов parks_around3000 - ponds_around3000, parks_nearest - ponds_nearest и  airports_nearest - cityCenters_nearest коррелируют, возможно, их природа одинакова. "
   ]
  },
  {
   "cell_type": "markdown",
   "metadata": {},
   "source": [
    "<div style=\"border:solid green 2px; padding: 20px\"> <h1 style=\"color:green; margin-bottom:20px\">Комментарий наставника</h1>\n",
    "\n",
    "Отличное описание столбцов"
   ]
  },
  {
   "cell_type": "markdown",
   "metadata": {},
   "source": [
    "Посмотрим разброс значений в столбцах методом describe()"
   ]
  },
  {
   "cell_type": "code",
   "execution_count": 7,
   "metadata": {},
   "outputs": [
    {
     "data": {
      "text/html": [
       "<div>\n",
       "<style scoped>\n",
       "    .dataframe tbody tr th:only-of-type {\n",
       "        vertical-align: middle;\n",
       "    }\n",
       "\n",
       "    .dataframe tbody tr th {\n",
       "        vertical-align: top;\n",
       "    }\n",
       "\n",
       "    .dataframe thead th {\n",
       "        text-align: right;\n",
       "    }\n",
       "</style>\n",
       "<table border=\"1\" class=\"dataframe\">\n",
       "  <thead>\n",
       "    <tr style=\"text-align: right;\">\n",
       "      <th></th>\n",
       "      <th>total_images</th>\n",
       "      <th>last_price</th>\n",
       "      <th>total_area</th>\n",
       "      <th>rooms</th>\n",
       "      <th>ceiling_height</th>\n",
       "      <th>floors_total</th>\n",
       "      <th>living_area</th>\n",
       "      <th>floor</th>\n",
       "      <th>kitchen_area</th>\n",
       "      <th>balcony</th>\n",
       "      <th>airports_nearest</th>\n",
       "      <th>cityCenters_nearest</th>\n",
       "      <th>parks_around3000</th>\n",
       "      <th>parks_nearest</th>\n",
       "      <th>ponds_around3000</th>\n",
       "      <th>ponds_nearest</th>\n",
       "      <th>days_exposition</th>\n",
       "    </tr>\n",
       "  </thead>\n",
       "  <tbody>\n",
       "    <tr>\n",
       "      <td>count</td>\n",
       "      <td>23699.000000</td>\n",
       "      <td>2.369900e+04</td>\n",
       "      <td>23699.000000</td>\n",
       "      <td>23699.000000</td>\n",
       "      <td>14504.000000</td>\n",
       "      <td>23613.000000</td>\n",
       "      <td>21796.000000</td>\n",
       "      <td>23699.000000</td>\n",
       "      <td>21421.000000</td>\n",
       "      <td>12180.000000</td>\n",
       "      <td>18157.000000</td>\n",
       "      <td>18180.000000</td>\n",
       "      <td>18181.000000</td>\n",
       "      <td>8079.000000</td>\n",
       "      <td>18181.000000</td>\n",
       "      <td>9110.000000</td>\n",
       "      <td>20518.000000</td>\n",
       "    </tr>\n",
       "    <tr>\n",
       "      <td>mean</td>\n",
       "      <td>9.858475</td>\n",
       "      <td>6.541549e+06</td>\n",
       "      <td>60.348651</td>\n",
       "      <td>2.070636</td>\n",
       "      <td>2.771499</td>\n",
       "      <td>10.673824</td>\n",
       "      <td>34.457852</td>\n",
       "      <td>5.892358</td>\n",
       "      <td>10.569807</td>\n",
       "      <td>1.150082</td>\n",
       "      <td>28793.672193</td>\n",
       "      <td>14191.277833</td>\n",
       "      <td>0.611408</td>\n",
       "      <td>490.804555</td>\n",
       "      <td>0.770255</td>\n",
       "      <td>517.980900</td>\n",
       "      <td>180.888634</td>\n",
       "    </tr>\n",
       "    <tr>\n",
       "      <td>std</td>\n",
       "      <td>5.682529</td>\n",
       "      <td>1.088701e+07</td>\n",
       "      <td>35.654083</td>\n",
       "      <td>1.078405</td>\n",
       "      <td>1.261056</td>\n",
       "      <td>6.597173</td>\n",
       "      <td>22.030445</td>\n",
       "      <td>4.885249</td>\n",
       "      <td>5.905438</td>\n",
       "      <td>1.071300</td>\n",
       "      <td>12630.880622</td>\n",
       "      <td>8608.386210</td>\n",
       "      <td>0.802074</td>\n",
       "      <td>342.317995</td>\n",
       "      <td>0.938346</td>\n",
       "      <td>277.720643</td>\n",
       "      <td>219.727988</td>\n",
       "    </tr>\n",
       "    <tr>\n",
       "      <td>min</td>\n",
       "      <td>0.000000</td>\n",
       "      <td>1.219000e+04</td>\n",
       "      <td>12.000000</td>\n",
       "      <td>0.000000</td>\n",
       "      <td>1.000000</td>\n",
       "      <td>1.000000</td>\n",
       "      <td>2.000000</td>\n",
       "      <td>1.000000</td>\n",
       "      <td>1.300000</td>\n",
       "      <td>0.000000</td>\n",
       "      <td>0.000000</td>\n",
       "      <td>181.000000</td>\n",
       "      <td>0.000000</td>\n",
       "      <td>1.000000</td>\n",
       "      <td>0.000000</td>\n",
       "      <td>13.000000</td>\n",
       "      <td>1.000000</td>\n",
       "    </tr>\n",
       "    <tr>\n",
       "      <td>25%</td>\n",
       "      <td>6.000000</td>\n",
       "      <td>3.400000e+06</td>\n",
       "      <td>40.000000</td>\n",
       "      <td>1.000000</td>\n",
       "      <td>2.520000</td>\n",
       "      <td>5.000000</td>\n",
       "      <td>18.600000</td>\n",
       "      <td>2.000000</td>\n",
       "      <td>7.000000</td>\n",
       "      <td>0.000000</td>\n",
       "      <td>18585.000000</td>\n",
       "      <td>9238.000000</td>\n",
       "      <td>0.000000</td>\n",
       "      <td>288.000000</td>\n",
       "      <td>0.000000</td>\n",
       "      <td>294.000000</td>\n",
       "      <td>45.000000</td>\n",
       "    </tr>\n",
       "    <tr>\n",
       "      <td>50%</td>\n",
       "      <td>9.000000</td>\n",
       "      <td>4.650000e+06</td>\n",
       "      <td>52.000000</td>\n",
       "      <td>2.000000</td>\n",
       "      <td>2.650000</td>\n",
       "      <td>9.000000</td>\n",
       "      <td>30.000000</td>\n",
       "      <td>4.000000</td>\n",
       "      <td>9.100000</td>\n",
       "      <td>1.000000</td>\n",
       "      <td>26726.000000</td>\n",
       "      <td>13098.500000</td>\n",
       "      <td>0.000000</td>\n",
       "      <td>455.000000</td>\n",
       "      <td>1.000000</td>\n",
       "      <td>502.000000</td>\n",
       "      <td>95.000000</td>\n",
       "    </tr>\n",
       "    <tr>\n",
       "      <td>75%</td>\n",
       "      <td>14.000000</td>\n",
       "      <td>6.800000e+06</td>\n",
       "      <td>69.900000</td>\n",
       "      <td>3.000000</td>\n",
       "      <td>2.800000</td>\n",
       "      <td>16.000000</td>\n",
       "      <td>42.300000</td>\n",
       "      <td>8.000000</td>\n",
       "      <td>12.000000</td>\n",
       "      <td>2.000000</td>\n",
       "      <td>37273.000000</td>\n",
       "      <td>16293.000000</td>\n",
       "      <td>1.000000</td>\n",
       "      <td>612.000000</td>\n",
       "      <td>1.000000</td>\n",
       "      <td>729.000000</td>\n",
       "      <td>232.000000</td>\n",
       "    </tr>\n",
       "    <tr>\n",
       "      <td>max</td>\n",
       "      <td>50.000000</td>\n",
       "      <td>7.630000e+08</td>\n",
       "      <td>900.000000</td>\n",
       "      <td>19.000000</td>\n",
       "      <td>100.000000</td>\n",
       "      <td>60.000000</td>\n",
       "      <td>409.700000</td>\n",
       "      <td>33.000000</td>\n",
       "      <td>112.000000</td>\n",
       "      <td>5.000000</td>\n",
       "      <td>84869.000000</td>\n",
       "      <td>65968.000000</td>\n",
       "      <td>3.000000</td>\n",
       "      <td>3190.000000</td>\n",
       "      <td>3.000000</td>\n",
       "      <td>1344.000000</td>\n",
       "      <td>1580.000000</td>\n",
       "    </tr>\n",
       "  </tbody>\n",
       "</table>\n",
       "</div>"
      ],
      "text/plain": [
       "       total_images    last_price    total_area         rooms  ceiling_height  \\\n",
       "count  23699.000000  2.369900e+04  23699.000000  23699.000000    14504.000000   \n",
       "mean       9.858475  6.541549e+06     60.348651      2.070636        2.771499   \n",
       "std        5.682529  1.088701e+07     35.654083      1.078405        1.261056   \n",
       "min        0.000000  1.219000e+04     12.000000      0.000000        1.000000   \n",
       "25%        6.000000  3.400000e+06     40.000000      1.000000        2.520000   \n",
       "50%        9.000000  4.650000e+06     52.000000      2.000000        2.650000   \n",
       "75%       14.000000  6.800000e+06     69.900000      3.000000        2.800000   \n",
       "max       50.000000  7.630000e+08    900.000000     19.000000      100.000000   \n",
       "\n",
       "       floors_total   living_area         floor  kitchen_area       balcony  \\\n",
       "count  23613.000000  21796.000000  23699.000000  21421.000000  12180.000000   \n",
       "mean      10.673824     34.457852      5.892358     10.569807      1.150082   \n",
       "std        6.597173     22.030445      4.885249      5.905438      1.071300   \n",
       "min        1.000000      2.000000      1.000000      1.300000      0.000000   \n",
       "25%        5.000000     18.600000      2.000000      7.000000      0.000000   \n",
       "50%        9.000000     30.000000      4.000000      9.100000      1.000000   \n",
       "75%       16.000000     42.300000      8.000000     12.000000      2.000000   \n",
       "max       60.000000    409.700000     33.000000    112.000000      5.000000   \n",
       "\n",
       "       airports_nearest  cityCenters_nearest  parks_around3000  parks_nearest  \\\n",
       "count      18157.000000         18180.000000      18181.000000    8079.000000   \n",
       "mean       28793.672193         14191.277833          0.611408     490.804555   \n",
       "std        12630.880622          8608.386210          0.802074     342.317995   \n",
       "min            0.000000           181.000000          0.000000       1.000000   \n",
       "25%        18585.000000          9238.000000          0.000000     288.000000   \n",
       "50%        26726.000000         13098.500000          0.000000     455.000000   \n",
       "75%        37273.000000         16293.000000          1.000000     612.000000   \n",
       "max        84869.000000         65968.000000          3.000000    3190.000000   \n",
       "\n",
       "       ponds_around3000  ponds_nearest  days_exposition  \n",
       "count      18181.000000    9110.000000     20518.000000  \n",
       "mean           0.770255     517.980900       180.888634  \n",
       "std            0.938346     277.720643       219.727988  \n",
       "min            0.000000      13.000000         1.000000  \n",
       "25%            0.000000     294.000000        45.000000  \n",
       "50%            1.000000     502.000000        95.000000  \n",
       "75%            1.000000     729.000000       232.000000  \n",
       "max            3.000000    1344.000000      1580.000000  "
      ]
     },
     "execution_count": 7,
     "metadata": {},
     "output_type": "execute_result"
    }
   ],
   "source": [
    "residence.describe()"
   ]
  },
  {
   "cell_type": "markdown",
   "metadata": {},
   "source": [
    "Набор данных содержит некоторые данные, которые требуют проверки, например 19ти - комнатные квартиры, 900 кв. м. площадь квартиры."
   ]
  },
  {
   "cell_type": "code",
   "execution_count": 8,
   "metadata": {},
   "outputs": [
    {
     "name": "stdout",
     "output_type": "stream",
     "text": [
      "Количество грубых дубликатов в наборе данных: 0\n"
     ]
    }
   ],
   "source": [
    "#найдем количество грубых дубликатов\n",
    "print('Количество грубых дубликатов в наборе данных:', residence.duplicated().sum())"
   ]
  },
  {
   "cell_type": "code",
   "execution_count": 9,
   "metadata": {},
   "outputs": [
    {
     "data": {
      "text/html": [
       "<div>\n",
       "<style scoped>\n",
       "    .dataframe tbody tr th:only-of-type {\n",
       "        vertical-align: middle;\n",
       "    }\n",
       "\n",
       "    .dataframe tbody tr th {\n",
       "        vertical-align: top;\n",
       "    }\n",
       "\n",
       "    .dataframe thead th {\n",
       "        text-align: right;\n",
       "    }\n",
       "</style>\n",
       "<table border=\"1\" class=\"dataframe\">\n",
       "  <thead>\n",
       "    <tr style=\"text-align: right;\">\n",
       "      <th></th>\n",
       "      <th>total_images</th>\n",
       "      <th>last_price</th>\n",
       "      <th>total_area</th>\n",
       "      <th>first_day_exposition</th>\n",
       "      <th>rooms</th>\n",
       "      <th>ceiling_height</th>\n",
       "      <th>floors_total</th>\n",
       "      <th>living_area</th>\n",
       "      <th>floor</th>\n",
       "      <th>is_apartment</th>\n",
       "      <th>...</th>\n",
       "      <th>kitchen_area</th>\n",
       "      <th>balcony</th>\n",
       "      <th>locality_name</th>\n",
       "      <th>airports_nearest</th>\n",
       "      <th>cityCenters_nearest</th>\n",
       "      <th>parks_around3000</th>\n",
       "      <th>parks_nearest</th>\n",
       "      <th>ponds_around3000</th>\n",
       "      <th>ponds_nearest</th>\n",
       "      <th>days_exposition</th>\n",
       "    </tr>\n",
       "  </thead>\n",
       "  <tbody>\n",
       "    <tr>\n",
       "      <td>2800</td>\n",
       "      <td>16</td>\n",
       "      <td>3700000.0</td>\n",
       "      <td>42.4</td>\n",
       "      <td>2017-12-12T00:00:00</td>\n",
       "      <td>1</td>\n",
       "      <td>NaN</td>\n",
       "      <td>17.0</td>\n",
       "      <td>19.0</td>\n",
       "      <td>2</td>\n",
       "      <td>NaN</td>\n",
       "      <td>...</td>\n",
       "      <td>10.7</td>\n",
       "      <td>NaN</td>\n",
       "      <td>Санкт-Петербург</td>\n",
       "      <td>25360.0</td>\n",
       "      <td>14749.0</td>\n",
       "      <td>0.0</td>\n",
       "      <td>NaN</td>\n",
       "      <td>0.0</td>\n",
       "      <td>NaN</td>\n",
       "      <td>42.0</td>\n",
       "    </tr>\n",
       "    <tr>\n",
       "      <td>8192</td>\n",
       "      <td>8</td>\n",
       "      <td>3650000.0</td>\n",
       "      <td>38.4</td>\n",
       "      <td>2017-10-25T00:00:00</td>\n",
       "      <td>1</td>\n",
       "      <td>NaN</td>\n",
       "      <td>12.0</td>\n",
       "      <td>20.0</td>\n",
       "      <td>12</td>\n",
       "      <td>NaN</td>\n",
       "      <td>...</td>\n",
       "      <td>10.0</td>\n",
       "      <td>NaN</td>\n",
       "      <td>Санкт-Петербург</td>\n",
       "      <td>15760.0</td>\n",
       "      <td>15976.0</td>\n",
       "      <td>1.0</td>\n",
       "      <td>719.0</td>\n",
       "      <td>0.0</td>\n",
       "      <td>NaN</td>\n",
       "      <td>75.0</td>\n",
       "    </tr>\n",
       "    <tr>\n",
       "      <td>7125</td>\n",
       "      <td>5</td>\n",
       "      <td>17000000.0</td>\n",
       "      <td>177.8</td>\n",
       "      <td>2015-07-09T00:00:00</td>\n",
       "      <td>5</td>\n",
       "      <td>3.20</td>\n",
       "      <td>6.0</td>\n",
       "      <td>116.2</td>\n",
       "      <td>5</td>\n",
       "      <td>NaN</td>\n",
       "      <td>...</td>\n",
       "      <td>19.1</td>\n",
       "      <td>0.0</td>\n",
       "      <td>Санкт-Петербург</td>\n",
       "      <td>21583.0</td>\n",
       "      <td>1211.0</td>\n",
       "      <td>1.0</td>\n",
       "      <td>437.0</td>\n",
       "      <td>2.0</td>\n",
       "      <td>22.0</td>\n",
       "      <td>439.0</td>\n",
       "    </tr>\n",
       "    <tr>\n",
       "      <td>12452</td>\n",
       "      <td>0</td>\n",
       "      <td>4600000.0</td>\n",
       "      <td>35.0</td>\n",
       "      <td>2019-04-05T00:00:00</td>\n",
       "      <td>1</td>\n",
       "      <td>2.50</td>\n",
       "      <td>18.0</td>\n",
       "      <td>18.0</td>\n",
       "      <td>3</td>\n",
       "      <td>NaN</td>\n",
       "      <td>...</td>\n",
       "      <td>8.0</td>\n",
       "      <td>NaN</td>\n",
       "      <td>Санкт-Петербург</td>\n",
       "      <td>15791.0</td>\n",
       "      <td>10629.0</td>\n",
       "      <td>0.0</td>\n",
       "      <td>NaN</td>\n",
       "      <td>1.0</td>\n",
       "      <td>1141.0</td>\n",
       "      <td>5.0</td>\n",
       "    </tr>\n",
       "    <tr>\n",
       "      <td>9719</td>\n",
       "      <td>6</td>\n",
       "      <td>3700000.0</td>\n",
       "      <td>41.7</td>\n",
       "      <td>2018-10-11T00:00:00</td>\n",
       "      <td>3</td>\n",
       "      <td>2.50</td>\n",
       "      <td>5.0</td>\n",
       "      <td>29.8</td>\n",
       "      <td>3</td>\n",
       "      <td>NaN</td>\n",
       "      <td>...</td>\n",
       "      <td>5.3</td>\n",
       "      <td>NaN</td>\n",
       "      <td>Санкт-Петербург</td>\n",
       "      <td>15724.0</td>\n",
       "      <td>14520.0</td>\n",
       "      <td>1.0</td>\n",
       "      <td>673.0</td>\n",
       "      <td>1.0</td>\n",
       "      <td>311.0</td>\n",
       "      <td>4.0</td>\n",
       "    </tr>\n",
       "    <tr>\n",
       "      <td>1963</td>\n",
       "      <td>3</td>\n",
       "      <td>3600000.0</td>\n",
       "      <td>54.0</td>\n",
       "      <td>2015-07-22T00:00:00</td>\n",
       "      <td>2</td>\n",
       "      <td>NaN</td>\n",
       "      <td>9.0</td>\n",
       "      <td>33.0</td>\n",
       "      <td>8</td>\n",
       "      <td>False</td>\n",
       "      <td>...</td>\n",
       "      <td>9.0</td>\n",
       "      <td>2.0</td>\n",
       "      <td>Гатчина</td>\n",
       "      <td>NaN</td>\n",
       "      <td>NaN</td>\n",
       "      <td>NaN</td>\n",
       "      <td>NaN</td>\n",
       "      <td>NaN</td>\n",
       "      <td>NaN</td>\n",
       "      <td>412.0</td>\n",
       "    </tr>\n",
       "    <tr>\n",
       "      <td>9856</td>\n",
       "      <td>13</td>\n",
       "      <td>12000000.0</td>\n",
       "      <td>106.0</td>\n",
       "      <td>2018-07-30T00:00:00</td>\n",
       "      <td>6</td>\n",
       "      <td>2.80</td>\n",
       "      <td>3.0</td>\n",
       "      <td>70.0</td>\n",
       "      <td>1</td>\n",
       "      <td>NaN</td>\n",
       "      <td>...</td>\n",
       "      <td>15.0</td>\n",
       "      <td>NaN</td>\n",
       "      <td>Санкт-Петербург</td>\n",
       "      <td>20290.0</td>\n",
       "      <td>4733.0</td>\n",
       "      <td>0.0</td>\n",
       "      <td>NaN</td>\n",
       "      <td>1.0</td>\n",
       "      <td>238.0</td>\n",
       "      <td>NaN</td>\n",
       "    </tr>\n",
       "    <tr>\n",
       "      <td>23072</td>\n",
       "      <td>5</td>\n",
       "      <td>2640000.0</td>\n",
       "      <td>33.0</td>\n",
       "      <td>2018-02-17T00:00:00</td>\n",
       "      <td>1</td>\n",
       "      <td>NaN</td>\n",
       "      <td>3.0</td>\n",
       "      <td>20.0</td>\n",
       "      <td>1</td>\n",
       "      <td>NaN</td>\n",
       "      <td>...</td>\n",
       "      <td>6.0</td>\n",
       "      <td>NaN</td>\n",
       "      <td>Колпино</td>\n",
       "      <td>26308.0</td>\n",
       "      <td>32095.0</td>\n",
       "      <td>1.0</td>\n",
       "      <td>278.0</td>\n",
       "      <td>3.0</td>\n",
       "      <td>255.0</td>\n",
       "      <td>327.0</td>\n",
       "    </tr>\n",
       "    <tr>\n",
       "      <td>22356</td>\n",
       "      <td>6</td>\n",
       "      <td>2050000.0</td>\n",
       "      <td>17.2</td>\n",
       "      <td>2019-01-13T00:00:00</td>\n",
       "      <td>1</td>\n",
       "      <td>2.77</td>\n",
       "      <td>23.0</td>\n",
       "      <td>NaN</td>\n",
       "      <td>1</td>\n",
       "      <td>False</td>\n",
       "      <td>...</td>\n",
       "      <td>NaN</td>\n",
       "      <td>NaN</td>\n",
       "      <td>Санкт-Петербург</td>\n",
       "      <td>33645.0</td>\n",
       "      <td>13513.0</td>\n",
       "      <td>0.0</td>\n",
       "      <td>NaN</td>\n",
       "      <td>0.0</td>\n",
       "      <td>NaN</td>\n",
       "      <td>7.0</td>\n",
       "    </tr>\n",
       "    <tr>\n",
       "      <td>18814</td>\n",
       "      <td>20</td>\n",
       "      <td>1200000.0</td>\n",
       "      <td>31.0</td>\n",
       "      <td>2018-03-26T00:00:00</td>\n",
       "      <td>1</td>\n",
       "      <td>2.50</td>\n",
       "      <td>5.0</td>\n",
       "      <td>16.0</td>\n",
       "      <td>1</td>\n",
       "      <td>NaN</td>\n",
       "      <td>...</td>\n",
       "      <td>7.1</td>\n",
       "      <td>NaN</td>\n",
       "      <td>деревня Гарболово</td>\n",
       "      <td>NaN</td>\n",
       "      <td>NaN</td>\n",
       "      <td>NaN</td>\n",
       "      <td>NaN</td>\n",
       "      <td>NaN</td>\n",
       "      <td>NaN</td>\n",
       "      <td>312.0</td>\n",
       "    </tr>\n",
       "    <tr>\n",
       "      <td>8220</td>\n",
       "      <td>9</td>\n",
       "      <td>3090000.0</td>\n",
       "      <td>35.4</td>\n",
       "      <td>2017-11-21T00:00:00</td>\n",
       "      <td>1</td>\n",
       "      <td>NaN</td>\n",
       "      <td>5.0</td>\n",
       "      <td>13.1</td>\n",
       "      <td>5</td>\n",
       "      <td>NaN</td>\n",
       "      <td>...</td>\n",
       "      <td>11.0</td>\n",
       "      <td>1.0</td>\n",
       "      <td>Санкт-Петербург</td>\n",
       "      <td>47039.0</td>\n",
       "      <td>25599.0</td>\n",
       "      <td>1.0</td>\n",
       "      <td>126.0</td>\n",
       "      <td>1.0</td>\n",
       "      <td>979.0</td>\n",
       "      <td>45.0</td>\n",
       "    </tr>\n",
       "    <tr>\n",
       "      <td>1672</td>\n",
       "      <td>10</td>\n",
       "      <td>14000000.0</td>\n",
       "      <td>107.1</td>\n",
       "      <td>2017-04-16T00:00:00</td>\n",
       "      <td>4</td>\n",
       "      <td>NaN</td>\n",
       "      <td>16.0</td>\n",
       "      <td>58.8</td>\n",
       "      <td>15</td>\n",
       "      <td>NaN</td>\n",
       "      <td>...</td>\n",
       "      <td>13.5</td>\n",
       "      <td>5.0</td>\n",
       "      <td>Санкт-Петербург</td>\n",
       "      <td>38178.0</td>\n",
       "      <td>11763.0</td>\n",
       "      <td>0.0</td>\n",
       "      <td>NaN</td>\n",
       "      <td>1.0</td>\n",
       "      <td>844.0</td>\n",
       "      <td>103.0</td>\n",
       "    </tr>\n",
       "    <tr>\n",
       "      <td>11969</td>\n",
       "      <td>5</td>\n",
       "      <td>5150000.0</td>\n",
       "      <td>52.0</td>\n",
       "      <td>2018-06-25T00:00:00</td>\n",
       "      <td>2</td>\n",
       "      <td>2.60</td>\n",
       "      <td>12.0</td>\n",
       "      <td>34.0</td>\n",
       "      <td>6</td>\n",
       "      <td>NaN</td>\n",
       "      <td>...</td>\n",
       "      <td>9.0</td>\n",
       "      <td>NaN</td>\n",
       "      <td>Санкт-Петербург</td>\n",
       "      <td>30109.0</td>\n",
       "      <td>10973.0</td>\n",
       "      <td>1.0</td>\n",
       "      <td>18.0</td>\n",
       "      <td>0.0</td>\n",
       "      <td>NaN</td>\n",
       "      <td>91.0</td>\n",
       "    </tr>\n",
       "    <tr>\n",
       "      <td>15179</td>\n",
       "      <td>12</td>\n",
       "      <td>3820000.0</td>\n",
       "      <td>39.0</td>\n",
       "      <td>2018-11-09T00:00:00</td>\n",
       "      <td>1</td>\n",
       "      <td>2.60</td>\n",
       "      <td>9.0</td>\n",
       "      <td>20.0</td>\n",
       "      <td>1</td>\n",
       "      <td>NaN</td>\n",
       "      <td>...</td>\n",
       "      <td>10.2</td>\n",
       "      <td>NaN</td>\n",
       "      <td>Санкт-Петербург</td>\n",
       "      <td>50660.0</td>\n",
       "      <td>15142.0</td>\n",
       "      <td>0.0</td>\n",
       "      <td>NaN</td>\n",
       "      <td>0.0</td>\n",
       "      <td>NaN</td>\n",
       "      <td>35.0</td>\n",
       "    </tr>\n",
       "    <tr>\n",
       "      <td>7378</td>\n",
       "      <td>14</td>\n",
       "      <td>14500000.0</td>\n",
       "      <td>72.0</td>\n",
       "      <td>2017-11-10T00:00:00</td>\n",
       "      <td>2</td>\n",
       "      <td>NaN</td>\n",
       "      <td>12.0</td>\n",
       "      <td>24.8</td>\n",
       "      <td>4</td>\n",
       "      <td>NaN</td>\n",
       "      <td>...</td>\n",
       "      <td>27.9</td>\n",
       "      <td>NaN</td>\n",
       "      <td>Санкт-Петербург</td>\n",
       "      <td>30827.0</td>\n",
       "      <td>6473.0</td>\n",
       "      <td>1.0</td>\n",
       "      <td>738.0</td>\n",
       "      <td>1.0</td>\n",
       "      <td>788.0</td>\n",
       "      <td>128.0</td>\n",
       "    </tr>\n",
       "    <tr>\n",
       "      <td>10654</td>\n",
       "      <td>18</td>\n",
       "      <td>29900000.0</td>\n",
       "      <td>74.4</td>\n",
       "      <td>2018-12-13T00:00:00</td>\n",
       "      <td>2</td>\n",
       "      <td>4.00</td>\n",
       "      <td>4.0</td>\n",
       "      <td>49.0</td>\n",
       "      <td>3</td>\n",
       "      <td>NaN</td>\n",
       "      <td>...</td>\n",
       "      <td>11.1</td>\n",
       "      <td>1.0</td>\n",
       "      <td>Санкт-Петербург</td>\n",
       "      <td>23671.0</td>\n",
       "      <td>639.0</td>\n",
       "      <td>3.0</td>\n",
       "      <td>455.0</td>\n",
       "      <td>3.0</td>\n",
       "      <td>345.0</td>\n",
       "      <td>NaN</td>\n",
       "    </tr>\n",
       "    <tr>\n",
       "      <td>913</td>\n",
       "      <td>11</td>\n",
       "      <td>6400000.0</td>\n",
       "      <td>52.0</td>\n",
       "      <td>2017-07-05T00:00:00</td>\n",
       "      <td>2</td>\n",
       "      <td>2.50</td>\n",
       "      <td>12.0</td>\n",
       "      <td>32.0</td>\n",
       "      <td>3</td>\n",
       "      <td>NaN</td>\n",
       "      <td>...</td>\n",
       "      <td>8.0</td>\n",
       "      <td>NaN</td>\n",
       "      <td>Санкт-Петербург</td>\n",
       "      <td>35197.0</td>\n",
       "      <td>12112.0</td>\n",
       "      <td>0.0</td>\n",
       "      <td>NaN</td>\n",
       "      <td>1.0</td>\n",
       "      <td>1240.0</td>\n",
       "      <td>NaN</td>\n",
       "    </tr>\n",
       "    <tr>\n",
       "      <td>4203</td>\n",
       "      <td>14</td>\n",
       "      <td>19600000.0</td>\n",
       "      <td>91.0</td>\n",
       "      <td>2017-01-25T00:00:00</td>\n",
       "      <td>2</td>\n",
       "      <td>3.00</td>\n",
       "      <td>7.0</td>\n",
       "      <td>47.5</td>\n",
       "      <td>4</td>\n",
       "      <td>False</td>\n",
       "      <td>...</td>\n",
       "      <td>13.0</td>\n",
       "      <td>1.0</td>\n",
       "      <td>Санкт-Петербург</td>\n",
       "      <td>36998.0</td>\n",
       "      <td>9189.0</td>\n",
       "      <td>1.0</td>\n",
       "      <td>2409.0</td>\n",
       "      <td>3.0</td>\n",
       "      <td>195.0</td>\n",
       "      <td>361.0</td>\n",
       "    </tr>\n",
       "    <tr>\n",
       "      <td>19989</td>\n",
       "      <td>0</td>\n",
       "      <td>3800000.0</td>\n",
       "      <td>38.0</td>\n",
       "      <td>2018-05-26T00:00:00</td>\n",
       "      <td>1</td>\n",
       "      <td>NaN</td>\n",
       "      <td>9.0</td>\n",
       "      <td>NaN</td>\n",
       "      <td>1</td>\n",
       "      <td>NaN</td>\n",
       "      <td>...</td>\n",
       "      <td>NaN</td>\n",
       "      <td>NaN</td>\n",
       "      <td>Санкт-Петербург</td>\n",
       "      <td>13162.0</td>\n",
       "      <td>15754.0</td>\n",
       "      <td>0.0</td>\n",
       "      <td>NaN</td>\n",
       "      <td>2.0</td>\n",
       "      <td>788.0</td>\n",
       "      <td>112.0</td>\n",
       "    </tr>\n",
       "    <tr>\n",
       "      <td>13134</td>\n",
       "      <td>5</td>\n",
       "      <td>13400000.0</td>\n",
       "      <td>107.0</td>\n",
       "      <td>2018-11-18T00:00:00</td>\n",
       "      <td>5</td>\n",
       "      <td>3.00</td>\n",
       "      <td>5.0</td>\n",
       "      <td>NaN</td>\n",
       "      <td>1</td>\n",
       "      <td>NaN</td>\n",
       "      <td>...</td>\n",
       "      <td>NaN</td>\n",
       "      <td>NaN</td>\n",
       "      <td>Санкт-Петербург</td>\n",
       "      <td>24559.0</td>\n",
       "      <td>4811.0</td>\n",
       "      <td>0.0</td>\n",
       "      <td>NaN</td>\n",
       "      <td>0.0</td>\n",
       "      <td>NaN</td>\n",
       "      <td>66.0</td>\n",
       "    </tr>\n",
       "  </tbody>\n",
       "</table>\n",
       "<p>20 rows × 22 columns</p>\n",
       "</div>"
      ],
      "text/plain": [
       "       total_images  last_price  total_area first_day_exposition  rooms  \\\n",
       "2800             16   3700000.0        42.4  2017-12-12T00:00:00      1   \n",
       "8192              8   3650000.0        38.4  2017-10-25T00:00:00      1   \n",
       "7125              5  17000000.0       177.8  2015-07-09T00:00:00      5   \n",
       "12452             0   4600000.0        35.0  2019-04-05T00:00:00      1   \n",
       "9719              6   3700000.0        41.7  2018-10-11T00:00:00      3   \n",
       "1963              3   3600000.0        54.0  2015-07-22T00:00:00      2   \n",
       "9856             13  12000000.0       106.0  2018-07-30T00:00:00      6   \n",
       "23072             5   2640000.0        33.0  2018-02-17T00:00:00      1   \n",
       "22356             6   2050000.0        17.2  2019-01-13T00:00:00      1   \n",
       "18814            20   1200000.0        31.0  2018-03-26T00:00:00      1   \n",
       "8220              9   3090000.0        35.4  2017-11-21T00:00:00      1   \n",
       "1672             10  14000000.0       107.1  2017-04-16T00:00:00      4   \n",
       "11969             5   5150000.0        52.0  2018-06-25T00:00:00      2   \n",
       "15179            12   3820000.0        39.0  2018-11-09T00:00:00      1   \n",
       "7378             14  14500000.0        72.0  2017-11-10T00:00:00      2   \n",
       "10654            18  29900000.0        74.4  2018-12-13T00:00:00      2   \n",
       "913              11   6400000.0        52.0  2017-07-05T00:00:00      2   \n",
       "4203             14  19600000.0        91.0  2017-01-25T00:00:00      2   \n",
       "19989             0   3800000.0        38.0  2018-05-26T00:00:00      1   \n",
       "13134             5  13400000.0       107.0  2018-11-18T00:00:00      5   \n",
       "\n",
       "       ceiling_height  floors_total  living_area  floor is_apartment  ...  \\\n",
       "2800              NaN          17.0         19.0      2          NaN  ...   \n",
       "8192              NaN          12.0         20.0     12          NaN  ...   \n",
       "7125             3.20           6.0        116.2      5          NaN  ...   \n",
       "12452            2.50          18.0         18.0      3          NaN  ...   \n",
       "9719             2.50           5.0         29.8      3          NaN  ...   \n",
       "1963              NaN           9.0         33.0      8        False  ...   \n",
       "9856             2.80           3.0         70.0      1          NaN  ...   \n",
       "23072             NaN           3.0         20.0      1          NaN  ...   \n",
       "22356            2.77          23.0          NaN      1        False  ...   \n",
       "18814            2.50           5.0         16.0      1          NaN  ...   \n",
       "8220              NaN           5.0         13.1      5          NaN  ...   \n",
       "1672              NaN          16.0         58.8     15          NaN  ...   \n",
       "11969            2.60          12.0         34.0      6          NaN  ...   \n",
       "15179            2.60           9.0         20.0      1          NaN  ...   \n",
       "7378              NaN          12.0         24.8      4          NaN  ...   \n",
       "10654            4.00           4.0         49.0      3          NaN  ...   \n",
       "913              2.50          12.0         32.0      3          NaN  ...   \n",
       "4203             3.00           7.0         47.5      4        False  ...   \n",
       "19989             NaN           9.0          NaN      1          NaN  ...   \n",
       "13134            3.00           5.0          NaN      1          NaN  ...   \n",
       "\n",
       "       kitchen_area  balcony      locality_name  airports_nearest  \\\n",
       "2800           10.7      NaN    Санкт-Петербург           25360.0   \n",
       "8192           10.0      NaN    Санкт-Петербург           15760.0   \n",
       "7125           19.1      0.0    Санкт-Петербург           21583.0   \n",
       "12452           8.0      NaN    Санкт-Петербург           15791.0   \n",
       "9719            5.3      NaN    Санкт-Петербург           15724.0   \n",
       "1963            9.0      2.0            Гатчина               NaN   \n",
       "9856           15.0      NaN    Санкт-Петербург           20290.0   \n",
       "23072           6.0      NaN            Колпино           26308.0   \n",
       "22356           NaN      NaN    Санкт-Петербург           33645.0   \n",
       "18814           7.1      NaN  деревня Гарболово               NaN   \n",
       "8220           11.0      1.0    Санкт-Петербург           47039.0   \n",
       "1672           13.5      5.0    Санкт-Петербург           38178.0   \n",
       "11969           9.0      NaN    Санкт-Петербург           30109.0   \n",
       "15179          10.2      NaN    Санкт-Петербург           50660.0   \n",
       "7378           27.9      NaN    Санкт-Петербург           30827.0   \n",
       "10654          11.1      1.0    Санкт-Петербург           23671.0   \n",
       "913             8.0      NaN    Санкт-Петербург           35197.0   \n",
       "4203           13.0      1.0    Санкт-Петербург           36998.0   \n",
       "19989           NaN      NaN    Санкт-Петербург           13162.0   \n",
       "13134           NaN      NaN    Санкт-Петербург           24559.0   \n",
       "\n",
       "      cityCenters_nearest  parks_around3000  parks_nearest  ponds_around3000  \\\n",
       "2800              14749.0               0.0            NaN               0.0   \n",
       "8192              15976.0               1.0          719.0               0.0   \n",
       "7125               1211.0               1.0          437.0               2.0   \n",
       "12452             10629.0               0.0            NaN               1.0   \n",
       "9719              14520.0               1.0          673.0               1.0   \n",
       "1963                  NaN               NaN            NaN               NaN   \n",
       "9856               4733.0               0.0            NaN               1.0   \n",
       "23072             32095.0               1.0          278.0               3.0   \n",
       "22356             13513.0               0.0            NaN               0.0   \n",
       "18814                 NaN               NaN            NaN               NaN   \n",
       "8220              25599.0               1.0          126.0               1.0   \n",
       "1672              11763.0               0.0            NaN               1.0   \n",
       "11969             10973.0               1.0           18.0               0.0   \n",
       "15179             15142.0               0.0            NaN               0.0   \n",
       "7378               6473.0               1.0          738.0               1.0   \n",
       "10654               639.0               3.0          455.0               3.0   \n",
       "913               12112.0               0.0            NaN               1.0   \n",
       "4203               9189.0               1.0         2409.0               3.0   \n",
       "19989             15754.0               0.0            NaN               2.0   \n",
       "13134              4811.0               0.0            NaN               0.0   \n",
       "\n",
       "       ponds_nearest  days_exposition  \n",
       "2800             NaN             42.0  \n",
       "8192             NaN             75.0  \n",
       "7125            22.0            439.0  \n",
       "12452         1141.0              5.0  \n",
       "9719           311.0              4.0  \n",
       "1963             NaN            412.0  \n",
       "9856           238.0              NaN  \n",
       "23072          255.0            327.0  \n",
       "22356            NaN              7.0  \n",
       "18814            NaN            312.0  \n",
       "8220           979.0             45.0  \n",
       "1672           844.0            103.0  \n",
       "11969            NaN             91.0  \n",
       "15179            NaN             35.0  \n",
       "7378           788.0            128.0  \n",
       "10654          345.0              NaN  \n",
       "913           1240.0              NaN  \n",
       "4203           195.0            361.0  \n",
       "19989          788.0            112.0  \n",
       "13134            NaN             66.0  \n",
       "\n",
       "[20 rows x 22 columns]"
      ]
     },
     "execution_count": 9,
     "metadata": {},
     "output_type": "execute_result"
    }
   ],
   "source": [
    "#выведем на экран случайные 10 записей набора данных\n",
    "data_sample_20 = residence.sample(20)\n",
    "data_sample_20"
   ]
  },
  {
   "cell_type": "markdown",
   "metadata": {},
   "source": [
    "### Вывод"
   ]
  },
  {
   "cell_type": "markdown",
   "metadata": {},
   "source": [
    "Основная проблема набора - пропущенные значения, затем уже проблема с \"выбросами\" по некоторым столбцам и их количестве. Приступим к решению."
   ]
  },
  {
   "cell_type": "markdown",
   "metadata": {},
   "source": [
    "<div style=\"border:solid green 2px; padding: 20px\"> <h1 style=\"color:green; margin-bottom:20px\">Комментарий наставника</h1>\n",
    "\n",
    "Данные загружены и рчень детально изучены, класс"
   ]
  },
  {
   "cell_type": "markdown",
   "metadata": {},
   "source": [
    "### Шаг 2. Предобработка данных"
   ]
  },
  {
   "cell_type": "markdown",
   "metadata": {},
   "source": [
    "###### <font color=red> Обрабатываем пропуски в столбце is_apartment"
   ]
  },
  {
   "cell_type": "code",
   "execution_count": 10,
   "metadata": {},
   "outputs": [
    {
     "name": "stdout",
     "output_type": "stream",
     "text": [
      "Количество NaN в столбце is_apartment: 20924\n"
     ]
    }
   ],
   "source": [
    "print('Количество NaN в столбце is_apartment:', residence['is_apartment'].isnull().sum())"
   ]
  },
  {
   "cell_type": "code",
   "execution_count": 11,
   "metadata": {},
   "outputs": [
    {
     "data": {
      "text/plain": [
       "False    2725\n",
       "True       50\n",
       "Name: is_apartment, dtype: int64"
      ]
     },
     "execution_count": 11,
     "metadata": {},
     "output_type": "execute_result"
    }
   ],
   "source": [
    "residence['is_apartment'].value_counts()"
   ]
  },
  {
   "cell_type": "code",
   "execution_count": 12,
   "metadata": {},
   "outputs": [],
   "source": [
    "residence['is_apartment'] = residence['is_apartment'].fillna(False)"
   ]
  },
  {
   "cell_type": "markdown",
   "metadata": {},
   "source": [
    "Принято решение заполнить пропуски в этом столбце значением False, конечно скорее всего это далеко от действительности, от истинного соотношения True и False в наборе данных, но без дополнительных сведений более адекватно заполнить этот столбец идей нет."
   ]
  },
  {
   "cell_type": "markdown",
   "metadata": {},
   "source": [
    "###### <font color=red> Обрабатываем пропуски в столбцах: \n",
    "- parks_nearest; \n",
    "- ponds_nearest;\n",
    "- parks_around3000;\n",
    "- ponds_around3000."
   ]
  },
  {
   "cell_type": "code",
   "execution_count": 13,
   "metadata": {},
   "outputs": [
    {
     "name": "stdout",
     "output_type": "stream",
     "text": [
      "Количество NaN в столбце parks_nearest : 15620\n",
      "Количество NaN в столбце ponds_nearest: 14589\n",
      "Количество NaN в столбце parks_around3000: 5518\n",
      "Количество NaN в столбце ponds_around3000: 5518\n"
     ]
    }
   ],
   "source": [
    "print('Количество NaN в столбце parks_nearest :', residence['parks_nearest'].isnull().sum())\n",
    "print('Количество NaN в столбце ponds_nearest:', residence['ponds_nearest'].isnull().sum())\n",
    "print('Количество NaN в столбце parks_around3000:', residence['parks_around3000'].isnull().sum())\n",
    "print('Количество NaN в столбце ponds_around3000:', residence['ponds_around3000'].isnull().sum())"
   ]
  },
  {
   "cell_type": "markdown",
   "metadata": {},
   "source": [
    "Заполнение пропусков по этим столбцам объединил в одну группу. На мой взгляд они очень схожи, расстояния до парков и прудов, как и их количество предлагаю заполнить значением 0.\n",
    "Ниже приведены срезы данных на логику есть ли данные о количество парков/прудов при наличии данных в столбце расстояние до объекта, и наоборот.\n",
    "Надено 4 записи о парках, расстояние до них превышает 3 км. Эти сведения предлагается оставить, так как их количество очень маленькое по выборке."
   ]
  },
  {
   "cell_type": "code",
   "execution_count": 14,
   "metadata": {},
   "outputs": [
    {
     "data": {
      "text/html": [
       "<div>\n",
       "<style scoped>\n",
       "    .dataframe tbody tr th:only-of-type {\n",
       "        vertical-align: middle;\n",
       "    }\n",
       "\n",
       "    .dataframe tbody tr th {\n",
       "        vertical-align: top;\n",
       "    }\n",
       "\n",
       "    .dataframe thead th {\n",
       "        text-align: right;\n",
       "    }\n",
       "</style>\n",
       "<table border=\"1\" class=\"dataframe\">\n",
       "  <thead>\n",
       "    <tr style=\"text-align: right;\">\n",
       "      <th></th>\n",
       "      <th>total_images</th>\n",
       "      <th>last_price</th>\n",
       "      <th>total_area</th>\n",
       "      <th>first_day_exposition</th>\n",
       "      <th>rooms</th>\n",
       "      <th>ceiling_height</th>\n",
       "      <th>floors_total</th>\n",
       "      <th>living_area</th>\n",
       "      <th>floor</th>\n",
       "      <th>is_apartment</th>\n",
       "      <th>...</th>\n",
       "      <th>kitchen_area</th>\n",
       "      <th>balcony</th>\n",
       "      <th>locality_name</th>\n",
       "      <th>airports_nearest</th>\n",
       "      <th>cityCenters_nearest</th>\n",
       "      <th>parks_around3000</th>\n",
       "      <th>parks_nearest</th>\n",
       "      <th>ponds_around3000</th>\n",
       "      <th>ponds_nearest</th>\n",
       "      <th>days_exposition</th>\n",
       "    </tr>\n",
       "  </thead>\n",
       "  <tbody>\n",
       "  </tbody>\n",
       "</table>\n",
       "<p>0 rows × 22 columns</p>\n",
       "</div>"
      ],
      "text/plain": [
       "Empty DataFrame\n",
       "Columns: [total_images, last_price, total_area, first_day_exposition, rooms, ceiling_height, floors_total, living_area, floor, is_apartment, studio, open_plan, kitchen_area, balcony, locality_name, airports_nearest, cityCenters_nearest, parks_around3000, parks_nearest, ponds_around3000, ponds_nearest, days_exposition]\n",
       "Index: []\n",
       "\n",
       "[0 rows x 22 columns]"
      ]
     },
     "execution_count": 14,
     "metadata": {},
     "output_type": "execute_result"
    }
   ],
   "source": [
    "residence.query('parks_around3000 > 0 & parks_nearest == 0')"
   ]
  },
  {
   "cell_type": "code",
   "execution_count": 15,
   "metadata": {},
   "outputs": [
    {
     "data": {
      "text/html": [
       "<div>\n",
       "<style scoped>\n",
       "    .dataframe tbody tr th:only-of-type {\n",
       "        vertical-align: middle;\n",
       "    }\n",
       "\n",
       "    .dataframe tbody tr th {\n",
       "        vertical-align: top;\n",
       "    }\n",
       "\n",
       "    .dataframe thead th {\n",
       "        text-align: right;\n",
       "    }\n",
       "</style>\n",
       "<table border=\"1\" class=\"dataframe\">\n",
       "  <thead>\n",
       "    <tr style=\"text-align: right;\">\n",
       "      <th></th>\n",
       "      <th>total_images</th>\n",
       "      <th>last_price</th>\n",
       "      <th>total_area</th>\n",
       "      <th>first_day_exposition</th>\n",
       "      <th>rooms</th>\n",
       "      <th>ceiling_height</th>\n",
       "      <th>floors_total</th>\n",
       "      <th>living_area</th>\n",
       "      <th>floor</th>\n",
       "      <th>is_apartment</th>\n",
       "      <th>...</th>\n",
       "      <th>kitchen_area</th>\n",
       "      <th>balcony</th>\n",
       "      <th>locality_name</th>\n",
       "      <th>airports_nearest</th>\n",
       "      <th>cityCenters_nearest</th>\n",
       "      <th>parks_around3000</th>\n",
       "      <th>parks_nearest</th>\n",
       "      <th>ponds_around3000</th>\n",
       "      <th>ponds_nearest</th>\n",
       "      <th>days_exposition</th>\n",
       "    </tr>\n",
       "  </thead>\n",
       "  <tbody>\n",
       "    <tr>\n",
       "      <td>1590</td>\n",
       "      <td>3</td>\n",
       "      <td>7500000.0</td>\n",
       "      <td>70.0</td>\n",
       "      <td>2017-07-11T00:00:00</td>\n",
       "      <td>2</td>\n",
       "      <td>NaN</td>\n",
       "      <td>18.0</td>\n",
       "      <td>37.0</td>\n",
       "      <td>13</td>\n",
       "      <td>False</td>\n",
       "      <td>...</td>\n",
       "      <td>10.0</td>\n",
       "      <td>0.0</td>\n",
       "      <td>Санкт-Петербург</td>\n",
       "      <td>14878.0</td>\n",
       "      <td>9791.0</td>\n",
       "      <td>0.0</td>\n",
       "      <td>3064.0</td>\n",
       "      <td>1.0</td>\n",
       "      <td>264.0</td>\n",
       "      <td>4.0</td>\n",
       "    </tr>\n",
       "    <tr>\n",
       "      <td>10959</td>\n",
       "      <td>9</td>\n",
       "      <td>3000000.0</td>\n",
       "      <td>31.1</td>\n",
       "      <td>2017-03-21T00:00:00</td>\n",
       "      <td>1</td>\n",
       "      <td>NaN</td>\n",
       "      <td>5.0</td>\n",
       "      <td>17.7</td>\n",
       "      <td>2</td>\n",
       "      <td>False</td>\n",
       "      <td>...</td>\n",
       "      <td>5.5</td>\n",
       "      <td>0.0</td>\n",
       "      <td>Санкт-Петербург</td>\n",
       "      <td>14821.0</td>\n",
       "      <td>9734.0</td>\n",
       "      <td>0.0</td>\n",
       "      <td>3190.0</td>\n",
       "      <td>1.0</td>\n",
       "      <td>431.0</td>\n",
       "      <td>234.0</td>\n",
       "    </tr>\n",
       "    <tr>\n",
       "      <td>19208</td>\n",
       "      <td>17</td>\n",
       "      <td>14950000.0</td>\n",
       "      <td>187.0</td>\n",
       "      <td>2017-10-12T00:00:00</td>\n",
       "      <td>5</td>\n",
       "      <td>3.0</td>\n",
       "      <td>2.0</td>\n",
       "      <td>80.0</td>\n",
       "      <td>2</td>\n",
       "      <td>False</td>\n",
       "      <td>...</td>\n",
       "      <td>17.0</td>\n",
       "      <td>1.0</td>\n",
       "      <td>Санкт-Петербург</td>\n",
       "      <td>36805.0</td>\n",
       "      <td>8656.0</td>\n",
       "      <td>0.0</td>\n",
       "      <td>3013.0</td>\n",
       "      <td>3.0</td>\n",
       "      <td>537.0</td>\n",
       "      <td>49.0</td>\n",
       "    </tr>\n",
       "    <tr>\n",
       "      <td>19430</td>\n",
       "      <td>9</td>\n",
       "      <td>3900000.0</td>\n",
       "      <td>30.5</td>\n",
       "      <td>2018-02-22T00:00:00</td>\n",
       "      <td>1</td>\n",
       "      <td>2.6</td>\n",
       "      <td>5.0</td>\n",
       "      <td>16.5</td>\n",
       "      <td>1</td>\n",
       "      <td>False</td>\n",
       "      <td>...</td>\n",
       "      <td>5.5</td>\n",
       "      <td>NaN</td>\n",
       "      <td>Санкт-Петербург</td>\n",
       "      <td>14821.0</td>\n",
       "      <td>9734.0</td>\n",
       "      <td>0.0</td>\n",
       "      <td>3190.0</td>\n",
       "      <td>1.0</td>\n",
       "      <td>431.0</td>\n",
       "      <td>176.0</td>\n",
       "    </tr>\n",
       "  </tbody>\n",
       "</table>\n",
       "<p>4 rows × 22 columns</p>\n",
       "</div>"
      ],
      "text/plain": [
       "       total_images  last_price  total_area first_day_exposition  rooms  \\\n",
       "1590              3   7500000.0        70.0  2017-07-11T00:00:00      2   \n",
       "10959             9   3000000.0        31.1  2017-03-21T00:00:00      1   \n",
       "19208            17  14950000.0       187.0  2017-10-12T00:00:00      5   \n",
       "19430             9   3900000.0        30.5  2018-02-22T00:00:00      1   \n",
       "\n",
       "       ceiling_height  floors_total  living_area  floor  is_apartment  ...  \\\n",
       "1590              NaN          18.0         37.0     13         False  ...   \n",
       "10959             NaN           5.0         17.7      2         False  ...   \n",
       "19208             3.0           2.0         80.0      2         False  ...   \n",
       "19430             2.6           5.0         16.5      1         False  ...   \n",
       "\n",
       "       kitchen_area  balcony    locality_name  airports_nearest  \\\n",
       "1590           10.0      0.0  Санкт-Петербург           14878.0   \n",
       "10959           5.5      0.0  Санкт-Петербург           14821.0   \n",
       "19208          17.0      1.0  Санкт-Петербург           36805.0   \n",
       "19430           5.5      NaN  Санкт-Петербург           14821.0   \n",
       "\n",
       "      cityCenters_nearest  parks_around3000  parks_nearest  ponds_around3000  \\\n",
       "1590               9791.0               0.0         3064.0               1.0   \n",
       "10959              9734.0               0.0         3190.0               1.0   \n",
       "19208              8656.0               0.0         3013.0               3.0   \n",
       "19430              9734.0               0.0         3190.0               1.0   \n",
       "\n",
       "       ponds_nearest  days_exposition  \n",
       "1590           264.0              4.0  \n",
       "10959          431.0            234.0  \n",
       "19208          537.0             49.0  \n",
       "19430          431.0            176.0  \n",
       "\n",
       "[4 rows x 22 columns]"
      ]
     },
     "execution_count": 15,
     "metadata": {},
     "output_type": "execute_result"
    }
   ],
   "source": [
    "residence.query('parks_around3000 == 0 & parks_nearest > 0')"
   ]
  },
  {
   "cell_type": "code",
   "execution_count": 16,
   "metadata": {},
   "outputs": [
    {
     "data": {
      "text/html": [
       "<div>\n",
       "<style scoped>\n",
       "    .dataframe tbody tr th:only-of-type {\n",
       "        vertical-align: middle;\n",
       "    }\n",
       "\n",
       "    .dataframe tbody tr th {\n",
       "        vertical-align: top;\n",
       "    }\n",
       "\n",
       "    .dataframe thead th {\n",
       "        text-align: right;\n",
       "    }\n",
       "</style>\n",
       "<table border=\"1\" class=\"dataframe\">\n",
       "  <thead>\n",
       "    <tr style=\"text-align: right;\">\n",
       "      <th></th>\n",
       "      <th>total_images</th>\n",
       "      <th>last_price</th>\n",
       "      <th>total_area</th>\n",
       "      <th>first_day_exposition</th>\n",
       "      <th>rooms</th>\n",
       "      <th>ceiling_height</th>\n",
       "      <th>floors_total</th>\n",
       "      <th>living_area</th>\n",
       "      <th>floor</th>\n",
       "      <th>is_apartment</th>\n",
       "      <th>...</th>\n",
       "      <th>kitchen_area</th>\n",
       "      <th>balcony</th>\n",
       "      <th>locality_name</th>\n",
       "      <th>airports_nearest</th>\n",
       "      <th>cityCenters_nearest</th>\n",
       "      <th>parks_around3000</th>\n",
       "      <th>parks_nearest</th>\n",
       "      <th>ponds_around3000</th>\n",
       "      <th>ponds_nearest</th>\n",
       "      <th>days_exposition</th>\n",
       "    </tr>\n",
       "  </thead>\n",
       "  <tbody>\n",
       "  </tbody>\n",
       "</table>\n",
       "<p>0 rows × 22 columns</p>\n",
       "</div>"
      ],
      "text/plain": [
       "Empty DataFrame\n",
       "Columns: [total_images, last_price, total_area, first_day_exposition, rooms, ceiling_height, floors_total, living_area, floor, is_apartment, studio, open_plan, kitchen_area, balcony, locality_name, airports_nearest, cityCenters_nearest, parks_around3000, parks_nearest, ponds_around3000, ponds_nearest, days_exposition]\n",
       "Index: []\n",
       "\n",
       "[0 rows x 22 columns]"
      ]
     },
     "execution_count": 16,
     "metadata": {},
     "output_type": "execute_result"
    }
   ],
   "source": [
    "residence.query('ponds_around3000 > 0 & ponds_nearest == 0')"
   ]
  },
  {
   "cell_type": "code",
   "execution_count": 17,
   "metadata": {},
   "outputs": [
    {
     "data": {
      "text/html": [
       "<div>\n",
       "<style scoped>\n",
       "    .dataframe tbody tr th:only-of-type {\n",
       "        vertical-align: middle;\n",
       "    }\n",
       "\n",
       "    .dataframe tbody tr th {\n",
       "        vertical-align: top;\n",
       "    }\n",
       "\n",
       "    .dataframe thead th {\n",
       "        text-align: right;\n",
       "    }\n",
       "</style>\n",
       "<table border=\"1\" class=\"dataframe\">\n",
       "  <thead>\n",
       "    <tr style=\"text-align: right;\">\n",
       "      <th></th>\n",
       "      <th>total_images</th>\n",
       "      <th>last_price</th>\n",
       "      <th>total_area</th>\n",
       "      <th>first_day_exposition</th>\n",
       "      <th>rooms</th>\n",
       "      <th>ceiling_height</th>\n",
       "      <th>floors_total</th>\n",
       "      <th>living_area</th>\n",
       "      <th>floor</th>\n",
       "      <th>is_apartment</th>\n",
       "      <th>...</th>\n",
       "      <th>kitchen_area</th>\n",
       "      <th>balcony</th>\n",
       "      <th>locality_name</th>\n",
       "      <th>airports_nearest</th>\n",
       "      <th>cityCenters_nearest</th>\n",
       "      <th>parks_around3000</th>\n",
       "      <th>parks_nearest</th>\n",
       "      <th>ponds_around3000</th>\n",
       "      <th>ponds_nearest</th>\n",
       "      <th>days_exposition</th>\n",
       "    </tr>\n",
       "  </thead>\n",
       "  <tbody>\n",
       "  </tbody>\n",
       "</table>\n",
       "<p>0 rows × 22 columns</p>\n",
       "</div>"
      ],
      "text/plain": [
       "Empty DataFrame\n",
       "Columns: [total_images, last_price, total_area, first_day_exposition, rooms, ceiling_height, floors_total, living_area, floor, is_apartment, studio, open_plan, kitchen_area, balcony, locality_name, airports_nearest, cityCenters_nearest, parks_around3000, parks_nearest, ponds_around3000, ponds_nearest, days_exposition]\n",
       "Index: []\n",
       "\n",
       "[0 rows x 22 columns]"
      ]
     },
     "execution_count": 17,
     "metadata": {},
     "output_type": "execute_result"
    }
   ],
   "source": [
    "residence.query('ponds_around3000 == 0 & ponds_nearest > 0')"
   ]
  },
  {
   "cell_type": "code",
   "execution_count": 18,
   "metadata": {},
   "outputs": [],
   "source": [
    "residence['parks_around3000'] = residence['parks_around3000'].fillna(0)\n",
    "residence['parks_nearest'] = residence['parks_nearest'].fillna(0)\n",
    "residence['ponds_around3000'] = residence['ponds_around3000'].fillna(0)\n",
    "residence['ponds_nearest'] = residence['ponds_nearest'].fillna(0)"
   ]
  },
  {
   "cell_type": "markdown",
   "metadata": {},
   "source": [
    "###### <font color=red> Обрабатываем пропуски в столбцах: \n",
    "- airports_nearest;\n",
    "- cityCenters_nearest."
   ]
  },
  {
   "cell_type": "markdown",
   "metadata": {},
   "source": [
    "Значения в airports_nearest заполняется автоматически машиной, природа пропуска думаю в том что в городе где находится объект и в соседних, нет аэропорта. "
   ]
  },
  {
   "cell_type": "markdown",
   "metadata": {},
   "source": [
    "Заполнить сведения этих двух столбцов средними значениями по месту нахождения невозможно, данных не хватает, в наборе данных присутствуют как большие города так и очень маленькие ПГТ, в которых про аэропорт речь не ведется, здесь следует использовать более серьезную модель с  поиском этих значений по координатам на карте, что выходит за рамки настоящего исследования. "
   ]
  },
  {
   "cell_type": "code",
   "execution_count": 19,
   "metadata": {},
   "outputs": [
    {
     "name": "stdout",
     "output_type": "stream",
     "text": [
      "Количество NaN в столбце airports_nearest: 5542\n",
      "Количество NaN в столбце cityCenters_nearest: 5519\n"
     ]
    }
   ],
   "source": [
    "print('Количество NaN в столбце airports_nearest:', \n",
    "      residence['airports_nearest'].isnull().sum())\n",
    "print('Количество NaN в столбце cityCenters_nearest:', \n",
    "      residence['cityCenters_nearest'].isnull().sum())"
   ]
  },
  {
   "cell_type": "markdown",
   "metadata": {},
   "source": [
    "###### <font color=red> Обрабатываем пропуски в столбце - balcony."
   ]
  },
  {
   "cell_type": "markdown",
   "metadata": {},
   "source": [
    "В тех строках где данные по балконам отсутствуют, устанавливаем значение - 0, т.е. балкон отсутствует."
   ]
  },
  {
   "cell_type": "code",
   "execution_count": 20,
   "metadata": {},
   "outputs": [],
   "source": [
    "residence['balcony'] = residence['balcony'].fillna(0)"
   ]
  },
  {
   "cell_type": "markdown",
   "metadata": {},
   "source": [
    "###### <font color=red> Обрабатываем пропуски в столбце - ceiling_height."
   ]
  },
  {
   "cell_type": "markdown",
   "metadata": {},
   "source": [
    "Присвоим пропускам средние значения высоты потолков по всему набору данных."
   ]
  },
  {
   "cell_type": "code",
   "execution_count": 21,
   "metadata": {},
   "outputs": [
    {
     "data": {
      "text/plain": [
       "2.77149889685604"
      ]
     },
     "execution_count": 21,
     "metadata": {},
     "output_type": "execute_result"
    }
   ],
   "source": [
    "ceiling_height_mean = residence['ceiling_height'].mean()\n",
    "residence['ceiling_height'] = residence['ceiling_height'].fillna(ceiling_height_mean)\n",
    "ceiling_height_mean"
   ]
  },
  {
   "cell_type": "code",
   "execution_count": 22,
   "metadata": {},
   "outputs": [
    {
     "name": "stdout",
     "output_type": "stream",
     "text": [
      "Количество NaN в столбце ceiling_height: 0\n"
     ]
    }
   ],
   "source": [
    "print('Количество NaN в столбце ceiling_height:', residence['ceiling_height'].isnull().sum())"
   ]
  },
  {
   "cell_type": "markdown",
   "metadata": {},
   "source": [
    "###### <font color=red> Обрабатываем пропуски в столбце - days_exposition."
   ]
  },
  {
   "cell_type": "markdown",
   "metadata": {},
   "source": [
    "Данные могут отсутствовать по необязательности пользователя, сделка закрыта, но на ресурсе пользователь не поставил \"галочку\" что сделка закрыта, это так же возможная причина большого разброса значений в этом столбце."
   ]
  },
  {
   "cell_type": "code",
   "execution_count": 23,
   "metadata": {},
   "outputs": [],
   "source": [
    "days_exposition_median = residence['days_exposition'].median()\n",
    "residence['days_exposition'] = residence['days_exposition'].fillna(days_exposition_median)"
   ]
  },
  {
   "cell_type": "markdown",
   "metadata": {},
   "source": [
    "Принято решение пропуски в этом столбце заполнить медианой всего набора данных."
   ]
  },
  {
   "cell_type": "markdown",
   "metadata": {},
   "source": [
    "###### <font color=red> Обрабатываем пропуски в столбцах: \n",
    "    - kitchen_area;\n",
    "    - living_area."
   ]
  },
  {
   "cell_type": "markdown",
   "metadata": {},
   "source": [
    "Пропуски в этих данных принято решение заполнить средними значениями для населенного пункта в которых они находятся, те значения которые не удастся заполнить таким методом, заполнить средними по набору данных."
   ]
  },
  {
   "cell_type": "code",
   "execution_count": 24,
   "metadata": {},
   "outputs": [],
   "source": [
    "for_1 = 'kitchen_area'\n",
    "residence.loc[residence[for_1].isnull(), for_1] = residence.groupby('locality_name')[for_1].transform('mean')\n",
    "\n",
    "for_2 = 'living_area'\n",
    "residence.loc[residence[for_2].isnull(), for_2] = residence.groupby('locality_name')[for_2].transform('mean')\n",
    "\n",
    "kitchen_area_median = residence['kitchen_area'].median()\n",
    "living_area_median = residence['living_area'].median()\n",
    "\n",
    "residence['kitchen_area'] = residence['kitchen_area'].fillna(kitchen_area_median)\n",
    "residence['living_area'] = residence['living_area'].fillna(living_area_median)"
   ]
  },
  {
   "cell_type": "markdown",
   "metadata": {},
   "source": [
    "###### <font color=red> Обрабатываем пропуски в столбцах:\n",
    "    - floors_total;\n",
    "    - locality_name."
   ]
  },
  {
   "cell_type": "markdown",
   "metadata": {},
   "source": [
    "Принято решение пропуски в этом столбце locality_name заполнить - \"нет данных\". \n",
    "floors_total заполнить значениями максимальным для города в котором находится объект."
   ]
  },
  {
   "cell_type": "code",
   "execution_count": 25,
   "metadata": {},
   "outputs": [],
   "source": [
    "residence['locality_name'] = residence['locality_name'].fillna('нет данных')"
   ]
  },
  {
   "cell_type": "code",
   "execution_count": 26,
   "metadata": {},
   "outputs": [],
   "source": [
    "for_3 = 'floors_total'\n",
    "residence.loc[residence[for_3].isnull(), for_3] = residence.groupby('locality_name')[for_3].transform('max')"
   ]
  },
  {
   "cell_type": "code",
   "execution_count": 27,
   "metadata": {},
   "outputs": [
    {
     "data": {
      "text/html": [
       "<div>\n",
       "<style scoped>\n",
       "    .dataframe tbody tr th:only-of-type {\n",
       "        vertical-align: middle;\n",
       "    }\n",
       "\n",
       "    .dataframe tbody tr th {\n",
       "        vertical-align: top;\n",
       "    }\n",
       "\n",
       "    .dataframe thead th {\n",
       "        text-align: right;\n",
       "    }\n",
       "</style>\n",
       "<table border=\"1\" class=\"dataframe\">\n",
       "  <thead>\n",
       "    <tr style=\"text-align: right;\">\n",
       "      <th></th>\n",
       "      <th>total_images</th>\n",
       "      <th>last_price</th>\n",
       "      <th>total_area</th>\n",
       "      <th>first_day_exposition</th>\n",
       "      <th>rooms</th>\n",
       "      <th>ceiling_height</th>\n",
       "      <th>floors_total</th>\n",
       "      <th>living_area</th>\n",
       "      <th>floor</th>\n",
       "      <th>is_apartment</th>\n",
       "      <th>...</th>\n",
       "      <th>kitchen_area</th>\n",
       "      <th>balcony</th>\n",
       "      <th>locality_name</th>\n",
       "      <th>airports_nearest</th>\n",
       "      <th>cityCenters_nearest</th>\n",
       "      <th>parks_around3000</th>\n",
       "      <th>parks_nearest</th>\n",
       "      <th>ponds_around3000</th>\n",
       "      <th>ponds_nearest</th>\n",
       "      <th>days_exposition</th>\n",
       "    </tr>\n",
       "  </thead>\n",
       "  <tbody>\n",
       "  </tbody>\n",
       "</table>\n",
       "<p>0 rows × 22 columns</p>\n",
       "</div>"
      ],
      "text/plain": [
       "Empty DataFrame\n",
       "Columns: [total_images, last_price, total_area, first_day_exposition, rooms, ceiling_height, floors_total, living_area, floor, is_apartment, studio, open_plan, kitchen_area, balcony, locality_name, airports_nearest, cityCenters_nearest, parks_around3000, parks_nearest, ponds_around3000, ponds_nearest, days_exposition]\n",
       "Index: []\n",
       "\n",
       "[0 rows x 22 columns]"
      ]
     },
     "execution_count": 27,
     "metadata": {},
     "output_type": "execute_result"
    }
   ],
   "source": [
    "# проверка, не превосходит ли значение этажа объекта, кол-во этажей здания объекта\n",
    "residence.loc[residence['floors_total'] < residence['floor']]"
   ]
  },
  {
   "cell_type": "markdown",
   "metadata": {},
   "source": [
    "#### Приведем типы данных к надлежащему виду."
   ]
  },
  {
   "cell_type": "code",
   "execution_count": 28,
   "metadata": {},
   "outputs": [],
   "source": [
    "residence['first_day_exposition'] = pd.to_datetime(residence['first_day_exposition'], format='%Y-%m-%dT%H:%M:%S')"
   ]
  },
  {
   "cell_type": "code",
   "execution_count": 29,
   "metadata": {},
   "outputs": [],
   "source": [
    "residence['last_price'] = residence['last_price'].astype('int')\n",
    "residence['floors_total'] = residence['floors_total'].astype('int')\n",
    "residence['balcony'] = residence['balcony'].astype('int')\n",
    "#residence['airports_nearest'] = residence['airports_nearest'].astype('int')\n",
    "#residence['cityCenters_nearest'] = residence['cityCenters_nearest'].astype('int')\n",
    "residence['parks_around3000'] = residence['parks_around3000'].astype('int')\n",
    "residence['ponds_around3000'] = residence['ponds_around3000'].astype('int')\n",
    "residence['ponds_nearest'] = residence['ponds_nearest'].astype('int')\n",
    "residence['days_exposition'] = residence['days_exposition'].astype('int')"
   ]
  },
  {
   "cell_type": "code",
   "execution_count": 30,
   "metadata": {},
   "outputs": [
    {
     "data": {
      "text/html": [
       "<div>\n",
       "<style scoped>\n",
       "    .dataframe tbody tr th:only-of-type {\n",
       "        vertical-align: middle;\n",
       "    }\n",
       "\n",
       "    .dataframe tbody tr th {\n",
       "        vertical-align: top;\n",
       "    }\n",
       "\n",
       "    .dataframe thead th {\n",
       "        text-align: right;\n",
       "    }\n",
       "</style>\n",
       "<table border=\"1\" class=\"dataframe\">\n",
       "  <thead>\n",
       "    <tr style=\"text-align: right;\">\n",
       "      <th></th>\n",
       "      <th>total_images</th>\n",
       "      <th>last_price</th>\n",
       "      <th>total_area</th>\n",
       "      <th>first_day_exposition</th>\n",
       "      <th>rooms</th>\n",
       "      <th>ceiling_height</th>\n",
       "      <th>floors_total</th>\n",
       "      <th>living_area</th>\n",
       "      <th>floor</th>\n",
       "      <th>is_apartment</th>\n",
       "      <th>...</th>\n",
       "      <th>kitchen_area</th>\n",
       "      <th>balcony</th>\n",
       "      <th>locality_name</th>\n",
       "      <th>airports_nearest</th>\n",
       "      <th>cityCenters_nearest</th>\n",
       "      <th>parks_around3000</th>\n",
       "      <th>parks_nearest</th>\n",
       "      <th>ponds_around3000</th>\n",
       "      <th>ponds_nearest</th>\n",
       "      <th>days_exposition</th>\n",
       "    </tr>\n",
       "  </thead>\n",
       "  <tbody>\n",
       "    <tr>\n",
       "      <td>11221</td>\n",
       "      <td>9</td>\n",
       "      <td>7290000</td>\n",
       "      <td>68.0</td>\n",
       "      <td>2016-04-08</td>\n",
       "      <td>3</td>\n",
       "      <td>3.200000</td>\n",
       "      <td>6</td>\n",
       "      <td>48.00</td>\n",
       "      <td>5</td>\n",
       "      <td>False</td>\n",
       "      <td>...</td>\n",
       "      <td>7.60</td>\n",
       "      <td>1</td>\n",
       "      <td>Санкт-Петербург</td>\n",
       "      <td>21758.0</td>\n",
       "      <td>5218.0</td>\n",
       "      <td>1</td>\n",
       "      <td>218.0</td>\n",
       "      <td>2</td>\n",
       "      <td>203</td>\n",
       "      <td>160</td>\n",
       "    </tr>\n",
       "    <tr>\n",
       "      <td>4402</td>\n",
       "      <td>15</td>\n",
       "      <td>4999000</td>\n",
       "      <td>37.4</td>\n",
       "      <td>2017-04-15</td>\n",
       "      <td>1</td>\n",
       "      <td>2.850000</td>\n",
       "      <td>24</td>\n",
       "      <td>16.70</td>\n",
       "      <td>12</td>\n",
       "      <td>False</td>\n",
       "      <td>...</td>\n",
       "      <td>9.20</td>\n",
       "      <td>1</td>\n",
       "      <td>Санкт-Петербург</td>\n",
       "      <td>36410.0</td>\n",
       "      <td>14528.0</td>\n",
       "      <td>0</td>\n",
       "      <td>0.0</td>\n",
       "      <td>0</td>\n",
       "      <td>0</td>\n",
       "      <td>90</td>\n",
       "    </tr>\n",
       "    <tr>\n",
       "      <td>2368</td>\n",
       "      <td>9</td>\n",
       "      <td>4800000</td>\n",
       "      <td>77.6</td>\n",
       "      <td>2017-09-28</td>\n",
       "      <td>3</td>\n",
       "      <td>2.771499</td>\n",
       "      <td>8</td>\n",
       "      <td>51.90</td>\n",
       "      <td>6</td>\n",
       "      <td>False</td>\n",
       "      <td>...</td>\n",
       "      <td>11.40</td>\n",
       "      <td>5</td>\n",
       "      <td>Красное Село</td>\n",
       "      <td>27678.0</td>\n",
       "      <td>31102.0</td>\n",
       "      <td>0</td>\n",
       "      <td>0.0</td>\n",
       "      <td>0</td>\n",
       "      <td>0</td>\n",
       "      <td>68</td>\n",
       "    </tr>\n",
       "    <tr>\n",
       "      <td>22820</td>\n",
       "      <td>10</td>\n",
       "      <td>4000000</td>\n",
       "      <td>51.4</td>\n",
       "      <td>2017-12-13</td>\n",
       "      <td>2</td>\n",
       "      <td>2.500000</td>\n",
       "      <td>9</td>\n",
       "      <td>32.73</td>\n",
       "      <td>5</td>\n",
       "      <td>False</td>\n",
       "      <td>...</td>\n",
       "      <td>6.72</td>\n",
       "      <td>0</td>\n",
       "      <td>Санкт-Петербург</td>\n",
       "      <td>19456.0</td>\n",
       "      <td>16257.0</td>\n",
       "      <td>0</td>\n",
       "      <td>0.0</td>\n",
       "      <td>0</td>\n",
       "      <td>0</td>\n",
       "      <td>54</td>\n",
       "    </tr>\n",
       "    <tr>\n",
       "      <td>21674</td>\n",
       "      <td>10</td>\n",
       "      <td>3350000</td>\n",
       "      <td>37.1</td>\n",
       "      <td>2018-02-01</td>\n",
       "      <td>1</td>\n",
       "      <td>2.500000</td>\n",
       "      <td>14</td>\n",
       "      <td>21.00</td>\n",
       "      <td>9</td>\n",
       "      <td>False</td>\n",
       "      <td>...</td>\n",
       "      <td>8.00</td>\n",
       "      <td>2</td>\n",
       "      <td>Санкт-Петербург</td>\n",
       "      <td>39922.0</td>\n",
       "      <td>12825.0</td>\n",
       "      <td>0</td>\n",
       "      <td>0.0</td>\n",
       "      <td>0</td>\n",
       "      <td>0</td>\n",
       "      <td>254</td>\n",
       "    </tr>\n",
       "  </tbody>\n",
       "</table>\n",
       "<p>5 rows × 22 columns</p>\n",
       "</div>"
      ],
      "text/plain": [
       "       total_images  last_price  total_area first_day_exposition  rooms  \\\n",
       "11221             9     7290000        68.0           2016-04-08      3   \n",
       "4402             15     4999000        37.4           2017-04-15      1   \n",
       "2368              9     4800000        77.6           2017-09-28      3   \n",
       "22820            10     4000000        51.4           2017-12-13      2   \n",
       "21674            10     3350000        37.1           2018-02-01      1   \n",
       "\n",
       "       ceiling_height  floors_total  living_area  floor  is_apartment  ...  \\\n",
       "11221        3.200000             6        48.00      5         False  ...   \n",
       "4402         2.850000            24        16.70     12         False  ...   \n",
       "2368         2.771499             8        51.90      6         False  ...   \n",
       "22820        2.500000             9        32.73      5         False  ...   \n",
       "21674        2.500000            14        21.00      9         False  ...   \n",
       "\n",
       "       kitchen_area  balcony    locality_name  airports_nearest  \\\n",
       "11221          7.60        1  Санкт-Петербург           21758.0   \n",
       "4402           9.20        1  Санкт-Петербург           36410.0   \n",
       "2368          11.40        5     Красное Село           27678.0   \n",
       "22820          6.72        0  Санкт-Петербург           19456.0   \n",
       "21674          8.00        2  Санкт-Петербург           39922.0   \n",
       "\n",
       "      cityCenters_nearest  parks_around3000  parks_nearest  ponds_around3000  \\\n",
       "11221              5218.0                 1          218.0                 2   \n",
       "4402              14528.0                 0            0.0                 0   \n",
       "2368              31102.0                 0            0.0                 0   \n",
       "22820             16257.0                 0            0.0                 0   \n",
       "21674             12825.0                 0            0.0                 0   \n",
       "\n",
       "       ponds_nearest  days_exposition  \n",
       "11221            203              160  \n",
       "4402               0               90  \n",
       "2368               0               68  \n",
       "22820              0               54  \n",
       "21674              0              254  \n",
       "\n",
       "[5 rows x 22 columns]"
      ]
     },
     "execution_count": 30,
     "metadata": {},
     "output_type": "execute_result"
    }
   ],
   "source": [
    "residence.sample(5)"
   ]
  },
  {
   "cell_type": "markdown",
   "metadata": {},
   "source": [
    "Значения в столбце last_price приведем к тыс.руб. "
   ]
  },
  {
   "cell_type": "code",
   "execution_count": 31,
   "metadata": {},
   "outputs": [],
   "source": [
    "residence['last_price'] = (residence[residence['last_price'].notnull()]['last_price']/1000*1.0).round().astype(int)"
   ]
  },
  {
   "cell_type": "markdown",
   "metadata": {},
   "source": [
    "#### Вывод по второму шагу."
   ]
  },
  {
   "cell_type": "markdown",
   "metadata": {},
   "source": [
    "Данные по большому счету удалось привести к  удобному для обработки виду, избавились от пропусков, привели некоторые сведения к целочисленному типу, для удобства и наглядности дальнейшей работы."
   ]
  },
  {
   "cell_type": "markdown",
   "metadata": {},
   "source": [
    "<div style=\"border:solid  green  2px; padding: 20px\"> <h1 style=\"color: green ; margin-bottom:20px\">Комментарий наставника</h1>\n",
    "\n",
    "Вся требуемая предобработка выполнена, всё логично и точно, продолжай в том же духе!)\n"
   ]
  },
  {
   "cell_type": "markdown",
   "metadata": {},
   "source": [
    "### Шаг 3. Посчитайте и добавьте в таблицу"
   ]
  },
  {
   "cell_type": "markdown",
   "metadata": {},
   "source": [
    "На данном этапе нам необходимо посчитать и добавить в набор данных следующие сведения:\n",
    "- цену квадратного метра;\n",
    "- день недели, месяц и год публикации объявления;\n",
    "- этаж квартиры (варианты — первый, последний, другой);\n",
    "- соотношение жилой и общей площади, отношение площади кухни к общей."
   ]
  },
  {
   "cell_type": "markdown",
   "metadata": {},
   "source": [
    "Добавляем сведения о цене за 1 кв. м. жилой площади"
   ]
  },
  {
   "cell_type": "code",
   "execution_count": 32,
   "metadata": {},
   "outputs": [],
   "source": [
    "residence['price_m2'] = residence['last_price']/residence['total_area']\n",
    "residence['price_m2'] = residence['price_m2'].astype('int')"
   ]
  },
  {
   "cell_type": "markdown",
   "metadata": {},
   "source": [
    "Добавляем сведения об публикации объявления -  день недели"
   ]
  },
  {
   "cell_type": "code",
   "execution_count": 33,
   "metadata": {},
   "outputs": [],
   "source": [
    "residence['day'] = residence['first_day_exposition'].apply(lambda x: x.isoweekday())\n",
    "dict_of_weekdays = {1: '1_понедельник', 2: '2_вторник', 3: '3_среда', 4: '4_четверг', \n",
    "                    5: '5_пятница', 6: '6_суббота', 7: '7_воскресенье'}\n",
    "residence['day'] = residence['day'].map(dict_of_weekdays)"
   ]
  },
  {
   "cell_type": "markdown",
   "metadata": {},
   "source": [
    "Добавляем сведения об публикации объявления - год и месяц "
   ]
  },
  {
   "cell_type": "code",
   "execution_count": 34,
   "metadata": {},
   "outputs": [],
   "source": [
    "residence['year'] = residence['first_day_exposition'].apply(lambda x: x.year)\n",
    "residence['month'] = residence['first_day_exposition'].apply(lambda x: x.month)"
   ]
  },
  {
   "cell_type": "markdown",
   "metadata": {},
   "source": [
    "Добавляем сведения об этаже квартиры (варианты — первый, последний, другой)"
   ]
  },
  {
   "cell_type": "code",
   "execution_count": 35,
   "metadata": {},
   "outputs": [],
   "source": [
    "residence['level'] = np.where(residence['floor'] == 1, 'первый', 'другой')\n",
    "residence['level'] = np.where(residence['floor'] == residence['floors_total'], 'последний', residence['level'])"
   ]
  },
  {
   "cell_type": "markdown",
   "metadata": {},
   "source": [
    "Добавляем сведения об отношении жилой и общей площади объекта"
   ]
  },
  {
   "cell_type": "code",
   "execution_count": 36,
   "metadata": {},
   "outputs": [],
   "source": [
    "residence['living_area_part'] = residence['living_area']/residence['total_area']"
   ]
  },
  {
   "cell_type": "markdown",
   "metadata": {},
   "source": [
    "Добавляем сведения об отношении жилой и общей площади объекта"
   ]
  },
  {
   "cell_type": "code",
   "execution_count": 37,
   "metadata": {},
   "outputs": [],
   "source": [
    "residence['kitchen_area_part'] = residence['kitchen_area']/residence['total_area']"
   ]
  },
  {
   "cell_type": "code",
   "execution_count": 38,
   "metadata": {},
   "outputs": [
    {
     "data": {
      "text/html": [
       "<div>\n",
       "<style scoped>\n",
       "    .dataframe tbody tr th:only-of-type {\n",
       "        vertical-align: middle;\n",
       "    }\n",
       "\n",
       "    .dataframe tbody tr th {\n",
       "        vertical-align: top;\n",
       "    }\n",
       "\n",
       "    .dataframe thead th {\n",
       "        text-align: right;\n",
       "    }\n",
       "</style>\n",
       "<table border=\"1\" class=\"dataframe\">\n",
       "  <thead>\n",
       "    <tr style=\"text-align: right;\">\n",
       "      <th></th>\n",
       "      <th>total_images</th>\n",
       "      <th>last_price</th>\n",
       "      <th>total_area</th>\n",
       "      <th>first_day_exposition</th>\n",
       "      <th>rooms</th>\n",
       "      <th>ceiling_height</th>\n",
       "      <th>floors_total</th>\n",
       "      <th>living_area</th>\n",
       "      <th>floor</th>\n",
       "      <th>is_apartment</th>\n",
       "      <th>...</th>\n",
       "      <th>ponds_around3000</th>\n",
       "      <th>ponds_nearest</th>\n",
       "      <th>days_exposition</th>\n",
       "      <th>price_m2</th>\n",
       "      <th>day</th>\n",
       "      <th>year</th>\n",
       "      <th>month</th>\n",
       "      <th>level</th>\n",
       "      <th>living_area_part</th>\n",
       "      <th>kitchen_area_part</th>\n",
       "    </tr>\n",
       "  </thead>\n",
       "  <tbody>\n",
       "    <tr>\n",
       "      <td>14195</td>\n",
       "      <td>8</td>\n",
       "      <td>3930</td>\n",
       "      <td>50.5</td>\n",
       "      <td>2018-03-25</td>\n",
       "      <td>2</td>\n",
       "      <td>2.550000</td>\n",
       "      <td>5</td>\n",
       "      <td>30.000000</td>\n",
       "      <td>3</td>\n",
       "      <td>False</td>\n",
       "      <td>...</td>\n",
       "      <td>0</td>\n",
       "      <td>0</td>\n",
       "      <td>92</td>\n",
       "      <td>77</td>\n",
       "      <td>7_воскресенье</td>\n",
       "      <td>2018</td>\n",
       "      <td>3</td>\n",
       "      <td>другой</td>\n",
       "      <td>0.594059</td>\n",
       "      <td>0.207921</td>\n",
       "    </tr>\n",
       "    <tr>\n",
       "      <td>6753</td>\n",
       "      <td>9</td>\n",
       "      <td>3400</td>\n",
       "      <td>44.2</td>\n",
       "      <td>2017-08-29</td>\n",
       "      <td>2</td>\n",
       "      <td>2.771499</td>\n",
       "      <td>4</td>\n",
       "      <td>28.000000</td>\n",
       "      <td>3</td>\n",
       "      <td>False</td>\n",
       "      <td>...</td>\n",
       "      <td>0</td>\n",
       "      <td>0</td>\n",
       "      <td>147</td>\n",
       "      <td>76</td>\n",
       "      <td>2_вторник</td>\n",
       "      <td>2017</td>\n",
       "      <td>8</td>\n",
       "      <td>другой</td>\n",
       "      <td>0.633484</td>\n",
       "      <td>0.119910</td>\n",
       "    </tr>\n",
       "    <tr>\n",
       "      <td>14076</td>\n",
       "      <td>7</td>\n",
       "      <td>7200</td>\n",
       "      <td>98.0</td>\n",
       "      <td>2017-06-06</td>\n",
       "      <td>4</td>\n",
       "      <td>3.120000</td>\n",
       "      <td>6</td>\n",
       "      <td>58.500000</td>\n",
       "      <td>5</td>\n",
       "      <td>False</td>\n",
       "      <td>...</td>\n",
       "      <td>0</td>\n",
       "      <td>0</td>\n",
       "      <td>365</td>\n",
       "      <td>73</td>\n",
       "      <td>2_вторник</td>\n",
       "      <td>2017</td>\n",
       "      <td>6</td>\n",
       "      <td>другой</td>\n",
       "      <td>0.596939</td>\n",
       "      <td>0.158163</td>\n",
       "    </tr>\n",
       "    <tr>\n",
       "      <td>17991</td>\n",
       "      <td>19</td>\n",
       "      <td>12000</td>\n",
       "      <td>125.0</td>\n",
       "      <td>2017-02-09</td>\n",
       "      <td>7</td>\n",
       "      <td>3.300000</td>\n",
       "      <td>6</td>\n",
       "      <td>82.000000</td>\n",
       "      <td>5</td>\n",
       "      <td>False</td>\n",
       "      <td>...</td>\n",
       "      <td>0</td>\n",
       "      <td>0</td>\n",
       "      <td>138</td>\n",
       "      <td>96</td>\n",
       "      <td>4_четверг</td>\n",
       "      <td>2017</td>\n",
       "      <td>2</td>\n",
       "      <td>другой</td>\n",
       "      <td>0.656000</td>\n",
       "      <td>0.192000</td>\n",
       "    </tr>\n",
       "    <tr>\n",
       "      <td>13193</td>\n",
       "      <td>12</td>\n",
       "      <td>4500</td>\n",
       "      <td>60.0</td>\n",
       "      <td>2017-06-02</td>\n",
       "      <td>3</td>\n",
       "      <td>2.771499</td>\n",
       "      <td>9</td>\n",
       "      <td>43.000000</td>\n",
       "      <td>1</td>\n",
       "      <td>False</td>\n",
       "      <td>...</td>\n",
       "      <td>1</td>\n",
       "      <td>185</td>\n",
       "      <td>99</td>\n",
       "      <td>75</td>\n",
       "      <td>5_пятница</td>\n",
       "      <td>2017</td>\n",
       "      <td>6</td>\n",
       "      <td>первый</td>\n",
       "      <td>0.716667</td>\n",
       "      <td>0.100000</td>\n",
       "    </tr>\n",
       "    <tr>\n",
       "      <td>12808</td>\n",
       "      <td>7</td>\n",
       "      <td>4300</td>\n",
       "      <td>48.6</td>\n",
       "      <td>2019-04-06</td>\n",
       "      <td>2</td>\n",
       "      <td>2.500000</td>\n",
       "      <td>5</td>\n",
       "      <td>29.600000</td>\n",
       "      <td>2</td>\n",
       "      <td>False</td>\n",
       "      <td>...</td>\n",
       "      <td>1</td>\n",
       "      <td>251</td>\n",
       "      <td>95</td>\n",
       "      <td>88</td>\n",
       "      <td>6_суббота</td>\n",
       "      <td>2019</td>\n",
       "      <td>4</td>\n",
       "      <td>другой</td>\n",
       "      <td>0.609053</td>\n",
       "      <td>0.113169</td>\n",
       "    </tr>\n",
       "    <tr>\n",
       "      <td>11458</td>\n",
       "      <td>4</td>\n",
       "      <td>5952</td>\n",
       "      <td>76.8</td>\n",
       "      <td>2019-01-29</td>\n",
       "      <td>3</td>\n",
       "      <td>2.700000</td>\n",
       "      <td>20</td>\n",
       "      <td>49.330000</td>\n",
       "      <td>2</td>\n",
       "      <td>False</td>\n",
       "      <td>...</td>\n",
       "      <td>2</td>\n",
       "      <td>706</td>\n",
       "      <td>30</td>\n",
       "      <td>77</td>\n",
       "      <td>2_вторник</td>\n",
       "      <td>2019</td>\n",
       "      <td>1</td>\n",
       "      <td>другой</td>\n",
       "      <td>0.642318</td>\n",
       "      <td>0.145258</td>\n",
       "    </tr>\n",
       "    <tr>\n",
       "      <td>23201</td>\n",
       "      <td>8</td>\n",
       "      <td>4300</td>\n",
       "      <td>52.0</td>\n",
       "      <td>2017-09-22</td>\n",
       "      <td>2</td>\n",
       "      <td>2.750000</td>\n",
       "      <td>22</td>\n",
       "      <td>30.100000</td>\n",
       "      <td>11</td>\n",
       "      <td>False</td>\n",
       "      <td>...</td>\n",
       "      <td>0</td>\n",
       "      <td>0</td>\n",
       "      <td>227</td>\n",
       "      <td>82</td>\n",
       "      <td>5_пятница</td>\n",
       "      <td>2017</td>\n",
       "      <td>9</td>\n",
       "      <td>другой</td>\n",
       "      <td>0.578846</td>\n",
       "      <td>0.163462</td>\n",
       "    </tr>\n",
       "    <tr>\n",
       "      <td>19244</td>\n",
       "      <td>10</td>\n",
       "      <td>5750</td>\n",
       "      <td>50.5</td>\n",
       "      <td>2018-02-02</td>\n",
       "      <td>2</td>\n",
       "      <td>2.900000</td>\n",
       "      <td>5</td>\n",
       "      <td>31.600000</td>\n",
       "      <td>5</td>\n",
       "      <td>False</td>\n",
       "      <td>...</td>\n",
       "      <td>0</td>\n",
       "      <td>0</td>\n",
       "      <td>372</td>\n",
       "      <td>113</td>\n",
       "      <td>5_пятница</td>\n",
       "      <td>2018</td>\n",
       "      <td>2</td>\n",
       "      <td>последний</td>\n",
       "      <td>0.625743</td>\n",
       "      <td>0.148515</td>\n",
       "    </tr>\n",
       "    <tr>\n",
       "      <td>12200</td>\n",
       "      <td>4</td>\n",
       "      <td>6800</td>\n",
       "      <td>95.9</td>\n",
       "      <td>2015-11-18</td>\n",
       "      <td>5</td>\n",
       "      <td>3.200000</td>\n",
       "      <td>4</td>\n",
       "      <td>72.700000</td>\n",
       "      <td>3</td>\n",
       "      <td>False</td>\n",
       "      <td>...</td>\n",
       "      <td>0</td>\n",
       "      <td>0</td>\n",
       "      <td>95</td>\n",
       "      <td>70</td>\n",
       "      <td>3_среда</td>\n",
       "      <td>2015</td>\n",
       "      <td>11</td>\n",
       "      <td>другой</td>\n",
       "      <td>0.758081</td>\n",
       "      <td>0.084463</td>\n",
       "    </tr>\n",
       "    <tr>\n",
       "      <td>18398</td>\n",
       "      <td>7</td>\n",
       "      <td>3600</td>\n",
       "      <td>45.0</td>\n",
       "      <td>2017-07-18</td>\n",
       "      <td>2</td>\n",
       "      <td>2.771499</td>\n",
       "      <td>5</td>\n",
       "      <td>36.959148</td>\n",
       "      <td>5</td>\n",
       "      <td>False</td>\n",
       "      <td>...</td>\n",
       "      <td>1</td>\n",
       "      <td>552</td>\n",
       "      <td>140</td>\n",
       "      <td>80</td>\n",
       "      <td>2_вторник</td>\n",
       "      <td>2017</td>\n",
       "      <td>7</td>\n",
       "      <td>последний</td>\n",
       "      <td>0.821314</td>\n",
       "      <td>0.247907</td>\n",
       "    </tr>\n",
       "    <tr>\n",
       "      <td>851</td>\n",
       "      <td>4</td>\n",
       "      <td>3550</td>\n",
       "      <td>31.6</td>\n",
       "      <td>2016-04-29</td>\n",
       "      <td>1</td>\n",
       "      <td>2.900000</td>\n",
       "      <td>17</td>\n",
       "      <td>16.000000</td>\n",
       "      <td>9</td>\n",
       "      <td>False</td>\n",
       "      <td>...</td>\n",
       "      <td>0</td>\n",
       "      <td>0</td>\n",
       "      <td>154</td>\n",
       "      <td>112</td>\n",
       "      <td>5_пятница</td>\n",
       "      <td>2016</td>\n",
       "      <td>4</td>\n",
       "      <td>другой</td>\n",
       "      <td>0.506329</td>\n",
       "      <td>0.253165</td>\n",
       "    </tr>\n",
       "    <tr>\n",
       "      <td>5148</td>\n",
       "      <td>10</td>\n",
       "      <td>4075</td>\n",
       "      <td>51.0</td>\n",
       "      <td>2017-08-23</td>\n",
       "      <td>2</td>\n",
       "      <td>2.771499</td>\n",
       "      <td>14</td>\n",
       "      <td>30.000000</td>\n",
       "      <td>7</td>\n",
       "      <td>False</td>\n",
       "      <td>...</td>\n",
       "      <td>0</td>\n",
       "      <td>0</td>\n",
       "      <td>147</td>\n",
       "      <td>79</td>\n",
       "      <td>3_среда</td>\n",
       "      <td>2017</td>\n",
       "      <td>8</td>\n",
       "      <td>другой</td>\n",
       "      <td>0.588235</td>\n",
       "      <td>0.145098</td>\n",
       "    </tr>\n",
       "    <tr>\n",
       "      <td>1264</td>\n",
       "      <td>15</td>\n",
       "      <td>9390</td>\n",
       "      <td>59.0</td>\n",
       "      <td>2017-10-23</td>\n",
       "      <td>2</td>\n",
       "      <td>2.800000</td>\n",
       "      <td>7</td>\n",
       "      <td>32.000000</td>\n",
       "      <td>7</td>\n",
       "      <td>False</td>\n",
       "      <td>...</td>\n",
       "      <td>2</td>\n",
       "      <td>247</td>\n",
       "      <td>92</td>\n",
       "      <td>159</td>\n",
       "      <td>1_понедельник</td>\n",
       "      <td>2017</td>\n",
       "      <td>10</td>\n",
       "      <td>последний</td>\n",
       "      <td>0.542373</td>\n",
       "      <td>0.177966</td>\n",
       "    </tr>\n",
       "    <tr>\n",
       "      <td>22337</td>\n",
       "      <td>13</td>\n",
       "      <td>3100</td>\n",
       "      <td>32.0</td>\n",
       "      <td>2017-09-20</td>\n",
       "      <td>1</td>\n",
       "      <td>2.500000</td>\n",
       "      <td>3</td>\n",
       "      <td>20.000000</td>\n",
       "      <td>3</td>\n",
       "      <td>False</td>\n",
       "      <td>...</td>\n",
       "      <td>1</td>\n",
       "      <td>98</td>\n",
       "      <td>146</td>\n",
       "      <td>96</td>\n",
       "      <td>3_среда</td>\n",
       "      <td>2017</td>\n",
       "      <td>9</td>\n",
       "      <td>последний</td>\n",
       "      <td>0.625000</td>\n",
       "      <td>0.218750</td>\n",
       "    </tr>\n",
       "  </tbody>\n",
       "</table>\n",
       "<p>15 rows × 29 columns</p>\n",
       "</div>"
      ],
      "text/plain": [
       "       total_images  last_price  total_area first_day_exposition  rooms  \\\n",
       "14195             8        3930        50.5           2018-03-25      2   \n",
       "6753              9        3400        44.2           2017-08-29      2   \n",
       "14076             7        7200        98.0           2017-06-06      4   \n",
       "17991            19       12000       125.0           2017-02-09      7   \n",
       "13193            12        4500        60.0           2017-06-02      3   \n",
       "12808             7        4300        48.6           2019-04-06      2   \n",
       "11458             4        5952        76.8           2019-01-29      3   \n",
       "23201             8        4300        52.0           2017-09-22      2   \n",
       "19244            10        5750        50.5           2018-02-02      2   \n",
       "12200             4        6800        95.9           2015-11-18      5   \n",
       "18398             7        3600        45.0           2017-07-18      2   \n",
       "851               4        3550        31.6           2016-04-29      1   \n",
       "5148             10        4075        51.0           2017-08-23      2   \n",
       "1264             15        9390        59.0           2017-10-23      2   \n",
       "22337            13        3100        32.0           2017-09-20      1   \n",
       "\n",
       "       ceiling_height  floors_total  living_area  floor  is_apartment  ...  \\\n",
       "14195        2.550000             5    30.000000      3         False  ...   \n",
       "6753         2.771499             4    28.000000      3         False  ...   \n",
       "14076        3.120000             6    58.500000      5         False  ...   \n",
       "17991        3.300000             6    82.000000      5         False  ...   \n",
       "13193        2.771499             9    43.000000      1         False  ...   \n",
       "12808        2.500000             5    29.600000      2         False  ...   \n",
       "11458        2.700000            20    49.330000      2         False  ...   \n",
       "23201        2.750000            22    30.100000     11         False  ...   \n",
       "19244        2.900000             5    31.600000      5         False  ...   \n",
       "12200        3.200000             4    72.700000      3         False  ...   \n",
       "18398        2.771499             5    36.959148      5         False  ...   \n",
       "851          2.900000            17    16.000000      9         False  ...   \n",
       "5148         2.771499            14    30.000000      7         False  ...   \n",
       "1264         2.800000             7    32.000000      7         False  ...   \n",
       "22337        2.500000             3    20.000000      3         False  ...   \n",
       "\n",
       "       ponds_around3000  ponds_nearest  days_exposition  price_m2  \\\n",
       "14195                 0              0               92        77   \n",
       "6753                  0              0              147        76   \n",
       "14076                 0              0              365        73   \n",
       "17991                 0              0              138        96   \n",
       "13193                 1            185               99        75   \n",
       "12808                 1            251               95        88   \n",
       "11458                 2            706               30        77   \n",
       "23201                 0              0              227        82   \n",
       "19244                 0              0              372       113   \n",
       "12200                 0              0               95        70   \n",
       "18398                 1            552              140        80   \n",
       "851                   0              0              154       112   \n",
       "5148                  0              0              147        79   \n",
       "1264                  2            247               92       159   \n",
       "22337                 1             98              146        96   \n",
       "\n",
       "                 day  year  month      level  living_area_part  \\\n",
       "14195  7_воскресенье  2018      3     другой          0.594059   \n",
       "6753       2_вторник  2017      8     другой          0.633484   \n",
       "14076      2_вторник  2017      6     другой          0.596939   \n",
       "17991      4_четверг  2017      2     другой          0.656000   \n",
       "13193      5_пятница  2017      6     первый          0.716667   \n",
       "12808      6_суббота  2019      4     другой          0.609053   \n",
       "11458      2_вторник  2019      1     другой          0.642318   \n",
       "23201      5_пятница  2017      9     другой          0.578846   \n",
       "19244      5_пятница  2018      2  последний          0.625743   \n",
       "12200        3_среда  2015     11     другой          0.758081   \n",
       "18398      2_вторник  2017      7  последний          0.821314   \n",
       "851        5_пятница  2016      4     другой          0.506329   \n",
       "5148         3_среда  2017      8     другой          0.588235   \n",
       "1264   1_понедельник  2017     10  последний          0.542373   \n",
       "22337        3_среда  2017      9  последний          0.625000   \n",
       "\n",
       "       kitchen_area_part  \n",
       "14195           0.207921  \n",
       "6753            0.119910  \n",
       "14076           0.158163  \n",
       "17991           0.192000  \n",
       "13193           0.100000  \n",
       "12808           0.113169  \n",
       "11458           0.145258  \n",
       "23201           0.163462  \n",
       "19244           0.148515  \n",
       "12200           0.084463  \n",
       "18398           0.247907  \n",
       "851             0.253165  \n",
       "5148            0.145098  \n",
       "1264            0.177966  \n",
       "22337           0.218750  \n",
       "\n",
       "[15 rows x 29 columns]"
      ]
     },
     "execution_count": 38,
     "metadata": {},
     "output_type": "execute_result"
    }
   ],
   "source": [
    "residence.sample(15)"
   ]
  },
  {
   "cell_type": "markdown",
   "metadata": {},
   "source": [
    "<div style=\"border:solid  green  2px; padding: 20px\"> <h1 style=\"color: green ; margin-bottom:20px\">Комментарий наставника</h1>\n",
    "\n",
    "Всё посчитано верно и добавлено в таблицу, продолжай в том же духе)"
   ]
  },
  {
   "cell_type": "markdown",
   "metadata": {},
   "source": [
    "### Шаг 4. Проведите исследовательский анализ данных и выполните инструкции:"
   ]
  },
  {
   "cell_type": "markdown",
   "metadata": {},
   "source": [
    "На этом этапе работы, нам предстоит проделать следующую работу:\n",
    "- изучить параметры: площадь, цена, число комнат, высота потолков. Построить гистограммы для каждого параметра;\n",
    "- изучите время продажи квартиры. Постройте гистограмму. Посчитать среднее и медиану; \n",
    "- описать, сколько обычно занимает продажа. Когда можно считать, что продажи прошли очень быстро, а когда необычно долго?\n",
    "- убрать редкие и выбивающиеся значения. Описать, какие особенности обнаружены;\n",
    "- выделить - какие факторы больше всего влияют на стоимость квартиры?\n",
    "- изучить, зависит ли цена от квадратного метра, числа комнат, удалённости от центра;\n",
    "- изучить зависимость цены от того, на каком этаже расположена квартира: первом, последнем или другом;\n",
    "- изучите зависимость от даты размещения: дня недели, месяца и года;\n",
    "- выбрать 10 населённых пунктов с наибольшим числом объявлений. Посчитать среднюю цену квадратного метра в этих населённых пунктах;\n",
    "- выделить населённые пункты с самой высокой и низкой стоимостью жилья;\n",
    "- изучить предложения квартир: для каждой квартиры есть информация о расстоянии до центра;\n",
    "- выделить квартиры в Санкт-Петербурге;\n",
    "- выяснить, какая область входит в центр города;\n",
    "- создать столбец с расстоянием до центра в километрах: округлить до целых значений;\n",
    "- посчитать среднюю цену для каждого километра. Построить график: он должен показывать, как цена зависит от удалённости от центра;\n",
    "- выделить сегмент квартир в центре. Проанализировать эту территорию и изучить следующие параметры: площадь, цена, число комнат, высота потолков;\n",
    "- выделить факторы, которые влияют на стоимость квартиры (число комнат, этаж, удалённость от центра, дата размещения объявления). Сделать выводы; отличаются ли они от общих выводов по всему городу?\n",
    "- сделать общий вывод по проделанной работе."
   ]
  },
  {
   "cell_type": "markdown",
   "metadata": {},
   "source": [
    "### Изучим и построим гистограммы слудующих параметров - площадь, цена, число комнат, высота потолков."
   ]
  },
  {
   "cell_type": "markdown",
   "metadata": {},
   "source": [
    "Посмотрим разброс значений по заданным столбцам."
   ]
  },
  {
   "cell_type": "code",
   "execution_count": 39,
   "metadata": {},
   "outputs": [
    {
     "data": {
      "text/html": [
       "<div>\n",
       "<style scoped>\n",
       "    .dataframe tbody tr th:only-of-type {\n",
       "        vertical-align: middle;\n",
       "    }\n",
       "\n",
       "    .dataframe tbody tr th {\n",
       "        vertical-align: top;\n",
       "    }\n",
       "\n",
       "    .dataframe thead th {\n",
       "        text-align: right;\n",
       "    }\n",
       "</style>\n",
       "<table border=\"1\" class=\"dataframe\">\n",
       "  <thead>\n",
       "    <tr style=\"text-align: right;\">\n",
       "      <th></th>\n",
       "      <th>total_area</th>\n",
       "      <th>last_price</th>\n",
       "      <th>rooms</th>\n",
       "      <th>ceiling_height</th>\n",
       "    </tr>\n",
       "  </thead>\n",
       "  <tbody>\n",
       "    <tr>\n",
       "      <td>count</td>\n",
       "      <td>23699.000000</td>\n",
       "      <td>23699.000000</td>\n",
       "      <td>23699.000000</td>\n",
       "      <td>23699.000000</td>\n",
       "    </tr>\n",
       "    <tr>\n",
       "      <td>mean</td>\n",
       "      <td>60.348651</td>\n",
       "      <td>6541.548800</td>\n",
       "      <td>2.070636</td>\n",
       "      <td>2.771499</td>\n",
       "    </tr>\n",
       "    <tr>\n",
       "      <td>std</td>\n",
       "      <td>35.654083</td>\n",
       "      <td>10887.012837</td>\n",
       "      <td>1.078405</td>\n",
       "      <td>0.986523</td>\n",
       "    </tr>\n",
       "    <tr>\n",
       "      <td>min</td>\n",
       "      <td>12.000000</td>\n",
       "      <td>12.000000</td>\n",
       "      <td>0.000000</td>\n",
       "      <td>1.000000</td>\n",
       "    </tr>\n",
       "    <tr>\n",
       "      <td>25%</td>\n",
       "      <td>40.000000</td>\n",
       "      <td>3400.000000</td>\n",
       "      <td>1.000000</td>\n",
       "      <td>2.600000</td>\n",
       "    </tr>\n",
       "    <tr>\n",
       "      <td>50%</td>\n",
       "      <td>52.000000</td>\n",
       "      <td>4650.000000</td>\n",
       "      <td>2.000000</td>\n",
       "      <td>2.771499</td>\n",
       "    </tr>\n",
       "    <tr>\n",
       "      <td>75%</td>\n",
       "      <td>69.900000</td>\n",
       "      <td>6800.000000</td>\n",
       "      <td>3.000000</td>\n",
       "      <td>2.771499</td>\n",
       "    </tr>\n",
       "    <tr>\n",
       "      <td>max</td>\n",
       "      <td>900.000000</td>\n",
       "      <td>763000.000000</td>\n",
       "      <td>19.000000</td>\n",
       "      <td>100.000000</td>\n",
       "    </tr>\n",
       "  </tbody>\n",
       "</table>\n",
       "</div>"
      ],
      "text/plain": [
       "         total_area     last_price         rooms  ceiling_height\n",
       "count  23699.000000   23699.000000  23699.000000    23699.000000\n",
       "mean      60.348651    6541.548800      2.070636        2.771499\n",
       "std       35.654083   10887.012837      1.078405        0.986523\n",
       "min       12.000000      12.000000      0.000000        1.000000\n",
       "25%       40.000000    3400.000000      1.000000        2.600000\n",
       "50%       52.000000    4650.000000      2.000000        2.771499\n",
       "75%       69.900000    6800.000000      3.000000        2.771499\n",
       "max      900.000000  763000.000000     19.000000      100.000000"
      ]
     },
     "execution_count": 39,
     "metadata": {},
     "output_type": "execute_result"
    }
   ],
   "source": [
    "residence[['total_area', 'last_price', 'rooms', 'ceiling_height']].describe()"
   ]
  },
  {
   "cell_type": "markdown",
   "metadata": {},
   "source": [
    "Разброс значений по площади очень внушительный, от 12 до 900, соответсвенно ожидаемо что и разброс по цене такой же внушительный, даже более чем, от 12 тыс до 763 млн.\n",
    "Рзброс по количеству комнат выглядит нормальным, от 0 до 19, 19ти комнатные могут быть различные типы недвижимости.\n",
    "По потолкам странно выглядит максимальное значение в 100 метров, как и минимальное в 1 м, но тут еще можно что то придумать, может быть како-то тех помещение, 100 метров однозначно нужно считать выбросом."
   ]
  },
  {
   "cell_type": "markdown",
   "metadata": {},
   "source": [
    "Посмотрим диаграммы размаха выбранных столбцов. Посмотрим на выбросы."
   ]
  },
  {
   "cell_type": "code",
   "execution_count": 40,
   "metadata": {},
   "outputs": [
    {
     "data": {
      "image/png": "[encoded data removed]",
      "text/plain": [
       "<Figure size 3600x1800 with 4 Axes>"
      ]
     },
     "metadata": {
      "needs_background": "light"
     },
     "output_type": "display_data"
    }
   ],
   "source": [
    "rows = 2\n",
    "cols = 2\n",
    "fig, axes = plt.subplots(rows, cols, figsize=(50,25))\n",
    "column_list = ['total_area', 'last_price', 'rooms', 'ceiling_height']\n",
    "ylims = [400, 13000, 8, 4]\n",
    "count = 0\n",
    "for r in range(rows):\n",
    "    for c in range(cols):\n",
    "        ax = residence.boxplot(column=column_list[count], ax=axes[r,c], fontsize=40)\n",
    "        ax.set_ylim([0, ylims[count]])\n",
    "        count += 1"
   ]
  },
  {
   "cell_type": "markdown",
   "metadata": {},
   "source": [
    "Из построенных диаграмм видно что для дальнейшей работы нам надо брать следующие размахи:\n",
    "    - total_area - от 15 до 110 кв. м.;\n",
    "    - last_price - от 0 до 12 млн. руб.;\n",
    "    - rooms - от 0 до 6 комнат;\n",
    "    - ceiling_height - высота потолков от 2,5 до 3 м."
   ]
  },
  {
   "cell_type": "markdown",
   "metadata": {},
   "source": [
    "Строим гистограммы 'total_area', 'last_price', 'rooms', 'ceiling_height'"
   ]
  },
  {
   "cell_type": "code",
   "execution_count": 41,
   "metadata": {},
   "outputs": [
    {
     "data": {
      "text/plain": [
       "<matplotlib.axes._subplots.AxesSubplot at 0x7f3c9cc5bc50>"
      ]
     },
     "execution_count": 41,
     "metadata": {},
     "output_type": "execute_result"
    },
    {
     "data": {
      "image/png": "[encoded data removed]",
      "text/plain": [
       "<Figure size 432x288 with 1 Axes>"
      ]
     },
     "metadata": {
      "needs_background": "light"
     },
     "output_type": "display_data"
    }
   ],
   "source": [
    "residence['total_area'].hist(bins=20, range=(15, 110))"
   ]
  },
  {
   "cell_type": "markdown",
   "metadata": {},
   "source": [
    "<div style=\"border:solid orange 2px; padding: 20px\"> <h1 style=\"color:orange; margin-bottom:20px\">Комментарий наставника</h1>\n",
    "\n",
    "Наглядная визуализация, только не забывай подписывать оси на графиках"
   ]
  },
  {
   "cell_type": "code",
   "execution_count": 42,
   "metadata": {},
   "outputs": [
    {
     "data": {
      "text/plain": [
       "<matplotlib.axes._subplots.AxesSubplot at 0x7f3c9cc33e50>"
      ]
     },
     "execution_count": 42,
     "metadata": {},
     "output_type": "execute_result"
    },
    {
     "data": {
      "image/png": "[encoded data removed]",
      "text/plain": [
       "<Figure size 432x288 with 1 Axes>"
      ]
     },
     "metadata": {
      "needs_background": "light"
     },
     "output_type": "display_data"
    }
   ],
   "source": [
    "residence['last_price'].hist(bins=10, range=(0, 12000))"
   ]
  },
  {
   "cell_type": "code",
   "execution_count": null,
   "metadata": {},
   "outputs": [],
   "source": []
  },
  {
   "cell_type": "code",
   "execution_count": 43,
   "metadata": {},
   "outputs": [
    {
     "data": {
      "text/plain": [
       "<matplotlib.axes._subplots.AxesSubplot at 0x7f3c9cb92210>"
      ]
     },
     "execution_count": 43,
     "metadata": {},
     "output_type": "execute_result"
    },
    {
     "data": {
      "image/png": "[encoded data removed]",
      "text/plain": [
       "<Figure size 432x288 with 1 Axes>"
      ]
     },
     "metadata": {},
     "output_type": "display_data"
    }
   ],
   "source": [
    "rooms_pivot = residence.pivot_table(index='rooms', values='last_price', aggfunc='count')\n",
    "rooms_pivot.plot(kind='pie', y = \"last_price\", labels=None, radius=1.5, shadow=True)"
   ]
  },
  {
   "cell_type": "code",
   "execution_count": 44,
   "metadata": {},
   "outputs": [
    {
     "data": {
      "text/plain": [
       "<matplotlib.axes._subplots.AxesSubplot at 0x7f3c99ffcb10>"
      ]
     },
     "execution_count": 44,
     "metadata": {},
     "output_type": "execute_result"
    },
    {
     "data": {
      "image/png": "[encoded data removed]",
      "text/plain": [
       "<Figure size 432x288 with 1 Axes>"
      ]
     },
     "metadata": {
      "needs_background": "light"
     },
     "output_type": "display_data"
    }
   ],
   "source": [
    "residence['ceiling_height'].hist(bins=10, range=(2, 4))"
   ]
  },
  {
   "cell_type": "markdown",
   "metadata": {},
   "source": [
    "Основная часть квартир в наборе данных имеет общую площадь в диапазоне от 30 до 80 кв. м.\n",
    "Предположительно гистограммы по площаде и цене должны были быть очень схожи, так и получилось, основаная часть объявлений в наборе имеет цену в диапазоне от 2.5 до 8 млн. руб.\n",
    "Большинство квартир имеет высоту потолков 2.75 м.\n",
    "Как и ожидалось, большинство квартир 1, 2х и 3х комнатные."
   ]
  },
  {
   "cell_type": "markdown",
   "metadata": {},
   "source": [
    "### Изучим и построим гистограммы слудующих параметров - время продажи квартир. Построим гистограмму. Посчитаем среднее и медиану"
   ]
  },
  {
   "cell_type": "markdown",
   "metadata": {},
   "source": [
    "Для начала найдем среднее и медиану."
   ]
  },
  {
   "cell_type": "code",
   "execution_count": 45,
   "metadata": {},
   "outputs": [
    {
     "data": {
      "text/plain": [
       "95.0"
      ]
     },
     "execution_count": 45,
     "metadata": {},
     "output_type": "execute_result"
    }
   ],
   "source": [
    "residence['days_exposition'].median()"
   ]
  },
  {
   "cell_type": "code",
   "execution_count": 46,
   "metadata": {},
   "outputs": [
    {
     "data": {
      "text/plain": [
       "169.36022616988058"
      ]
     },
     "execution_count": 46,
     "metadata": {},
     "output_type": "execute_result"
    }
   ],
   "source": [
    "residence['days_exposition'].mean()"
   ]
  },
  {
   "cell_type": "markdown",
   "metadata": {},
   "source": [
    "Среднее время продажи 95 дней, медиана 169. Больше пока добавить нечего, в данных может быть большое количество выбрсово связанных с особенностями работы сервисов по продаже недвижимости и необязательностью пользователей, построим диаграмму размаха."
   ]
  },
  {
   "cell_type": "code",
   "execution_count": null,
   "metadata": {},
   "outputs": [],
   "source": [
    "residence.boxplot(column='days_exposition')"
   ]
  },
  {
   "cell_type": "markdown",
   "metadata": {},
   "source": [
    "Построим гистограмму ограничив дни продажи объекта значением 400."
   ]
  },
  {
   "cell_type": "code",
   "execution_count": 48,
   "metadata": {},
   "outputs": [
    {
     "data": {
      "text/plain": [
       "<matplotlib.axes._subplots.AxesSubplot at 0x7f3c99e97d10>"
      ]
     },
     "execution_count": 48,
     "metadata": {},
     "output_type": "execute_result"
    },
    {
     "data": {
      "image/png": "[encoded data removed]",
      "text/plain": [
       "<Figure size 720x360 with 1 Axes>"
      ]
     },
     "metadata": {
      "needs_background": "light"
     },
     "output_type": "display_data"
    }
   ],
   "source": [
    "residence.query('days_exposition<400')['days_exposition'].hist(bins=30, figsize=(10,5), ec='green')\n",
    "                                                               "
   ]
  },
  {
   "cell_type": "markdown",
   "metadata": {},
   "source": [
    "Логика говорит что пиков в этой диаграмме быть не должно вообще, если только спрос на объекты не был стимулирован каким-либо внешним событием, таковых на моей памяти нет, посмотрим гистограмму ближе, надо рассмотреть пиковые значения."
   ]
  },
  {
   "cell_type": "code",
   "execution_count": 49,
   "metadata": {},
   "outputs": [
    {
     "data": {
      "text/plain": [
       "<matplotlib.axes._subplots.AxesSubplot at 0x7f3c99dd6910>"
      ]
     },
     "execution_count": 49,
     "metadata": {},
     "output_type": "execute_result"
    },
    {
     "data": {
      "image/png": "[encoded data removed]",
      "text/plain": [
       "<Figure size 720x216 with 1 Axes>"
      ]
     },
     "metadata": {
      "needs_background": "light"
     },
     "output_type": "display_data"
    }
   ],
   "source": [
    "residence.query('30<days_exposition<110')['days_exposition'].hist(bins=30, figsize=(10,3), ec='green')"
   ]
  },
  {
   "cell_type": "markdown",
   "metadata": {},
   "source": [
    "45, 60 и 95 явно выбиваются из общей логики, из опыта общения с сервисами торговли и сдачи жилой недвижимости, одно время вели деятельность в сфере посуточной аренды квартиры, могу предположить что в эти дни сервис закрывает объявления, хозяева их вновь выставляют на продажу и через 15-30 дней они снова закрываются, думаю среди этих квартир есть ужасно не ликвидные варианты."
   ]
  },
  {
   "cell_type": "markdown",
   "metadata": {},
   "source": [
    "<div style=\"border:solid  green  2px; padding: 20px\"> <h1 style=\"color: green ; margin-bottom:20px\">Комментарий наставника</h1>\n",
    "\n",
    "Всё абсолютно верно, радует,что пишешь такие подробные и всепокрывающие выводы"
   ]
  },
  {
   "cell_type": "markdown",
   "metadata": {},
   "source": [
    "### Изучим зависит ли цена от квадратного метра, числа комнат, удалённости от центра"
   ]
  },
  {
   "cell_type": "markdown",
   "metadata": {},
   "source": [
    "Для своего удобства, напишем функцию для построения интересующих нас графиков"
   ]
  },
  {
   "cell_type": "code",
   "execution_count": 50,
   "metadata": {},
   "outputs": [],
   "source": [
    "# эту функцию нашел в интернете, разобрал, мне очень понравилось автоматизация и \n",
    "#приведение к одному виду своих графиков, решил оставить себе\n",
    "\n",
    "def dependency_graph(df, column):\n",
    "    title_dict = {'rooms': 'Зависимость цены от количества комнат', 'level': 'Зависимость цены от этажа',\n",
    "                  'center_category': 'Зависимость цены от удаленности от центра города',\n",
    "                  'day':'Медиана цен по дням недели', 'month': 'Медиана цен по месяцам',\n",
    "                  'year': 'Медиана цен по годам', \n",
    "                  'cityCenters_nearest_km': 'Зависимость цены от удаленности от центра города'}\n",
    "    if column == 'level' or column == 'center_category':\n",
    "        sort_key = 'last_price'\n",
    "    else:\n",
    "        sort_key = column\n",
    "    if column == 'center_category':\n",
    "        fontsize = 10\n",
    "    else:\n",
    "        fontsize = 10\n",
    "    df_filtered = df.groupby(column).median()['last_price'].reset_index().sort_values(by=sort_key)\n",
    "    plot = df_filtered.plot(x=column, y=\"last_price\", kind='bar', ec='green', \n",
    "                            title=title_dict[column], legend=None, \n",
    "                            fontsize=fontsize, figsize=(14,5))\n",
    "    ax2 = plt.gca()\n",
    "    x_axis = ax2.xaxis\n",
    "    x_axis.label.set_visible(False)\n",
    "    if column != 'cityCenters_nearest_km':\n",
    "        plt.xticks(rotation=0)\n",
    "    return plot"
   ]
  },
  {
   "cell_type": "markdown",
   "metadata": {},
   "source": [
    "Построим график зависимости цены от количества комнат"
   ]
  },
  {
   "cell_type": "markdown",
   "metadata": {},
   "source": [
    "Для начала посмотрим на диаграмму размаха"
   ]
  },
  {
   "cell_type": "code",
   "execution_count": 51,
   "metadata": {},
   "outputs": [
    {
     "data": {
      "text/plain": [
       "<matplotlib.axes._subplots.AxesSubplot at 0x7f3c99d29150>"
      ]
     },
     "execution_count": 51,
     "metadata": {},
     "output_type": "execute_result"
    },
    {
     "data": {
      "image/png": "[encoded data removed]",
      "text/plain": [
       "<Figure size 432x288 with 1 Axes>"
      ]
     },
     "metadata": {
      "needs_background": "light"
     },
     "output_type": "display_data"
    }
   ],
   "source": [
    "residence.boxplot(column='rooms')"
   ]
  },
  {
   "cell_type": "markdown",
   "metadata": {},
   "source": [
    "Теперь можем построить гистограмму без учета лишних данных."
   ]
  },
  {
   "cell_type": "code",
   "execution_count": 52,
   "metadata": {},
   "outputs": [
    {
     "data": {
      "text/plain": [
       "<matplotlib.axes._subplots.AxesSubplot at 0x7f3c99cb4310>"
      ]
     },
     "execution_count": 52,
     "metadata": {},
     "output_type": "execute_result"
    },
    {
     "data": {
      "image/png": "[encoded data removed]",
      "text/plain": [
       "<Figure size 1008x360 with 1 Axes>"
      ]
     },
     "metadata": {
      "needs_background": "light"
     },
     "output_type": "display_data"
    }
   ],
   "source": [
    "dependency_graph(residence.query('rooms <= 7'), 'rooms')"
   ]
  },
  {
   "cell_type": "markdown",
   "metadata": {},
   "source": [
    "Гистограмма выглядит очень логично, чем больше комнат тем выше цена. Идем дальше."
   ]
  },
  {
   "cell_type": "markdown",
   "metadata": {},
   "source": [
    "Построим гистограмму зависимости от этажа - первый, послений и другой."
   ]
  },
  {
   "cell_type": "code",
   "execution_count": 53,
   "metadata": {},
   "outputs": [
    {
     "data": {
      "text/plain": [
       "<matplotlib.axes._subplots.AxesSubplot at 0x7f3c99c23850>"
      ]
     },
     "execution_count": 53,
     "metadata": {},
     "output_type": "execute_result"
    },
    {
     "data": {
      "image/png": "[encoded data removed]",
      "text/plain": [
       "<Figure size 1008x360 with 1 Axes>"
      ]
     },
     "metadata": {
      "needs_background": "light"
     },
     "output_type": "display_data"
    }
   ],
   "source": [
    "dependency_graph(residence, 'level')"
   ]
  },
  {
   "cell_type": "markdown",
   "metadata": {},
   "source": [
    "Все выходит логично, как в песне В. Цоя, он в своем время пропел \"первый и последний не предлагать, рядом с метро центр....\", у нас так же, на \"другой\" выше цена и выше спрос."
   ]
  },
  {
   "cell_type": "markdown",
   "metadata": {},
   "source": [
    "Для построения диаграммы по удаленности от центра, добавим столбец с категорией удаленности."
   ]
  },
  {
   "cell_type": "code",
   "execution_count": 54,
   "metadata": {},
   "outputs": [],
   "source": [
    "def beautiful_far_away(ln):\n",
    "    if ln < 3000:\n",
    "        return 'центр'\n",
    "    elif ln > 3000 and ln < 7000:\n",
    "        return 'почти центр'\n",
    "    elif ln > 7000 and ln < 15000:\n",
    "        return 'в черте города'\n",
    "    elif ln >= 15000:\n",
    "        return 'область'\n",
    "\n",
    "residence['center_category'] = residence['cityCenters_nearest'].apply(beautiful_far_away)\n",
    "#residence.sample(10)\n",
    "#residence.info()\n",
    "#residence[['locality_name', 'cityCenters_nearest', 'center_category']].sample(10)"
   ]
  },
  {
   "cell_type": "code",
   "execution_count": 55,
   "metadata": {},
   "outputs": [
    {
     "data": {
      "text/plain": [
       "<matplotlib.axes._subplots.AxesSubplot at 0x7f3c99b6c910>"
      ]
     },
     "execution_count": 55,
     "metadata": {},
     "output_type": "execute_result"
    },
    {
     "data": {
      "image/png": "[encoded data removed]",
      "text/plain": [
       "<Figure size 1008x360 with 1 Axes>"
      ]
     },
     "metadata": {
      "needs_background": "light"
     },
     "output_type": "display_data"
    }
   ],
   "source": [
    "dependency_graph(residence, 'center_category')"
   ]
  },
  {
   "cell_type": "markdown",
   "metadata": {},
   "source": [
    "Здесь все так же логично, чем ближе к центру тем дороже,и наоборот."
   ]
  },
  {
   "cell_type": "markdown",
   "metadata": {},
   "source": [
    "### Изучим зависимость стоимости от даты размещения: дня недели, месяца и года"
   ]
  },
  {
   "cell_type": "markdown",
   "metadata": {},
   "source": [
    "Напишем функцию под наши задачи."
   ]
  },
  {
   "cell_type": "code",
   "execution_count": 56,
   "metadata": {},
   "outputs": [],
   "source": [
    "def dependency_dmy_price(df, ylims=None):\n",
    "    dmy_to_plot = ['day', 'month', 'year']\n",
    "    titles = ['Медиана цен по дню недели', 'Медиана цен по месяцу', 'Медиана цен по году']\n",
    "    for i in range(len(dmy_to_plot)):\n",
    "        df_to_plot = df.groupby(dmy_to_plot[i]).median()['last_price'].reset_index().sort_values(by=dmy_to_plot[i])\n",
    "        if ylims is None:\n",
    "            plot = df_to_plot.plot(x=dmy_to_plot[i], y=\"last_price\", kind='bar', figsize=(10,5), ec='green',\n",
    "                                   legend=False, title=titles[i], fontsize=15)\n",
    "        else:\n",
    "            plot = df_to_plot.plot(x=dmy_to_plot[i], y=\"last_price\", kind='bar', figsize=(10,5), ec='green',\n",
    "                               legend=False, title=titles[i], fontsize=15, ylim=ylims[i])\n",
    "        ax2 = plt.gca()\n",
    "        x_axis = ax2.xaxis\n",
    "        x_axis.label.set_visible(False)\n",
    "        if dmy_to_plot[i] != 'day':\n",
    "            plt.xticks(rotation=0)\n",
    "    return plot"
   ]
  },
  {
   "cell_type": "code",
   "execution_count": 57,
   "metadata": {},
   "outputs": [
    {
     "data": {
      "text/plain": [
       "<matplotlib.axes._subplots.AxesSubplot at 0x7f3c99a35bd0>"
      ]
     },
     "execution_count": 57,
     "metadata": {},
     "output_type": "execute_result"
    },
    {
     "data": {
      "image/png": "[encoded data removed]",
      "text/plain": [
       "<Figure size 720x360 with 1 Axes>"
      ]
     },
     "metadata": {
      "needs_background": "light"
     },
     "output_type": "display_data"
    },
    {
     "data": {
      "image/png": "[encoded data removed]",
      "text/plain": [
       "<Figure size 720x360 with 1 Axes>"
      ]
     },
     "metadata": {
      "needs_background": "light"
     },
     "output_type": "display_data"
    },
    {
     "data": {
      "image/png": "[encoded data removed]",
      "text/plain": [
       "<Figure size 720x360 with 1 Axes>"
      ]
     },
     "metadata": {
      "needs_background": "light"
     },
     "output_type": "display_data"
    }
   ],
   "source": [
    "dependency_dmy_price(residence, ylims=[(4000, 5000), (4000, 5000), (4000, 8000)])"
   ]
  },
  {
   "cell_type": "markdown",
   "metadata": {},
   "source": [
    "День недели - зависимости нет.\n",
    "Месяц - до наступления теплых месяцев, как и во многих индустриях идет набор оборотов, апрель пик, с мая на спад.\n",
    "Год - 2014 год был началом кризиса, солабления рубля и общей истерией в обществе в конце года, думаю этот пик связан именно с этим, других объяснений быть не может, такие скачки всегда вызваны серьезными влияниями среды."
   ]
  },
  {
   "cell_type": "markdown",
   "metadata": {},
   "source": [
    "<div style=\"border:solid  green  2px; padding: 20px\"> <h1 style=\"color: green ; margin-bottom:20px\">Комментарий наставника</h1>\n",
    "\n",
    "Верно"
   ]
  },
  {
   "cell_type": "markdown",
   "metadata": {},
   "source": [
    "### Выберем 10 населённых пунктов с наибольшим числом объявлений. Посчитаем среднюю цену квадратного метра в этих населённых пунктах и выделим населённые пункты с самой высокой и низкой стоимостью жилья"
   ]
  },
  {
   "cell_type": "markdown",
   "metadata": {},
   "source": [
    "Создадим таблицу с топ10 городов, добавим туда среднюю цену квадратного метра "
   ]
  },
  {
   "cell_type": "code",
   "execution_count": 58,
   "metadata": {},
   "outputs": [
    {
     "data": {
      "text/html": [
       "<div>\n",
       "<style scoped>\n",
       "    .dataframe tbody tr th:only-of-type {\n",
       "        vertical-align: middle;\n",
       "    }\n",
       "\n",
       "    .dataframe tbody tr th {\n",
       "        vertical-align: top;\n",
       "    }\n",
       "\n",
       "    .dataframe thead th {\n",
       "        text-align: right;\n",
       "    }\n",
       "</style>\n",
       "<table border=\"1\" class=\"dataframe\">\n",
       "  <thead>\n",
       "    <tr style=\"text-align: right;\">\n",
       "      <th></th>\n",
       "      <th>Город</th>\n",
       "      <th>Средняя цена за кв.м., тыс. руб.</th>\n",
       "    </tr>\n",
       "  </thead>\n",
       "  <tbody>\n",
       "    <tr>\n",
       "      <td>0</td>\n",
       "      <td>Санкт-Петербург</td>\n",
       "      <td>104.0</td>\n",
       "    </tr>\n",
       "    <tr>\n",
       "      <td>4</td>\n",
       "      <td>Пушкин</td>\n",
       "      <td>100.0</td>\n",
       "    </tr>\n",
       "    <tr>\n",
       "      <td>6</td>\n",
       "      <td>посёлок Парголово</td>\n",
       "      <td>91.0</td>\n",
       "    </tr>\n",
       "    <tr>\n",
       "      <td>8</td>\n",
       "      <td>деревня Кудрово</td>\n",
       "      <td>91.0</td>\n",
       "    </tr>\n",
       "    <tr>\n",
       "      <td>1</td>\n",
       "      <td>посёлок Мурино</td>\n",
       "      <td>85.5</td>\n",
       "    </tr>\n",
       "    <tr>\n",
       "      <td>2</td>\n",
       "      <td>посёлок Шушары</td>\n",
       "      <td>76.0</td>\n",
       "    </tr>\n",
       "    <tr>\n",
       "      <td>5</td>\n",
       "      <td>Колпино</td>\n",
       "      <td>74.0</td>\n",
       "    </tr>\n",
       "    <tr>\n",
       "      <td>7</td>\n",
       "      <td>Гатчина</td>\n",
       "      <td>67.0</td>\n",
       "    </tr>\n",
       "    <tr>\n",
       "      <td>3</td>\n",
       "      <td>Всеволожск</td>\n",
       "      <td>65.0</td>\n",
       "    </tr>\n",
       "    <tr>\n",
       "      <td>9</td>\n",
       "      <td>Выборг</td>\n",
       "      <td>58.0</td>\n",
       "    </tr>\n",
       "  </tbody>\n",
       "</table>\n",
       "</div>"
      ],
      "text/plain": [
       "               Город  Средняя цена за кв.м., тыс. руб.\n",
       "0    Санкт-Петербург                             104.0\n",
       "4             Пушкин                             100.0\n",
       "6  посёлок Парголово                              91.0\n",
       "8    деревня Кудрово                              91.0\n",
       "1     посёлок Мурино                              85.5\n",
       "2     посёлок Шушары                              76.0\n",
       "5            Колпино                              74.0\n",
       "7            Гатчина                              67.0\n",
       "3         Всеволожск                              65.0\n",
       "9             Выборг                              58.0"
      ]
     },
     "execution_count": 58,
     "metadata": {},
     "output_type": "execute_result"
    }
   ],
   "source": [
    "#выбираем топ10\n",
    "top10_city = residence['locality_name'].value_counts().index.tolist()[:10]\n",
    "\n",
    "#считаем среднюю цену за квадратный метр\n",
    "mean10_metrics = [residence[residence['locality_name'] == city]['price_m2'].median() for city in top10_city]\n",
    "\n",
    "#соберем все сведения в одну таблицу\n",
    "frame = {'Город': top10_city, 'Средняя цена за кв.м., тыс. руб.': mean10_metrics}\n",
    "top10_city_frame = pd.DataFrame(frame).sort_values(by='Средняя цена за кв.м., тыс. руб.', ascending=False)\n",
    "top10_city_frame"
   ]
  },
  {
   "cell_type": "markdown",
   "metadata": {},
   "source": [
    "В северной столице самые дорогие объекты, не сильно отстал Пушкин, и это не удивительно, царское же село. Выборг замыкает топ10, его средняя стоимость квадратного метра сильно проигрывает лидерам, почти в 2 раза."
   ]
  },
  {
   "cell_type": "markdown",
   "metadata": {},
   "source": [
    "### Выделим квартиры в Санкт-Петербурге и:\n",
    "- выясним, какая область входит в центр города;\n",
    "- создадим столбец с расстоянием до центра в километрах и округлим до целых значений;\n",
    "- посчитаем среднюю цену для каждого километра;\n",
    "- построим график: как цена зависит от удалённости от центра."
   ]
  },
  {
   "cell_type": "markdown",
   "metadata": {},
   "source": [
    "Для решения это задачи создадим переменную spb куда запишем данные по г. Санкт-Петербург, посчитаем среднюю цену каждого километра и построим график."
   ]
  },
  {
   "cell_type": "code",
   "execution_count": 82,
   "metadata": {},
   "outputs": [],
   "source": [
    "spb = residence.query('locality_name == \"Санкт-Петербург\"')\n",
    "\n",
    "#посчитаем среднюю цену каждого километра и добавим в таблицу\n",
    "\n",
    "spb.loc[:, 'cityCenters_nearest_km'] = (spb.loc[:, 'cityCenters_nearest']/1000).round()\n",
    "#spb.sample(20)"
   ]
  },
  {
   "cell_type": "code",
   "execution_count": 60,
   "metadata": {},
   "outputs": [
    {
     "data": {
      "text/plain": [
       "<matplotlib.axes._subplots.AxesSubplot at 0x7f3c9991bdd0>"
      ]
     },
     "execution_count": 60,
     "metadata": {},
     "output_type": "execute_result"
    },
    {
     "data": {
      "image/png": "[encoded data removed]",
      "text/plain": [
       "<Figure size 1008x360 with 1 Axes>"
      ]
     },
     "metadata": {
      "needs_background": "light"
     },
     "output_type": "display_data"
    }
   ],
   "source": [
    "dependency_graph(spb, 'cityCenters_nearest_km')"
   ]
  },
  {
   "cell_type": "markdown",
   "metadata": {},
   "source": [
    "Наблюдаем достаточно логичную картину, чем ближе к центру - тем дороже, сильно выбивается значение на удалении в 27 км, я проверил, по Яндекс.Картам до г. Пушкин около 30 км, думаю данные этого города и сидят в столбце. "
   ]
  },
  {
   "cell_type": "markdown",
   "metadata": {},
   "source": [
    "Центром по моим догадкам можно считать порог в 2 км, дальше график резко пдает и начинает расти до значения в 8 км, осмелюсь предположить что до 2 км это исторический центр города, до 8 км это современное жильё разной степени элитности."
   ]
  },
  {
   "cell_type": "markdown",
   "metadata": {},
   "source": [
    "### Выделим сегмент квартир в центре Санкт-Петербурга и проанализируем эту территорию:\n",
    "- изучим следующие параметры: площадь, цена, число комнат, высота потолков;\n",
    "- выделим факторы, которые влияют на стоимость квартиры (число комнат, этаж, удалённость от центра, дата размещения объявления).\n",
    "- сделаем выводы - отличаются ли они от общих выводов по всему городу?"
   ]
  },
  {
   "cell_type": "markdown",
   "metadata": {},
   "source": [
    "Выделим объекты в центральной зоне города. Те что в пределах 2 км обозначим как исторический центр Спб, от 2 до 8 км как просто центр города."
   ]
  },
  {
   "cell_type": "code",
   "execution_count": 61,
   "metadata": {},
   "outputs": [],
   "source": [
    "center_spb = spb.query('2000 <= cityCenters_nearest <= 8000') #допустим все центр что в 8 км\n",
    "center_spb_history = spb.query('cityCenters_nearest <= 2000') #допустим исторический центр в пределах 2 км"
   ]
  },
  {
   "cell_type": "code",
   "execution_count": 62,
   "metadata": {},
   "outputs": [
    {
     "name": "stdout",
     "output_type": "stream",
     "text": [
      "Количество квартир в центральной зоне Санкт-Петербурга - 3386\n",
      "Количество квартир в исторической зоне Санкт-Петербурга - 326\n"
     ]
    }
   ],
   "source": [
    "print('Количество квартир в центральной зоне Санкт-Петербурга -', center_spb.shape[0])\n",
    "print('Количество квартир в исторической зоне Санкт-Петербурга -', center_spb_history.shape[0])"
   ]
  },
  {
   "cell_type": "markdown",
   "metadata": {},
   "source": [
    "Построим гитсограммы по каждому из интересующих нас параметру - площадь, цена, число комнат, высота потолков."
   ]
  },
  {
   "cell_type": "code",
   "execution_count": 63,
   "metadata": {},
   "outputs": [
    {
     "data": {
      "text/plain": [
       "<matplotlib.axes._subplots.AxesSubplot at 0x7f3c999519d0>"
      ]
     },
     "execution_count": 63,
     "metadata": {},
     "output_type": "execute_result"
    },
    {
     "data": {
      "image/png": "[encoded data removed]",
      "text/plain": [
       "<Figure size 432x288 with 1 Axes>"
      ]
     },
     "metadata": {
      "needs_background": "light"
     },
     "output_type": "display_data"
    }
   ],
   "source": [
    "center_spb['total_area'].hist(bins=20, range=(15, 110))"
   ]
  },
  {
   "cell_type": "code",
   "execution_count": 64,
   "metadata": {},
   "outputs": [
    {
     "data": {
      "text/plain": [
       "<matplotlib.axes._subplots.AxesSubplot at 0x7f3c997ac9d0>"
      ]
     },
     "execution_count": 64,
     "metadata": {},
     "output_type": "execute_result"
    },
    {
     "data": {
      "image/png": "[encoded data removed]",
      "text/plain": [
       "<Figure size 432x288 with 1 Axes>"
      ]
     },
     "metadata": {
      "needs_background": "light"
     },
     "output_type": "display_data"
    }
   ],
   "source": [
    "center_spb_history['total_area'].hist(bins=20, range=(15, 110))"
   ]
  },
  {
   "cell_type": "markdown",
   "metadata": {},
   "source": [
    "Что касается площади, гистограммы отличаются, маленьких квартир в историческом центре мало."
   ]
  },
  {
   "cell_type": "code",
   "execution_count": 65,
   "metadata": {},
   "outputs": [
    {
     "data": {
      "text/plain": [
       "<matplotlib.axes._subplots.AxesSubplot at 0x7f3c996deed0>"
      ]
     },
     "execution_count": 65,
     "metadata": {},
     "output_type": "execute_result"
    },
    {
     "data": {
      "image/png": "[encoded data removed]",
      "text/plain": [
       "<Figure size 432x288 with 1 Axes>"
      ]
     },
     "metadata": {
      "needs_background": "light"
     },
     "output_type": "display_data"
    }
   ],
   "source": [
    "center_spb['last_price'].hist(bins=10, range=(0, 12000))"
   ]
  },
  {
   "cell_type": "code",
   "execution_count": 66,
   "metadata": {},
   "outputs": [
    {
     "data": {
      "text/plain": [
       "<matplotlib.axes._subplots.AxesSubplot at 0x7f3c99875710>"
      ]
     },
     "execution_count": 66,
     "metadata": {},
     "output_type": "execute_result"
    },
    {
     "data": {
      "image/png": "[encoded data removed]",
      "text/plain": [
       "<Figure size 432x288 with 1 Axes>"
      ]
     },
     "metadata": {
      "needs_background": "light"
     },
     "output_type": "display_data"
    }
   ],
   "source": [
    "center_spb_history['last_price'].hist(bins=10, range=(0, 12000))"
   ]
  },
  {
   "cell_type": "markdown",
   "metadata": {},
   "source": [
    "Что касается цены, картина без откровений, дешевых квартир в историческом центре меньше, но в целом графика схожа."
   ]
  },
  {
   "cell_type": "code",
   "execution_count": 67,
   "metadata": {},
   "outputs": [
    {
     "data": {
      "text/plain": [
       "<matplotlib.axes._subplots.AxesSubplot at 0x7f3c995fbf50>"
      ]
     },
     "execution_count": 67,
     "metadata": {},
     "output_type": "execute_result"
    },
    {
     "data": {
      "image/png": "[encoded data removed]",
      "text/plain": [
       "<Figure size 432x288 with 1 Axes>"
      ]
     },
     "metadata": {},
     "output_type": "display_data"
    }
   ],
   "source": [
    "rooms_spb_pivot = center_spb.pivot_table(index='rooms', values='last_price', aggfunc='count')\n",
    "rooms_spb_pivot.plot(kind='pie', y = \"last_price\", labels=None, radius=1.5, shadow=True)"
   ]
  },
  {
   "cell_type": "code",
   "execution_count": 68,
   "metadata": {},
   "outputs": [
    {
     "data": {
      "text/plain": [
       "<matplotlib.axes._subplots.AxesSubplot at 0x7f3c99505250>"
      ]
     },
     "execution_count": 68,
     "metadata": {},
     "output_type": "execute_result"
    },
    {
     "data": {
      "image/png": "[encoded data removed]",
      "text/plain": [
       "<Figure size 432x288 with 1 Axes>"
      ]
     },
     "metadata": {},
     "output_type": "display_data"
    }
   ],
   "source": [
    "rooms_spb_h_pivot = center_spb_history.pivot_table(index='rooms', values='last_price', aggfunc='count')\n",
    "rooms_spb_h_pivot.plot(kind='pie', y = \"last_price\", labels=None, radius=1.5, shadow=True)"
   ]
  },
  {
   "cell_type": "markdown",
   "metadata": {},
   "source": [
    "Что касается цены, количества комнат, то бросается в глаза уменьшение доли 1 комнатных объектов в наборе данных 8км в сравнении с историческим центром 2 км."
   ]
  },
  {
   "cell_type": "code",
   "execution_count": 69,
   "metadata": {},
   "outputs": [
    {
     "data": {
      "text/plain": [
       "<matplotlib.axes._subplots.AxesSubplot at 0x7f3c99a22710>"
      ]
     },
     "execution_count": 69,
     "metadata": {},
     "output_type": "execute_result"
    },
    {
     "data": {
      "image/png": "[encoded data removed]",
      "text/plain": [
       "<Figure size 432x288 with 1 Axes>"
      ]
     },
     "metadata": {
      "needs_background": "light"
     },
     "output_type": "display_data"
    }
   ],
   "source": [
    "center_spb['ceiling_height'].hist(bins=10, range=(2, 4))"
   ]
  },
  {
   "cell_type": "code",
   "execution_count": 70,
   "metadata": {},
   "outputs": [
    {
     "data": {
      "text/plain": [
       "<matplotlib.axes._subplots.AxesSubplot at 0x7f3c99b39a90>"
      ]
     },
     "execution_count": 70,
     "metadata": {},
     "output_type": "execute_result"
    },
    {
     "data": {
      "image/png": "[encoded data removed]",
      "text/plain": [
       "<Figure size 432x288 with 1 Axes>"
      ]
     },
     "metadata": {
      "needs_background": "light"
     },
     "output_type": "display_data"
    }
   ],
   "source": [
    "center_spb_history['ceiling_height'].hist(bins=10, range=(2, 4))"
   ]
  },
  {
   "cell_type": "markdown",
   "metadata": {},
   "source": [
    "Графики практически идентичны, без откровений."
   ]
  },
  {
   "cell_type": "code",
   "execution_count": 1,
   "metadata": {},
   "outputs": [
    {
     "ename": "NameError",
     "evalue": "name 'dependency_graph' is not defined",
     "output_type": "error",
     "traceback": [
      "\u001b[0;31m---------------------------------------------------------------------------\u001b[0m",
      "\u001b[0;31mNameError\u001b[0m                                 Traceback (most recent call last)",
      "\u001b[0;32m<ipython-input-1-b58ec2f092c6>\u001b[0m in \u001b[0;36m<module>\u001b[0;34m\u001b[0m\n\u001b[0;32m----> 1\u001b[0;31m \u001b[0mdependency_graph\u001b[0m\u001b[0;34m(\u001b[0m\u001b[0mcenter_spb\u001b[0m\u001b[0;34m.\u001b[0m\u001b[0mquery\u001b[0m\u001b[0;34m(\u001b[0m\u001b[0;34m'rooms <= 7'\u001b[0m\u001b[0;34m)\u001b[0m\u001b[0;34m,\u001b[0m \u001b[0;34m'rooms'\u001b[0m\u001b[0;34m)\u001b[0m\u001b[0;34m\u001b[0m\u001b[0;34m\u001b[0m\u001b[0m\n\u001b[0m",
      "\u001b[0;31mNameError\u001b[0m: name 'dependency_graph' is not defined"
     ]
    }
   ],
   "source": [
    "dependency_graph(center_spb.query('rooms <= 7'), 'rooms')"
   ]
  },
  {
   "cell_type": "code",
   "execution_count": 72,
   "metadata": {},
   "outputs": [
    {
     "data": {
      "text/plain": [
       "<matplotlib.axes._subplots.AxesSubplot at 0x7f3ca094dc10>"
      ]
     },
     "execution_count": 72,
     "metadata": {},
     "output_type": "execute_result"
    },
    {
     "data": {
      "image/png": "[encoded data removed]",
      "text/plain": [
       "<Figure size 1008x360 with 1 Axes>"
      ]
     },
     "metadata": {
      "needs_background": "light"
     },
     "output_type": "display_data"
    }
   ],
   "source": [
    "dependency_graph(center_spb_history.query('rooms <= 7'), 'rooms')"
   ]
  },
  {
   "cell_type": "markdown",
   "metadata": {},
   "source": [
    "Здесь все выглядит логично, по так называемому историческому центру выбились значения 5ти комнатных квартир, но думаю это частный случай, из за мелковатой выборки."
   ]
  },
  {
   "cell_type": "markdown",
   "metadata": {},
   "source": [
    "Посмотрим на зависимость от этажности."
   ]
  },
  {
   "cell_type": "code",
   "execution_count": 73,
   "metadata": {},
   "outputs": [
    {
     "data": {
      "text/plain": [
       "<matplotlib.axes._subplots.AxesSubplot at 0x7f3c99336210>"
      ]
     },
     "execution_count": 73,
     "metadata": {},
     "output_type": "execute_result"
    },
    {
     "data": {
      "image/png": "[encoded data removed]",
      "text/plain": [
       "<Figure size 1008x360 with 1 Axes>"
      ]
     },
     "metadata": {
      "needs_background": "light"
     },
     "output_type": "display_data"
    }
   ],
   "source": [
    "dependency_graph(center_spb, 'level')"
   ]
  },
  {
   "cell_type": "code",
   "execution_count": 74,
   "metadata": {},
   "outputs": [
    {
     "data": {
      "text/plain": [
       "<matplotlib.axes._subplots.AxesSubplot at 0x7f3c99289190>"
      ]
     },
     "execution_count": 74,
     "metadata": {},
     "output_type": "execute_result"
    },
    {
     "data": {
      "image/png": "[encoded data removed]",
      "text/plain": [
       "<Figure size 1008x360 with 1 Axes>"
      ]
     },
     "metadata": {
      "needs_background": "light"
     },
     "output_type": "display_data"
    }
   ],
   "source": [
    "dependency_graph(center_spb_history, 'level')"
   ]
  },
  {
   "cell_type": "markdown",
   "metadata": {},
   "source": [
    "По этажности картина в принципе схожа с общим анализом, но есть одно но, если говорить про выборку 8км, то разница между \"последний\" и \"другой\" не так значительна как в выборке исторического центра - 2 км. Хочется связать это с ветхостью исторического жилья, жизнь на последнем этаже там может быть связана с рядом проблем, когда как в более современной застройке в радиусе 8 км, этот параметр уже не так важен."
   ]
  },
  {
   "cell_type": "markdown",
   "metadata": {},
   "source": [
    "Посмотрим на гистограммы по мере удаленности от центра, выбранных выборок."
   ]
  },
  {
   "cell_type": "code",
   "execution_count": 75,
   "metadata": {},
   "outputs": [
    {
     "data": {
      "text/plain": [
       "<matplotlib.axes._subplots.AxesSubplot at 0x7f3c99210750>"
      ]
     },
     "execution_count": 75,
     "metadata": {},
     "output_type": "execute_result"
    },
    {
     "data": {
      "image/png": "[encoded data removed]",
      "text/plain": [
       "<Figure size 1008x360 with 1 Axes>"
      ]
     },
     "metadata": {
      "needs_background": "light"
     },
     "output_type": "display_data"
    }
   ],
   "source": [
    "dependency_graph(center_spb, 'cityCenters_nearest_km')"
   ]
  },
  {
   "cell_type": "code",
   "execution_count": 76,
   "metadata": {},
   "outputs": [
    {
     "data": {
      "text/plain": [
       "<matplotlib.axes._subplots.AxesSubplot at 0x7f3c991c9390>"
      ]
     },
     "execution_count": 76,
     "metadata": {},
     "output_type": "execute_result"
    },
    {
     "data": {
      "image/png": "[encoded data removed]",
      "text/plain": [
       "<Figure size 1008x360 with 1 Axes>"
      ]
     },
     "metadata": {
      "needs_background": "light"
     },
     "output_type": "display_data"
    }
   ],
   "source": [
    "dependency_graph(center_spb_history, 'cityCenters_nearest_km')"
   ]
  },
  {
   "cell_type": "markdown",
   "metadata": {},
   "source": [
    "Все выглядит в пределах логики, чем дальше, тем дешевле."
   ]
  },
  {
   "cell_type": "code",
   "execution_count": 77,
   "metadata": {},
   "outputs": [
    {
     "data": {
      "text/plain": [
       "<matplotlib.axes._subplots.AxesSubplot at 0x7f3c9904eb10>"
      ]
     },
     "execution_count": 77,
     "metadata": {},
     "output_type": "execute_result"
    },
    {
     "data": {
      "image/png": "[encoded data removed]",
      "text/plain": [
       "<Figure size 720x360 with 1 Axes>"
      ]
     },
     "metadata": {
      "needs_background": "light"
     },
     "output_type": "display_data"
    },
    {
     "data": {
      "image/png": "[encoded data removed]",
      "text/plain": [
       "<Figure size 720x360 with 1 Axes>"
      ]
     },
     "metadata": {
      "needs_background": "light"
     },
     "output_type": "display_data"
    },
    {
     "data": {
      "image/png": "[encoded data removed]",
      "text/plain": [
       "<Figure size 720x360 with 1 Axes>"
      ]
     },
     "metadata": {
      "needs_background": "light"
     },
     "output_type": "display_data"
    }
   ],
   "source": [
    "dependency_dmy_price(center_spb)"
   ]
  },
  {
   "cell_type": "code",
   "execution_count": 78,
   "metadata": {},
   "outputs": [
    {
     "data": {
      "text/plain": [
       "<matplotlib.axes._subplots.AxesSubplot at 0x7f3c98efe2d0>"
      ]
     },
     "execution_count": 78,
     "metadata": {},
     "output_type": "execute_result"
    },
    {
     "data": {
      "image/png": "[encoded data removed]",
      "text/plain": [
       "<Figure size 720x360 with 1 Axes>"
      ]
     },
     "metadata": {
      "needs_background": "light"
     },
     "output_type": "display_data"
    },
    {
     "data": {
      "image/png": "[encoded data removed]",
      "text/plain": [
       "<Figure size 720x360 with 1 Axes>"
      ]
     },
     "metadata": {
      "needs_background": "light"
     },
     "output_type": "display_data"
    },
    {
     "data": {
      "image/png": "[encoded data removed]",
      "text/plain": [
       "<Figure size 720x360 with 1 Axes>"
      ]
     },
     "metadata": {
      "needs_background": "light"
     },
     "output_type": "display_data"
    }
   ],
   "source": [
    "dependency_dmy_price(center_spb_history)"
   ]
  },
  {
   "cell_type": "markdown",
   "metadata": {},
   "source": [
    "Что касается анализа зависимости цены от даты размещения, то здесь картина в принципе похожа на ту что мы наблюдали ранее по всей выборке."
   ]
  },
  {
   "cell_type": "markdown",
   "metadata": {},
   "source": [
    "Но есть пара наблюдений, касаемых исторического центра, если посмотреть на графики составленные по годам, то дельта между 2015 и 2014 годом в выборке исторического центра гораздо больше аналогичной дельты в выборке 8км центра. Т.е. держатели более представительного и дорого жилья так же подвержены влиянию среды, но ставки выше, графики более выразительны. Ниже представлены аналогичные сведения по набору данных без Санк-Петербурга, картины схожи."
   ]
  },
  {
   "cell_type": "code",
   "execution_count": 79,
   "metadata": {},
   "outputs": [
    {
     "data": {
      "text/plain": [
       "<matplotlib.axes._subplots.AxesSubplot at 0x7f3c98d10150>"
      ]
     },
     "execution_count": 79,
     "metadata": {},
     "output_type": "execute_result"
    },
    {
     "data": {
      "image/png": "[encoded data removed]",
      "text/plain": [
       "<Figure size 720x360 with 1 Axes>"
      ]
     },
     "metadata": {
      "needs_background": "light"
     },
     "output_type": "display_data"
    },
    {
     "data": {
      "image/png": "[encoded data removed]",
      "text/plain": [
       "<Figure size 720x360 with 1 Axes>"
      ]
     },
     "metadata": {
      "needs_background": "light"
     },
     "output_type": "display_data"
    },
    {
     "data": {
      "image/png": "[encoded data removed]",
      "text/plain": [
       "<Figure size 720x360 with 1 Axes>"
      ]
     },
     "metadata": {
      "needs_background": "light"
     },
     "output_type": "display_data"
    }
   ],
   "source": [
    "no_spb = residence.query('locality_name != \"Санкт-Петербург\"')\n",
    "dependency_dmy_price(no_spb, ylims=[(2800, 3400), (2500, 3400), (3000, 3800)])"
   ]
  },
  {
   "cell_type": "markdown",
   "metadata": {},
   "source": [
    "Посмотрим как коррелирует цена объекта с другими величинами в наборе данных по всему набору и по историческому центру."
   ]
  },
  {
   "cell_type": "code",
   "execution_count": 80,
   "metadata": {},
   "outputs": [
    {
     "data": {
      "text/plain": [
       "<matplotlib.axes._subplots.AxesSubplot at 0x7f3ca0906650>"
      ]
     },
     "execution_count": 80,
     "metadata": {},
     "output_type": "execute_result"
    },
    {
     "data": {
      "image/png": "[encoded data removed]",
      "text/plain": [
       "<Figure size 1080x1080 with 2 Axes>"
      ]
     },
     "metadata": {
      "needs_background": "light"
     },
     "output_type": "display_data"
    }
   ],
   "source": [
    "#построим график для всего набора\n",
    "plt.figure(figsize=(15,15))\n",
    "sns.heatmap(residence.corr()[['last_price']].sort_values(by='last_price', ascending=False), \n",
    "            annot=True, fmt='.3f')"
   ]
  },
  {
   "cell_type": "code",
   "execution_count": 81,
   "metadata": {},
   "outputs": [
    {
     "data": {
      "text/plain": [
       "<matplotlib.axes._subplots.AxesSubplot at 0x7f3c994d8750>"
      ]
     },
     "execution_count": 81,
     "metadata": {},
     "output_type": "execute_result"
    },
    {
     "data": {
      "image/png": "[encoded data removed]",
      "text/plain": [
       "<Figure size 1080x1080 with 2 Axes>"
      ]
     },
     "metadata": {
      "needs_background": "light"
     },
     "output_type": "display_data"
    }
   ],
   "source": [
    "#построим график для исторического центра\n",
    "plt.figure(figsize=(15,15))\n",
    "sns.heatmap(center_spb_history.corr()[['last_price']].sort_values(by='last_price', ascending=False), \n",
    "            annot=True, fmt='.3f')"
   ]
  },
  {
   "cell_type": "markdown",
   "metadata": {},
   "source": [
    "У исторического центра меньше зависимость цены от общей и жилой площади чем у всего набора данных, но гораздо больше от цены за квадратный метр, т.е. за большие деньги мы покупаем меньше жилья, зависимость очевидная, но график красивый."
   ]
  },
  {
   "cell_type": "markdown",
   "metadata": {},
   "source": [
    "<div style=\"border:solid  green  2px; padding: 20px\"> <h1 style=\"color: green ; margin-bottom:20px\">Комментарий наставника</h1>\n",
    "\n",
    "У тебя отлично получается анализировать сложные данные и находить скрытые зависимости, здорово!)"
   ]
  },
  {
   "cell_type": "markdown",
   "metadata": {},
   "source": [
    "### Шаг 5. Общий вывод"
   ]
  },
  {
   "cell_type": "markdown",
   "metadata": {},
   "source": [
    "По большому счету тенденции схожи как для Санкт-Петербурга так и для остальных городов представленных в выборке, за маленькими но дорогими исключениями объектов находящихся в историческом центре города, таких как последний этаж.\n",
    "Графики зависимости от года к году показывают, что намечается тенденция к увеличению цен, восстанавливается покупательская способность граждан, если не произойдет нового потрясения, думаю в 2020 и 2021 годах график должен расти."
   ]
  },
  {
   "cell_type": "markdown",
   "metadata": {},
   "source": [
    "<div style=\"border:solid  orange  2px; padding: 20px\"> <h1 style=\"color: orange ; margin-bottom:20px\">Комментарий наставника</h1>\n",
    "\n",
    "Хорошо, но можно было бы написать и больше выводов\n"
   ]
  },
  {
   "cell_type": "markdown",
   "metadata": {},
   "source": [
    "### Чек-лист готовности проекта\n",
    "\n",
    "Поставьте 'x' в выполненных пунктах. Далее нажмите Shift+Enter."
   ]
  },
  {
   "cell_type": "markdown",
   "metadata": {},
   "source": [
    "- [x]  открыт файл\n",
    "- [x]  файлы изучены (выведены первые строки, метод info())\n",
    "- [x]  определены пропущенные значения\n",
    "- [x]  заполнены пропущенные значения\n",
    "- [x]  есть пояснение какие пропущенные значения обнаружены\n",
    "- [x]  изменены типы данных\n",
    "- [x]  есть пояснение в каких столбцах изменены типы и почему\n",
    "- [x]  посчитано и добавлено в таблицу: цена квадратного метра\n",
    "- [x]  посчитано и добавлено в таблицу: день недели, месяц и год публикации объявления\n",
    "- [x]  посчитано и добавлено в таблицу: этаж квартиры; варианты — первый, последний, другой\n",
    "- [x]  посчитано и добавлено в таблицу: соотношение жилой и общей площади, а также отношение площади кухни к общей\n",
    "- [x]  изучены следующие параметры: площадь, цена, число комнат, высота потолков\n",
    "- [x]  построены гистограммы для каждого параметра\n",
    "- [x]  выполнено задание: \"Изучите время продажи квартиры. Постройте гистограмму. Посчитайте среднее и медиану. Опишите, сколько обычно занимает продажа. Когда можно считать, что продажи прошли очень быстро, а когда необычно долго?\"\n",
    "- [x]  выполнено задание: \"Уберите редкие и выбивающиеся значения. Опишите, какие особенности обнаружили.\"\n",
    "- [x]  выполнено задание: \"Какие факторы больше всего влияют на стоимость квартиры? Изучите, зависит ли цена от квадратного метра, числа комнат, этажа (первого или последнего), удалённости от центра. Также изучите зависимость от даты размещения: дня недели, месяца и года. \"Выберите 10 населённых пунктов с наибольшим числом объявлений. Посчитайте среднюю цену квадратного метра в этих населённых пунктах. Выделите населённые пункты с самой высокой и низкой стоимостью жилья. Эти данные можно найти по имени в столбце '*locality_name'*. \"\n",
    "- [x]  выполнено задание: \"Изучите предложения квартир: для каждой квартиры есть информация о расстоянии до центра. Выделите квартиры в Санкт-Петербурге (*'locality_name'*). Ваша задача — выяснить, какая область входит в центр. Создайте столбец с расстоянием до центра в километрах: округлите до целых значений. После этого посчитайте среднюю цену для каждого километра. Постройте график: он должен показывать, как цена зависит от удалённости от центра. Определите границу, где график сильно меняется — это и будет центральная зона. \"\n",
    "- [x]  выполнено задание: \"Выделите сегмент квартир в центре. Проанализируйте эту территорию и изучите следующие параметры: площадь, цена, число комнат, высота потолков. Также выделите факторы, которые влияют на стоимость квартиры (число комнат, этаж, удалённость от центра, дата размещения объявления). Сделайте выводы. Отличаются ли они от общих выводов по всему городу?\"\n",
    "- [x]  в каждом этапе есть выводы\n",
    "- [x]  есть общий вывод"
   ]
  },
  {
   "cell_type": "markdown",
   "metadata": {},
   "source": [
    "<div style=\"border:solid  green  2px; padding: 20px\">\n",
    "\n",
    "<h1 style=\"color: green ; margin-bottom:20px\">Комментарий наставника</h1>\n",
    "\n",
    "#### Код\n",
    "\n",
    "Всё отлично. Из того, что очень порадовало - соблюдена структура проекта, шаги из задания обозначены и выполнены последовательно, код написан аккуратно, используются комментарии к коду, быстро можно понять, какие операции выполняют сложные конструкции. В качестве совета предлагаю глубже изучить библиотеку Seaborn для построения более ярких и качественных визуализаций в Python, так как иногда хорошая красочная визуализация может сказать очень многое о данных.\n",
    "\n",
    "#### Выводы\n",
    "\n",
    "Ты пишешь отличные обоснованные выводы по проделанной раблоте и выдвигаешь корректные гипотезы - это очень радует!) Так же видно глубокое понимание проведённого анализа. Было очень интересно проверять твой проект и следить за твоей мыслью, продолжай в том же духе) Удачи!)"
   ]
  },
  {
   "cell_type": "markdown",
   "metadata": {},
   "source": [
    "<div style=\"border:solid  green  2px; padding: 20px\">\n",
    "\n",
    "<h1 style=\"color: green ; margin-bottom:20px\">Комментарий наставника</h1>\n",
    "\n",
    "Работа принята!) Удачи на следующих этапах, у тебя всё получится, только не сомневайся в себе и старательно подходи ко всем вопросам)"
   ]
  },
  {
   "cell_type": "code",
   "execution_count": null,
   "metadata": {},
   "outputs": [],
   "source": []
  }
 ],
 "metadata": {
  "kernelspec": {
   "display_name": "Python 3",
   "language": "python",
   "name": "python3"
  },
  "language_info": {
   "codemirror_mode": {
    "name": "ipython",
    "version": 3
   },
   "file_extension": ".py",
   "mimetype": "text/x-python",
   "name": "python",
   "nbconvert_exporter": "python",
   "pygments_lexer": "ipython3",
   "version": "3.7.6"
  }
 },
 "nbformat": 4,
 "nbformat_minor": 2
}
