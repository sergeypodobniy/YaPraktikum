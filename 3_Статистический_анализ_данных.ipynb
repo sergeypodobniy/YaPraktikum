{
 "cells": [
  {
   "cell_type": "markdown",
   "metadata": {},
   "source": [
    "---\n",
    "## Комментарий от наставника\n",
    "\n",
    "Привет! Спасибо, что прислал задание:) В целом, работа производит хорошее впечатление, однако обрати внимание на некоторые мои комментарии. Они обозначены пометкой **Комментарий от наставника**. Пострайся учесть эти комментарии.\n",
    "\n",
    "---"
   ]
  },
  {
   "cell_type": "markdown",
   "metadata": {},
   "source": [
    "# Определение перспективного тарифа для телеком компании"
   ]
  },
  {
   "cell_type": "markdown",
   "metadata": {},
   "source": [
    "## Описание проекта"
   ]
  },
  {
   "cell_type": "markdown",
   "metadata": {},
   "source": [
    "Заказчик - компания «Мегалайн» — федерального оператора сотовой связи. \n",
    "\n",
    "Клиентам предлагают два тарифных плана: «Смарт» и «Ультра». Чтобы скорректировать рекламный бюджет, коммерческий департамент хочет понять, какой тариф приносит больше денег.\n",
    "\n",
    "Нам предстоит сделать предварительный анализ тарифов на небольшой выборке клиентов. \n",
    "В нашем распоряжении данные 500 пользователей «Мегалайна»: кто они, откуда, каким тарифом пользуются, сколько звонков и сообщений каждый отправил за 2018 год.\n",
    "\n",
    "Нужно проанализировать поведение клиентов и сделать вывод — какой тариф лучше."
   ]
  },
  {
   "cell_type": "markdown",
   "metadata": {},
   "source": [
    "Описание тарифов\n",
    "\n",
    "Тариф «Смарт»\n",
    "\n",
    "Ежемесячная плата: 550 рублей\n",
    "Включено 500 минут разговора, 50 сообщений и 15 Гб интернет-трафика\n",
    "Стоимость услуг сверх тарифного пакета:\n",
    "минута разговора: 3 рубля\n",
    "сообщение: 3 рубля\n",
    "1 Гб интернет-трафика: 200 рублей\n",
    "\n",
    "Тариф «Ультра»\n",
    "\n",
    "Ежемесячная плата: 1950 рублей\n",
    "Включено 3000 минут разговора, 1000 сообщений и 30 Гб интернет-трафика\n",
    "Стоимость услуг сверх тарифного пакета:\n",
    "минута разговора: 1 рубль\n",
    "сообщение: 1 рубль\n",
    "1 Гб интернет-трафика: 150 рублей\n",
    "\n",
    "Обрать внимание: «Мегалайн» всегда округляет вверх значения минут и мегабайтов. Если пользователь проговорил всего 1 секунду, в тарифе засчитывается целая минута."
   ]
  },
  {
   "cell_type": "markdown",
   "metadata": {},
   "source": [
    "Описание данных\n",
    "\n",
    "\n",
    "Таблица users (информация о пользователях):\n",
    "- user_id — уникальный идентификатор пользователя\n",
    "- first_name — имя пользователя\n",
    "- last_name — фамилия пользователя\n",
    "- age — возраст пользователя (годы)\n",
    "- reg_date — дата подключения тарифа (день, месяц, год)\n",
    "- churn_date — дата прекращения пользования тарифом (если значение пропущено, то тариф ещё действовал на момент выгрузки данных)\n",
    "- city — город проживания пользователя\n",
    "- tariff — название тарифного плана\n",
    "\n",
    "Таблица calls (информация о звонках):\n",
    "- id — уникальный номер звонка\n",
    "- call_date — дата звонка\n",
    "- duration — длительность звонка в минутах\n",
    "- user_id — идентификатор пользователя, сделавшего звонок\n",
    "\n",
    "Таблица messages (информация о сообщениях):\n",
    "- id — уникальный номер сообщения\n",
    "- message_date — дата сообщения\n",
    "- user_id — идентификатор пользователя, отправившего сообщение\n",
    "\n",
    "Таблица internet (информация об интернет-сессиях):\n",
    "- id — уникальный номер сессии\n",
    "- mb_used — объём потраченного за сессию интернет-трафика (в мегабайтах)\n",
    "- session_date — дата интернет-сессии\n",
    "- user_id — идентификатор пользователя\n",
    "\n",
    "Таблица tariffs (информация о тарифах):\n",
    "- tariff_name — название тарифа\n",
    "- rub_monthly_fee — ежемесячная абонентская плата в рублях\n",
    "- minutes_included — количество минут разговора в месяц, включённых в абонентскую плату\n",
    "- messages_included — количество сообщений в месяц, включённых в абонентскую плату\n",
    "- mb_per_month_included — объём интернет-трафика, включённого в абонентскую плату (в мегабайтах)\n",
    "- rub_per_minute — стоимость минуты разговора сверх тарифного пакета (например, если в тарифе 100 минут разговора в месяц, то со 101 минуты будет взиматься плата)\n",
    "- rub_per_message — стоимость отправки сообщения сверх тарифного пакета\n",
    "- rub_per_gb — стоимость дополнительного гигабайта интернет-трафика сверх тарифного пакета (1 гигабайт = 1024 мегабайта)"
   ]
  },
  {
   "cell_type": "markdown",
   "metadata": {},
   "source": [
    "## Краткий план выполнения работы"
   ]
  },
  {
   "cell_type": "markdown",
   "metadata": {},
   "source": [
    "1. Шаг 1. Ознакомление с данными и их обработка:\n",
    "    - привести данные к нужным типам;\n",
    "    - найти и исправить ошибки в данных. Пояснить, какие ошибки вы нашли и как их исправили.\n",
    "    - предобработать данные (у большого количества звонков длительность — 0.0 минут).\n",
    "\n",
    "\n",
    "2. Шаг 2. Посчитать для каждого пользователя:\n",
    "    - количество сделанных звонков и израсходованных минут разговора по месяцам;\n",
    "    - количество отправленных сообщений по месяцам;\n",
    "    - объем израсходованного интернет-трафика по месяцам;\n",
    "    - помесячную выручку с каждого пользователя (вычесть бесплатный лимит из суммарного количества звонков, сообщений и интернет-трафика; остаток умножить на значение из тарифного плана; прибавить абонентскую плату, соответствующую тарифному плану).\n",
    "    \n",
    "\n",
    "3. Шаг 3. Проанализировать данные:\n",
    "    - описать поведение клиентов оператора, исходя из выборки. Сколько минут разговора, сколько сообщений и какой объём интернет-трафика требуется пользователям каждого тарифа в месяц? \n",
    "    - посчитать среднее количество, дисперсию и стандартное отклонение. Построить гистограммы. Описать распределения.\n",
    "    \n",
    "\n",
    "4. Шаг 4. Проверить гипотезы:\n",
    "    - средняя выручка пользователей тарифов «Ультра» и «Смарт» различается;\n",
    "    - средняя выручка пользователей из Москвы отличается от выручки пользователей из других регионов;\n",
    "\n",
    "\n",
    "5. Шаг 5. Пояснить:\n",
    "    - как формулировалась нулевая и альтернативная гипотезы;\n",
    "    - какой критерий использовался для проверки гипотез и почему.\n",
    "\n",
    "\n",
    "6. Шаг 6. Написать общий вывод"
   ]
  },
  {
   "cell_type": "markdown",
   "metadata": {},
   "source": [
    "---\n",
    "## Комментарий от наставника\n",
    "\n",
    "Хорошее вступление в работу.\n",
    "\n",
    "---"
   ]
  },
  {
   "cell_type": "markdown",
   "metadata": {},
   "source": [
    "# Шаг 1. Ознакомление с данными и их обработка:\n",
    "- привести данные к нужным типам;\n",
    "- найти и исправить ошибки в данных. Пояснить, какие ошибки вы нашли и как их исправили.\n",
    "- предобработать данные (у большого количества звонков длительность — 0.0 минут)."
   ]
  },
  {
   "cell_type": "code",
   "execution_count": 1,
   "metadata": {},
   "outputs": [],
   "source": [
    "import pandas as pd\n",
    "import numpy as np\n",
    "import matplotlib.pyplot as plt\n",
    "from scipy import stats as st"
   ]
  },
  {
   "cell_type": "code",
   "execution_count": 2,
   "metadata": {},
   "outputs": [],
   "source": [
    "users = pd.read_csv('/datasets/users.csv')\n",
    "calls = pd.read_csv('/datasets/calls.csv')\n",
    "messages = pd.read_csv('/datasets/messages.csv')\n",
    "internet = pd.read_csv('/datasets/internet.csv')\n",
    "tariffs = pd.read_csv('/datasets/tariffs.csv')"
   ]
  },
  {
   "cell_type": "markdown",
   "metadata": {},
   "source": [
    "Посмотрим на размер наборов данных."
   ]
  },
  {
   "cell_type": "code",
   "execution_count": 3,
   "metadata": {},
   "outputs": [
    {
     "name": "stdout",
     "output_type": "stream",
     "text": [
      "Размер набора данных users (строк, столбцов): (500, 8)\n",
      "Размер набора данных calls (строк, столбцов): (202607, 4)\n",
      "Размер набора данных messages(строк, столбцов): (123036, 3)\n",
      "Размер набора данных internet(строк, столбцов): (149396, 5)\n",
      "Размер набора данных tariffs(строк, столбцов): (2, 8)\n"
     ]
    }
   ],
   "source": [
    "print('Размер набора данных users (строк, столбцов):', users.shape)\n",
    "print('Размер набора данных calls (строк, столбцов):', calls.shape)\n",
    "print('Размер набора данных messages(строк, столбцов):', messages.shape)\n",
    "print('Размер набора данных internet(строк, столбцов):', internet.shape)\n",
    "print('Размер набора данных tariffs(строк, столбцов):', tariffs.shape)"
   ]
  },
  {
   "cell_type": "markdown",
   "metadata": {},
   "source": [
    "Посмотрим информацию по каждому из набору данных, узнаем как обстоят дела с пропусками и типами данных."
   ]
  },
  {
   "cell_type": "markdown",
   "metadata": {},
   "source": [
    "#####  <font color=red> Работаем с таблицей users"
   ]
  },
  {
   "cell_type": "code",
   "execution_count": 4,
   "metadata": {},
   "outputs": [
    {
     "name": "stdout",
     "output_type": "stream",
     "text": [
      "<class 'pandas.core.frame.DataFrame'>\n",
      "RangeIndex: 500 entries, 0 to 499\n",
      "Data columns (total 8 columns):\n",
      "user_id       500 non-null int64\n",
      "age           500 non-null int64\n",
      "churn_date    38 non-null object\n",
      "city          500 non-null object\n",
      "first_name    500 non-null object\n",
      "last_name     500 non-null object\n",
      "reg_date      500 non-null object\n",
      "tariff        500 non-null object\n",
      "dtypes: int64(2), object(6)\n",
      "memory usage: 31.4+ KB\n"
     ]
    }
   ],
   "source": [
    "users.info()"
   ]
  },
  {
   "cell_type": "markdown",
   "metadata": {},
   "source": [
    "Большое количество пропусков в столбце churn_date (дата прекращения пользования тарифом), согласно исходной информации, если значение пропущено, то тариф ещё действовал на момент выгрузки данных. Исходя из этой информации, принято решение не трогать эти пропуски.\n",
    "\n",
    "Необходимо поменять тип данных где фигурирует дата совершенного действия."
   ]
  },
  {
   "cell_type": "code",
   "execution_count": 5,
   "metadata": {},
   "outputs": [],
   "source": [
    "users['reg_date'] = pd.to_datetime(users['reg_date'], format='%Y-%m-%d')\n",
    "users['churn_date'] = pd.to_datetime(users['churn_date'], format='%Y-%m-%d')"
   ]
  },
  {
   "cell_type": "markdown",
   "metadata": {},
   "source": [
    "#####  <font color=red> Работаем с таблицей calls"
   ]
  },
  {
   "cell_type": "code",
   "execution_count": 6,
   "metadata": {},
   "outputs": [
    {
     "name": "stdout",
     "output_type": "stream",
     "text": [
      "<class 'pandas.core.frame.DataFrame'>\n",
      "RangeIndex: 202607 entries, 0 to 202606\n",
      "Data columns (total 4 columns):\n",
      "id           202607 non-null object\n",
      "call_date    202607 non-null object\n",
      "duration     202607 non-null float64\n",
      "user_id      202607 non-null int64\n",
      "dtypes: float64(1), int64(1), object(2)\n",
      "memory usage: 6.2+ MB\n"
     ]
    }
   ],
   "source": [
    "calls.info()"
   ]
  },
  {
   "cell_type": "markdown",
   "metadata": {},
   "source": [
    "Пропусков не обнаружено. Необходимо поменять тип данных где фигурирует дата совершенного действия."
   ]
  },
  {
   "cell_type": "code",
   "execution_count": 7,
   "metadata": {},
   "outputs": [],
   "source": [
    "#меняем тип данных\n",
    "calls['call_date'] = pd.to_datetime(calls['call_date'], format='%Y-%m-%d')"
   ]
  },
  {
   "cell_type": "markdown",
   "metadata": {},
   "source": [
    "Посмотрим на главный столбец таблицы - duration"
   ]
  },
  {
   "cell_type": "code",
   "execution_count": 8,
   "metadata": {},
   "outputs": [
    {
     "data": {
      "text/plain": [
       "<matplotlib.axes._subplots.AxesSubplot at 0x7f61cf7fe610>"
      ]
     },
     "execution_count": 8,
     "metadata": {},
     "output_type": "execute_result"
    },
    {
     "data": {
      "image/png": "[encoded data removed]",
      "text/plain": [
       "<Figure size 1296x360 with 1 Axes>"
      ]
     },
     "metadata": {
      "needs_background": "light"
     },
     "output_type": "display_data"
    }
   ],
   "source": [
    "calls['duration'].plot(kind='hist', figsize=(18,5), color='green', ec='white', bins=50)"
   ]
  },
  {
   "cell_type": "markdown",
   "metadata": {},
   "source": [
    "Абсолютное большинство звонков длительностью 1 минут, с одной стороны логично, но у любой логики есть пределеы, думаю значение которое мы видим на графике за гранью пределов. «Мегалайн» всегда округляет вверх значения минут и мегабайтов. Если пользователь проговорил всего 1 секунду, в тарифе засчитывается целая минута, жаль не наоборот. Округлим все значения в большую сторону и посчитаем сколько останется с продолжительностью 0 м."
   ]
  },
  {
   "cell_type": "markdown",
   "metadata": {},
   "source": [
    "---\n",
    "## Комментарий от наставника\n",
    "\n",
    "Верно, что округление производится до суммирования. Это согласуется с тем, как оператор фиксирует выручку.\n",
    "\n",
    "---"
   ]
  },
  {
   "cell_type": "code",
   "execution_count": 9,
   "metadata": {},
   "outputs": [
    {
     "data": {
      "text/plain": [
       "id           39613\n",
       "call_date    39613\n",
       "duration     39613\n",
       "user_id      39613\n",
       "dtype: int64"
      ]
     },
     "execution_count": 9,
     "metadata": {},
     "output_type": "execute_result"
    }
   ],
   "source": [
    "calls['duration'] = calls['duration'].apply(np.ceil)\n",
    "calls.query('duration == 0.0').count()"
   ]
  },
  {
   "cell_type": "markdown",
   "metadata": {},
   "source": [
    "39613 строк с 0 продолжительностью звонка, для набора данных где 202607 строки это очень много. Уберем их из набора данных и посмотрим info и на красивую гистрограмму без столбцов \"выскочек\"."
   ]
  },
  {
   "cell_type": "code",
   "execution_count": 10,
   "metadata": {},
   "outputs": [
    {
     "name": "stdout",
     "output_type": "stream",
     "text": [
      "<class 'pandas.core.frame.DataFrame'>\n",
      "Int64Index: 162994 entries, 2 to 202606\n",
      "Data columns (total 4 columns):\n",
      "id           162994 non-null object\n",
      "call_date    162994 non-null datetime64[ns]\n",
      "duration     162994 non-null float64\n",
      "user_id      162994 non-null int64\n",
      "dtypes: datetime64[ns](1), float64(1), int64(1), object(1)\n",
      "memory usage: 6.2+ MB\n"
     ]
    }
   ],
   "source": [
    "calls['duration'] = calls['duration'].replace(0, np.NaN)\n",
    "calls = calls.dropna()\n",
    "calls.info()"
   ]
  },
  {
   "cell_type": "markdown",
   "metadata": {},
   "source": [
    "---\n",
    "## Комментарий от наставника\n",
    "\n",
    "Исходя из какого предположения звонки с нулевой длительностью удалены? Стоит подробно описывать ход своих мыслей. Это недозвоны или еще что-то?\n",
    "\n",
    "---"
   ]
  },
  {
   "cell_type": "code",
   "execution_count": 11,
   "metadata": {},
   "outputs": [
    {
     "data": {
      "text/plain": [
       "<matplotlib.axes._subplots.AxesSubplot at 0x7f61cf766ad0>"
      ]
     },
     "execution_count": 11,
     "metadata": {},
     "output_type": "execute_result"
    },
    {
     "data": {
      "image/png": "[encoded data removed]",
      "text/plain": [
       "<Figure size 1296x360 with 1 Axes>"
      ]
     },
     "metadata": {
      "needs_background": "light"
     },
     "output_type": "display_data"
    }
   ],
   "source": [
    "calls['duration'].plot(kind='hist', figsize=(18,5), color='green', ec='white', bins=50)"
   ]
  },
  {
   "cell_type": "markdown",
   "metadata": {},
   "source": [
    "##### <font color=red> Работаем с таблицей messages"
   ]
  },
  {
   "cell_type": "code",
   "execution_count": 12,
   "metadata": {},
   "outputs": [
    {
     "name": "stdout",
     "output_type": "stream",
     "text": [
      "<class 'pandas.core.frame.DataFrame'>\n",
      "RangeIndex: 123036 entries, 0 to 123035\n",
      "Data columns (total 3 columns):\n",
      "id              123036 non-null object\n",
      "message_date    123036 non-null object\n",
      "user_id         123036 non-null int64\n",
      "dtypes: int64(1), object(2)\n",
      "memory usage: 2.8+ MB\n"
     ]
    }
   ],
   "source": [
    "messages.info()"
   ]
  },
  {
   "cell_type": "markdown",
   "metadata": {},
   "source": [
    "Пропусков не обнаружено. Необходимо поменять тип данных где фигурирует дата совершенного действия."
   ]
  },
  {
   "cell_type": "code",
   "execution_count": 13,
   "metadata": {},
   "outputs": [],
   "source": [
    "#меняем тип данных\n",
    "messages['message_date'] = pd.to_datetime(messages['message_date'], format='%Y-%m-%d')"
   ]
  },
  {
   "cell_type": "markdown",
   "metadata": {},
   "source": [
    "##### <font color=red> Работаем с таблицей internet"
   ]
  },
  {
   "cell_type": "code",
   "execution_count": 14,
   "metadata": {},
   "outputs": [
    {
     "name": "stdout",
     "output_type": "stream",
     "text": [
      "<class 'pandas.core.frame.DataFrame'>\n",
      "RangeIndex: 149396 entries, 0 to 149395\n",
      "Data columns (total 5 columns):\n",
      "Unnamed: 0      149396 non-null int64\n",
      "id              149396 non-null object\n",
      "mb_used         149396 non-null float64\n",
      "session_date    149396 non-null object\n",
      "user_id         149396 non-null int64\n",
      "dtypes: float64(1), int64(2), object(2)\n",
      "memory usage: 5.7+ MB\n"
     ]
    }
   ],
   "source": [
    "internet.info()"
   ]
  },
  {
   "cell_type": "markdown",
   "metadata": {},
   "source": [
    "Пропусков не обнаружено. Необходимо поменять тип данных где фигурирует дата совершенного действия."
   ]
  },
  {
   "cell_type": "code",
   "execution_count": 15,
   "metadata": {},
   "outputs": [],
   "source": [
    "#меняем тип данных\n",
    "internet['session_date'] = pd.to_datetime(internet['session_date'], format='%Y-%m-%d')"
   ]
  },
  {
   "cell_type": "markdown",
   "metadata": {},
   "source": [
    "Проделаем аналогичные операции с столбцом mb_used, какие проделали с данными о длительности звонка."
   ]
  },
  {
   "cell_type": "code",
   "execution_count": 16,
   "metadata": {},
   "outputs": [
    {
     "data": {
      "text/plain": [
       "<matplotlib.axes._subplots.AxesSubplot at 0x7f61d0288990>"
      ]
     },
     "execution_count": 16,
     "metadata": {},
     "output_type": "execute_result"
    },
    {
     "data": {
      "image/png": "[encoded data removed]",
      "text/plain": [
       "<Figure size 1296x360 with 1 Axes>"
      ]
     },
     "metadata": {
      "needs_background": "light"
     },
     "output_type": "display_data"
    }
   ],
   "source": [
    "internet['mb_used'].plot(kind='hist', figsize=(18,5), color='orange', ec='white', bins=50)"
   ]
  },
  {
   "cell_type": "markdown",
   "metadata": {},
   "source": [
    "Знакомая картина, округляем и смотрим на 0."
   ]
  },
  {
   "cell_type": "code",
   "execution_count": 17,
   "metadata": {},
   "outputs": [
    {
     "data": {
      "text/plain": [
       "Unnamed: 0      19598\n",
       "id              19598\n",
       "mb_used         19598\n",
       "session_date    19598\n",
       "user_id         19598\n",
       "dtype: int64"
      ]
     },
     "execution_count": 17,
     "metadata": {},
     "output_type": "execute_result"
    }
   ],
   "source": [
    "internet['mb_used'] = internet['mb_used'].apply(np.ceil)\n",
    "internet.query('mb_used == 0.0').count()"
   ]
  },
  {
   "cell_type": "markdown",
   "metadata": {},
   "source": [
    "19 598 строк из 149 396 по сути пустые, удаляем. И смотрим график."
   ]
  },
  {
   "cell_type": "code",
   "execution_count": 18,
   "metadata": {},
   "outputs": [
    {
     "name": "stdout",
     "output_type": "stream",
     "text": [
      "<class 'pandas.core.frame.DataFrame'>\n",
      "Int64Index: 129798 entries, 0 to 149395\n",
      "Data columns (total 5 columns):\n",
      "Unnamed: 0      129798 non-null int64\n",
      "id              129798 non-null object\n",
      "mb_used         129798 non-null float64\n",
      "session_date    129798 non-null datetime64[ns]\n",
      "user_id         129798 non-null int64\n",
      "dtypes: datetime64[ns](1), float64(1), int64(2), object(1)\n",
      "memory usage: 5.9+ MB\n"
     ]
    }
   ],
   "source": [
    "internet['mb_used'] = internet['mb_used'].replace(0, np.NaN)\n",
    "internet = internet.dropna()\n",
    "internet.info()"
   ]
  },
  {
   "cell_type": "code",
   "execution_count": 19,
   "metadata": {},
   "outputs": [
    {
     "data": {
      "text/plain": [
       "<matplotlib.axes._subplots.AxesSubplot at 0x7f61d0122210>"
      ]
     },
     "execution_count": 19,
     "metadata": {},
     "output_type": "execute_result"
    },
    {
     "data": {
      "image/png": "[encoded data removed]",
      "text/plain": [
       "<Figure size 1296x360 with 1 Axes>"
      ]
     },
     "metadata": {
      "needs_background": "light"
     },
     "output_type": "display_data"
    }
   ],
   "source": [
    "internet['mb_used'].plot(kind='hist', figsize=(18,5), color='orange', ec='white', bins=50)"
   ]
  },
  {
   "cell_type": "markdown",
   "metadata": {},
   "source": [
    "#####  <font color=red> Работаем с таблицей tariffs"
   ]
  },
  {
   "cell_type": "code",
   "execution_count": 20,
   "metadata": {},
   "outputs": [
    {
     "name": "stdout",
     "output_type": "stream",
     "text": [
      "<class 'pandas.core.frame.DataFrame'>\n",
      "RangeIndex: 2 entries, 0 to 1\n",
      "Data columns (total 8 columns):\n",
      "messages_included        2 non-null int64\n",
      "mb_per_month_included    2 non-null int64\n",
      "minutes_included         2 non-null int64\n",
      "rub_monthly_fee          2 non-null int64\n",
      "rub_per_gb               2 non-null int64\n",
      "rub_per_message          2 non-null int64\n",
      "rub_per_minute           2 non-null int64\n",
      "tariff_name              2 non-null object\n",
      "dtypes: int64(7), object(1)\n",
      "memory usage: 256.0+ bytes\n"
     ]
    }
   ],
   "source": [
    "tariffs.info()"
   ]
  },
  {
   "cell_type": "markdown",
   "metadata": {},
   "source": [
    "Пропусков не обнаружено, явных проблем с типами данных не обнаружено."
   ]
  },
  {
   "cell_type": "markdown",
   "metadata": {},
   "source": [
    "#####  <font color=red> Проверка на наличие дубликатов"
   ]
  },
  {
   "cell_type": "code",
   "execution_count": 21,
   "metadata": {},
   "outputs": [
    {
     "name": "stdout",
     "output_type": "stream",
     "text": [
      "Количество грубых дубликатов в наборе данных users: 0\n",
      "Количество грубых дубликатов в наборе данных calls: 0\n",
      "Количество грубых дубликатов в наборе данных messages: 0\n",
      "Количество грубых дубликатов в наборе данных internet: 0\n",
      "Количество грубых дубликатов в наборе данных tariffs: 0\n"
     ]
    }
   ],
   "source": [
    "#найдем количество грубых дубликатов\n",
    "print('Количество грубых дубликатов в наборе данных users:', users.duplicated().sum())\n",
    "print('Количество грубых дубликатов в наборе данных calls:', calls.duplicated().sum())\n",
    "print('Количество грубых дубликатов в наборе данных messages:', messages.duplicated().sum())\n",
    "print('Количество грубых дубликатов в наборе данных internet:', internet.duplicated().sum())\n",
    "print('Количество грубых дубликатов в наборе данных tariffs:', tariffs.duplicated().sum())"
   ]
  },
  {
   "cell_type": "markdown",
   "metadata": {},
   "source": [
    "#### Вывод по шагу 1"
   ]
  },
  {
   "cell_type": "markdown",
   "metadata": {},
   "source": [
    "Данные готовы к дальнейшей работе."
   ]
  },
  {
   "cell_type": "markdown",
   "metadata": {},
   "source": [
    "---\n",
    "## Комментарий от наставника \n",
    "\n",
    "Первый взгляд на таблицы выполнен. Параллельно замечены и исправлены ошибки в данных, это хорошо. \n",
    "\n",
    "---"
   ]
  },
  {
   "cell_type": "markdown",
   "metadata": {},
   "source": [
    "# Шаг 2. Посчитать для каждого пользователя:\n",
    "- количество сделанных звонков и израсходованных минут разговора по месяцам;\n",
    "- количество отправленных сообщений по месяцам;\n",
    "- объем израсходованного интернет-трафика по месяцам;\n",
    "- помесячную выручку с каждого пользователя."
   ]
  },
  {
   "cell_type": "markdown",
   "metadata": {},
   "source": [
    "Для решения поставленной задачи соберем новую таблицу из уже имеющихся."
   ]
  },
  {
   "cell_type": "markdown",
   "metadata": {},
   "source": [
    "Добавим информацию о месяце в наборы данных, для расчета расходов в этот период."
   ]
  },
  {
   "cell_type": "code",
   "execution_count": 22,
   "metadata": {},
   "outputs": [],
   "source": [
    "users['month'] = users['reg_date'].apply(lambda x: x.month)\n",
    "calls['month'] = calls['call_date'].apply(lambda x: x.month)\n",
    "messages['month'] = messages['message_date'].apply(lambda x: x.month)\n",
    "internet['month'] = internet['session_date'].apply(lambda x: x.month)"
   ]
  },
  {
   "cell_type": "code",
   "execution_count": 23,
   "metadata": {},
   "outputs": [],
   "source": [
    "#возмем из каждой таблицы то, что нам нужно и посчитаем количества и суммы\n",
    "calls_for_analys = calls.groupby(['user_id', 'month'])['duration'].agg(['count', 'sum'])\n",
    "messages_for_analys = messages.groupby(['user_id', 'month'])['id'].count()\n",
    "internet_for_analys = internet.groupby(['user_id', 'month']).sum()['mb_used']\n",
    "\n",
    "#и соберем в одну таблицу\n",
    "users_2 = pd.concat([calls_for_analys, messages_for_analys, internet_for_analys], axis=1)\n",
    "users_2 = users_2.reset_index()\n",
    "\n",
    "#добавим в новую таблицу наименование тарифа\n",
    "users_tariff = dict(pd.Series(users['tariff'].values, index=users['user_id']))\n",
    "calls['tariff'] = calls['user_id'].map(users_tariff)\n",
    "users_2['tariff'] = users_2['user_id'].map(users_tariff)\n"
   ]
  },
  {
   "cell_type": "markdown",
   "metadata": {},
   "source": [
    "Для наглядности переименуем столбцы."
   ]
  },
  {
   "cell_type": "code",
   "execution_count": 24,
   "metadata": {},
   "outputs": [],
   "source": [
    "users_2.columns = ['User_id', 'Месяц', 'Кол-во звонков, шт.', 'Продолжительность звонков, мин.', \n",
    "                            'смс, шт.', 'Интернет, Мб', 'Тариф']"
   ]
  },
  {
   "cell_type": "code",
   "execution_count": 25,
   "metadata": {},
   "outputs": [
    {
     "data": {
      "text/html": [
       "<div>\n",
       "<style scoped>\n",
       "    .dataframe tbody tr th:only-of-type {\n",
       "        vertical-align: middle;\n",
       "    }\n",
       "\n",
       "    .dataframe tbody tr th {\n",
       "        vertical-align: top;\n",
       "    }\n",
       "\n",
       "    .dataframe thead th {\n",
       "        text-align: right;\n",
       "    }\n",
       "</style>\n",
       "<table border=\"1\" class=\"dataframe\">\n",
       "  <thead>\n",
       "    <tr style=\"text-align: right;\">\n",
       "      <th></th>\n",
       "      <th>User_id</th>\n",
       "      <th>Месяц</th>\n",
       "      <th>Кол-во звонков, шт.</th>\n",
       "      <th>Продолжительность звонков, мин.</th>\n",
       "      <th>смс, шт.</th>\n",
       "      <th>Интернет, Мб</th>\n",
       "      <th>Тариф</th>\n",
       "    </tr>\n",
       "  </thead>\n",
       "  <tbody>\n",
       "    <tr>\n",
       "      <td>1127</td>\n",
       "      <td>1176</td>\n",
       "      <td>8</td>\n",
       "      <td>45.0</td>\n",
       "      <td>432.0</td>\n",
       "      <td>40.0</td>\n",
       "      <td>14435.0</td>\n",
       "      <td>smart</td>\n",
       "    </tr>\n",
       "    <tr>\n",
       "      <td>1829</td>\n",
       "      <td>1289</td>\n",
       "      <td>11</td>\n",
       "      <td>144.0</td>\n",
       "      <td>1257.0</td>\n",
       "      <td>99.0</td>\n",
       "      <td>14008.0</td>\n",
       "      <td>ultra</td>\n",
       "    </tr>\n",
       "    <tr>\n",
       "      <td>1347</td>\n",
       "      <td>1210</td>\n",
       "      <td>10</td>\n",
       "      <td>65.0</td>\n",
       "      <td>602.0</td>\n",
       "      <td>NaN</td>\n",
       "      <td>21841.0</td>\n",
       "      <td>smart</td>\n",
       "    </tr>\n",
       "    <tr>\n",
       "      <td>2280</td>\n",
       "      <td>1360</td>\n",
       "      <td>11</td>\n",
       "      <td>76.0</td>\n",
       "      <td>596.0</td>\n",
       "      <td>NaN</td>\n",
       "      <td>5737.0</td>\n",
       "      <td>ultra</td>\n",
       "    </tr>\n",
       "    <tr>\n",
       "      <td>1806</td>\n",
       "      <td>1285</td>\n",
       "      <td>2</td>\n",
       "      <td>8.0</td>\n",
       "      <td>79.0</td>\n",
       "      <td>31.0</td>\n",
       "      <td>645.0</td>\n",
       "      <td>smart</td>\n",
       "    </tr>\n",
       "  </tbody>\n",
       "</table>\n",
       "</div>"
      ],
      "text/plain": [
       "      User_id  Месяц  Кол-во звонков, шт.  Продолжительность звонков, мин.  \\\n",
       "1127     1176      8                 45.0                            432.0   \n",
       "1829     1289     11                144.0                           1257.0   \n",
       "1347     1210     10                 65.0                            602.0   \n",
       "2280     1360     11                 76.0                            596.0   \n",
       "1806     1285      2                  8.0                             79.0   \n",
       "\n",
       "      смс, шт.  Интернет, Мб  Тариф  \n",
       "1127      40.0       14435.0  smart  \n",
       "1829      99.0       14008.0  ultra  \n",
       "1347       NaN       21841.0  smart  \n",
       "2280       NaN        5737.0  ultra  \n",
       "1806      31.0         645.0  smart  "
      ]
     },
     "execution_count": 25,
     "metadata": {},
     "output_type": "execute_result"
    }
   ],
   "source": [
    "users_2.sample(5)"
   ]
  },
  {
   "cell_type": "code",
   "execution_count": 26,
   "metadata": {},
   "outputs": [
    {
     "name": "stdout",
     "output_type": "stream",
     "text": [
      "<class 'pandas.core.frame.DataFrame'>\n",
      "RangeIndex: 3214 entries, 0 to 3213\n",
      "Data columns (total 7 columns):\n",
      "User_id                            3214 non-null int64\n",
      "Месяц                              3214 non-null int64\n",
      "Кол-во звонков, шт.                3168 non-null float64\n",
      "Продолжительность звонков, мин.    3168 non-null float64\n",
      "смс, шт.                           2717 non-null float64\n",
      "Интернет, Мб                       3201 non-null float64\n",
      "Тариф                              3214 non-null object\n",
      "dtypes: float64(4), int64(2), object(1)\n",
      "memory usage: 175.9+ KB\n"
     ]
    }
   ],
   "source": [
    "users_2.info()"
   ]
  },
  {
   "cell_type": "markdown",
   "metadata": {},
   "source": [
    "В нашей новой таблице образовались пропуски данных, это логично, не все абоненты ежемесячно используют сразу 3 способа передачи информации (звонки, смс, интернет), есть и те кто игнорирует некоторые виды. Назначим пропускам 0 - это будет означать что в этот период услугой не пользовались."
   ]
  },
  {
   "cell_type": "code",
   "execution_count": 27,
   "metadata": {},
   "outputs": [],
   "source": [
    "users_2 = users_2.fillna(0)"
   ]
  },
  {
   "cell_type": "markdown",
   "metadata": {},
   "source": [
    "---\n",
    "## Комментарий от наставника\n",
    "\n",
    "Верно, пропуски появились по причине неиспользования услуг. \n",
    "\n",
    "---"
   ]
  },
  {
   "cell_type": "markdown",
   "metadata": {},
   "source": [
    "Для расчета помесячной выручки, нам необходимо добавить информацию а тарифной плате и о превышении лимитов по тарифам по каждой из услуг.\n"
   ]
  },
  {
   "cell_type": "code",
   "execution_count": 28,
   "metadata": {},
   "outputs": [],
   "source": [
    "#создаем словарь с информацие о тарифной плате за месяц\n",
    "month_tariff = {'smart': 550, 'ultra': 1950}\n",
    "#добавим информацию о размере платы в нашу таблицу\n",
    "users_2['Плата в мес. тариф, руб.'] = users_2['Тариф'].map(month_tariff)"
   ]
  },
  {
   "cell_type": "markdown",
   "metadata": {},
   "source": [
    "Далее считаем превышение по лимитам по тарифам, для этого напишем несколько функций."
   ]
  },
  {
   "cell_type": "code",
   "execution_count": 29,
   "metadata": {},
   "outputs": [],
   "source": [
    "#функция для расчета превышения лимита - звонки\n",
    "def over_plan_calls(row):\n",
    "    if row['Тариф'] == 'smart':\n",
    "        result = row['Продолжительность звонков, мин.'] - 500\n",
    "        return np.where(result > 0, result, 0)\n",
    "    else:\n",
    "        result = row['Продолжительность звонков, мин.'] - 3000\n",
    "        return np.where(result > 0, result, 0)\n",
    "    \n",
    "#функция для расчета превышения лимита - смс\n",
    "def over_plan_sms(row):\n",
    "    if row['Тариф'] == 'smart':\n",
    "        result = row['смс, шт.'] - 50\n",
    "        return np.where(result > 0, result, 0)\n",
    "    else:\n",
    "        result =  row['смс, шт.'] - 1000\n",
    "        return np.where(result > 0, result, 0)\n",
    "    \n",
    "#функция для расчета превышения лимита - интернет\n",
    "def over_plan_internet(row):\n",
    "    if row['Тариф'] == 'smart':\n",
    "        result = row['Интернет, Мб'] - 15 * 1024\n",
    "        return np.where(result > 0, result, 0)\n",
    "    else:\n",
    "        result = row['Интернет, Мб'] - 30 * 1024\n",
    "        return np.where(result > 0, result, 0)"
   ]
  },
  {
   "cell_type": "code",
   "execution_count": 30,
   "metadata": {},
   "outputs": [],
   "source": [
    "#функция для расчета месячной выручки\n",
    "def over_plan_month(row):\n",
    "    sum_per_month = 0\n",
    "    if row['Тариф'] == 'smart':\n",
    "        sum_per_month += np.ceil(row['Звонки превышение, мин']) * 3\n",
    "        sum_per_month += row['смс превышение, шт'] * 3\n",
    "        sum_per_month += np.ceil(row['Интернет превышение, мб']/1024) * 200\n",
    "        return sum_per_month\n",
    "    \n",
    "    else:\n",
    "        sum_per_month += np.ceil(row['Звонки превышение, мин']) * 1\n",
    "        sum_per_month += row['смс превышение, шт'] * 1\n",
    "        sum_per_month += np.ceil(row['Интернет превышение, мб']/1024) * 150\n",
    "        return sum_per_month"
   ]
  },
  {
   "cell_type": "markdown",
   "metadata": {},
   "source": [
    "Добавим в набор данных столбцы с превышением натуральных показателей и размером оплаты за эти превышения."
   ]
  },
  {
   "cell_type": "code",
   "execution_count": 31,
   "metadata": {},
   "outputs": [],
   "source": [
    "users_2['Звонки превышение, мин'] = users_2.apply(over_plan_calls, axis=1)\n",
    "users_2['смс превышение, шт'] = users_2.apply(over_plan_sms, axis=1)\n",
    "users_2['Интернет превышение, мб'] = users_2.apply(over_plan_internet, axis=1)\n",
    "\n",
    "users_2['Оплата превышения лимитов, руб.'] = users_2.apply(over_plan_month, axis=1)\n",
    "\n",
    "for column in ['Звонки превышение, мин', 'Интернет превышение, мб']:\n",
    "    users_2[column] = users_2[column].astype('float')\n",
    "\n",
    "for column in ['смс превышение, шт', 'Оплата превышения лимитов, руб.']:\n",
    "    users_2[column] = users_2[column].astype('int')"
   ]
  },
  {
   "cell_type": "markdown",
   "metadata": {},
   "source": [
    "Посчитаем суммарный платеж в месяц - абонентская плата + плата за превышение лимитов."
   ]
  },
  {
   "cell_type": "code",
   "execution_count": 32,
   "metadata": {},
   "outputs": [],
   "source": [
    "users_2['Итого за месяц, руб.'] = users_2['Плата в мес. тариф, руб.'] + users_2['Оплата превышения лимитов, руб.']"
   ]
  },
  {
   "cell_type": "code",
   "execution_count": 33,
   "metadata": {},
   "outputs": [
    {
     "data": {
      "text/html": [
       "<div>\n",
       "<style scoped>\n",
       "    .dataframe tbody tr th:only-of-type {\n",
       "        vertical-align: middle;\n",
       "    }\n",
       "\n",
       "    .dataframe tbody tr th {\n",
       "        vertical-align: top;\n",
       "    }\n",
       "\n",
       "    .dataframe thead th {\n",
       "        text-align: right;\n",
       "    }\n",
       "</style>\n",
       "<table border=\"1\" class=\"dataframe\">\n",
       "  <thead>\n",
       "    <tr style=\"text-align: right;\">\n",
       "      <th></th>\n",
       "      <th>User_id</th>\n",
       "      <th>Месяц</th>\n",
       "      <th>Кол-во звонков, шт.</th>\n",
       "      <th>Продолжительность звонков, мин.</th>\n",
       "      <th>смс, шт.</th>\n",
       "      <th>Интернет, Мб</th>\n",
       "      <th>Тариф</th>\n",
       "      <th>Плата в мес. тариф, руб.</th>\n",
       "      <th>Звонки превышение, мин</th>\n",
       "      <th>смс превышение, шт</th>\n",
       "      <th>Интернет превышение, мб</th>\n",
       "      <th>Оплата превышения лимитов, руб.</th>\n",
       "      <th>Итого за месяц, руб.</th>\n",
       "    </tr>\n",
       "  </thead>\n",
       "  <tbody>\n",
       "    <tr>\n",
       "      <td>2112</td>\n",
       "      <td>1332</td>\n",
       "      <td>9</td>\n",
       "      <td>42.0</td>\n",
       "      <td>396.0</td>\n",
       "      <td>34.0</td>\n",
       "      <td>17403.0</td>\n",
       "      <td>smart</td>\n",
       "      <td>550</td>\n",
       "      <td>0.0</td>\n",
       "      <td>0</td>\n",
       "      <td>2043.0</td>\n",
       "      <td>400</td>\n",
       "      <td>950</td>\n",
       "    </tr>\n",
       "    <tr>\n",
       "      <td>407</td>\n",
       "      <td>1064</td>\n",
       "      <td>9</td>\n",
       "      <td>52.0</td>\n",
       "      <td>479.0</td>\n",
       "      <td>33.0</td>\n",
       "      <td>14346.0</td>\n",
       "      <td>smart</td>\n",
       "      <td>550</td>\n",
       "      <td>0.0</td>\n",
       "      <td>0</td>\n",
       "      <td>0.0</td>\n",
       "      <td>0</td>\n",
       "      <td>550</td>\n",
       "    </tr>\n",
       "    <tr>\n",
       "      <td>2038</td>\n",
       "      <td>1321</td>\n",
       "      <td>10</td>\n",
       "      <td>48.0</td>\n",
       "      <td>411.0</td>\n",
       "      <td>24.0</td>\n",
       "      <td>17575.0</td>\n",
       "      <td>smart</td>\n",
       "      <td>550</td>\n",
       "      <td>0.0</td>\n",
       "      <td>0</td>\n",
       "      <td>2215.0</td>\n",
       "      <td>600</td>\n",
       "      <td>1150</td>\n",
       "    </tr>\n",
       "    <tr>\n",
       "      <td>1057</td>\n",
       "      <td>1168</td>\n",
       "      <td>3</td>\n",
       "      <td>123.0</td>\n",
       "      <td>1083.0</td>\n",
       "      <td>54.0</td>\n",
       "      <td>33659.0</td>\n",
       "      <td>ultra</td>\n",
       "      <td>1950</td>\n",
       "      <td>0.0</td>\n",
       "      <td>0</td>\n",
       "      <td>2939.0</td>\n",
       "      <td>450</td>\n",
       "      <td>2400</td>\n",
       "    </tr>\n",
       "    <tr>\n",
       "      <td>540</td>\n",
       "      <td>1086</td>\n",
       "      <td>7</td>\n",
       "      <td>58.0</td>\n",
       "      <td>529.0</td>\n",
       "      <td>41.0</td>\n",
       "      <td>16210.0</td>\n",
       "      <td>smart</td>\n",
       "      <td>550</td>\n",
       "      <td>29.0</td>\n",
       "      <td>0</td>\n",
       "      <td>850.0</td>\n",
       "      <td>287</td>\n",
       "      <td>837</td>\n",
       "    </tr>\n",
       "  </tbody>\n",
       "</table>\n",
       "</div>"
      ],
      "text/plain": [
       "      User_id  Месяц  Кол-во звонков, шт.  Продолжительность звонков, мин.  \\\n",
       "2112     1332      9                 42.0                            396.0   \n",
       "407      1064      9                 52.0                            479.0   \n",
       "2038     1321     10                 48.0                            411.0   \n",
       "1057     1168      3                123.0                           1083.0   \n",
       "540      1086      7                 58.0                            529.0   \n",
       "\n",
       "      смс, шт.  Интернет, Мб  Тариф  Плата в мес. тариф, руб.  \\\n",
       "2112      34.0       17403.0  smart                       550   \n",
       "407       33.0       14346.0  smart                       550   \n",
       "2038      24.0       17575.0  smart                       550   \n",
       "1057      54.0       33659.0  ultra                      1950   \n",
       "540       41.0       16210.0  smart                       550   \n",
       "\n",
       "      Звонки превышение, мин  смс превышение, шт  Интернет превышение, мб  \\\n",
       "2112                     0.0                   0                   2043.0   \n",
       "407                      0.0                   0                      0.0   \n",
       "2038                     0.0                   0                   2215.0   \n",
       "1057                     0.0                   0                   2939.0   \n",
       "540                     29.0                   0                    850.0   \n",
       "\n",
       "      Оплата превышения лимитов, руб.  Итого за месяц, руб.  \n",
       "2112                              400                   950  \n",
       "407                                 0                   550  \n",
       "2038                              600                  1150  \n",
       "1057                              450                  2400  \n",
       "540                               287                   837  "
      ]
     },
     "execution_count": 33,
     "metadata": {},
     "output_type": "execute_result"
    }
   ],
   "source": [
    "users_2.sample(5)"
   ]
  },
  {
   "cell_type": "markdown",
   "metadata": {},
   "source": [
    "#### Вывод по шагу 2"
   ]
  },
  {
   "cell_type": "markdown",
   "metadata": {},
   "source": [
    "В этом шаге мы проделали работу по подготовке данных для анализа, добавили необходимую информацию и готовы приступить к следубщему шагу в этой работе."
   ]
  },
  {
   "cell_type": "markdown",
   "metadata": {},
   "source": [
    "---\n",
    "## Комментарий от наставника\n",
    "\n",
    "Финальная таблица получена верным образом. Здорово, что она не содержит излишней информации в виде имени или фамилии клиента. Такая информация никак не поможет нам в анализе, поэтому хранить ее повторно не стоит.\n",
    "\n",
    "---"
   ]
  },
  {
   "cell_type": "markdown",
   "metadata": {},
   "source": [
    "# Шаг 3. Проанализировать данные:\n",
    "- описать поведение клиентов оператора, исходя из выборки. Сколько минут разговора, сколько сообщений и какой объём интернет-трафика требуется пользователям каждого тарифа в месяц? \n",
    "- посчитать среднее количество, дисперсию и стандартное отклонение. Построить гистограммы. Описать распределения."
   ]
  },
  {
   "cell_type": "markdown",
   "metadata": {},
   "source": [
    "Для выполнения шага 3 мы построим гистограммы каждой из интересующих нас услуги."
   ]
  },
  {
   "cell_type": "markdown",
   "metadata": {},
   "source": [
    "Для построения наглядных гистограмм найдем границы размаха для каждого тарифа по каждой из услуг, для этого напишем функцию."
   ]
  },
  {
   "cell_type": "code",
   "execution_count": 34,
   "metadata": {},
   "outputs": [],
   "source": [
    "#функция для выбора границ размаха, отбросим выбросы\n",
    "def intervals(column, data_filter):\n",
    "    \n",
    "    if data_filter == 'Тариф':\n",
    "        format_name = column\n",
    "        data1, data2 = 'smart', 'ultra'\n",
    "        format_end1 = 'тарифа \"Смарт\"'\n",
    "        format_end2 = 'тарифа \"Ультра\"'\n",
    "    elif data_filter == 'Столица':\n",
    "        format_name = 'Столица'\n",
    "        data1, data2 = 0, 1\n",
    "        format_end1 = 'Регион'\n",
    "        format_end2 = 'Москва'\n",
    "    \n",
    "    q1_1 = users_2[users_2[data_filter] == data1][column].quantile(0.25)\n",
    "    q3_1 = users_2[users_2[data_filter] == data1][column].quantile(0.75)\n",
    "    diff_1 = q3_1 - q1_1\n",
    "    \n",
    "    if data_filter == 'Столица':\n",
    "        left_int_1 = np.where( (q1_1 - 1.5 * diff_1) > 550, q1_1 - 1.5 * diff_1, 550)\n",
    "    else:\n",
    "        left_int_1 = np.where( (q1_1 - 1.5 * diff_1) > 0, q1_1 - 1.5 * diff_1, 0)\n",
    "    \n",
    "    right_int_1 = np.where( (q3_1 + 1.5 * diff_1) > 0, q3_1 + 1.5 * diff_1, 0)\n",
    "    \n",
    "    q1_2 = users_2[users_2[data_filter] == data2][column].quantile(0.25)\n",
    "    q3_2 = users_2[users_2[data_filter] == data2][column].quantile(0.75)\n",
    "    diff_2 = q3_2 - q1_2\n",
    "    \n",
    "    if data_filter == 'Столица':\n",
    "        left_int_2 = np.where( (q1_2 - 1.5 * diff_2) > 550, q1_2 - 1.5 * diff_2, 550)\n",
    "    else:\n",
    "        left_int_2 = np.where( (q1_2 - 1.5 * diff_2) > 0, q1_2 - 1.5 * diff_2, 0)\n",
    "        \n",
    "    right_int_2 = np.where( (q3_2 + 1.5 * diff_2) > 0, q3_2 + 1.5 * diff_2, 0)\n",
    "    \n",
    "    print('Границы интервала для столбца \"{}\" {}: {} - {}'.format(column, format_end1, left_int_1, right_int_1))\n",
    "    print('Границы интервала для столбца \"{}\" {}: {} - {}'.format(column, format_end2, left_int_2, right_int_2))\n",
    "    \n",
    "    return (left_int_1, right_int_1), (left_int_2, right_int_2)"
   ]
  },
  {
   "cell_type": "markdown",
   "metadata": {},
   "source": [
    "Получаем границы границы для построения гистограмм для каждой услуги каждого тарифного плана."
   ]
  },
  {
   "cell_type": "code",
   "execution_count": 35,
   "metadata": {},
   "outputs": [
    {
     "name": "stdout",
     "output_type": "stream",
     "text": [
      "Границы интервала для столбца \"Продолжительность звонков, мин.\" тарифа \"Смарт\": 0.0 - 939.5\n",
      "Границы интервала для столбца \"Продолжительность звонков, мин.\" тарифа \"Ультра\": 0.0 - 1454.0\n",
      "Границы интервала для столбца \"смс, шт.\" тарифа \"Смарт\": 0.0 - 112.5\n",
      "Границы интервала для столбца \"смс, шт.\" тарифа \"Ультра\": 0.0 - 188.5\n",
      "Границы интервала для столбца \"Интернет, Мб\" тарифа \"Смарт\": 1543.0 - 31183.0\n",
      "Границы интервала для столбца \"Интернет, Мб\" тарифа \"Ультра\": 0.0 - 49480.0\n"
     ]
    }
   ],
   "source": [
    "calls_int_smart, calls_int_ultra = intervals('Продолжительность звонков, мин.', 'Тариф')\n",
    "sms_int_smart, sms_int_ultra = intervals('смс, шт.', 'Тариф')\n",
    "internet_int_smart, internet_int_ultra = intervals('Интернет, Мб', 'Тариф')"
   ]
  },
  {
   "cell_type": "markdown",
   "metadata": {},
   "source": [
    "Напишем функцию для построения гистограм сравнения поведения абонентов каждого тарифа для каждой услуги."
   ]
  },
  {
   "cell_type": "code",
   "execution_count": 36,
   "metadata": {},
   "outputs": [],
   "source": [
    "def hist_analysis(data):\n",
    "    ax = plt.gca()\n",
    "    func_dict = {'Звонки': 'Продолжительность звонков, мин.', 'смс': 'смс, шт.', 'Интернет': 'Интернет, Мб'}\n",
    "    xlims = [(calls_int_smart[0], calls_int_smart[1]), (calls_int_ultra[0], calls_int_ultra[1]),\n",
    "             (sms_int_smart[0], sms_int_smart[1]), (sms_int_ultra[0], sms_int_ultra[1]),\n",
    "             (internet_int_smart[0], internet_int_smart[1]), (internet_int_ultra[0], internet_int_ultra[1])]\n",
    "    filt_column = func_dict[data]\n",
    "\n",
    "    # оформление графика в зависимости от типа услуги\n",
    "    if data == 'Звонки':\n",
    "        title = 'Гистограмма длительности звонков, мин.'\n",
    "        xlim1 = xlims[0]\n",
    "        xlim2 = xlims[1]\n",
    "        text_x = (58, 8)\n",
    "        text_y = 118\n",
    "        count_text_x = 1150\n",
    "        count_text_y = 75\n",
    "        alpha = 0.8\n",
    "    elif data == 'смс':\n",
    "        title = 'Гистограмма количества отправленных смс, шт.'\n",
    "        xlim1 = xlims[2]\n",
    "        xlim2 = xlims[3]\n",
    "        text_x = (5.5, 1)\n",
    "        text_y = 200\n",
    "        count_text_x = 148\n",
    "        count_text_y = 230\n",
    "        alpha = 1\n",
    "    else:\n",
    "        title = 'Гистограмма количества использованного интернет-трафика, Мб'\n",
    "        xlim1 = xlims[4]\n",
    "        xlim2 = xlims[5]\n",
    "        text_x = (3300, 200)\n",
    "        text_y = 130\n",
    "        count_text_x = 38000\n",
    "        count_text_y = 82\n",
    "        alpha = 0.8\n",
    "    \n",
    "    # формируем отфильтрованные от выбросов наборы данных по каждому тарифному плану\n",
    "    filtered_smart_data = users_2[(users_2['Тариф'] == 'smart') &\n",
    "                                           (users_2[filt_column] >= xlim1[0]) &\n",
    "                                           (users_2[filt_column] <= xlim1[1])][filt_column]\n",
    "    filtered_ultra_data = users_2[(users_2['Тариф'] == 'ultra') &\n",
    "                                           (users_2[filt_column] >= xlim2[0]) &\n",
    "                                           (users_2[filt_column] <= xlim2[1])][filt_column]\n",
    "    # формируем гистограммы для каждого из тарифных планов\n",
    "    filtered_smart_data.plot(kind='hist', bins=40, figsize=(18,6), ec='white', ax=ax, color='orange', \n",
    "                             title=title, xlim=xlim1)\n",
    "    filtered_ultra_data.plot(kind='hist', bins=70, figsize=(18,6), ec='white', ax=ax, color='green', \n",
    "                             title=title, xlim=xlim2, alpha=alpha)\n",
    "    \n",
    "    # формируем требуемые заданием данные\n",
    "    \n",
    "    #среднее\n",
    "    mean_smart = filtered_smart_data.mean()        \n",
    "    mean_ultra = filtered_ultra_data.mean()\n",
    "    #дисперсия\n",
    "    dispersion_smart = filtered_smart_data.var()\n",
    "    dispersion_ultra = filtered_ultra_data.var()\n",
    "    #стандартное отклонение\n",
    "    std_smart = filtered_smart_data.std()\n",
    "    std_ultra = filtered_ultra_data.std()\n",
    "    \n",
    "    if data == 'смс':\n",
    "        smart_data = 'Среднее - {:.2f}\\nДисперсия - {:.2f}\\nСтандартное откл. - {:.2f}'.format(mean_smart, dispersion_smart, std_smart)\n",
    "        ultra_data = 'Среднее - {:.2f}\\nДисперсия - {:.2f}\\nСтандартное откл. - {:.2f}'.format(mean_ultra, dispersion_ultra, std_ultra)\n",
    "    else:\n",
    "        smart_data = 'Среднее - {:.0f}\\nДисперсия - {:.0f}\\nСтандартное откл. - {:.0f}'.format(mean_smart, dispersion_smart, std_smart)\n",
    "        ultra_data = 'Среднее - {:.0f}\\nДисперсия - {:.0f}\\nСтандартное откл. - {:.0f}'.format(mean_ultra, dispersion_ultra, std_ultra)\n",
    "    \n",
    "    #формируем легенду к графикам\n",
    "    legend_second = plt.legend([smart_data, ultra_data], prop={'size':10.5}, framealpha=0, bbox_to_anchor=(1.0,0.32), loc=4) \n",
    "    plt.gca().add_artist(legend_second)\n",
    "    \n",
    "    # формируем медианные значения\n",
    "    plt.axvline(x=filtered_smart_data.median(),linewidth=3, color='yellow', linestyle='--')\n",
    "    ax.text(filtered_smart_data.median()-text_x[0], text_y, '{0:.0f}'.format(filtered_smart_data.median()), \n",
    "            fontweight='bold', fontsize='large')\n",
    "    plt.axvline(x=filtered_ultra_data.median(),linewidth=3, color='#35B815', linestyle='--')\n",
    "    ax.text(filtered_ultra_data.median()+text_x[1], text_y, '{0:.0f}'.format(filtered_ultra_data.median()), \n",
    "            fontweight='bold', fontsize='large')\n",
    "    \n",
    "    plt.legend(['Медиана Смарт', 'Медиана Ультра', 'Смарт', 'Ультра'], prop={'size':12})\n",
    "    ax.text(count_text_x, count_text_y, 'Расчетные данные', fontweight='bold', fontsize='large')"
   ]
  },
  {
   "cell_type": "markdown",
   "metadata": {},
   "source": [
    "Приступим к построению гистограмм сравнения двух тарифов."
   ]
  },
  {
   "cell_type": "markdown",
   "metadata": {},
   "source": [
    "---\n",
    "## Комментарий от наставника\n",
    "\n",
    "Отличная реализация построения графиков через функцию, молодец. \n",
    "\n",
    "---"
   ]
  },
  {
   "cell_type": "markdown",
   "metadata": {},
   "source": [
    "#####  <font color=red> Построим гистограмму по объему звонков в составе тарифных планов."
   ]
  },
  {
   "cell_type": "code",
   "execution_count": 37,
   "metadata": {},
   "outputs": [
    {
     "data": {
      "image/png": "[encoded data removed]",
      "text/plain": [
       "<Figure size 1296x432 with 1 Axes>"
      ]
     },
     "metadata": {
      "needs_background": "light"
     },
     "output_type": "display_data"
    }
   ],
   "source": [
    "hist_analysis('Звонки')"
   ]
  },
  {
   "cell_type": "markdown",
   "metadata": {},
   "source": [
    "Лимиты по тарифным планам:\n",
    "- смарт - 500 мин.\n",
    "- ультра - 3000 мин.\n",
    "\n",
    "По тарифу смарт медиана равна 421 минуте, при лимите в 500. Пользователи тарифа \"ультра\" не очень разговорчивы, в масштабе своего тарифа, к лимитам не подбираются в общей массе."
   ]
  },
  {
   "cell_type": "markdown",
   "metadata": {},
   "source": [
    "---\n",
    "## Комментарий от наставника\n",
    "\n",
    "Здорово, что на графиках приведена вся необходимая информация. \n",
    "\n",
    "---"
   ]
  },
  {
   "cell_type": "markdown",
   "metadata": {},
   "source": [
    "#####  <font color=red> Построим гистограмму по объему смс в составе тарифных планов."
   ]
  },
  {
   "cell_type": "code",
   "execution_count": 38,
   "metadata": {},
   "outputs": [
    {
     "data": {
      "image/png": "[encoded data removed]",
      "text/plain": [
       "<Figure size 1296x432 with 1 Axes>"
      ]
     },
     "metadata": {
      "needs_background": "light"
     },
     "output_type": "display_data"
    }
   ],
   "source": [
    "hist_analysis('смс')"
   ]
  },
  {
   "cell_type": "markdown",
   "metadata": {},
   "source": [
    "Лимиты по тарифным планам:\n",
    "- смарт - 50 шт.\n",
    "- ультра - 1000 мин.\n",
    "\n",
    "Смс в современном мире не самый популярный способ передачи информации, большая часть по обоим тарифам не отправляет смс, но если отправляет, то тут вновь тариф смарт выглядит поактивней в диапазоне до проведденного лимита, ультра пользуется смс ровнее."
   ]
  },
  {
   "cell_type": "markdown",
   "metadata": {},
   "source": [
    "#####  <font color=red> Построим гистограмму по объему интернет трафика в составе тарифных планов."
   ]
  },
  {
   "cell_type": "code",
   "execution_count": 39,
   "metadata": {},
   "outputs": [
    {
     "data": {
      "image/png": "[encoded data removed]",
      "text/plain": [
       "<Figure size 1296x432 with 1 Axes>"
      ]
     },
     "metadata": {
      "needs_background": "light"
     },
     "output_type": "display_data"
    }
   ],
   "source": [
    "hist_analysis('Интернет')"
   ]
  },
  {
   "cell_type": "markdown",
   "metadata": {},
   "source": [
    "Лимиты по тарифным планам:\n",
    "- смарт - 15 Гб.\n",
    "- ультра - 30 Гб.\n",
    "\n",
    "В интернет трафике у ползователей тарифа \"смарт\" и медиана и среднее значение лежат за пределеми лимита, эти клиенты стабильно приносят выручку организации через дополнительные пакеты интрнета. Пользователи тарифа \"ультра\" активнее потребляют трафик - медиана преодолевает рубеж в 19 Гб, но за пределы доступного лимита вылезает не боьшая часть пользователей, грубо говоря 30 Гб щедрый лимит, среднему пользователю трудно его преодолеть."
   ]
  },
  {
   "cell_type": "markdown",
   "metadata": {},
   "source": [
    "---\n",
    "## Комментарий от наставника\n",
    "\n",
    "Базовые статистические параметры получены. Приведены все необходимые графики. Здорово, что графики для одинаковых услуг тарифов приведены на одном рисунке. Так удобнее сравнивать тарифы. Также можно привести график по выручке компании с разбиением по тарифу. \n",
    "\n",
    "---"
   ]
  },
  {
   "cell_type": "markdown",
   "metadata": {},
   "source": [
    "# Шаг 4. Проверить гипотезы:\n",
    "- средняя выручка пользователей тарифов «Ультра» и «Смарт» различается;\n",
    "- средняя выручка пользователей из Москвы отличается от выручки пользователей из других регионов."
   ]
  },
  {
   "cell_type": "markdown",
   "metadata": {},
   "source": [
    "#####  <font color=red> Гипотеза №1 - средняя выручка пользователей тарифов «Ультра» и «Смарт» различается"
   ]
  },
  {
   "cell_type": "markdown",
   "metadata": {},
   "source": [
    "H_0 - нулевая гипотеза - средняя выручка не отличается по тарифам.\n",
    "\n",
    "\n",
    "H_1 - альтернативная гипотеза - значения средней выручки отличается по разным тарифам."
   ]
  },
  {
   "cell_type": "markdown",
   "metadata": {},
   "source": [
    "Посчитаем средние значения по выручке с каждого тарифа."
   ]
  },
  {
   "cell_type": "markdown",
   "metadata": {},
   "source": [
    "Думаю уже сейчас можно предположить, что верна альтернативная гипотеза - почву таким предположениям дают гистограммы выше, по ним, лишь малое количество пользователей выходит за рамки тарифного плана, при ежемесячной плате 1950 руб, это значит что границы интервала будет 1950, выбросам практически не откуда взяться, кроме как технической ошибки и средняя выручка с пользователя будет 1950 руб.\n",
    "\n",
    "Тогда как ползователи тарифа \"смарт\" по двум из трех услуг укладываются в тарифные лимиты, и получается что дотягиваться до 1950 мы будем только за счет дополнительных пакетов интернета, моя ставка, 1000 руб с абонента - среднее значение и верна альтернативная гипотеза."
   ]
  },
  {
   "cell_type": "markdown",
   "metadata": {},
   "source": [
    "Приступим к расчетам"
   ]
  },
  {
   "cell_type": "code",
   "execution_count": 40,
   "metadata": {},
   "outputs": [
    {
     "name": "stdout",
     "output_type": "stream",
     "text": [
      "Границы интервала для столбца \"Итого за месяц, руб.\" тарифа \"Смарт\": 0.0 - 3550.0\n",
      "Границы интервала для столбца \"Итого за месяц, руб.\" тарифа \"Ультра\": 1950.0 - 1950.0\n"
     ]
    }
   ],
   "source": [
    "#сначала определим границы расчета, избавимся от выбросов\n",
    "int_rvn_smart, int_rvn_ultra = intervals('Итого за месяц, руб.', 'Тариф')"
   ]
  },
  {
   "cell_type": "markdown",
   "metadata": {},
   "source": [
    "1950 руб по тарифу \"ультра\", интересно, идем дальше."
   ]
  },
  {
   "cell_type": "code",
   "execution_count": 41,
   "metadata": {},
   "outputs": [],
   "source": [
    "#далее соберем среднюю месячную выручку по тарифам\n",
    "mean_rvn_smart = users_2[(users_2['Тариф'] == 'smart') &\n",
    "                                      (users_2['Итого за месяц, руб.'] >= int_rvn_smart[0]) &\n",
    "                                      (users_2['Итого за месяц, руб.'] <= int_rvn_smart[1])]['Итого за месяц, руб.']\n",
    "\n",
    "mean_rvn_ultra = users_2[(users_2['Тариф'] == 'ultra') &\n",
    "                                      (users_2['Итого за месяц, руб.'] >= int_rvn_ultra[0]) &\n",
    "                                      (users_2['Итого за месяц, руб.'] <= int_rvn_ultra[1])]['Итого за месяц, руб.']"
   ]
  },
  {
   "cell_type": "code",
   "execution_count": 42,
   "metadata": {},
   "outputs": [
    {
     "name": "stdout",
     "output_type": "stream",
     "text": [
      "Средняя выручка по пользователям тарифа \"Смарт\" - 1249.74\n",
      "Средняя выручка по пользователям тарифа \"Ультра\" - 1950.0\n"
     ]
    }
   ],
   "source": [
    "print('Средняя выручка по пользователям тарифа \"Смарт\" - {:.2f}'.format(mean_rvn_smart.mean()))\n",
    "print('Средняя выручка по пользователям тарифа \"Ультра\" - {}'.format(mean_rvn_ultra.mean()))"
   ]
  },
  {
   "cell_type": "markdown",
   "metadata": {},
   "source": [
    "Среднее значение по \"ультра\" равно 1950 руб. - попал, по \"смарт\" - 1250 - мимо, но тем не менее альтернативная гипотеза верна, докажем статистически."
   ]
  },
  {
   "cell_type": "markdown",
   "metadata": {},
   "source": [
    "Чтобы проверить гипотезу о равенстве среднего двух генеральных совокупностей по взятым из них выборкам, применяется метод scipy.stats.ttest_ind (array1, array2, equal_var)."
   ]
  },
  {
   "cell_type": "code",
   "execution_count": 1,
   "metadata": {},
   "outputs": [
    {
     "ename": "NameError",
     "evalue": "name 'st' is not defined",
     "output_type": "error",
     "traceback": [
      "\u001b[0;31m---------------------------------------------------------------------------\u001b[0m",
      "\u001b[0;31mNameError\u001b[0m                                 Traceback (most recent call last)",
      "\u001b[0;32m<ipython-input-1-00a120d85483>\u001b[0m in \u001b[0;36m<module>\u001b[0;34m\u001b[0m\n\u001b[1;32m      1\u001b[0m \u001b[0malpha\u001b[0m \u001b[0;34m=\u001b[0m \u001b[0;36m.05\u001b[0m\u001b[0;34m\u001b[0m\u001b[0;34m\u001b[0m\u001b[0m\n\u001b[0;32m----> 2\u001b[0;31m \u001b[0mresults_1\u001b[0m \u001b[0;34m=\u001b[0m \u001b[0mst\u001b[0m\u001b[0;34m.\u001b[0m\u001b[0mttest_ind\u001b[0m\u001b[0;34m(\u001b[0m\u001b[0mmean_rvn_smart\u001b[0m\u001b[0;34m,\u001b[0m \u001b[0mmean_rvn_ultra\u001b[0m\u001b[0;34m)\u001b[0m\u001b[0;34m\u001b[0m\u001b[0;34m\u001b[0m\u001b[0m\n\u001b[0m\u001b[1;32m      3\u001b[0m \u001b[0mprint\u001b[0m\u001b[0;34m(\u001b[0m\u001b[0;34m'p-значение:'\u001b[0m\u001b[0;34m,\u001b[0m \u001b[0mresults_1\u001b[0m\u001b[0;34m.\u001b[0m\u001b[0mpvalue\u001b[0m\u001b[0;34m)\u001b[0m\u001b[0;34m\u001b[0m\u001b[0;34m\u001b[0m\u001b[0m\n\u001b[1;32m      4\u001b[0m \u001b[0;32mif\u001b[0m \u001b[0;34m(\u001b[0m\u001b[0mresults_1\u001b[0m\u001b[0;34m.\u001b[0m\u001b[0mpvalue\u001b[0m \u001b[0;34m<\u001b[0m \u001b[0malpha\u001b[0m\u001b[0;34m)\u001b[0m\u001b[0;34m:\u001b[0m\u001b[0;34m\u001b[0m\u001b[0;34m\u001b[0m\u001b[0m\n\u001b[1;32m      5\u001b[0m     \u001b[0mprint\u001b[0m\u001b[0;34m(\u001b[0m\u001b[0;34m\"Отвергаем нулевую гипотезу\"\u001b[0m\u001b[0;34m)\u001b[0m\u001b[0;34m\u001b[0m\u001b[0;34m\u001b[0m\u001b[0m\n",
      "\u001b[0;31mNameError\u001b[0m: name 'st' is not defined"
     ]
    }
   ],
   "source": [
    "alpha = .05\n",
    "results_1 = st.ttest_ind(mean_rvn_smart, mean_rvn_ultra)\n",
    "print('p-значение:', results_1.pvalue)\n",
    "if (results_1.pvalue < alpha):\n",
    "    print(\"Отвергаем нулевую гипотезу\")\n",
    "else:\n",
    "    print(\"Не получилось отвергнуть нулевую гипотезу\")"
   ]
  },
  {
   "cell_type": "markdown",
   "metadata": {},
   "source": [
    "Средние значения выручки отличны друг от друга, нулевая гипотеза отвергается, разница статистически значима. "
   ]
  },
  {
   "cell_type": "markdown",
   "metadata": {},
   "source": [
    "---\n",
    "## Комментарий от наставника\n",
    "\n",
    "Гипотезы сформулированы и проверены верно.\n",
    "\n",
    "---"
   ]
  },
  {
   "cell_type": "markdown",
   "metadata": {},
   "source": [
    "#####  <font color=red> Гипотеза №2 - средняя выручка пользователей из Москвы отличается от выручки пользователей из других регионов"
   ]
  },
  {
   "cell_type": "markdown",
   "metadata": {},
   "source": [
    "H_0 - нулевая гипотеза - средняя выручка не отличается между столицей и регионами.\n",
    "\n",
    "\n",
    "H_1 - альтернативная гипотеза - значения средней выручки отличается между столицей и регионами."
   ]
  },
  {
   "cell_type": "markdown",
   "metadata": {},
   "source": [
    "Добавим в набор данных users_2 сведение о принадлежности к столице нашей родины."
   ]
  },
  {
   "cell_type": "code",
   "execution_count": 44,
   "metadata": {},
   "outputs": [],
   "source": [
    "to_city = dict(pd.Series(users['city'].values, index=users['user_id']))\n",
    "users_2['Город'] = users_2['User_id'].map(to_city)\n",
    "users_2['Столица'] = np.where(users_2['Город'] == 'Москва', 1, 0)"
   ]
  },
  {
   "cell_type": "markdown",
   "metadata": {},
   "source": [
    "Данные готовы для анализа, приступаем к расчетам"
   ]
  },
  {
   "cell_type": "code",
   "execution_count": 45,
   "metadata": {},
   "outputs": [
    {
     "name": "stdout",
     "output_type": "stream",
     "text": [
      "Границы интервала для столбца \"Итого за месяц, руб.\" Регион: 550.0 - 3750.0\n",
      "Границы интервала для столбца \"Итого за месяц, руб.\" Москва: 550.0 - 3678.0\n"
     ]
    }
   ],
   "source": [
    "#используя данные из прошлого шага, определим границы расчета, избавимся от выбросов\n",
    "int_rvn_smart, int_rvn_ultra = intervals('Итого за месяц, руб.', 'Столица')"
   ]
  },
  {
   "cell_type": "code",
   "execution_count": 46,
   "metadata": {},
   "outputs": [],
   "source": [
    "#далее соберем среднюю месячную выручку по городу Москва и для региона\n",
    "mean_rvn_moscow = users_2[(users_2['Город'] == 'Москва') &\n",
    "                                      (users_2['Итого за месяц, руб.'] >= int_rvn_smart[0]) &\n",
    "                                      (users_2['Итого за месяц, руб.'] <= int_rvn_smart[1])]['Итого за месяц, руб.']\n",
    "\n",
    "mean_rvn_region = users_2[(users_2['Город'] != 'Москва') &\n",
    "                                      (users_2['Итого за месяц, руб.'] >= int_rvn_ultra[0]) &\n",
    "                                      (users_2['Итого за месяц, руб.'] <= int_rvn_ultra[1])]['Итого за месяц, руб.']"
   ]
  },
  {
   "cell_type": "code",
   "execution_count": 47,
   "metadata": {},
   "outputs": [
    {
     "name": "stdout",
     "output_type": "stream",
     "text": [
      "Средняя выручка по пользователям в Москве - 1532.38\n",
      "Средняя выручка по пользователям в регионах - 1483.28\n"
     ]
    }
   ],
   "source": [
    "print('Средняя выручка по пользователям в Москве - {:.2f}'.format(mean_rvn_moscow.mean()))\n",
    "print('Средняя выручка по пользователям в регионах - {:.2f}'.format(mean_rvn_region.mean()))"
   ]
  },
  {
   "cell_type": "markdown",
   "metadata": {},
   "source": [
    "Чтобы проверить гипотезу о равенстве среднего двух генеральных совокупностей по взятым из них выборкам, применяется метод scipy.stats.ttest_ind (array1, array2, equal_var)."
   ]
  },
  {
   "cell_type": "code",
   "execution_count": 48,
   "metadata": {},
   "outputs": [
    {
     "name": "stdout",
     "output_type": "stream",
     "text": [
      "p-значение: 0.13555855818256726\n",
      "Не получилось отвергнуть нулевую гипотезу\n"
     ]
    }
   ],
   "source": [
    "results_2 = st.ttest_ind(mean_rvn_moscow, mean_rvn_region)\n",
    "print('p-значение:', results_2.pvalue)\n",
    "if (results_2.pvalue < alpha):\n",
    "    print(\"Отвергаем нулевую гипотезу\")\n",
    "else:\n",
    "    print(\"Не получилось отвергнуть нулевую гипотезу\")"
   ]
  },
  {
   "cell_type": "markdown",
   "metadata": {},
   "source": [
    "Нулевую гипотезу не отвергаем, разница между средними совокупностей не значительна, можно говорить о том что статистически она не значительна. \n",
    "\n",
    "Полученное значение p-value говорит о том, что хотя средний значения не одинаковы, с вероятностью 13% такое или большее различие можно получить случайно. "
   ]
  },
  {
   "cell_type": "markdown",
   "metadata": {},
   "source": [
    "---\n",
    "## Комментарий от наставника\n",
    "\n",
    "Также все верно. \n",
    "\n",
    "---"
   ]
  },
  {
   "cell_type": "markdown",
   "metadata": {},
   "source": [
    "# 5. Шаг 5. Пояснить:\n",
    "- как формулировалась нулевая и альтернативная гипотезы;\n",
    "- какой критерий использовался для проверки гипотез и почему.\n",
    "\n",
    "\n"
   ]
  },
  {
   "cell_type": "markdown",
   "metadata": {},
   "source": [
    "#####  <font color=red> Как формулировалась нулевая и альтернативная гипотезы?"
   ]
  },
  {
   "cell_type": "markdown",
   "metadata": {},
   "source": [
    "H_0 всегда формулируется так, чтобы использовать знак равенства. В нашем случае средние чеки пользователей равны по тарифам? или равны в Москве и в регионе?\n",
    "\n",
    "H_1 формулируется исходя из H_0, как \"среднее двух генеральных совокупностей не равны?\""
   ]
  },
  {
   "cell_type": "markdown",
   "metadata": {},
   "source": [
    "#####  <font color=red> Какой критерий использовался для проверки гипотез и почему?"
   ]
  },
  {
   "cell_type": "markdown",
   "metadata": {},
   "source": [
    "Критерий - уровень значимости p-value — это суммарная вероятность того, что измеренное эмпирически значение окажется далеко от среднего.\n",
    "\n",
    "Чтобы проверить гипотезу о равенстве среднего двух генеральных совокупностей по взятым из них выборкам, применяется метод scipy.stats.ttest_ind (array1, array2, equal_var)\n",
    "\n",
    "Полученное значение p-value говорит о том, с какой вероятностью можно получить различие случайно.\n"
   ]
  },
  {
   "cell_type": "markdown",
   "metadata": {},
   "source": [
    "# Шаг 6. Общий вывод"
   ]
  },
  {
   "cell_type": "markdown",
   "metadata": {},
   "source": [
    "Проделана работа по изучению 2х тарифных планов и то как они работают на территории довольно большой страны. \n",
    "\n",
    "Можно сказать у организации есть простор для действий, можно поработать и над пользователями тарифа смарт и над ультра. \n",
    "\n",
    "Очевидно пользователи хотят больше интернета, есть смысл попробовать предложить тарифы в которых пользователи сами поставят себе требуемое количество минут, смс и интернета. Это в большей степени касается тарифа смарт. \n",
    "\n",
    "В тарифе ультра пользователи думаю не хотят забивать себе голову играми \"построй свой тариф сам\" (было бы интересно посмотреть какую-либо информацию по пользователям тарифов, составить потртеты, думаю это совсем разные люди), но и выкидывать деньги за неиспользуемый ресурс им не приятно. По тарифу ультра возможно стоит посмотреть в сторону, что делать с теми Гб, смс и минутами интернета которые пользователи не истратили, может быть собрать систему конвертации их между собой или абонентами, или например дать пользователю процент трафика от остатка на депозит, который можно активировать когда закончиться пакет. \n",
    "\n",
    "В компании явно назрела необходимость покапаться в своих тарифных планах, и поискать пути удержания клиентов. Клиенты тарифа смарт потенциально \"переманиваемые\" единицы, переплачивают почти половина пользователей, если конкурент об этом догадается, то думаю определенный процент пользователей переманит.\n",
    "\n",
    "С точки зрения экономики и внутренней кухни, можно было бы построить модели компенсации, своего рода сообщающихся сосудов между тарифами, только вместо воды - плата граждан, поискать точку равновесия системы и выгоды для организации, но думаю это уже совсем другая история. "
   ]
  },
  {
   "cell_type": "markdown",
   "metadata": {},
   "source": [
    "---\n",
    "## Комментарий от наставника\n",
    "\n",
    "Выводы описаны грамотно. Приведены ответы на главные вопросы проекта. В выводах можно приводить полученные ранее значения, правильно. Также можно расписать все, что было сделано в работе. Здорово, что акцент тут сделан на бизнес. Это именно то, что и хотят видеть от нас. \n",
    "\n",
    "---"
   ]
  },
  {
   "cell_type": "markdown",
   "metadata": {},
   "source": [
    "## Комментарий от наставника\n",
    "\n",
    "Если тебе нравится тема визуализации, то можешь изучить методы библиотеки seaborn. Она позволяет строить довольно презентабельные графики.\n",
    "\n",
    "Ты проделал большую работу, молодец! Работа выполнена хорошо. Продолжай в том же духе :)\n",
    "\n",
    "-----"
   ]
  }
 ],
 "metadata": {
  "kernelspec": {
   "display_name": "Python 3",
   "language": "python",
   "name": "python3"
  },
  "language_info": {
   "codemirror_mode": {
    "name": "ipython",
    "version": 3
   },
   "file_extension": ".py",
   "mimetype": "text/x-python",
   "name": "python",
   "nbconvert_exporter": "python",
   "pygments_lexer": "ipython3",
   "version": "3.7.6"
  }
 },
 "nbformat": 4,
 "nbformat_minor": 2
}
