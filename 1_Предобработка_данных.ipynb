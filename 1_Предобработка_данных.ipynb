{
 "cells": [
  {
   "cell_type": "markdown",
   "metadata": {},
   "source": [
    "<font color=blue> Привет еще раз. Спасибо, что доделал работу. Мои комментарии на этот раз выделены синим цветом.\n",
    "    \n",
    "---\n"
   ]
  },
  {
   "cell_type": "markdown",
   "metadata": {},
   "source": [
    "# Исследование надёжности заёмщиков"
   ]
  },
  {
   "cell_type": "markdown",
   "metadata": {},
   "source": [
    "## Описание проекта\n",
    "Заказчик — кредитный отдел банка. Нужно разобраться, влияет ли семейное положение и количество детей клиента на факт погашения кредита в срок. Входные данные от банка — статистика о платёжеспособности клиентов.\n",
    "\n",
    "Результаты исследования будут учтены при построении модели кредитного скоринга — специальной системы, которая оценивает способность потенциального заёмщика вернуть кредит банку.\n",
    "\n"
   ]
  },
  {
   "cell_type": "markdown",
   "metadata": {},
   "source": [
    "### Описание данных\n",
    "- children — количество детей в семье\n",
    "- days_employed — общий трудовой стаж в днях\n",
    "- dob_years — возраст клиента в годах\n",
    "- education — уровень образования клиента\n",
    "- education_id — идентификатор уровня образования\n",
    "- family_status — семейное положение\n",
    "- family_status_id — идентификатор семейного положения\n",
    "- gender — пол клиента\n",
    "- income_type — тип занятости\n",
    "- debt — имел ли задолженность по возврату кредитов\n",
    "- total_income — ежемесячный доход\n",
    "- purpose — цель получения кредита"
   ]
  },
  {
   "cell_type": "markdown",
   "metadata": {},
   "source": [
    "### Краткий план настоящей работы\n",
    "\n",
    "- определите и заполните пропущенные значения;\n",
    "- исследовать и заменить при необходимости типы данных;\n",
    "- исследовать и удалить дубликаты;\n",
    "- выделите леммы с целями получения кредита;\n",
    "- провести категоризацию данных;\n",
    "- сделать вывод по вопросу: Есть ли зависимость между наличием детей и возвратом кредита в срок?;\n",
    "- сделать вывод по вопросу: Есть ли зависимость между семейным положением и возвратом кредита в срок?;\n",
    "- сделать вывод по вопросу: Есть ли зависимость между уровнем дохода и возвратом кредита в срок?;\n",
    "- сделать вывод по вопросу: Как разные цели кредита влияют на его возврат в срок?;\n",
    "- сделать общий вывод по проделанной работе."
   ]
  },
  {
   "cell_type": "markdown",
   "metadata": {},
   "source": [
    "---\n",
    "## Комментарий от наставника\n",
    "\n",
    "Привет! Спасибо, что прислал задание:) В целом, работа производит неплохое впечатление, однако обрати внимание на некоторые мои комментарии. Они обозначены пометкой **Комментарий от наставника**. Пострайся учесть эти комментарии.\n",
    "\n",
    "---\n"
   ]
  },
  {
   "cell_type": "markdown",
   "metadata": {},
   "source": [
    "---\n",
    "## Комментарий от наставника\n",
    "\n",
    "\n",
    "Правильно, что есть краткое вступление в работу, описание того, что надо делать. В работе необходимо приводить краткий план того, что надо сделать(если этот план имеется), а также информацию о входных данных: какие столбцы есть в таблице, их названия и какую информацию они несут (см. пример). Также название работы лучше отображать в отдельной ячейке и делать крупный шрифт (заголовок). Так работа выглядит презентабельно.\n",
    "\n",
    "<font color=red> Пример: </font>\n",
    "---\n",
    "Описание данных: \n",
    "- children — количество детей в семье\n",
    "- days_employed — общий трудовой стаж в днях\n",
    "- dob_years — возраст клиента в годах\n",
    "- education — уровень образования клиента\n",
    "- education_id — идентификатор уровня образования\n",
    "- ...\n",
    "    \n",
    "    \n",
    "---"
   ]
  },
  {
   "cell_type": "markdown",
   "metadata": {},
   "source": [
    "### Шаг 1. Откройте файл с данными и изучите общую информацию. "
   ]
  },
  {
   "cell_type": "code",
   "execution_count": 1,
   "metadata": {},
   "outputs": [],
   "source": [
    "#импорт библиотек используемых в проекте\n",
    "import pandas as pd\n",
    "\n",
    "from pymystem3 import Mystem\n",
    "from collections import Counter\n",
    "\n",
    "import numpy as np"
   ]
  },
  {
   "cell_type": "code",
   "execution_count": 2,
   "metadata": {
    "scrolled": true
   },
   "outputs": [
    {
     "name": "stdout",
     "output_type": "stream",
     "text": [
      "\n",
      "--------------------------------------------------\n",
      "Размер набора данных, количество строк и столбцов соответственно\n",
      "--------------------------------------------------\n",
      "(21525, 12)\n",
      "--------------------------------------------------\n"
     ]
    }
   ],
   "source": [
    "data = pd.read_csv('/datasets/data.csv')\n",
    "\n",
    "#посмотрим размер набора данных\n",
    "print('')\n",
    "print('--------------------------------------------------')\n",
    "print('Размер набора данных, количество строк и столбцов соответственно')\n",
    "print('--------------------------------------------------')\n",
    "print(data.shape)\n",
    "print('--------------------------------------------------')"
   ]
  },
  {
   "cell_type": "code",
   "execution_count": 3,
   "metadata": {},
   "outputs": [
    {
     "name": "stdout",
     "output_type": "stream",
     "text": [
      "\n",
      "--------------------------------------------------\n",
      "Наименование столбцов набора данных\n",
      "--------------------------------------------------\n"
     ]
    },
    {
     "data": {
      "text/plain": [
       "Index(['children', 'days_employed', 'dob_years', 'education', 'education_id',\n",
       "       'family_status', 'family_status_id', 'gender', 'income_type', 'debt',\n",
       "       'total_income', 'purpose'],\n",
       "      dtype='object')"
      ]
     },
     "execution_count": 3,
     "metadata": {},
     "output_type": "execute_result"
    }
   ],
   "source": [
    "#посмотрим наименования столбцов\n",
    "print('')\n",
    "print('--------------------------------------------------')\n",
    "print('Наименование столбцов набора данных')\n",
    "print('--------------------------------------------------')\n",
    "data.columns"
   ]
  },
  {
   "cell_type": "code",
   "execution_count": 4,
   "metadata": {},
   "outputs": [
    {
     "name": "stdout",
     "output_type": "stream",
     "text": [
      "\n",
      "--------------------------------------------------\n",
      "Краткая информация о наборе данных\n",
      "--------------------------------------------------\n",
      "<class 'pandas.core.frame.DataFrame'>\n",
      "RangeIndex: 21525 entries, 0 to 21524\n",
      "Data columns (total 12 columns):\n",
      "children            21525 non-null int64\n",
      "days_employed       19351 non-null float64\n",
      "dob_years           21525 non-null int64\n",
      "education           21525 non-null object\n",
      "education_id        21525 non-null int64\n",
      "family_status       21525 non-null object\n",
      "family_status_id    21525 non-null int64\n",
      "gender              21525 non-null object\n",
      "income_type         21525 non-null object\n",
      "debt                21525 non-null int64\n",
      "total_income        19351 non-null float64\n",
      "purpose             21525 non-null object\n",
      "dtypes: float64(2), int64(5), object(5)\n",
      "memory usage: 2.0+ MB\n"
     ]
    }
   ],
   "source": [
    "#выводим информацию о наборе данных\n",
    "print('')\n",
    "print('--------------------------------------------------')\n",
    "print('Краткая информация о наборе данных')\n",
    "print('--------------------------------------------------')\n",
    "data.info()"
   ]
  },
  {
   "cell_type": "code",
   "execution_count": 5,
   "metadata": {},
   "outputs": [
    {
     "name": "stdout",
     "output_type": "stream",
     "text": [
      "\n",
      "--------------------------------------------------\n",
      "Количество грубых дубликатов в наборе данных: 54\n",
      "--------------------------------------------------\n"
     ]
    }
   ],
   "source": [
    "#найдем количество грубых дубликатов\n",
    "print('')\n",
    "print('--------------------------------------------------')\n",
    "print('Количество грубых дубликатов в наборе данных:', data.duplicated().sum())\n",
    "print('--------------------------------------------------')"
   ]
  },
  {
   "cell_type": "code",
   "execution_count": 6,
   "metadata": {},
   "outputs": [
    {
     "data": {
      "text/html": [
       "<div>\n",
       "<style scoped>\n",
       "    .dataframe tbody tr th:only-of-type {\n",
       "        vertical-align: middle;\n",
       "    }\n",
       "\n",
       "    .dataframe tbody tr th {\n",
       "        vertical-align: top;\n",
       "    }\n",
       "\n",
       "    .dataframe thead th {\n",
       "        text-align: right;\n",
       "    }\n",
       "</style>\n",
       "<table border=\"1\" class=\"dataframe\">\n",
       "  <thead>\n",
       "    <tr style=\"text-align: right;\">\n",
       "      <th></th>\n",
       "      <th>children</th>\n",
       "      <th>days_employed</th>\n",
       "      <th>dob_years</th>\n",
       "      <th>education</th>\n",
       "      <th>education_id</th>\n",
       "      <th>family_status</th>\n",
       "      <th>family_status_id</th>\n",
       "      <th>gender</th>\n",
       "      <th>income_type</th>\n",
       "      <th>debt</th>\n",
       "      <th>total_income</th>\n",
       "      <th>purpose</th>\n",
       "    </tr>\n",
       "  </thead>\n",
       "  <tbody>\n",
       "    <tr>\n",
       "      <td>3669</td>\n",
       "      <td>0</td>\n",
       "      <td>371402.500268</td>\n",
       "      <td>64</td>\n",
       "      <td>среднее</td>\n",
       "      <td>1</td>\n",
       "      <td>вдовец / вдова</td>\n",
       "      <td>2</td>\n",
       "      <td>F</td>\n",
       "      <td>пенсионер</td>\n",
       "      <td>0</td>\n",
       "      <td>132826.803626</td>\n",
       "      <td>недвижимость</td>\n",
       "    </tr>\n",
       "    <tr>\n",
       "      <td>1363</td>\n",
       "      <td>-1</td>\n",
       "      <td>-1195.264956</td>\n",
       "      <td>55</td>\n",
       "      <td>СРЕДНЕЕ</td>\n",
       "      <td>1</td>\n",
       "      <td>женат / замужем</td>\n",
       "      <td>0</td>\n",
       "      <td>F</td>\n",
       "      <td>компаньон</td>\n",
       "      <td>0</td>\n",
       "      <td>69550.699692</td>\n",
       "      <td>профильное образование</td>\n",
       "    </tr>\n",
       "    <tr>\n",
       "      <td>5036</td>\n",
       "      <td>0</td>\n",
       "      <td>NaN</td>\n",
       "      <td>30</td>\n",
       "      <td>высшее</td>\n",
       "      <td>0</td>\n",
       "      <td>гражданский брак</td>\n",
       "      <td>1</td>\n",
       "      <td>F</td>\n",
       "      <td>компаньон</td>\n",
       "      <td>0</td>\n",
       "      <td>NaN</td>\n",
       "      <td>строительство недвижимости</td>\n",
       "    </tr>\n",
       "    <tr>\n",
       "      <td>13142</td>\n",
       "      <td>0</td>\n",
       "      <td>NaN</td>\n",
       "      <td>61</td>\n",
       "      <td>среднее</td>\n",
       "      <td>1</td>\n",
       "      <td>в разводе</td>\n",
       "      <td>3</td>\n",
       "      <td>F</td>\n",
       "      <td>пенсионер</td>\n",
       "      <td>0</td>\n",
       "      <td>NaN</td>\n",
       "      <td>сделка с автомобилем</td>\n",
       "    </tr>\n",
       "    <tr>\n",
       "      <td>9520</td>\n",
       "      <td>1</td>\n",
       "      <td>-275.397370</td>\n",
       "      <td>33</td>\n",
       "      <td>среднее</td>\n",
       "      <td>1</td>\n",
       "      <td>женат / замужем</td>\n",
       "      <td>0</td>\n",
       "      <td>F</td>\n",
       "      <td>компаньон</td>\n",
       "      <td>0</td>\n",
       "      <td>287158.558110</td>\n",
       "      <td>покупка жилья для сдачи</td>\n",
       "    </tr>\n",
       "    <tr>\n",
       "      <td>3467</td>\n",
       "      <td>1</td>\n",
       "      <td>-1262.803022</td>\n",
       "      <td>40</td>\n",
       "      <td>среднее</td>\n",
       "      <td>1</td>\n",
       "      <td>женат / замужем</td>\n",
       "      <td>0</td>\n",
       "      <td>M</td>\n",
       "      <td>сотрудник</td>\n",
       "      <td>0</td>\n",
       "      <td>485924.953268</td>\n",
       "      <td>операции с жильем</td>\n",
       "    </tr>\n",
       "    <tr>\n",
       "      <td>4753</td>\n",
       "      <td>0</td>\n",
       "      <td>-7288.363624</td>\n",
       "      <td>47</td>\n",
       "      <td>высшее</td>\n",
       "      <td>0</td>\n",
       "      <td>женат / замужем</td>\n",
       "      <td>0</td>\n",
       "      <td>F</td>\n",
       "      <td>компаньон</td>\n",
       "      <td>0</td>\n",
       "      <td>182572.858051</td>\n",
       "      <td>жилье</td>\n",
       "    </tr>\n",
       "    <tr>\n",
       "      <td>9512</td>\n",
       "      <td>0</td>\n",
       "      <td>-1769.095530</td>\n",
       "      <td>25</td>\n",
       "      <td>среднее</td>\n",
       "      <td>1</td>\n",
       "      <td>гражданский брак</td>\n",
       "      <td>1</td>\n",
       "      <td>M</td>\n",
       "      <td>сотрудник</td>\n",
       "      <td>0</td>\n",
       "      <td>202884.713165</td>\n",
       "      <td>покупка недвижимости</td>\n",
       "    </tr>\n",
       "    <tr>\n",
       "      <td>19005</td>\n",
       "      <td>1</td>\n",
       "      <td>-937.168917</td>\n",
       "      <td>28</td>\n",
       "      <td>среднее</td>\n",
       "      <td>1</td>\n",
       "      <td>женат / замужем</td>\n",
       "      <td>0</td>\n",
       "      <td>F</td>\n",
       "      <td>сотрудник</td>\n",
       "      <td>0</td>\n",
       "      <td>93291.685781</td>\n",
       "      <td>сделка с автомобилем</td>\n",
       "    </tr>\n",
       "    <tr>\n",
       "      <td>7894</td>\n",
       "      <td>2</td>\n",
       "      <td>NaN</td>\n",
       "      <td>44</td>\n",
       "      <td>среднее</td>\n",
       "      <td>1</td>\n",
       "      <td>женат / замужем</td>\n",
       "      <td>0</td>\n",
       "      <td>F</td>\n",
       "      <td>сотрудник</td>\n",
       "      <td>0</td>\n",
       "      <td>NaN</td>\n",
       "      <td>на покупку подержанного автомобиля</td>\n",
       "    </tr>\n",
       "  </tbody>\n",
       "</table>\n",
       "</div>"
      ],
      "text/plain": [
       "       children  days_employed  dob_years education  education_id  \\\n",
       "3669          0  371402.500268         64   среднее             1   \n",
       "1363         -1   -1195.264956         55   СРЕДНЕЕ             1   \n",
       "5036          0            NaN         30    высшее             0   \n",
       "13142         0            NaN         61   среднее             1   \n",
       "9520          1    -275.397370         33   среднее             1   \n",
       "3467          1   -1262.803022         40   среднее             1   \n",
       "4753          0   -7288.363624         47    высшее             0   \n",
       "9512          0   -1769.095530         25   среднее             1   \n",
       "19005         1    -937.168917         28   среднее             1   \n",
       "7894          2            NaN         44   среднее             1   \n",
       "\n",
       "          family_status  family_status_id gender income_type  debt  \\\n",
       "3669     вдовец / вдова                 2      F   пенсионер     0   \n",
       "1363    женат / замужем                 0      F   компаньон     0   \n",
       "5036   гражданский брак                 1      F   компаньон     0   \n",
       "13142         в разводе                 3      F   пенсионер     0   \n",
       "9520    женат / замужем                 0      F   компаньон     0   \n",
       "3467    женат / замужем                 0      M   сотрудник     0   \n",
       "4753    женат / замужем                 0      F   компаньон     0   \n",
       "9512   гражданский брак                 1      M   сотрудник     0   \n",
       "19005   женат / замужем                 0      F   сотрудник     0   \n",
       "7894    женат / замужем                 0      F   сотрудник     0   \n",
       "\n",
       "        total_income                             purpose  \n",
       "3669   132826.803626                        недвижимость  \n",
       "1363    69550.699692              профильное образование  \n",
       "5036             NaN          строительство недвижимости  \n",
       "13142            NaN                сделка с автомобилем  \n",
       "9520   287158.558110             покупка жилья для сдачи  \n",
       "3467   485924.953268                   операции с жильем  \n",
       "4753   182572.858051                               жилье  \n",
       "9512   202884.713165                покупка недвижимости  \n",
       "19005   93291.685781                сделка с автомобилем  \n",
       "7894             NaN  на покупку подержанного автомобиля  "
      ]
     },
     "execution_count": 6,
     "metadata": {},
     "output_type": "execute_result"
    }
   ],
   "source": [
    "#выведем на экран случайные 10 записей набора данных\n",
    "data_sample_10 = data.sample(10)\n",
    "data_sample_10"
   ]
  },
  {
   "cell_type": "markdown",
   "metadata": {},
   "source": [
    "### Вывод"
   ]
  },
  {
   "cell_type": "markdown",
   "metadata": {},
   "source": [
    "В наборе данных 21525 строк и 12 стобцов, наименование столбцов однородны по регистру. \n",
    "В столбцах 'days_employed', 'total_income', 'children' присутствуют отрицательные значения.\n",
    "В столбце 'education' данные представлены в разном регистре.\n",
    "В столбце 'days_employed', 'total_income' присутствуют пропуски данных.\n",
    "Грубых дубликатов - 54 шт., после обработки пропусков и приведения содержимого столбцов к единому регистру это число может измениться."
   ]
  },
  {
   "cell_type": "markdown",
   "metadata": {},
   "source": [
    "---\n",
    "## Комментарий от наставника\n",
    "\n",
    "У меня имеется пара комментариев по данному шагу:\n",
    "- желательно выводить около 10 строчек таблицы. Меньше не рекомендуется, можно не увидеть структуру данных;\n",
    "- считывание данных и импорт необходимых библиотек лучше проводить в разных ячейках;\n",
    "- таблицы на печать выводи без использования метода print();\n",
    "- следует давать переменным осознанные имена. Таблица про клиентов - название надо бы выбрать соответствующее;\n",
    "- Разбивай код на большее число ячеек;\n",
    "- Подумай также о возможных причинах появления пропусков, а также о том, являются ли они случайными или нет.\n",
    "\n",
    "Первый взгляд на таблицу выполнен.\n",
    "\n",
    "---"
   ]
  },
  {
   "cell_type": "markdown",
   "metadata": {},
   "source": [
    "### Шаг 2. Предобработка данных"
   ]
  },
  {
   "cell_type": "markdown",
   "metadata": {},
   "source": [
    "### Обработка пропусков"
   ]
  },
  {
   "cell_type": "code",
   "execution_count": 7,
   "metadata": {},
   "outputs": [],
   "source": [
    "#избавимся от отрицательных значений\n",
    "def gone_minus(i):\n",
    "    if i < 0:\n",
    "        return i*-1\n",
    "    return i\n",
    "\n",
    "data['days_employed'] = data['days_employed'].apply(gone_minus)\n",
    "data['total_income'] = data['total_income'].apply(gone_minus)\n",
    "data['children'] = data['children'].apply(gone_minus)"
   ]
  },
  {
   "cell_type": "markdown",
   "metadata": {},
   "source": [
    "##### Выясняем причину пропусков"
   ]
  },
  {
   "cell_type": "code",
   "execution_count": 8,
   "metadata": {},
   "outputs": [],
   "source": [
    "#для выяснения причин создадим новую ветку анализа, скопируем набор данных в новую переменную data_check_nan\n",
    "data_check_nan = data.copy()\n",
    "\n",
    "#для порядка, переведем содержимое основных столбцов к единому виду, в нижний регистр\n",
    "data_check_nan['education'] = data_check_nan['education'].str.lower()\n",
    "data_check_nan['family_status'] = data_check_nan['family_status'].str.lower()\n",
    "data_check_nan['income_type'] = data_check_nan['income_type'].str.lower()\n",
    "data_check_nan['purpose'] = data_check_nan['purpose'].str.lower()\n",
    "\n",
    "#заполним пропуски в столбцах значением 0\n",
    "data_check_nan['total_income'] = data_check_nan['total_income'].fillna(value=0)\n",
    "data_check_nan['days_employed'] = data_check_nan['days_employed'].fillna(value=0)\n",
    "\n",
    "#сменим тип данных\n",
    "data_check_nan['days_employed'] = data_check_nan['days_employed'].astype('int')\n",
    "data_check_nan['total_income'] = data_check_nan['total_income'].astype('int')\n",
    "\n",
    "#уберем дубликаты\n",
    "data_check_nan = data_check_nan.drop_duplicates().reset_index(drop=True)\n",
    "\n",
    "#делаем срез данных с значением 0 в столбце total_income и days_employed и сравниваем их\n",
    "data_0_total_income = data_check_nan.query('total_income == 0')\n",
    "data_0_days_employed = data_check_nan.query('days_employed == 0')\n",
    "difference_locations = np.where(data_0_total_income != data_0_days_employed)\n",
    "#difference_locations\n",
    "#данные в срезах идентичны - это значит что если есть пропуск по столбцу total_income, \n",
    "# то соответственно есть и по столбцу days_employed в этой же строке\n",
    "\n",
    "#соберем сводную таблицу по уникальным значениям income_type, столбцы соберем по debt\n",
    "data_pivot_0 = data_0_total_income.pivot_table(index=['income_type'], columns='debt', aggfunc={'debt':'count'})\n",
    "#data_pivot_0\n",
    "#порядок значений характерен для исходного набора данных\n",
    "\n",
    "#сравним количество значений по income_type и family_status \n",
    "#для пропущенных значений и для всего набора данных\n",
    "#print(data_0_total_income['income_type'].value_counts())\n",
    "#print('--------------------------------------------------')\n",
    "#print(data['income_type'].value_counts())\n",
    "#print('--------------------------------------------------')\n",
    "#print(data_0_total_income['family_status'].value_counts())\n",
    "#print('--------------------------------------------------')\n",
    "#print(data['family_status'].value_counts())"
   ]
  },
  {
   "cell_type": "markdown",
   "metadata": {},
   "source": [
    "вывод: набор данных с пропущенными значениями характерен всему исходному набору пропуски случайны, причина их возникономения, вероятнее всего в не корректном вводе либо хранении данных"
   ]
  },
  {
   "cell_type": "code",
   "execution_count": 9,
   "metadata": {},
   "outputs": [],
   "source": [
    "#заполняем пропуски\n",
    "\n",
    "#этот код я нашел на GitHub, \n",
    "#хотел найти решение которое дало бы мне универсальный инструмент заполнения пропусков\n",
    "#значениями медианы или среднего по условию причастности к определенной группе\n",
    "name_for_isnull = 'total_income'\n",
    "data.loc[data[name_for_isnull].isnull(), name_for_isnull] = data.groupby('income_type')[name_for_isnull].transform('median')\n",
    "name_for_isnull_1 = 'days_employed'\n",
    "data.loc[data[name_for_isnull_1].isnull(), name_for_isnull_1] = data.groupby('income_type')[name_for_isnull_1].transform('median')\n"
   ]
  },
  {
   "cell_type": "code",
   "execution_count": 10,
   "metadata": {},
   "outputs": [
    {
     "name": "stdout",
     "output_type": "stream",
     "text": [
      "--------------------------------------------------\n",
      "Проверка на наличие пропусков данных в базе:\n",
      "по столбцу days_employed (трудовой стаж в днях)\n",
      "--------------------------------------------------\n",
      "Empty DataFrame\n",
      "Columns: [children, days_employed, dob_years, education, education_id, family_status, family_status_id, gender, income_type, debt, total_income, purpose]\n",
      "Index: []\n",
      "--------------------------------------------------\n",
      "Проверка на наличие пропусков данных в базе:\n",
      "по столбцу total_income (доход в месяц)\n",
      "--------------------------------------------------\n",
      "Empty DataFrame\n",
      "Columns: [children, days_employed, dob_years, education, education_id, family_status, family_status_id, gender, income_type, debt, total_income, purpose]\n",
      "Index: []\n",
      "--------------------------------------------------\n"
     ]
    }
   ],
   "source": [
    "#проверим на наличие пропусков в базе\n",
    "print('--------------------------------------------------')\n",
    "print('Проверка на наличие пропусков данных в базе:')\n",
    "print('по столбцу days_employed (трудовой стаж в днях)')\n",
    "print('--------------------------------------------------')\n",
    "print(data[data['days_employed'].isnull()].head())\n",
    "print('--------------------------------------------------')\n",
    "print('Проверка на наличие пропусков данных в базе:')\n",
    "print('по столбцу total_income (доход в месяц)')\n",
    "print('--------------------------------------------------')\n",
    "print(data[data['total_income'].isnull()].head())\n",
    "print('--------------------------------------------------')"
   ]
  },
  {
   "cell_type": "code",
   "execution_count": 11,
   "metadata": {},
   "outputs": [
    {
     "name": "stdout",
     "output_type": "stream",
     "text": [
      "\n",
      "--------------------------------------------------\n",
      "Количество грубых дубликатов в наборе данных: 54\n",
      "--------------------------------------------------\n"
     ]
    }
   ],
   "source": [
    "#найдем количество грубых дубликатов\n",
    "print('')\n",
    "print('--------------------------------------------------')\n",
    "print('Количество грубых дубликатов в наборе данных:', data.duplicated().sum())\n",
    "print('--------------------------------------------------')"
   ]
  },
  {
   "cell_type": "markdown",
   "metadata": {},
   "source": [
    "### Вывод"
   ]
  },
  {
   "cell_type": "markdown",
   "metadata": {},
   "source": [
    "Пропуски в базе данных были выявлены в столбцах 'days_employed' (трудовой стаж в днях) и 'total_income'(доход в месяц).\n",
    "Вероятнее всего пропуски образовались из за не корректного ввода данных физическим лицом при заполнении анкеты, либо данные не корректно хранятся и обновляются.\n",
    "Для заполнения пропусков было принято решение использовать медианные значения, вычисленные для каждой группы по столбцу income_type. "
   ]
  },
  {
   "cell_type": "markdown",
   "metadata": {},
   "source": [
    "<font color=blue> Пропуски обработаны верно.\n",
    "    \n",
    "---\n"
   ]
  },
  {
   "cell_type": "markdown",
   "metadata": {},
   "source": [
    "---\n",
    "## Комментарий от наставника\n",
    "\n",
    "Лучше использовать заполнение пропусков в соответствии с типом дохода. Тогда пенсионеры будут получать также, как и другие пенсионеры и т.д. Все-таки в данных есть достаточное число групп, заполнять пропуски в стаже, скажем, у студентов и пенсионеров одним и тем же значением не очень то правильно. То же самое касается и столбца с доходами: пропуски у предпринимателя и пенсионера заполняются одним числом, что вызывает вопросы. Подумай, как лучше обработать пропуски.\n",
    "\n",
    "---"
   ]
  },
  {
   "cell_type": "markdown",
   "metadata": {},
   "source": [
    "### Замена типа данных"
   ]
  },
  {
   "cell_type": "code",
   "execution_count": 12,
   "metadata": {},
   "outputs": [
    {
     "name": "stdout",
     "output_type": "stream",
     "text": [
      "<class 'pandas.core.frame.DataFrame'>\n",
      "RangeIndex: 21525 entries, 0 to 21524\n",
      "Data columns (total 12 columns):\n",
      "children            21525 non-null int64\n",
      "days_employed       21525 non-null int64\n",
      "dob_years           21525 non-null int64\n",
      "education           21525 non-null object\n",
      "education_id        21525 non-null int64\n",
      "family_status       21525 non-null object\n",
      "family_status_id    21525 non-null int64\n",
      "gender              21525 non-null object\n",
      "income_type         21525 non-null object\n",
      "debt                21525 non-null int64\n",
      "total_income        21525 non-null int64\n",
      "purpose             21525 non-null object\n",
      "dtypes: int64(7), object(5)\n",
      "memory usage: 2.0+ MB\n",
      "None\n",
      "\n",
      "--------------------------------------------------\n",
      "Количество грубых дубликатов в наборе данных: 54\n",
      "--------------------------------------------------\n"
     ]
    }
   ],
   "source": [
    "#изменяем тип данных\n",
    "data['days_employed'] = data['days_employed'].astype('int')\n",
    "data['total_income'] = data['total_income'].astype('int')\n",
    "data['dob_years'] = data['dob_years'].astype('int')\n",
    "\n",
    "#data['total_income'] = pd.to_numeric(data['total_income'], errors='raise')\n",
    "\n",
    "print(data.info())\n",
    "\n",
    "#найдем количество грубых дубликатов\n",
    "print('')\n",
    "print('--------------------------------------------------')\n",
    "print('Количество грубых дубликатов в наборе данных:', data.duplicated().sum())\n",
    "print('--------------------------------------------------')"
   ]
  },
  {
   "cell_type": "markdown",
   "metadata": {},
   "source": [
    "### Вывод"
   ]
  },
  {
   "cell_type": "markdown",
   "metadata": {},
   "source": [
    "Для лучшей наглядности и удобства работы с данными и общей логики изменим вещественные типы данных на целочисленные, ведь количество дней лучше смотреть когда они целые. \n",
    "Изменения проводим методом astype('int').\n",
    "\n",
    "Не совсем понял зачем здесь использовать метод to_numeric(), у меня в наборе данных нет нужды строковые значения переводить в числовые."
   ]
  },
  {
   "cell_type": "markdown",
   "metadata": {},
   "source": [
    "---\n",
    "## Комментарий от наставника\n",
    "\n",
    "Исходя из общей информации о таблице мы видим, что два столбца имеют вещественный тип данных, который и надо заменить на целочисленный. Это замена произведена верно. Также хорошо бы освоить метод to_numeric(). \n",
    "\n",
    "---"
   ]
  },
  {
   "cell_type": "markdown",
   "metadata": {},
   "source": [
    "<font color=blue> Данный метод и не надо использовать. Но он пригодится в дальнейших проектах.\n",
    "    \n",
    "---\n"
   ]
  },
  {
   "cell_type": "markdown",
   "metadata": {},
   "source": [
    "### Обработка дубликатов"
   ]
  },
  {
   "cell_type": "code",
   "execution_count": 13,
   "metadata": {},
   "outputs": [
    {
     "name": "stdout",
     "output_type": "stream",
     "text": [
      "--------------------------------------------------\n",
      "\n",
      "--------------------------------------------------\n",
      "Информация о базе после обработки\n",
      "--------------------------------------------------\n",
      "<class 'pandas.core.frame.DataFrame'>\n",
      "RangeIndex: 21454 entries, 0 to 21453\n",
      "Data columns (total 12 columns):\n",
      "children            21454 non-null int64\n",
      "days_employed       21454 non-null int64\n",
      "dob_years           21454 non-null int64\n",
      "education           21454 non-null object\n",
      "education_id        21454 non-null int64\n",
      "family_status       21454 non-null object\n",
      "family_status_id    21454 non-null int64\n",
      "gender              21454 non-null object\n",
      "income_type         21454 non-null object\n",
      "debt                21454 non-null int64\n",
      "total_income        21454 non-null int64\n",
      "purpose             21454 non-null object\n",
      "dtypes: int64(7), object(5)\n",
      "memory usage: 2.0+ MB\n",
      "None\n",
      "--------------------------------------------------\n",
      "\n",
      "--------------------------------------------------\n",
      "Количество грубых дубликатов в наборе данных: 0\n",
      "--------------------------------------------------\n"
     ]
    }
   ],
   "source": [
    "#приведем к нижнему регистру\n",
    "data['education'] = data['education'].str.lower()\n",
    "data['family_status'] = data['family_status'].str.lower()\n",
    "data['income_type'] = data['income_type'].str.lower()\n",
    "data['purpose'] = data['purpose'].str.lower()\n",
    "print('--------------------------------------------------')\n",
    "\n",
    "#очистим набор данных от грубых дубликатов с новой индексацией\n",
    "data = data.drop_duplicates().reset_index(drop=True)\n",
    "\n",
    "print('')\n",
    "print('--------------------------------------------------')\n",
    "print('Информация о базе после обработки')\n",
    "print('--------------------------------------------------')\n",
    "print(data.info())\n",
    "print('--------------------------------------------------')\n",
    "\n",
    "#найдем количество грубых дупликатов\n",
    "print('')\n",
    "print('--------------------------------------------------')\n",
    "print('Количество грубых дубликатов в наборе данных:', data.duplicated().sum())\n",
    "print('--------------------------------------------------')"
   ]
  },
  {
   "cell_type": "markdown",
   "metadata": {},
   "source": [
    "### Вывод"
   ]
  },
  {
   "cell_type": "markdown",
   "metadata": {},
   "source": [
    "Продолжаем работать над материалом для исследования. Избавляемся от дубликатов методом drop_duplicates, но предварительно обработали содержимое текстовых столбцов - привели их к единому регистру, количество дубликатов подскочило с 54 до 71, но вскоре упало до 0 (drop_duplicates появился на площадке)."
   ]
  },
  {
   "cell_type": "markdown",
   "metadata": {},
   "source": [
    "---\n",
    "## Комментарий от наставника\n",
    "\n",
    "Дубликаты вызывают смещение финальных результатов, поэтому их и надо удалять. Конечно, в данных нет уникального идентификатора, однако надо уметь удалять дубликаты. Метод drop_duplicates() использован верно.\n",
    "\n",
    "---"
   ]
  },
  {
   "cell_type": "markdown",
   "metadata": {},
   "source": [
    "### Лемматизация"
   ]
  },
  {
   "cell_type": "code",
   "execution_count": 14,
   "metadata": {},
   "outputs": [
    {
     "name": "stdout",
     "output_type": "stream",
     "text": [
      "\n",
      "Список лемм из столбца purpose (цель получения кредита)\n",
      "--------------------------------------------------\n"
     ]
    },
    {
     "data": {
      "text/plain": [
       "Counter({'покупка': 5897,\n",
       "         ' ': 33570,\n",
       "         'жилье': 4460,\n",
       "         '\\n': 21454,\n",
       "         'приобретение': 461,\n",
       "         'автомобиль': 4306,\n",
       "         'дополнительный': 906,\n",
       "         'образование': 4013,\n",
       "         'сыграть': 765,\n",
       "         'свадьба': 2324,\n",
       "         'операция': 2604,\n",
       "         'с': 2918,\n",
       "         'на': 2222,\n",
       "         'проведение': 768,\n",
       "         'для': 1289,\n",
       "         'семья': 638,\n",
       "         'недвижимость': 6351,\n",
       "         'коммерческий': 1311,\n",
       "         'жилой': 1230,\n",
       "         'строительство': 1878,\n",
       "         'собственный': 635,\n",
       "         'подержать': 478,\n",
       "         'свой': 2230,\n",
       "         'со': 627,\n",
       "         'заниматься': 904,\n",
       "         'сделка': 941,\n",
       "         'подержанный': 486,\n",
       "         'получение': 1314,\n",
       "         'высокий': 1374,\n",
       "         'профильный': 436,\n",
       "         'сдача': 651,\n",
       "         'ремонт': 607})"
      ]
     },
     "execution_count": 14,
     "metadata": {},
     "output_type": "execute_result"
    }
   ],
   "source": [
    "m = Mystem()\n",
    "\n",
    "print('')\n",
    "print('Список лемм из столбца purpose (цель получения кредита)')\n",
    "print('--------------------------------------------------')\n",
    "\n",
    "#создаем список с леммами\n",
    "lemmas = []\n",
    "for index in data['purpose']:\n",
    "    lemmas += m.lemmatize(index)\n",
    "Counter(lemmas)"
   ]
  },
  {
   "cell_type": "code",
   "execution_count": 15,
   "metadata": {},
   "outputs": [
    {
     "name": "stdout",
     "output_type": "stream",
     "text": [
      "\n",
      "Сколько раз встречается выделенный класс в наборе данных\n",
      "--------------------------------------------------\n",
      "недвижимость    10811\n",
      "автомобиль       4306\n",
      "образование      4013\n",
      "свадьба          2324\n",
      "Name: purpose_class, dtype: int64\n",
      "\n",
      "--------------------------------------------------\n"
     ]
    }
   ],
   "source": [
    "#создаем функцию которая присваивает категорию цели кредита каждой строке набора данных на основании содержимого столбца 'purpose'\n",
    "# полученную категорию добавляем в новый столбец 'purpose_class'\n",
    "def lemma_purpose(row):\n",
    "    lemma_purposes = m.lemmatize(row['purpose'])\n",
    "    if 'недвижимость' in lemma_purposes:\n",
    "        return 'недвижимость'\n",
    "    if 'свадьба' in lemma_purposes:\n",
    "        return 'свадьба'\n",
    "    if 'автомобиль' in lemma_purposes:\n",
    "        return 'автомобиль'\n",
    "    if 'жилье' in lemma_purposes:\n",
    "        return 'недвижимость'\n",
    "    if 'образование' in lemma_purposes:\n",
    "        return 'образование'\n",
    "    return 'что_то_другое'\n",
    "\n",
    "data['purpose_class'] = data.apply(lemma_purpose, axis=1)\n",
    "\n",
    "print('')\n",
    "print('Сколько раз встречается выделенный класс в наборе данных')\n",
    "print('--------------------------------------------------')\n",
    "#посчитаем количество каждой категории в наборе данных\n",
    "print(data['purpose_class'].value_counts())\n",
    "print('')\n",
    "print('--------------------------------------------------')"
   ]
  },
  {
   "cell_type": "markdown",
   "metadata": {},
   "source": [
    "### Вывод"
   ]
  },
  {
   "cell_type": "markdown",
   "metadata": {},
   "source": [
    "Для проведение дальнейшего анализа нам необходимо привести к какому-то стандарту данные в столбце 'purpose', для этого выделим из него леммы, выделим группы и назначим каждой строке эту самую группу.\n",
    "\n",
    "Леммы сгруппированы по основным крупным потребительским группам, выбранным на основе результатов работы Counter(lemmas), это - недвижимость, автомобили, образование и свадьба.\n",
    "\n",
    "Посчитали сколько раз в новом столбце 'purpose_class' встречается каждая группа. Оказалось что практически половина строк имеет цель кредита недвижимость. Анализируем дальше. "
   ]
  },
  {
   "cell_type": "markdown",
   "metadata": {},
   "source": [
    "---\n",
    "## Комментарий от наставника\n",
    "\n",
    "Все верно, метод lemmatize() использован правильно. Хорошо бы на данном этапе подробно объяснить выбор лемм.\n",
    "\n",
    "---"
   ]
  },
  {
   "cell_type": "markdown",
   "metadata": {},
   "source": [
    "### Категоризация данных"
   ]
  },
  {
   "cell_type": "markdown",
   "metadata": {},
   "source": [
    "#### Присвоим категорию по возрасту клиента"
   ]
  },
  {
   "cell_type": "code",
   "execution_count": 16,
   "metadata": {},
   "outputs": [
    {
     "data": {
      "text/plain": [
       "взрослые      20458\n",
       "пенсионеры      895\n",
       "дети            101\n",
       "Name: age_group, dtype: int64"
      ]
     },
     "execution_count": 16,
     "metadata": {},
     "output_type": "execute_result"
    }
   ],
   "source": [
    "#присвоим каждому клиенту возрастную группу\n",
    "def age_group(age):\n",
    "        if age < 18:\n",
    "                return 'дети'\n",
    "        if age <= 64:\n",
    "                return 'взрослые'\n",
    "        return 'пенсионеры'\n",
    "    \n",
    "data['age_group'] = data['dob_years'].apply(age_group)\n",
    "#data.sample(10)\n",
    "\n",
    "#посчитаем представителей каждой группы\n",
    "data['age_group'].value_counts()"
   ]
  },
  {
   "cell_type": "markdown",
   "metadata": {},
   "source": [
    "Обнаружили группу детей, что не возможно, так как дети не могу взять кредит в банке.\n",
    "Сделаем срез данных по усовию - возраст меньше 18."
   ]
  },
  {
   "cell_type": "code",
   "execution_count": 17,
   "metadata": {},
   "outputs": [
    {
     "data": {
      "text/html": [
       "<div>\n",
       "<style scoped>\n",
       "    .dataframe tbody tr th:only-of-type {\n",
       "        vertical-align: middle;\n",
       "    }\n",
       "\n",
       "    .dataframe tbody tr th {\n",
       "        vertical-align: top;\n",
       "    }\n",
       "\n",
       "    .dataframe thead th {\n",
       "        text-align: right;\n",
       "    }\n",
       "</style>\n",
       "<table border=\"1\" class=\"dataframe\">\n",
       "  <thead>\n",
       "    <tr style=\"text-align: right;\">\n",
       "      <th></th>\n",
       "      <th>children</th>\n",
       "      <th>days_employed</th>\n",
       "      <th>dob_years</th>\n",
       "      <th>education</th>\n",
       "      <th>education_id</th>\n",
       "      <th>family_status</th>\n",
       "      <th>family_status_id</th>\n",
       "      <th>gender</th>\n",
       "      <th>income_type</th>\n",
       "      <th>debt</th>\n",
       "      <th>total_income</th>\n",
       "      <th>purpose</th>\n",
       "      <th>purpose_class</th>\n",
       "      <th>age_group</th>\n",
       "    </tr>\n",
       "  </thead>\n",
       "  <tbody>\n",
       "    <tr>\n",
       "      <td>99</td>\n",
       "      <td>0</td>\n",
       "      <td>346541</td>\n",
       "      <td>0</td>\n",
       "      <td>среднее</td>\n",
       "      <td>1</td>\n",
       "      <td>женат / замужем</td>\n",
       "      <td>0</td>\n",
       "      <td>F</td>\n",
       "      <td>пенсионер</td>\n",
       "      <td>0</td>\n",
       "      <td>71291</td>\n",
       "      <td>автомобиль</td>\n",
       "      <td>автомобиль</td>\n",
       "      <td>дети</td>\n",
       "    </tr>\n",
       "    <tr>\n",
       "      <td>149</td>\n",
       "      <td>0</td>\n",
       "      <td>2664</td>\n",
       "      <td>0</td>\n",
       "      <td>среднее</td>\n",
       "      <td>1</td>\n",
       "      <td>в разводе</td>\n",
       "      <td>3</td>\n",
       "      <td>F</td>\n",
       "      <td>сотрудник</td>\n",
       "      <td>0</td>\n",
       "      <td>70176</td>\n",
       "      <td>операции с жильем</td>\n",
       "      <td>недвижимость</td>\n",
       "      <td>дети</td>\n",
       "    </tr>\n",
       "    <tr>\n",
       "      <td>270</td>\n",
       "      <td>3</td>\n",
       "      <td>1872</td>\n",
       "      <td>0</td>\n",
       "      <td>среднее</td>\n",
       "      <td>1</td>\n",
       "      <td>женат / замужем</td>\n",
       "      <td>0</td>\n",
       "      <td>F</td>\n",
       "      <td>сотрудник</td>\n",
       "      <td>0</td>\n",
       "      <td>102166</td>\n",
       "      <td>ремонт жилью</td>\n",
       "      <td>недвижимость</td>\n",
       "      <td>дети</td>\n",
       "    </tr>\n",
       "    <tr>\n",
       "      <td>578</td>\n",
       "      <td>0</td>\n",
       "      <td>397856</td>\n",
       "      <td>0</td>\n",
       "      <td>среднее</td>\n",
       "      <td>1</td>\n",
       "      <td>женат / замужем</td>\n",
       "      <td>0</td>\n",
       "      <td>F</td>\n",
       "      <td>пенсионер</td>\n",
       "      <td>0</td>\n",
       "      <td>97620</td>\n",
       "      <td>строительство собственной недвижимости</td>\n",
       "      <td>недвижимость</td>\n",
       "      <td>дети</td>\n",
       "    </tr>\n",
       "    <tr>\n",
       "      <td>1040</td>\n",
       "      <td>0</td>\n",
       "      <td>1158</td>\n",
       "      <td>0</td>\n",
       "      <td>высшее</td>\n",
       "      <td>0</td>\n",
       "      <td>в разводе</td>\n",
       "      <td>3</td>\n",
       "      <td>F</td>\n",
       "      <td>компаньон</td>\n",
       "      <td>0</td>\n",
       "      <td>303994</td>\n",
       "      <td>свой автомобиль</td>\n",
       "      <td>автомобиль</td>\n",
       "      <td>дети</td>\n",
       "    </tr>\n",
       "    <tr>\n",
       "      <td>...</td>\n",
       "      <td>...</td>\n",
       "      <td>...</td>\n",
       "      <td>...</td>\n",
       "      <td>...</td>\n",
       "      <td>...</td>\n",
       "      <td>...</td>\n",
       "      <td>...</td>\n",
       "      <td>...</td>\n",
       "      <td>...</td>\n",
       "      <td>...</td>\n",
       "      <td>...</td>\n",
       "      <td>...</td>\n",
       "      <td>...</td>\n",
       "      <td>...</td>\n",
       "    </tr>\n",
       "    <tr>\n",
       "      <td>19770</td>\n",
       "      <td>0</td>\n",
       "      <td>1574</td>\n",
       "      <td>0</td>\n",
       "      <td>среднее</td>\n",
       "      <td>1</td>\n",
       "      <td>женат / замужем</td>\n",
       "      <td>0</td>\n",
       "      <td>F</td>\n",
       "      <td>сотрудник</td>\n",
       "      <td>0</td>\n",
       "      <td>142594</td>\n",
       "      <td>жилье</td>\n",
       "      <td>недвижимость</td>\n",
       "      <td>дети</td>\n",
       "    </tr>\n",
       "    <tr>\n",
       "      <td>20397</td>\n",
       "      <td>0</td>\n",
       "      <td>338734</td>\n",
       "      <td>0</td>\n",
       "      <td>среднее</td>\n",
       "      <td>1</td>\n",
       "      <td>женат / замужем</td>\n",
       "      <td>0</td>\n",
       "      <td>F</td>\n",
       "      <td>пенсионер</td>\n",
       "      <td>0</td>\n",
       "      <td>259193</td>\n",
       "      <td>покупка своего жилья</td>\n",
       "      <td>недвижимость</td>\n",
       "      <td>дети</td>\n",
       "    </tr>\n",
       "    <tr>\n",
       "      <td>20512</td>\n",
       "      <td>0</td>\n",
       "      <td>331741</td>\n",
       "      <td>0</td>\n",
       "      <td>среднее</td>\n",
       "      <td>1</td>\n",
       "      <td>не женат / не замужем</td>\n",
       "      <td>4</td>\n",
       "      <td>F</td>\n",
       "      <td>пенсионер</td>\n",
       "      <td>0</td>\n",
       "      <td>129788</td>\n",
       "      <td>недвижимость</td>\n",
       "      <td>недвижимость</td>\n",
       "      <td>дети</td>\n",
       "    </tr>\n",
       "    <tr>\n",
       "      <td>21110</td>\n",
       "      <td>2</td>\n",
       "      <td>108</td>\n",
       "      <td>0</td>\n",
       "      <td>высшее</td>\n",
       "      <td>0</td>\n",
       "      <td>женат / замужем</td>\n",
       "      <td>0</td>\n",
       "      <td>M</td>\n",
       "      <td>компаньон</td>\n",
       "      <td>0</td>\n",
       "      <td>240702</td>\n",
       "      <td>строительство жилой недвижимости</td>\n",
       "      <td>недвижимость</td>\n",
       "      <td>дети</td>\n",
       "    </tr>\n",
       "    <tr>\n",
       "      <td>21243</td>\n",
       "      <td>0</td>\n",
       "      <td>1268</td>\n",
       "      <td>0</td>\n",
       "      <td>среднее</td>\n",
       "      <td>1</td>\n",
       "      <td>не женат / не замужем</td>\n",
       "      <td>4</td>\n",
       "      <td>M</td>\n",
       "      <td>сотрудник</td>\n",
       "      <td>0</td>\n",
       "      <td>152419</td>\n",
       "      <td>операции с жильем</td>\n",
       "      <td>недвижимость</td>\n",
       "      <td>дети</td>\n",
       "    </tr>\n",
       "  </tbody>\n",
       "</table>\n",
       "<p>101 rows × 14 columns</p>\n",
       "</div>"
      ],
      "text/plain": [
       "       children  days_employed  dob_years education  education_id  \\\n",
       "99            0         346541          0   среднее             1   \n",
       "149           0           2664          0   среднее             1   \n",
       "270           3           1872          0   среднее             1   \n",
       "578           0         397856          0   среднее             1   \n",
       "1040          0           1158          0    высшее             0   \n",
       "...         ...            ...        ...       ...           ...   \n",
       "19770         0           1574          0   среднее             1   \n",
       "20397         0         338734          0   среднее             1   \n",
       "20512         0         331741          0   среднее             1   \n",
       "21110         2            108          0    высшее             0   \n",
       "21243         0           1268          0   среднее             1   \n",
       "\n",
       "               family_status  family_status_id gender income_type  debt  \\\n",
       "99           женат / замужем                 0      F   пенсионер     0   \n",
       "149                в разводе                 3      F   сотрудник     0   \n",
       "270          женат / замужем                 0      F   сотрудник     0   \n",
       "578          женат / замужем                 0      F   пенсионер     0   \n",
       "1040               в разводе                 3      F   компаньон     0   \n",
       "...                      ...               ...    ...         ...   ...   \n",
       "19770        женат / замужем                 0      F   сотрудник     0   \n",
       "20397        женат / замужем                 0      F   пенсионер     0   \n",
       "20512  не женат / не замужем                 4      F   пенсионер     0   \n",
       "21110        женат / замужем                 0      M   компаньон     0   \n",
       "21243  не женат / не замужем                 4      M   сотрудник     0   \n",
       "\n",
       "       total_income                                 purpose purpose_class  \\\n",
       "99            71291                              автомобиль    автомобиль   \n",
       "149           70176                       операции с жильем  недвижимость   \n",
       "270          102166                            ремонт жилью  недвижимость   \n",
       "578           97620  строительство собственной недвижимости  недвижимость   \n",
       "1040         303994                         свой автомобиль    автомобиль   \n",
       "...             ...                                     ...           ...   \n",
       "19770        142594                                   жилье  недвижимость   \n",
       "20397        259193                    покупка своего жилья  недвижимость   \n",
       "20512        129788                            недвижимость  недвижимость   \n",
       "21110        240702        строительство жилой недвижимости  недвижимость   \n",
       "21243        152419                       операции с жильем  недвижимость   \n",
       "\n",
       "      age_group  \n",
       "99         дети  \n",
       "149        дети  \n",
       "270        дети  \n",
       "578        дети  \n",
       "1040       дети  \n",
       "...         ...  \n",
       "19770      дети  \n",
       "20397      дети  \n",
       "20512      дети  \n",
       "21110      дети  \n",
       "21243      дети  \n",
       "\n",
       "[101 rows x 14 columns]"
      ]
     },
     "execution_count": 17,
     "metadata": {},
     "output_type": "execute_result"
    }
   ],
   "source": [
    "data.query('dob_years < 18')"
   ]
  },
  {
   "cell_type": "markdown",
   "metadata": {},
   "source": [
    "Из среза данных видно что возраст всей группы \"дети\" это ошибка, он равен 0, пренебрежем этой группой (её численность составляет 0,4 % от всего набора данных), присвоив по значени 0 в столбце 'dob_years' группу 'взрослые'. "
   ]
  },
  {
   "cell_type": "code",
   "execution_count": 18,
   "metadata": {},
   "outputs": [
    {
     "data": {
      "text/plain": [
       "взрослые      20559\n",
       "пенсионеры      895\n",
       "Name: age_group, dtype: int64"
      ]
     },
     "execution_count": 18,
     "metadata": {},
     "output_type": "execute_result"
    }
   ],
   "source": [
    "#присвоим каждому клиенту возрастную группу\n",
    "def age_group(age):\n",
    "        if age < 0:\n",
    "                return 'дети'\n",
    "        if age <= 64:\n",
    "                return 'взрослые'\n",
    "        return 'пенсионеры'\n",
    "    \n",
    "data['age_group'] = data['dob_years'].apply(age_group)\n",
    "#data.sample(10)\n",
    "\n",
    "#посчитаем представителей каждой группы\n",
    "data['age_group'].value_counts()"
   ]
  },
  {
   "cell_type": "markdown",
   "metadata": {},
   "source": [
    "#### Присвоим категорию по уровню дохода"
   ]
  },
  {
   "cell_type": "code",
   "execution_count": 19,
   "metadata": {},
   "outputs": [
    {
     "name": "stdout",
     "output_type": "stream",
     "text": [
      "\n",
      "--------------------------------------------------\n",
      "Информация по столбцу total_income (доходы в месяц)\n",
      "--------------------------------------------------\n",
      "count    2.145400e+04\n",
      "mean     1.653196e+05\n",
      "std      9.818730e+04\n",
      "min      2.066700e+04\n",
      "25%      1.076230e+05\n",
      "50%      1.425940e+05\n",
      "75%      1.958202e+05\n",
      "max      2.265604e+06\n",
      "Name: total_income, dtype: float64\n",
      "\n",
      "--------------------------------------------------\n"
     ]
    }
   ],
   "source": [
    "#посмотрим разброс значений по столбцу total_income (доходы в месяц)\n",
    "print('')\n",
    "print('--------------------------------------------------')\n",
    "print('Информация по столбцу total_income (доходы в месяц)')\n",
    "print('--------------------------------------------------')\n",
    "print(data['total_income'].describe())\n",
    "print('')\n",
    "print('--------------------------------------------------')"
   ]
  },
  {
   "cell_type": "code",
   "execution_count": 20,
   "metadata": {
    "scrolled": true
   },
   "outputs": [
    {
     "data": {
      "text/plain": [
       "3_от 80 до 150 т. в мес.      9347\n",
       "4_от 150 до 250 т. в мес.     7018\n",
       "5_от 250 до 350 т. в мес.     1954\n",
       "2_от 50 до 80 т. в мес.       1904\n",
       "6_от 350 до 450 т. в мес.      526\n",
       "1_до 50 т. в мес.              372\n",
       "7_от 450 до 550 т. в мес.      179\n",
       "8_от 550 до 650 т. в мес.       66\n",
       "9_от 650 до 750 т. в мес.       39\n",
       "12_ выше 1 млн. в мес           25\n",
       "10_от 750 до 850 т. в мес.      12\n",
       "11_от 850 до 950 т. в мес.       9\n",
       "Name: income_level, dtype: int64"
      ]
     },
     "execution_count": 20,
     "metadata": {},
     "output_type": "execute_result"
    }
   ],
   "source": [
    "#на основании полученной информации напишем функцию для категоризации уровня доходов на группы\n",
    "def income_level(i):\n",
    "    if i < 50000:\n",
    "        return '1_до 50 т. в мес.'\n",
    "    if i > 50000 and i < 80000:\n",
    "        return '2_от 50 до 80 т. в мес.'\n",
    "    if i > 80000 and i < 150000:\n",
    "        return '3_от 80 до 150 т. в мес.'\n",
    "    if i > 150000 and i < 250000:\n",
    "        return '4_от 150 до 250 т. в мес.'\n",
    "    if i > 250000 and i < 350000:\n",
    "        return '5_от 250 до 350 т. в мес.' \n",
    "    if i > 350000 and i < 450000:\n",
    "        return '6_от 350 до 450 т. в мес.'\n",
    "    if i > 450000 and i < 550000:\n",
    "        return '7_от 450 до 550 т. в мес.'\n",
    "    if i > 550000 and i < 650000:\n",
    "        return '8_от 550 до 650 т. в мес.' \n",
    "    if i > 650000 and i < 750000:\n",
    "        return '9_от 650 до 750 т. в мес.'\n",
    "    if i > 750000 and i < 850000:\n",
    "        return '10_от 750 до 850 т. в мес.'\n",
    "    if i > 850000 and i < 950000:\n",
    "        return '11_от 850 до 950 т. в мес.' \n",
    "    if i > 1000000:                \n",
    "        return '12_ выше 1 млн. в мес'\n",
    "#добавим столбец в набор данных и присвоем каждой строке группу дохода\n",
    "data['income_level'] = data['total_income'].apply(income_level)\n",
    "\n",
    "#посчитаем представителей каждой группы\n",
    "data['income_level'].value_counts()"
   ]
  },
  {
   "cell_type": "markdown",
   "metadata": {},
   "source": [
    "### Вывод"
   ]
  },
  {
   "cell_type": "markdown",
   "metadata": {},
   "source": [
    "В набор данных добавлено 2 столбца с категориями, один столбец в котором присвоена возрастная категория, второй - категория по уровню дохода. \n",
    "\n",
    "На основе полученной категоризации по возрасту, можно сказать что в наборе данных пенсионеры составляют 4.18 %, весь остальной набор это взрослые люди в возрасте от 18 дло 64 лет.\n",
    "\n",
    "Категоризация по уровню дохода. Так как понятия средний, высший и нижший класс, которыми люди привыкли оперировать в повседневной жизни довольно размытые, было принято решение просмотреть информацию о значениях в столбце 'total_income' путем применения метода describe(). На основании полученных значений о максимуме, минимуме и среднем, было принято решение \"нарезать\" уровень дохода с ориентировочным шагом в 100 тыс. руб.\n",
    "\n",
    "Так же на этапе выбора лемм добавлен столбец 'purpose class' с категориями целей кредита."
   ]
  },
  {
   "cell_type": "markdown",
   "metadata": {},
   "source": [
    "---\n",
    "## Комментарий от наставника\n",
    "\n",
    "Исходя из чего выбран такой способ категоризации? Стоит подробно описывать ход своих мыслей.\n",
    "\n",
    "---"
   ]
  },
  {
   "cell_type": "markdown",
   "metadata": {},
   "source": [
    "### Шаг 3. Ответьте на вопросы"
   ]
  },
  {
   "cell_type": "markdown",
   "metadata": {},
   "source": [
    "- Есть ли зависимость между наличием детей и возвратом кредита в срок?"
   ]
  },
  {
   "cell_type": "code",
   "execution_count": 21,
   "metadata": {},
   "outputs": [
    {
     "name": "stdout",
     "output_type": "stream",
     "text": [
      "\n",
      "--------------------------------------------------\n",
      "Сводная таблица - Кол-во детей_Кол-во случаев просрочки\n",
      "--------------------------------------------------\n"
     ]
    },
    {
     "data": {
      "text/html": [
       "<div>\n",
       "<style scoped>\n",
       "    .dataframe tbody tr th:only-of-type {\n",
       "        vertical-align: middle;\n",
       "    }\n",
       "\n",
       "    .dataframe tbody tr th {\n",
       "        vertical-align: top;\n",
       "    }\n",
       "\n",
       "    .dataframe thead th {\n",
       "        text-align: right;\n",
       "    }\n",
       "</style>\n",
       "<table border=\"1\" class=\"dataframe\">\n",
       "  <thead>\n",
       "    <tr style=\"text-align: right;\">\n",
       "      <th></th>\n",
       "      <th>Кол-во без просрочки</th>\n",
       "      <th>Кол-во с просрочкой</th>\n",
       "      <th>%</th>\n",
       "    </tr>\n",
       "    <tr>\n",
       "      <th>children</th>\n",
       "      <th></th>\n",
       "      <th></th>\n",
       "      <th></th>\n",
       "    </tr>\n",
       "  </thead>\n",
       "  <tbody>\n",
       "    <tr>\n",
       "      <td>0</td>\n",
       "      <td>13028.0</td>\n",
       "      <td>1063.0</td>\n",
       "      <td>7.543822</td>\n",
       "    </tr>\n",
       "    <tr>\n",
       "      <td>3</td>\n",
       "      <td>303.0</td>\n",
       "      <td>27.0</td>\n",
       "      <td>8.181818</td>\n",
       "    </tr>\n",
       "    <tr>\n",
       "      <td>1</td>\n",
       "      <td>4410.0</td>\n",
       "      <td>445.0</td>\n",
       "      <td>9.165808</td>\n",
       "    </tr>\n",
       "    <tr>\n",
       "      <td>2</td>\n",
       "      <td>1858.0</td>\n",
       "      <td>194.0</td>\n",
       "      <td>9.454191</td>\n",
       "    </tr>\n",
       "    <tr>\n",
       "      <td>4</td>\n",
       "      <td>37.0</td>\n",
       "      <td>4.0</td>\n",
       "      <td>9.756098</td>\n",
       "    </tr>\n",
       "    <tr>\n",
       "      <td>20</td>\n",
       "      <td>68.0</td>\n",
       "      <td>8.0</td>\n",
       "      <td>10.526316</td>\n",
       "    </tr>\n",
       "    <tr>\n",
       "      <td>5</td>\n",
       "      <td>9.0</td>\n",
       "      <td>NaN</td>\n",
       "      <td>NaN</td>\n",
       "    </tr>\n",
       "  </tbody>\n",
       "</table>\n",
       "</div>"
      ],
      "text/plain": [
       "          Кол-во без просрочки  Кол-во с просрочкой          %\n",
       "children                                                      \n",
       "0                      13028.0               1063.0   7.543822\n",
       "3                        303.0                 27.0   8.181818\n",
       "1                       4410.0                445.0   9.165808\n",
       "2                       1858.0                194.0   9.454191\n",
       "4                         37.0                  4.0   9.756098\n",
       "20                        68.0                  8.0  10.526316\n",
       "5                          9.0                  NaN        NaN"
      ]
     },
     "execution_count": 21,
     "metadata": {},
     "output_type": "execute_result"
    }
   ],
   "source": [
    "#создадим сводную таблицу количество случаев задолжности от количества детей\n",
    "data_pivot_children = data.pivot_table(index=['children'], columns='debt', aggfunc={'debt':'count'})\n",
    "data_pivot_children.set_axis(['Кол-во без просрочки','Кол-во с просрочкой'], axis = 'columns', inplace=True)\n",
    "data_pivot_children['%'] = (data_pivot_children['Кол-во с просрочкой'] / (data_pivot_children['Кол-во без просрочки'] + data_pivot_children['Кол-во с просрочкой']))*100\n",
    "print('')\n",
    "print('--------------------------------------------------')\n",
    "print('Сводная таблица - Кол-во детей_Кол-во случаев просрочки')\n",
    "print('--------------------------------------------------')\n",
    "data_pivot_children.sort_values(by = ['%'])"
   ]
  },
  {
   "cell_type": "markdown",
   "metadata": {},
   "source": [
    "### Вывод"
   ]
  },
  {
   "cell_type": "markdown",
   "metadata": {},
   "source": [
    "Зависимость присутствует, процент образования просроченного платежа у семей с детьми выше, чем у тех кто детей не имеет, на 1.0-2.2%. \n",
    "При этом семьи без детей гораздо чаще берут кредиты.\n",
    "Семьи с 5ю детьми не допускали просрочки, но их количество слишком мало в наборе данных чтобы давать какую-то оценку.\n",
    "Семьи с 20 детьми по всей видимости частные случаи, их количество мало в наборе, выводы делать невозможно."
   ]
  },
  {
   "cell_type": "markdown",
   "metadata": {},
   "source": [
    "---\n",
    "## Комментарий от наставника\n",
    "\n",
    "Вывод не противоречит полученным результатам.\n",
    "\n",
    "---"
   ]
  },
  {
   "cell_type": "markdown",
   "metadata": {},
   "source": [
    "- Есть ли зависимость между семейным положением и возвратом кредита в срок?"
   ]
  },
  {
   "cell_type": "code",
   "execution_count": 22,
   "metadata": {},
   "outputs": [
    {
     "name": "stdout",
     "output_type": "stream",
     "text": [
      "\n",
      "--------------------------------------------------\n",
      "Сводная таблица - Семейное положение_Кол-во случаев просрочки\n",
      "--------------------------------------------------\n"
     ]
    },
    {
     "data": {
      "text/html": [
       "<div>\n",
       "<style scoped>\n",
       "    .dataframe tbody tr th:only-of-type {\n",
       "        vertical-align: middle;\n",
       "    }\n",
       "\n",
       "    .dataframe tbody tr th {\n",
       "        vertical-align: top;\n",
       "    }\n",
       "\n",
       "    .dataframe thead th {\n",
       "        text-align: right;\n",
       "    }\n",
       "</style>\n",
       "<table border=\"1\" class=\"dataframe\">\n",
       "  <thead>\n",
       "    <tr style=\"text-align: right;\">\n",
       "      <th></th>\n",
       "      <th>Кол-во без просрочки</th>\n",
       "      <th>Кол-во с просрочкой</th>\n",
       "      <th>%</th>\n",
       "    </tr>\n",
       "    <tr>\n",
       "      <th>family_status</th>\n",
       "      <th></th>\n",
       "      <th></th>\n",
       "      <th></th>\n",
       "    </tr>\n",
       "  </thead>\n",
       "  <tbody>\n",
       "    <tr>\n",
       "      <td>вдовец / вдова</td>\n",
       "      <td>896</td>\n",
       "      <td>63</td>\n",
       "      <td>6.569343</td>\n",
       "    </tr>\n",
       "    <tr>\n",
       "      <td>в разводе</td>\n",
       "      <td>1110</td>\n",
       "      <td>85</td>\n",
       "      <td>7.112971</td>\n",
       "    </tr>\n",
       "    <tr>\n",
       "      <td>женат / замужем</td>\n",
       "      <td>11408</td>\n",
       "      <td>931</td>\n",
       "      <td>7.545182</td>\n",
       "    </tr>\n",
       "    <tr>\n",
       "      <td>гражданский брак</td>\n",
       "      <td>3763</td>\n",
       "      <td>388</td>\n",
       "      <td>9.347145</td>\n",
       "    </tr>\n",
       "    <tr>\n",
       "      <td>не женат / не замужем</td>\n",
       "      <td>2536</td>\n",
       "      <td>274</td>\n",
       "      <td>9.750890</td>\n",
       "    </tr>\n",
       "  </tbody>\n",
       "</table>\n",
       "</div>"
      ],
      "text/plain": [
       "                       Кол-во без просрочки  Кол-во с просрочкой         %\n",
       "family_status                                                             \n",
       "вдовец / вдова                          896                   63  6.569343\n",
       "в разводе                              1110                   85  7.112971\n",
       "женат / замужем                       11408                  931  7.545182\n",
       "гражданский брак                       3763                  388  9.347145\n",
       "не женат / не замужем                  2536                  274  9.750890"
      ]
     },
     "execution_count": 22,
     "metadata": {},
     "output_type": "execute_result"
    }
   ],
   "source": [
    "#создадим сводную таблицу количество случаев задолжности от семейного полжения\n",
    "data_pivot_family_status = data.pivot_table(index=['family_status'], columns='debt', aggfunc={'debt':'count'})\n",
    "data_pivot_family_status .set_axis(['Кол-во без просрочки','Кол-во с просрочкой'], axis = 'columns', inplace=True)\n",
    "data_pivot_family_status ['%'] = (data_pivot_family_status['Кол-во с просрочкой'] / (data_pivot_family_status['Кол-во без просрочки'] + data_pivot_family_status['Кол-во с просрочкой']))*100\n",
    "print('')\n",
    "print('--------------------------------------------------')\n",
    "print('Сводная таблица - Семейное положение_Кол-во случаев просрочки')\n",
    "print('--------------------------------------------------')\n",
    "data_pivot_family_status.sort_values(by = ['%'])"
   ]
  },
  {
   "cell_type": "markdown",
   "metadata": {},
   "source": [
    "### Вывод"
   ]
  },
  {
   "cell_type": "markdown",
   "metadata": {},
   "source": [
    "Семейное положение так же как и наличие детей сильно сказывается на образовании задолженности по платежам.\n",
    "Выделяются люди живущие в гражданском браке и те кто не женат / не замужем, 9.3 и 9.7% соответственно среди таковых допускают образование просрочки. \n",
    "Целевая группа здесь это семейные пары, они берут гораздо больше кредитов и исправно платят, имеют высокий уровень ответственности."
   ]
  },
  {
   "cell_type": "markdown",
   "metadata": {},
   "source": [
    "- Есть ли зависимость между уровнем дохода и возвратом кредита в срок?"
   ]
  },
  {
   "cell_type": "code",
   "execution_count": 23,
   "metadata": {},
   "outputs": [
    {
     "name": "stdout",
     "output_type": "stream",
     "text": [
      "\n",
      "--------------------------------------------------\n",
      "Сводная таблица - Уровень дохода_Кол-во случаев просрочки\n",
      "--------------------------------------------------\n"
     ]
    },
    {
     "data": {
      "text/html": [
       "<div>\n",
       "<style scoped>\n",
       "    .dataframe tbody tr th:only-of-type {\n",
       "        vertical-align: middle;\n",
       "    }\n",
       "\n",
       "    .dataframe tbody tr th {\n",
       "        vertical-align: top;\n",
       "    }\n",
       "\n",
       "    .dataframe thead th {\n",
       "        text-align: right;\n",
       "    }\n",
       "</style>\n",
       "<table border=\"1\" class=\"dataframe\">\n",
       "  <thead>\n",
       "    <tr style=\"text-align: right;\">\n",
       "      <th></th>\n",
       "      <th>Кол-во без просрочки</th>\n",
       "      <th>Кол-во с просрочкой</th>\n",
       "      <th>%</th>\n",
       "    </tr>\n",
       "    <tr>\n",
       "      <th>income_level</th>\n",
       "      <th></th>\n",
       "      <th></th>\n",
       "      <th></th>\n",
       "    </tr>\n",
       "  </thead>\n",
       "  <tbody>\n",
       "    <tr>\n",
       "      <td>9_от 650 до 750 т. в мес.</td>\n",
       "      <td>38</td>\n",
       "      <td>1</td>\n",
       "      <td>2.564103</td>\n",
       "    </tr>\n",
       "    <tr>\n",
       "      <td>7_от 450 до 550 т. в мес.</td>\n",
       "      <td>170</td>\n",
       "      <td>9</td>\n",
       "      <td>5.027933</td>\n",
       "    </tr>\n",
       "    <tr>\n",
       "      <td>8_от 550 до 650 т. в мес.</td>\n",
       "      <td>62</td>\n",
       "      <td>4</td>\n",
       "      <td>6.060606</td>\n",
       "    </tr>\n",
       "    <tr>\n",
       "      <td>1_до 50 т. в мес.</td>\n",
       "      <td>349</td>\n",
       "      <td>23</td>\n",
       "      <td>6.182796</td>\n",
       "    </tr>\n",
       "    <tr>\n",
       "      <td>6_от 350 до 450 т. в мес.</td>\n",
       "      <td>489</td>\n",
       "      <td>37</td>\n",
       "      <td>7.034221</td>\n",
       "    </tr>\n",
       "    <tr>\n",
       "      <td>5_от 250 до 350 т. в мес.</td>\n",
       "      <td>1815</td>\n",
       "      <td>139</td>\n",
       "      <td>7.113613</td>\n",
       "    </tr>\n",
       "    <tr>\n",
       "      <td>2_от 50 до 80 т. в мес.</td>\n",
       "      <td>1753</td>\n",
       "      <td>151</td>\n",
       "      <td>7.930672</td>\n",
       "    </tr>\n",
       "    <tr>\n",
       "      <td>12_ выше 1 млн. в мес</td>\n",
       "      <td>23</td>\n",
       "      <td>2</td>\n",
       "      <td>8.000000</td>\n",
       "    </tr>\n",
       "    <tr>\n",
       "      <td>4_от 150 до 250 т. в мес.</td>\n",
       "      <td>6449</td>\n",
       "      <td>569</td>\n",
       "      <td>8.107723</td>\n",
       "    </tr>\n",
       "    <tr>\n",
       "      <td>10_от 750 до 850 т. в мес.</td>\n",
       "      <td>11</td>\n",
       "      <td>1</td>\n",
       "      <td>8.333333</td>\n",
       "    </tr>\n",
       "    <tr>\n",
       "      <td>3_от 80 до 150 т. в мес.</td>\n",
       "      <td>8543</td>\n",
       "      <td>804</td>\n",
       "      <td>8.601690</td>\n",
       "    </tr>\n",
       "    <tr>\n",
       "      <td>11_от 850 до 950 т. в мес.</td>\n",
       "      <td>8</td>\n",
       "      <td>1</td>\n",
       "      <td>11.111111</td>\n",
       "    </tr>\n",
       "  </tbody>\n",
       "</table>\n",
       "</div>"
      ],
      "text/plain": [
       "                            Кол-во без просрочки  Кол-во с просрочкой  \\\n",
       "income_level                                                            \n",
       "9_от 650 до 750 т. в мес.                     38                    1   \n",
       "7_от 450 до 550 т. в мес.                    170                    9   \n",
       "8_от 550 до 650 т. в мес.                     62                    4   \n",
       "1_до 50 т. в мес.                            349                   23   \n",
       "6_от 350 до 450 т. в мес.                    489                   37   \n",
       "5_от 250 до 350 т. в мес.                   1815                  139   \n",
       "2_от 50 до 80 т. в мес.                     1753                  151   \n",
       "12_ выше 1 млн. в мес                         23                    2   \n",
       "4_от 150 до 250 т. в мес.                   6449                  569   \n",
       "10_от 750 до 850 т. в мес.                    11                    1   \n",
       "3_от 80 до 150 т. в мес.                    8543                  804   \n",
       "11_от 850 до 950 т. в мес.                     8                    1   \n",
       "\n",
       "                                    %  \n",
       "income_level                           \n",
       "9_от 650 до 750 т. в мес.    2.564103  \n",
       "7_от 450 до 550 т. в мес.    5.027933  \n",
       "8_от 550 до 650 т. в мес.    6.060606  \n",
       "1_до 50 т. в мес.            6.182796  \n",
       "6_от 350 до 450 т. в мес.    7.034221  \n",
       "5_от 250 до 350 т. в мес.    7.113613  \n",
       "2_от 50 до 80 т. в мес.      7.930672  \n",
       "12_ выше 1 млн. в мес        8.000000  \n",
       "4_от 150 до 250 т. в мес.    8.107723  \n",
       "10_от 750 до 850 т. в мес.   8.333333  \n",
       "3_от 80 до 150 т. в мес.     8.601690  \n",
       "11_от 850 до 950 т. в мес.  11.111111  "
      ]
     },
     "execution_count": 23,
     "metadata": {},
     "output_type": "execute_result"
    }
   ],
   "source": [
    "#создадим сводную таблицу количество случаев задолжности от уровня дохода\n",
    "data_pivot_income_level = data.pivot_table(index=['income_level'], columns='debt', aggfunc={'debt':'count'})\n",
    "data_pivot_income_level.set_axis(['Кол-во без просрочки','Кол-во с просрочкой'], axis = 'columns', inplace=True)\n",
    "data_pivot_income_level ['%'] = (data_pivot_income_level['Кол-во с просрочкой'] / (data_pivot_income_level['Кол-во без просрочки'] + data_pivot_income_level['Кол-во с просрочкой']))*100\n",
    "print('')\n",
    "print('--------------------------------------------------')\n",
    "print('Сводная таблица - Уровень дохода_Кол-во случаев просрочки')\n",
    "print('--------------------------------------------------')\n",
    "data_pivot_income_level.sort_values(by = ['%'])"
   ]
  },
  {
   "cell_type": "markdown",
   "metadata": {},
   "source": [
    "### Вывод"
   ]
  },
  {
   "cell_type": "markdown",
   "metadata": {},
   "source": [
    "Исходя из значений представленных в сводной таблице можно сделать вывод, что зависимость образования задолженности от уровня дохода присутствует в настоящем наборе данных.\n",
    "Наиболее интересная группа, это группа '3_от 80 до 150 т. в мес' - процент просрочки - 8.6 %. Этой группе принадлежит лидерство по общему кол-ву взятых на себя денежных обязательств. Близко к группе 3 располагается группа 4, с месячным доходом находящимся между 150 и 250 тыс., процент просрочки довольно близок 8.1 %. \n",
    "В большинстве своем остальные группы имеют более низкие значения процента просрочки, но и их представительство в наборе гораздо более скромное, возможно при увеличении количества людей в этих группах, процент будет стремиться к значению 8 %."
   ]
  },
  {
   "cell_type": "markdown",
   "metadata": {},
   "source": [
    "- Как разные цели кредита влияют на его возврат в срок?"
   ]
  },
  {
   "cell_type": "code",
   "execution_count": 24,
   "metadata": {},
   "outputs": [
    {
     "name": "stdout",
     "output_type": "stream",
     "text": [
      "\n",
      "--------------------------------------------------\n",
      "Сводная таблица - Цель кредита_Кол-во случаев просрочки\n",
      "--------------------------------------------------\n"
     ]
    },
    {
     "data": {
      "text/html": [
       "<div>\n",
       "<style scoped>\n",
       "    .dataframe tbody tr th:only-of-type {\n",
       "        vertical-align: middle;\n",
       "    }\n",
       "\n",
       "    .dataframe tbody tr th {\n",
       "        vertical-align: top;\n",
       "    }\n",
       "\n",
       "    .dataframe thead th {\n",
       "        text-align: right;\n",
       "    }\n",
       "</style>\n",
       "<table border=\"1\" class=\"dataframe\">\n",
       "  <thead>\n",
       "    <tr style=\"text-align: right;\">\n",
       "      <th></th>\n",
       "      <th>Кол-во без просрочки</th>\n",
       "      <th>Кол-во с просрочкой</th>\n",
       "      <th>%</th>\n",
       "    </tr>\n",
       "    <tr>\n",
       "      <th>purpose_class</th>\n",
       "      <th></th>\n",
       "      <th></th>\n",
       "      <th></th>\n",
       "    </tr>\n",
       "  </thead>\n",
       "  <tbody>\n",
       "    <tr>\n",
       "      <td>недвижимость</td>\n",
       "      <td>10029</td>\n",
       "      <td>782</td>\n",
       "      <td>7.233373</td>\n",
       "    </tr>\n",
       "    <tr>\n",
       "      <td>свадьба</td>\n",
       "      <td>2138</td>\n",
       "      <td>186</td>\n",
       "      <td>8.003442</td>\n",
       "    </tr>\n",
       "    <tr>\n",
       "      <td>образование</td>\n",
       "      <td>3643</td>\n",
       "      <td>370</td>\n",
       "      <td>9.220035</td>\n",
       "    </tr>\n",
       "    <tr>\n",
       "      <td>автомобиль</td>\n",
       "      <td>3903</td>\n",
       "      <td>403</td>\n",
       "      <td>9.359034</td>\n",
       "    </tr>\n",
       "  </tbody>\n",
       "</table>\n",
       "</div>"
      ],
      "text/plain": [
       "               Кол-во без просрочки  Кол-во с просрочкой         %\n",
       "purpose_class                                                     \n",
       "недвижимость                  10029                  782  7.233373\n",
       "свадьба                        2138                  186  8.003442\n",
       "образование                    3643                  370  9.220035\n",
       "автомобиль                     3903                  403  9.359034"
      ]
     },
     "execution_count": 24,
     "metadata": {},
     "output_type": "execute_result"
    }
   ],
   "source": [
    "#создадим сводную таблицу количество случаев задолжности от целей кредита\n",
    "data_pivot_purp_class = data.pivot_table(index=['purpose_class'], columns='debt', aggfunc={'debt':'count'})\n",
    "data_pivot_purp_class .set_axis(['Кол-во без просрочки','Кол-во с просрочкой'], axis = 'columns', inplace=True)\n",
    "data_pivot_purp_class ['%'] = (data_pivot_purp_class['Кол-во с просрочкой'] / (data_pivot_purp_class['Кол-во без просрочки'] + data_pivot_purp_class['Кол-во с просрочкой']))*100\n",
    "print('')\n",
    "print('--------------------------------------------------')\n",
    "print('Сводная таблица - Цель кредита_Кол-во случаев просрочки')\n",
    "print('--------------------------------------------------')\n",
    "data_pivot_purp_class.sort_values(by = ['%'])\n"
   ]
  },
  {
   "cell_type": "markdown",
   "metadata": {},
   "source": [
    "### Вывод"
   ]
  },
  {
   "cell_type": "markdown",
   "metadata": {},
   "source": [
    "Кредит на недвижимость является лидером категории, 7.2 процента от всех взятых кредитов допустили просрочки. Люди относятся к недвижимости с большей ответственностью, как правило покупая недвижимость они хотят закрыть базовую потребность человека.\n",
    "В наборе данных отстутствуют сведения о суммах кредитования, думаю с ними недвижимость будет в абсолютном лидерстве.\n",
    "Люди берут много кредитов на свадьбу но думаю сумма кредитования мала, от того и процент образование просрочки низок.\n",
    "Автомобиль и образование - в этих цифрах внутри находится определенный процент на риск (авария, поломка, отчислили из университета и т.д.) кторый несет в себе дополнительные траты, которые не дают вносить платежи определенному проценту потребителей в срок. У недвижимости такой процент риска гораздо ниже."
   ]
  },
  {
   "cell_type": "markdown",
   "metadata": {},
   "source": [
    "---\n",
    "## Комментарий от наставника\n",
    "\n",
    "Здорово, что при анализе использован метод сводных таблиц. Он поможет в дальнейших проектах. Стоит получать сводные таблицы на данном шаге, а не в категоризации.\n",
    "\n",
    "---"
   ]
  },
  {
   "cell_type": "markdown",
   "metadata": {},
   "source": [
    "### Шаг 4. Общий вывод"
   ]
  },
  {
   "cell_type": "markdown",
   "metadata": {},
   "source": [
    "Исходя из проведенного анализа, можно сделать предположение что семейная пара, без детей, берет кредит на недвижимость, будет в большем приоритете, чем любой другой набор \"переменных\". \n",
    "Количество детей не имеет такого веса как их принципиальное наличие да/нет.\n",
    "Семейное положение женат / замужем имеет прямую влияние на возврат кредита - на это условие приходится практически полловина строк набора данных, имеет низкий процент образования долга - 7.5.\n",
    "Общий вывод - на возврат кредита влияют: наличие детей, семейное положение и цель кредита."
   ]
  },
  {
   "cell_type": "markdown",
   "metadata": {},
   "source": [
    "---\n",
    "## Комментарий от наставника\n",
    "\n",
    "Выводы описаны грамотно. Приведены ответы на главные вопросы проекта. В выводах можно приводить полученные ранее значения, правильно. Также можно расписать все, что было сделано и какими методами. \n",
    "\n",
    "---"
   ]
  },
  {
   "cell_type": "markdown",
   "metadata": {},
   "source": [
    "<font color=blue> Помарки исправлены, и теперь работа выполнена хорошо. Успехов в дальнейших проектах :)\n",
    "    \n",
    "---"
   ]
  },
  {
   "cell_type": "markdown",
   "metadata": {},
   "source": [
    "## Комментарий от наставника\n",
    "\n",
    "- В начале работы следует описывать данные, с которыми работаешь;\n",
    "- Таблицы на печать выводи без метода print();\n",
    "- Разбивай код на большее число ячеек;\n",
    "- Используй альтернативный способ обработки пропусков.\n",
    "\n",
    "Ты проделал большую работу, молодец! Работа выполнена хорошо. Подумай над альтернативным способом обработки пропусков. Жду твоей работы :)\n",
    "\n",
    "-----"
   ]
  },
  {
   "cell_type": "markdown",
   "metadata": {},
   "source": [
    "### Чек-лист готовности проекта\n",
    "\n",
    "Поставьте 'x' в выполненных пунктах. Далее нажмите Shift+Enter."
   ]
  },
  {
   "cell_type": "markdown",
   "metadata": {},
   "source": [
    "- [x]  открыт файл;\n",
    "- [x]  файл изучен;\n",
    "- [x]  определены пропущенные значения;\n",
    "- [x]  заполнены пропущенные значения;\n",
    "- [x]  есть пояснение какие пропущенные значения обнаружены;\n",
    "- [x]  описаны возможные причины появления пропусков в данных;\n",
    "- [x]  объяснено по какому принципу заполнены пропуски;\n",
    "- [x]  заменен вещественный тип данных на целочисленный;\n",
    "- [x]  есть пояснение какой метод используется для изменения типа данных и почему;\n",
    "- [x]  удалены дубликаты;\n",
    "- [x]  есть пояснение какой метод используется для поиска и удаления дубликатов;\n",
    "- [x]  описаны возможные причины появления дубликатов в данных;\n",
    "- [x]  выделены леммы в значениях столбца с целями получения кредита;\n",
    "- [x]  описан процесс лемматизации;\n",
    "- [x]  данные категоризированы;\n",
    "- [x]  есть объяснение принципа категоризации данных;\n",
    "- [x]  есть ответ на вопрос \"Есть ли зависимость между наличием детей и возвратом кредита в срок?\";\n",
    "- [x]  есть ответ на вопрос \"Есть ли зависимость между семейным положением и возвратом кредита в срок?\";\n",
    "- [x]  есть ответ на вопрос \"Есть ли зависимость между уровнем дохода и возвратом кредита в срок?\";\n",
    "- [x]  есть ответ на вопрос \"Как разные цели кредита влияют на его возврат в срок?\";\n",
    "- [x]  в каждом этапе есть выводы;\n",
    "- [x]  есть общий вывод."
   ]
  }
 ],
 "metadata": {
  "kernelspec": {
   "display_name": "Python 3",
   "language": "python",
   "name": "python3"
  },
  "language_info": {
   "codemirror_mode": {
    "name": "ipython",
    "version": 3
   },
   "file_extension": ".py",
   "mimetype": "text/x-python",
   "name": "python",
   "nbconvert_exporter": "python",
   "pygments_lexer": "ipython3",
   "version": "3.7.6"
  }
 },
 "nbformat": 4,
 "nbformat_minor": 2
}
