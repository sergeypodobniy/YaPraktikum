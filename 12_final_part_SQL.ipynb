{
 "cells": [
  {
   "cell_type": "markdown",
   "metadata": {},
   "source": [
    "# SQL"
   ]
  },
  {
   "cell_type": "markdown",
   "metadata": {},
   "source": [
    "## Оглавление "
   ]
  },
  {
   "cell_type": "markdown",
   "metadata": {},
   "source": [
    "1. [Описание проекта](#step1)  \n",
    "2. [Описание данных](#step2)\n",
    "3. [Задание](#step3)  \n",
    "4. [Краткий план выполнения работы](#step4) \n",
    "5. [Импорт библиотек](#step5) \n",
    "6. [Загрузка данных и подготовка к анализу](#step6)\n",
    "7. [Посчитать количество книг, выпущенных после 1 января 2000 года](#step7)\n",
    "8. [Посчитать количество пользовательских обзоров и среднюю оценку для каждой книги](#step8)\n",
    "9. [Определить издательство, которое издало наибольшее число книг толще 50 страниц](#step9)\n",
    "10. [Определить автора с самой высокой средней оценкой книг - учитывая только книги с 50 и более пользовательскими оценками](#step10)\n",
    "11. [Посчитать среднее количество текстовых обзоров пользователей, которые поставили более чем по 50 оценок](#step11)\n",
    "12. [Общий вывод](#step12)"
   ]
  },
  {
   "cell_type": "markdown",
   "metadata": {},
   "source": [
    "## Описание проекта <a id=\"step1\"></a>   \n",
    "</div>"
   ]
  },
  {
   "cell_type": "markdown",
   "metadata": {},
   "source": [
    "Коронавирус застал мир врасплох, изменив привычный порядок вещей. В свободное время жители городов больше не выходят на улицу, не посещают кафе и торговые центры. Зато теперь они могут уделять больше времени книгам. На это обратили внимание стартаперы, которые бросились создавать новые приложения для тех, кто любит читать.\n",
    "\n",
    "Вам передали базу данных одного из конкурирующих сервисов. В ней есть информация о книгах, издательствах, авторах, а также пользовательские обзоры на книги. Эти данные помогут сформулировать ценностное предложение для нового продукта."
   ]
  },
  {
   "cell_type": "markdown",
   "metadata": {},
   "source": [
    "## Описание данных <a id=\"step2\"></a>   \n",
    "</div>\n",
    "\n",
    "**Таблица `books`**\n",
    "\n",
    "Содержит данные о книгах:\n",
    "\n",
    "- `book_id` — идентификатор книги;\n",
    "- `author_id` — идентификатор автора;\n",
    "- `title` — название книги;\n",
    "- `num_pages` — количество страниц;\n",
    "- `publication_date` — дата публикации книги;\n",
    "- `publisher_id` — идентификатор издателя.\n",
    "\n",
    "**Таблица `authors`**\n",
    "\n",
    "Содержит данные об авторах:\n",
    "\n",
    "- `author_id` — идентификатор автора;\n",
    "- `author` — имя автора.\n",
    "\n",
    "**Таблица `publishers`**\n",
    "\n",
    "Содержит данные об издательствах:\n",
    "\n",
    "- `publisher_id` — идентификатор издательства;\n",
    "- `publisher` — название издательства;\n",
    "\n",
    "**Таблица `ratings`**\n",
    "\n",
    "Содержит данные о пользовательских оценках книг:\n",
    "\n",
    "- `rating_id` — идентификатор оценки;\n",
    "- `book_id` — идентификатор книги;\n",
    "- `username` — имя пользователя, оставившего оценку;\n",
    "- `rating` — оценка книги.\n",
    "\n",
    "**Таблица `reviews`**\n",
    "\n",
    "Содержит данные о пользовательских обзорах на книги:\n",
    "\n",
    "- `review_id` — идентификатор обзора;\n",
    "- `book_id` — идентификатор книги;\n",
    "- `username` — имя пользователя, написавшего обзор;\n",
    "- `text` — текст обзора."
   ]
  },
  {
   "cell_type": "markdown",
   "metadata": {},
   "source": [
    "## Задание:<a id=\"step3\"></a>   \n",
    "</div>\n",
    "\n",
    "- Посчитать количество книг, выпущенных после 1 января 2000 года;\n",
    "- Посчитать количество пользовательских обзоров и среднюю оценку для каждой книги;\n",
    "- Определить издательство, которое издало наибольшее число книг толще 50 страниц;\n",
    "- Определить автора с самой высокой средней оценкой книг - учитывая только книги с 50 и более пользовательскими оценками;\n",
    "- Посчитать среднее количество текстовых обзоров пользователей, которые поставили более чем по 50 оценок."
   ]
  },
  {
   "cell_type": "markdown",
   "metadata": {},
   "source": [
    "### Краткий план выполнения работы<a id=\"step4\"></a>   \n",
    "</div>\n",
    "\n",
    "- Опишем цели исследования;\n",
    "- Исследуем таблицы (выведите первые строки);\n",
    "- Сделаем по одному SQL-запросу для решения каждой из пяти представленных задач;\n",
    "- Выведем результаты каждого запроса в тетрадке;\n",
    "- Опишием выводы по каждой из решённых задач.\n",
    "\n",
    "\n",
    "**Цели исследования:** найти точки для формирования ценностного предложение для нового продукта."
   ]
  },
  {
   "cell_type": "markdown",
   "metadata": {},
   "source": [
    "## Импорт библиотек <a id=\"step5\"></a>   \n",
    "</div>"
   ]
  },
  {
   "cell_type": "code",
   "execution_count": 1,
   "metadata": {},
   "outputs": [],
   "source": [
    "# импортируем библиотеки\n",
    "import pandas as pd\n",
    "from sqlalchemy import create_engine"
   ]
  },
  {
   "cell_type": "markdown",
   "metadata": {},
   "source": [
    "## Загрузка данных и подготовка к анализу <a id=\"step6\"></a>   \n",
    "</div>"
   ]
  },
  {
   "cell_type": "code",
   "execution_count": 2,
   "metadata": {},
   "outputs": [],
   "source": [
    "#создаем подключение к базе данных\n",
    "db_config = {'user': 'praktikum_student', # имя пользователя\n",
    "             'pwd': 'Sdf4$2;d-d30pp', # пароль\n",
    "             'host': 'rc1b-wcoijxj3yxfsf3fs.mdb.yandexcloud.net',\n",
    "             'port': 6432, # порт подключения\n",
    "             'db': 'data-analyst-final-project-db'} # название базы данных\n",
    "\n",
    "connection_string = 'postgresql://{}:{}@{}:{}/{}'.format(db_config['user'], \n",
    "                                                         db_config['pwd'], \n",
    "                                                         db_config['host'], \n",
    "                                                         db_config['port'], \n",
    "                                                         db_config['db'])\n",
    "\n",
    "engine = create_engine(connection_string, connect_args={'sslmode':'require'})"
   ]
  },
  {
   "cell_type": "code",
   "execution_count": 3,
   "metadata": {},
   "outputs": [],
   "source": [
    "#загрузка данных в переменные\n",
    "query_books = '''SELECT * FROM books'''\n",
    "books = pd.io.sql.read_sql(query_books, con = engine)\n",
    "\n",
    "query_authors = '''SELECT * FROM authors'''\n",
    "authors = pd.io.sql.read_sql(query_authors, con = engine)\n",
    "\n",
    "query_publishers = '''SELECT * FROM publishers'''\n",
    "publishers = pd.io.sql.read_sql(query_publishers, con = engine)\n",
    "\n",
    "query_ratings = '''SELECT * FROM ratings'''\n",
    "ratings = pd.io.sql.read_sql(query_ratings, con = engine)\n",
    "\n",
    "query_reviews = '''SELECT * FROM reviews'''\n",
    "reviews = pd.io.sql.read_sql(query_reviews, con = engine)"
   ]
  },
  {
   "cell_type": "code",
   "execution_count": 4,
   "metadata": {},
   "outputs": [],
   "source": [
    "#напишем функцию для первого взгляда на данные\n",
    "def df_firstView(df):\n",
    "    df.columns = df.columns.str.lower()\n",
    "    display('Размер набора данных (строк, столбцов):', df.shape)\n",
    "    display('Количество грубых дубликатов в наборе данных:', df.duplicated().sum())\n",
    "    display('Наименование столбцов:', df.columns)\n",
    "    display('Просмотр типов данных в столбцах')\n",
    "    df.info()\n",
    "    display('')\n",
    "    display('Вывод набора случайных строк')\n",
    "    try:\n",
    "        display(df.sample(20))\n",
    "    except:\n",
    "        display(df.sample(5))"
   ]
  },
  {
   "cell_type": "markdown",
   "metadata": {},
   "source": [
    "### посмотрим на таблицу - books"
   ]
  },
  {
   "cell_type": "code",
   "execution_count": 5,
   "metadata": {},
   "outputs": [
    {
     "data": {
      "text/plain": [
       "'Размер набора данных (строк, столбцов):'"
      ]
     },
     "metadata": {},
     "output_type": "display_data"
    },
    {
     "data": {
      "text/plain": [
       "(1000, 6)"
      ]
     },
     "metadata": {},
     "output_type": "display_data"
    },
    {
     "data": {
      "text/plain": [
       "'Количество грубых дубликатов в наборе данных:'"
      ]
     },
     "metadata": {},
     "output_type": "display_data"
    },
    {
     "data": {
      "text/plain": [
       "0"
      ]
     },
     "metadata": {},
     "output_type": "display_data"
    },
    {
     "data": {
      "text/plain": [
       "'Наименование столбцов:'"
      ]
     },
     "metadata": {},
     "output_type": "display_data"
    },
    {
     "data": {
      "text/plain": [
       "Index(['book_id', 'author_id', 'title', 'num_pages', 'publication_date',\n",
       "       'publisher_id'],\n",
       "      dtype='object')"
      ]
     },
     "metadata": {},
     "output_type": "display_data"
    },
    {
     "data": {
      "text/plain": [
       "'Просмотр типов данных в столбцах'"
      ]
     },
     "metadata": {},
     "output_type": "display_data"
    },
    {
     "name": "stdout",
     "output_type": "stream",
     "text": [
      "<class 'pandas.core.frame.DataFrame'>\n",
      "RangeIndex: 1000 entries, 0 to 999\n",
      "Data columns (total 6 columns):\n",
      "book_id             1000 non-null int64\n",
      "author_id           1000 non-null int64\n",
      "title               1000 non-null object\n",
      "num_pages           1000 non-null int64\n",
      "publication_date    1000 non-null object\n",
      "publisher_id        1000 non-null int64\n",
      "dtypes: int64(4), object(2)\n",
      "memory usage: 47.0+ KB\n"
     ]
    },
    {
     "data": {
      "text/plain": [
       "''"
      ]
     },
     "metadata": {},
     "output_type": "display_data"
    },
    {
     "data": {
      "text/plain": [
       "'Вывод набора случайных строк'"
      ]
     },
     "metadata": {},
     "output_type": "display_data"
    },
    {
     "data": {
      "text/html": [
       "<div>\n",
       "<style scoped>\n",
       "    .dataframe tbody tr th:only-of-type {\n",
       "        vertical-align: middle;\n",
       "    }\n",
       "\n",
       "    .dataframe tbody tr th {\n",
       "        vertical-align: top;\n",
       "    }\n",
       "\n",
       "    .dataframe thead th {\n",
       "        text-align: right;\n",
       "    }\n",
       "</style>\n",
       "<table border=\"1\" class=\"dataframe\">\n",
       "  <thead>\n",
       "    <tr style=\"text-align: right;\">\n",
       "      <th></th>\n",
       "      <th>book_id</th>\n",
       "      <th>author_id</th>\n",
       "      <th>title</th>\n",
       "      <th>num_pages</th>\n",
       "      <th>publication_date</th>\n",
       "      <th>publisher_id</th>\n",
       "    </tr>\n",
       "  </thead>\n",
       "  <tbody>\n",
       "    <tr>\n",
       "      <th>82</th>\n",
       "      <td>83</td>\n",
       "      <td>174</td>\n",
       "      <td>Anne Rice's The Vampire Lestat: A Graphic Novel</td>\n",
       "      <td>404</td>\n",
       "      <td>1991-11-30</td>\n",
       "      <td>33</td>\n",
       "    </tr>\n",
       "    <tr>\n",
       "      <th>954</th>\n",
       "      <td>955</td>\n",
       "      <td>291</td>\n",
       "      <td>Vanishing Acts</td>\n",
       "      <td>426</td>\n",
       "      <td>2005-11-15</td>\n",
       "      <td>329</td>\n",
       "    </tr>\n",
       "    <tr>\n",
       "      <th>622</th>\n",
       "      <td>623</td>\n",
       "      <td>398</td>\n",
       "      <td>The Adventures of Huckleberry Finn (Adventures...</td>\n",
       "      <td>327</td>\n",
       "      <td>2002-12-31</td>\n",
       "      <td>217</td>\n",
       "    </tr>\n",
       "    <tr>\n",
       "      <th>322</th>\n",
       "      <td>323</td>\n",
       "      <td>73</td>\n",
       "      <td>Hoot</td>\n",
       "      <td>292</td>\n",
       "      <td>2006-03-14</td>\n",
       "      <td>340</td>\n",
       "    </tr>\n",
       "    <tr>\n",
       "      <th>306</th>\n",
       "      <td>307</td>\n",
       "      <td>206</td>\n",
       "      <td>He's Just Not That Into You: The No-Excuses Tr...</td>\n",
       "      <td>208</td>\n",
       "      <td>2006-12-26</td>\n",
       "      <td>111</td>\n",
       "    </tr>\n",
       "    <tr>\n",
       "      <th>602</th>\n",
       "      <td>603</td>\n",
       "      <td>513</td>\n",
       "      <td>Sunshine</td>\n",
       "      <td>405</td>\n",
       "      <td>2004-11-30</td>\n",
       "      <td>164</td>\n",
       "    </tr>\n",
       "    <tr>\n",
       "      <th>775</th>\n",
       "      <td>776</td>\n",
       "      <td>359</td>\n",
       "      <td>The Laughing Corpse (Anita Blake  Vampire Hunt...</td>\n",
       "      <td>301</td>\n",
       "      <td>2005-08-02</td>\n",
       "      <td>45</td>\n",
       "    </tr>\n",
       "    <tr>\n",
       "      <th>518</th>\n",
       "      <td>519</td>\n",
       "      <td>139</td>\n",
       "      <td>Pope Joan</td>\n",
       "      <td>422</td>\n",
       "      <td>2009-06-09</td>\n",
       "      <td>34</td>\n",
       "    </tr>\n",
       "    <tr>\n",
       "      <th>417</th>\n",
       "      <td>418</td>\n",
       "      <td>201</td>\n",
       "      <td>March</td>\n",
       "      <td>280</td>\n",
       "      <td>2006-01-31</td>\n",
       "      <td>210</td>\n",
       "    </tr>\n",
       "    <tr>\n",
       "      <th>216</th>\n",
       "      <td>217</td>\n",
       "      <td>453</td>\n",
       "      <td>Ender's Shadow (The Shadow Series  #1)</td>\n",
       "      <td>469</td>\n",
       "      <td>2002-05-19</td>\n",
       "      <td>286</td>\n",
       "    </tr>\n",
       "    <tr>\n",
       "      <th>912</th>\n",
       "      <td>913</td>\n",
       "      <td>562</td>\n",
       "      <td>The Woman in Black</td>\n",
       "      <td>138</td>\n",
       "      <td>2001-12-01</td>\n",
       "      <td>73</td>\n",
       "    </tr>\n",
       "    <tr>\n",
       "      <th>514</th>\n",
       "      <td>515</td>\n",
       "      <td>291</td>\n",
       "      <td>Plain Truth</td>\n",
       "      <td>405</td>\n",
       "      <td>2004-11-01</td>\n",
       "      <td>27</td>\n",
       "    </tr>\n",
       "    <tr>\n",
       "      <th>768</th>\n",
       "      <td>769</td>\n",
       "      <td>359</td>\n",
       "      <td>The Killing Dance (Anita Blake  Vampire Hunter...</td>\n",
       "      <td>368</td>\n",
       "      <td>2006-04-04</td>\n",
       "      <td>47</td>\n",
       "    </tr>\n",
       "    <tr>\n",
       "      <th>473</th>\n",
       "      <td>474</td>\n",
       "      <td>486</td>\n",
       "      <td>Nick &amp; Norah's Infinite Playlist</td>\n",
       "      <td>183</td>\n",
       "      <td>2006-05-23</td>\n",
       "      <td>10</td>\n",
       "    </tr>\n",
       "    <tr>\n",
       "      <th>201</th>\n",
       "      <td>202</td>\n",
       "      <td>91</td>\n",
       "      <td>Drowning Ruth</td>\n",
       "      <td>368</td>\n",
       "      <td>2001-07-31</td>\n",
       "      <td>33</td>\n",
       "    </tr>\n",
       "    <tr>\n",
       "      <th>183</th>\n",
       "      <td>184</td>\n",
       "      <td>445</td>\n",
       "      <td>Dear John</td>\n",
       "      <td>276</td>\n",
       "      <td>2006-10-30</td>\n",
       "      <td>327</td>\n",
       "    </tr>\n",
       "    <tr>\n",
       "      <th>66</th>\n",
       "      <td>67</td>\n",
       "      <td>409</td>\n",
       "      <td>All-American Girl (All-American Girl  #1)</td>\n",
       "      <td>398</td>\n",
       "      <td>2003-07-22</td>\n",
       "      <td>144</td>\n",
       "    </tr>\n",
       "    <tr>\n",
       "      <th>139</th>\n",
       "      <td>140</td>\n",
       "      <td>334</td>\n",
       "      <td>Catherine  Called Birdy</td>\n",
       "      <td>224</td>\n",
       "      <td>2004-06-01</td>\n",
       "      <td>144</td>\n",
       "    </tr>\n",
       "    <tr>\n",
       "      <th>149</th>\n",
       "      <td>150</td>\n",
       "      <td>61</td>\n",
       "      <td>Chronicles: Volume One</td>\n",
       "      <td>320</td>\n",
       "      <td>2005-09-13</td>\n",
       "      <td>268</td>\n",
       "    </tr>\n",
       "    <tr>\n",
       "      <th>857</th>\n",
       "      <td>858</td>\n",
       "      <td>64</td>\n",
       "      <td>The Rules of Attraction</td>\n",
       "      <td>283</td>\n",
       "      <td>1998-06-30</td>\n",
       "      <td>313</td>\n",
       "    </tr>\n",
       "  </tbody>\n",
       "</table>\n",
       "</div>"
      ],
      "text/plain": [
       "     book_id  author_id                                              title  \\\n",
       "82        83        174    Anne Rice's The Vampire Lestat: A Graphic Novel   \n",
       "954      955        291                                     Vanishing Acts   \n",
       "622      623        398  The Adventures of Huckleberry Finn (Adventures...   \n",
       "322      323         73                                               Hoot   \n",
       "306      307        206  He's Just Not That Into You: The No-Excuses Tr...   \n",
       "602      603        513                                           Sunshine   \n",
       "775      776        359  The Laughing Corpse (Anita Blake  Vampire Hunt...   \n",
       "518      519        139                                          Pope Joan   \n",
       "417      418        201                                              March   \n",
       "216      217        453             Ender's Shadow (The Shadow Series  #1)   \n",
       "912      913        562                                 The Woman in Black   \n",
       "514      515        291                                        Plain Truth   \n",
       "768      769        359  The Killing Dance (Anita Blake  Vampire Hunter...   \n",
       "473      474        486                   Nick & Norah's Infinite Playlist   \n",
       "201      202         91                                      Drowning Ruth   \n",
       "183      184        445                                          Dear John   \n",
       "66        67        409          All-American Girl (All-American Girl  #1)   \n",
       "139      140        334                            Catherine  Called Birdy   \n",
       "149      150         61                             Chronicles: Volume One   \n",
       "857      858         64                            The Rules of Attraction   \n",
       "\n",
       "     num_pages publication_date  publisher_id  \n",
       "82         404       1991-11-30            33  \n",
       "954        426       2005-11-15           329  \n",
       "622        327       2002-12-31           217  \n",
       "322        292       2006-03-14           340  \n",
       "306        208       2006-12-26           111  \n",
       "602        405       2004-11-30           164  \n",
       "775        301       2005-08-02            45  \n",
       "518        422       2009-06-09            34  \n",
       "417        280       2006-01-31           210  \n",
       "216        469       2002-05-19           286  \n",
       "912        138       2001-12-01            73  \n",
       "514        405       2004-11-01            27  \n",
       "768        368       2006-04-04            47  \n",
       "473        183       2006-05-23            10  \n",
       "201        368       2001-07-31            33  \n",
       "183        276       2006-10-30           327  \n",
       "66         398       2003-07-22           144  \n",
       "139        224       2004-06-01           144  \n",
       "149        320       2005-09-13           268  \n",
       "857        283       1998-06-30           313  "
      ]
     },
     "metadata": {},
     "output_type": "display_data"
    }
   ],
   "source": [
    "df_firstView(books)"
   ]
  },
  {
   "cell_type": "markdown",
   "metadata": {},
   "source": [
    "### посмотрим на таблицу - authors"
   ]
  },
  {
   "cell_type": "code",
   "execution_count": 6,
   "metadata": {},
   "outputs": [
    {
     "data": {
      "text/plain": [
       "'Размер набора данных (строк, столбцов):'"
      ]
     },
     "metadata": {},
     "output_type": "display_data"
    },
    {
     "data": {
      "text/plain": [
       "(636, 2)"
      ]
     },
     "metadata": {},
     "output_type": "display_data"
    },
    {
     "data": {
      "text/plain": [
       "'Количество грубых дубликатов в наборе данных:'"
      ]
     },
     "metadata": {},
     "output_type": "display_data"
    },
    {
     "data": {
      "text/plain": [
       "0"
      ]
     },
     "metadata": {},
     "output_type": "display_data"
    },
    {
     "data": {
      "text/plain": [
       "'Наименование столбцов:'"
      ]
     },
     "metadata": {},
     "output_type": "display_data"
    },
    {
     "data": {
      "text/plain": [
       "Index(['author_id', 'author'], dtype='object')"
      ]
     },
     "metadata": {},
     "output_type": "display_data"
    },
    {
     "data": {
      "text/plain": [
       "'Просмотр типов данных в столбцах'"
      ]
     },
     "metadata": {},
     "output_type": "display_data"
    },
    {
     "name": "stdout",
     "output_type": "stream",
     "text": [
      "<class 'pandas.core.frame.DataFrame'>\n",
      "RangeIndex: 636 entries, 0 to 635\n",
      "Data columns (total 2 columns):\n",
      "author_id    636 non-null int64\n",
      "author       636 non-null object\n",
      "dtypes: int64(1), object(1)\n",
      "memory usage: 10.0+ KB\n"
     ]
    },
    {
     "data": {
      "text/plain": [
       "''"
      ]
     },
     "metadata": {},
     "output_type": "display_data"
    },
    {
     "data": {
      "text/plain": [
       "'Вывод набора случайных строк'"
      ]
     },
     "metadata": {},
     "output_type": "display_data"
    },
    {
     "data": {
      "text/html": [
       "<div>\n",
       "<style scoped>\n",
       "    .dataframe tbody tr th:only-of-type {\n",
       "        vertical-align: middle;\n",
       "    }\n",
       "\n",
       "    .dataframe tbody tr th {\n",
       "        vertical-align: top;\n",
       "    }\n",
       "\n",
       "    .dataframe thead th {\n",
       "        text-align: right;\n",
       "    }\n",
       "</style>\n",
       "<table border=\"1\" class=\"dataframe\">\n",
       "  <thead>\n",
       "    <tr style=\"text-align: right;\">\n",
       "      <th></th>\n",
       "      <th>author_id</th>\n",
       "      <th>author</th>\n",
       "    </tr>\n",
       "  </thead>\n",
       "  <tbody>\n",
       "    <tr>\n",
       "      <th>590</th>\n",
       "      <td>591</td>\n",
       "      <td>Trudi Canavan</td>\n",
       "    </tr>\n",
       "    <tr>\n",
       "      <th>21</th>\n",
       "      <td>22</td>\n",
       "      <td>Anita Shreve</td>\n",
       "    </tr>\n",
       "    <tr>\n",
       "      <th>30</th>\n",
       "      <td>31</td>\n",
       "      <td>Anne McCaffrey</td>\n",
       "    </tr>\n",
       "    <tr>\n",
       "      <th>165</th>\n",
       "      <td>166</td>\n",
       "      <td>Erich Fromm/Peter D. Kramer/Rainer Funk</td>\n",
       "    </tr>\n",
       "    <tr>\n",
       "      <th>522</th>\n",
       "      <td>523</td>\n",
       "      <td>Ruth Stiles Gannett</td>\n",
       "    </tr>\n",
       "    <tr>\n",
       "      <th>460</th>\n",
       "      <td>461</td>\n",
       "      <td>Pat Frank</td>\n",
       "    </tr>\n",
       "    <tr>\n",
       "      <th>101</th>\n",
       "      <td>102</td>\n",
       "      <td>Curtis Sittenfeld</td>\n",
       "    </tr>\n",
       "    <tr>\n",
       "      <th>480</th>\n",
       "      <td>481</td>\n",
       "      <td>Philippa Gregory</td>\n",
       "    </tr>\n",
       "    <tr>\n",
       "      <th>472</th>\n",
       "      <td>473</td>\n",
       "      <td>Pearl S. Buck</td>\n",
       "    </tr>\n",
       "    <tr>\n",
       "      <th>564</th>\n",
       "      <td>565</td>\n",
       "      <td>T.S. Eliot/Michael North</td>\n",
       "    </tr>\n",
       "    <tr>\n",
       "      <th>320</th>\n",
       "      <td>321</td>\n",
       "      <td>Joseph J. Ellis</td>\n",
       "    </tr>\n",
       "    <tr>\n",
       "      <th>488</th>\n",
       "      <td>489</td>\n",
       "      <td>Richard Bach</td>\n",
       "    </tr>\n",
       "    <tr>\n",
       "      <th>401</th>\n",
       "      <td>402</td>\n",
       "      <td>Markus Zusak/Cao Xuân Việt Khương</td>\n",
       "    </tr>\n",
       "    <tr>\n",
       "      <th>51</th>\n",
       "      <td>52</td>\n",
       "      <td>Barbara W. Tuchman/Robert K. Massie</td>\n",
       "    </tr>\n",
       "    <tr>\n",
       "      <th>547</th>\n",
       "      <td>548</td>\n",
       "      <td>Stephen King/Ned Dameron</td>\n",
       "    </tr>\n",
       "    <tr>\n",
       "      <th>117</th>\n",
       "      <td>118</td>\n",
       "      <td>Dave Eggers</td>\n",
       "    </tr>\n",
       "    <tr>\n",
       "      <th>190</th>\n",
       "      <td>191</td>\n",
       "      <td>Gary Paulsen</td>\n",
       "    </tr>\n",
       "    <tr>\n",
       "      <th>60</th>\n",
       "      <td>61</td>\n",
       "      <td>Bob Dylan</td>\n",
       "    </tr>\n",
       "    <tr>\n",
       "      <th>306</th>\n",
       "      <td>307</td>\n",
       "      <td>John Irving</td>\n",
       "    </tr>\n",
       "    <tr>\n",
       "      <th>352</th>\n",
       "      <td>353</td>\n",
       "      <td>Kurt Vonnegut Jr./Daniel Simon</td>\n",
       "    </tr>\n",
       "  </tbody>\n",
       "</table>\n",
       "</div>"
      ],
      "text/plain": [
       "     author_id                                   author\n",
       "590        591                            Trudi Canavan\n",
       "21          22                             Anita Shreve\n",
       "30          31                           Anne McCaffrey\n",
       "165        166  Erich Fromm/Peter D. Kramer/Rainer Funk\n",
       "522        523                      Ruth Stiles Gannett\n",
       "460        461                                Pat Frank\n",
       "101        102                        Curtis Sittenfeld\n",
       "480        481                         Philippa Gregory\n",
       "472        473                            Pearl S. Buck\n",
       "564        565                 T.S. Eliot/Michael North\n",
       "320        321                          Joseph J. Ellis\n",
       "488        489                             Richard Bach\n",
       "401        402        Markus Zusak/Cao Xuân Việt Khương\n",
       "51          52      Barbara W. Tuchman/Robert K. Massie\n",
       "547        548                 Stephen King/Ned Dameron\n",
       "117        118                              Dave Eggers\n",
       "190        191                             Gary Paulsen\n",
       "60          61                                Bob Dylan\n",
       "306        307                              John Irving\n",
       "352        353           Kurt Vonnegut Jr./Daniel Simon"
      ]
     },
     "metadata": {},
     "output_type": "display_data"
    }
   ],
   "source": [
    "df_firstView(authors)"
   ]
  },
  {
   "cell_type": "markdown",
   "metadata": {},
   "source": [
    "### посмотрим на таблицу - publishers"
   ]
  },
  {
   "cell_type": "code",
   "execution_count": 7,
   "metadata": {},
   "outputs": [
    {
     "data": {
      "text/plain": [
       "'Размер набора данных (строк, столбцов):'"
      ]
     },
     "metadata": {},
     "output_type": "display_data"
    },
    {
     "data": {
      "text/plain": [
       "(340, 2)"
      ]
     },
     "metadata": {},
     "output_type": "display_data"
    },
    {
     "data": {
      "text/plain": [
       "'Количество грубых дубликатов в наборе данных:'"
      ]
     },
     "metadata": {},
     "output_type": "display_data"
    },
    {
     "data": {
      "text/plain": [
       "0"
      ]
     },
     "metadata": {},
     "output_type": "display_data"
    },
    {
     "data": {
      "text/plain": [
       "'Наименование столбцов:'"
      ]
     },
     "metadata": {},
     "output_type": "display_data"
    },
    {
     "data": {
      "text/plain": [
       "Index(['publisher_id', 'publisher'], dtype='object')"
      ]
     },
     "metadata": {},
     "output_type": "display_data"
    },
    {
     "data": {
      "text/plain": [
       "'Просмотр типов данных в столбцах'"
      ]
     },
     "metadata": {},
     "output_type": "display_data"
    },
    {
     "name": "stdout",
     "output_type": "stream",
     "text": [
      "<class 'pandas.core.frame.DataFrame'>\n",
      "RangeIndex: 340 entries, 0 to 339\n",
      "Data columns (total 2 columns):\n",
      "publisher_id    340 non-null int64\n",
      "publisher       340 non-null object\n",
      "dtypes: int64(1), object(1)\n",
      "memory usage: 5.4+ KB\n"
     ]
    },
    {
     "data": {
      "text/plain": [
       "''"
      ]
     },
     "metadata": {},
     "output_type": "display_data"
    },
    {
     "data": {
      "text/plain": [
       "'Вывод набора случайных строк'"
      ]
     },
     "metadata": {},
     "output_type": "display_data"
    },
    {
     "data": {
      "text/html": [
       "<div>\n",
       "<style scoped>\n",
       "    .dataframe tbody tr th:only-of-type {\n",
       "        vertical-align: middle;\n",
       "    }\n",
       "\n",
       "    .dataframe tbody tr th {\n",
       "        vertical-align: top;\n",
       "    }\n",
       "\n",
       "    .dataframe thead th {\n",
       "        text-align: right;\n",
       "    }\n",
       "</style>\n",
       "<table border=\"1\" class=\"dataframe\">\n",
       "  <thead>\n",
       "    <tr style=\"text-align: right;\">\n",
       "      <th></th>\n",
       "      <th>publisher_id</th>\n",
       "      <th>publisher</th>\n",
       "    </tr>\n",
       "  </thead>\n",
       "  <tbody>\n",
       "    <tr>\n",
       "      <th>192</th>\n",
       "      <td>193</td>\n",
       "      <td>No Exit Press</td>\n",
       "    </tr>\n",
       "    <tr>\n",
       "      <th>52</th>\n",
       "      <td>53</td>\n",
       "      <td>Bloomsbury Childrens Books</td>\n",
       "    </tr>\n",
       "    <tr>\n",
       "      <th>244</th>\n",
       "      <td>245</td>\n",
       "      <td>Random House: Modern Library</td>\n",
       "    </tr>\n",
       "    <tr>\n",
       "      <th>182</th>\n",
       "      <td>183</td>\n",
       "      <td>Modern Library</td>\n",
       "    </tr>\n",
       "    <tr>\n",
       "      <th>143</th>\n",
       "      <td>144</td>\n",
       "      <td>HarperTrophy</td>\n",
       "    </tr>\n",
       "    <tr>\n",
       "      <th>256</th>\n",
       "      <td>257</td>\n",
       "      <td>Scholastic Press</td>\n",
       "    </tr>\n",
       "    <tr>\n",
       "      <th>326</th>\n",
       "      <td>327</td>\n",
       "      <td>Warner Books (NY)</td>\n",
       "    </tr>\n",
       "    <tr>\n",
       "      <th>193</th>\n",
       "      <td>194</td>\n",
       "      <td>Noonday Press</td>\n",
       "    </tr>\n",
       "    <tr>\n",
       "      <th>173</th>\n",
       "      <td>174</td>\n",
       "      <td>Listening Library (Audio)</td>\n",
       "    </tr>\n",
       "    <tr>\n",
       "      <th>17</th>\n",
       "      <td>18</td>\n",
       "      <td>Andrews McMeel Publishing</td>\n",
       "    </tr>\n",
       "    <tr>\n",
       "      <th>105</th>\n",
       "      <td>106</td>\n",
       "      <td>Farrar  Straus and Giroux (NY)</td>\n",
       "    </tr>\n",
       "    <tr>\n",
       "      <th>277</th>\n",
       "      <td>278</td>\n",
       "      <td>Speak</td>\n",
       "    </tr>\n",
       "    <tr>\n",
       "      <th>112</th>\n",
       "      <td>113</td>\n",
       "      <td>Golden/Disney</td>\n",
       "    </tr>\n",
       "    <tr>\n",
       "      <th>331</th>\n",
       "      <td>332</td>\n",
       "      <td>William Morrow / HarperCollins / Harper Perennial</td>\n",
       "    </tr>\n",
       "    <tr>\n",
       "      <th>242</th>\n",
       "      <td>243</td>\n",
       "      <td>Random House Trade Paperbacks</td>\n",
       "    </tr>\n",
       "    <tr>\n",
       "      <th>138</th>\n",
       "      <td>139</td>\n",
       "      <td>HarperOne</td>\n",
       "    </tr>\n",
       "    <tr>\n",
       "      <th>305</th>\n",
       "      <td>306</td>\n",
       "      <td>Victor Gollancz</td>\n",
       "    </tr>\n",
       "    <tr>\n",
       "      <th>31</th>\n",
       "      <td>32</td>\n",
       "      <td>Baen Books</td>\n",
       "    </tr>\n",
       "    <tr>\n",
       "      <th>146</th>\n",
       "      <td>147</td>\n",
       "      <td>Hartorch</td>\n",
       "    </tr>\n",
       "    <tr>\n",
       "      <th>184</th>\n",
       "      <td>185</td>\n",
       "      <td>Mysterious Press</td>\n",
       "    </tr>\n",
       "  </tbody>\n",
       "</table>\n",
       "</div>"
      ],
      "text/plain": [
       "     publisher_id                                          publisher\n",
       "192           193                                      No Exit Press\n",
       "52             53                         Bloomsbury Childrens Books\n",
       "244           245                       Random House: Modern Library\n",
       "182           183                                     Modern Library\n",
       "143           144                                       HarperTrophy\n",
       "256           257                                   Scholastic Press\n",
       "326           327                                  Warner Books (NY)\n",
       "193           194                                      Noonday Press\n",
       "173           174                          Listening Library (Audio)\n",
       "17             18                          Andrews McMeel Publishing\n",
       "105           106                     Farrar  Straus and Giroux (NY)\n",
       "277           278                                              Speak\n",
       "112           113                                      Golden/Disney\n",
       "331           332  William Morrow / HarperCollins / Harper Perennial\n",
       "242           243                      Random House Trade Paperbacks\n",
       "138           139                                          HarperOne\n",
       "305           306                                    Victor Gollancz\n",
       "31             32                                         Baen Books\n",
       "146           147                                           Hartorch\n",
       "184           185                                   Mysterious Press"
      ]
     },
     "metadata": {},
     "output_type": "display_data"
    }
   ],
   "source": [
    "df_firstView(publishers)"
   ]
  },
  {
   "cell_type": "markdown",
   "metadata": {},
   "source": [
    "### посмотрим на таблицу - ratings"
   ]
  },
  {
   "cell_type": "code",
   "execution_count": 8,
   "metadata": {},
   "outputs": [
    {
     "data": {
      "text/plain": [
       "'Размер набора данных (строк, столбцов):'"
      ]
     },
     "metadata": {},
     "output_type": "display_data"
    },
    {
     "data": {
      "text/plain": [
       "(6456, 4)"
      ]
     },
     "metadata": {},
     "output_type": "display_data"
    },
    {
     "data": {
      "text/plain": [
       "'Количество грубых дубликатов в наборе данных:'"
      ]
     },
     "metadata": {},
     "output_type": "display_data"
    },
    {
     "data": {
      "text/plain": [
       "0"
      ]
     },
     "metadata": {},
     "output_type": "display_data"
    },
    {
     "data": {
      "text/plain": [
       "'Наименование столбцов:'"
      ]
     },
     "metadata": {},
     "output_type": "display_data"
    },
    {
     "data": {
      "text/plain": [
       "Index(['rating_id', 'book_id', 'username', 'rating'], dtype='object')"
      ]
     },
     "metadata": {},
     "output_type": "display_data"
    },
    {
     "data": {
      "text/plain": [
       "'Просмотр типов данных в столбцах'"
      ]
     },
     "metadata": {},
     "output_type": "display_data"
    },
    {
     "name": "stdout",
     "output_type": "stream",
     "text": [
      "<class 'pandas.core.frame.DataFrame'>\n",
      "RangeIndex: 6456 entries, 0 to 6455\n",
      "Data columns (total 4 columns):\n",
      "rating_id    6456 non-null int64\n",
      "book_id      6456 non-null int64\n",
      "username     6456 non-null object\n",
      "rating       6456 non-null int64\n",
      "dtypes: int64(3), object(1)\n",
      "memory usage: 201.8+ KB\n"
     ]
    },
    {
     "data": {
      "text/plain": [
       "''"
      ]
     },
     "metadata": {},
     "output_type": "display_data"
    },
    {
     "data": {
      "text/plain": [
       "'Вывод набора случайных строк'"
      ]
     },
     "metadata": {},
     "output_type": "display_data"
    },
    {
     "data": {
      "text/html": [
       "<div>\n",
       "<style scoped>\n",
       "    .dataframe tbody tr th:only-of-type {\n",
       "        vertical-align: middle;\n",
       "    }\n",
       "\n",
       "    .dataframe tbody tr th {\n",
       "        vertical-align: top;\n",
       "    }\n",
       "\n",
       "    .dataframe thead th {\n",
       "        text-align: right;\n",
       "    }\n",
       "</style>\n",
       "<table border=\"1\" class=\"dataframe\">\n",
       "  <thead>\n",
       "    <tr style=\"text-align: right;\">\n",
       "      <th></th>\n",
       "      <th>rating_id</th>\n",
       "      <th>book_id</th>\n",
       "      <th>username</th>\n",
       "      <th>rating</th>\n",
       "    </tr>\n",
       "  </thead>\n",
       "  <tbody>\n",
       "    <tr>\n",
       "      <th>5663</th>\n",
       "      <td>5664</td>\n",
       "      <td>867</td>\n",
       "      <td>ashleyjoshua</td>\n",
       "      <td>2</td>\n",
       "    </tr>\n",
       "    <tr>\n",
       "      <th>1213</th>\n",
       "      <td>1214</td>\n",
       "      <td>207</td>\n",
       "      <td>serranoangela</td>\n",
       "      <td>2</td>\n",
       "    </tr>\n",
       "    <tr>\n",
       "      <th>779</th>\n",
       "      <td>780</td>\n",
       "      <td>125</td>\n",
       "      <td>yvonnevillarreal</td>\n",
       "      <td>3</td>\n",
       "    </tr>\n",
       "    <tr>\n",
       "      <th>3524</th>\n",
       "      <td>3525</td>\n",
       "      <td>571</td>\n",
       "      <td>daniel19</td>\n",
       "      <td>2</td>\n",
       "    </tr>\n",
       "    <tr>\n",
       "      <th>116</th>\n",
       "      <td>117</td>\n",
       "      <td>26</td>\n",
       "      <td>anthonyanderson</td>\n",
       "      <td>4</td>\n",
       "    </tr>\n",
       "    <tr>\n",
       "      <th>5616</th>\n",
       "      <td>5617</td>\n",
       "      <td>864</td>\n",
       "      <td>brentpowers</td>\n",
       "      <td>4</td>\n",
       "    </tr>\n",
       "    <tr>\n",
       "      <th>4416</th>\n",
       "      <td>4417</td>\n",
       "      <td>696</td>\n",
       "      <td>adamsabigail</td>\n",
       "      <td>4</td>\n",
       "    </tr>\n",
       "    <tr>\n",
       "      <th>1687</th>\n",
       "      <td>1688</td>\n",
       "      <td>299</td>\n",
       "      <td>shafferrobert</td>\n",
       "      <td>4</td>\n",
       "    </tr>\n",
       "    <tr>\n",
       "      <th>894</th>\n",
       "      <td>895</td>\n",
       "      <td>145</td>\n",
       "      <td>rmiller</td>\n",
       "      <td>2</td>\n",
       "    </tr>\n",
       "    <tr>\n",
       "      <th>1094</th>\n",
       "      <td>1095</td>\n",
       "      <td>186</td>\n",
       "      <td>tanya01</td>\n",
       "      <td>4</td>\n",
       "    </tr>\n",
       "    <tr>\n",
       "      <th>1097</th>\n",
       "      <td>1098</td>\n",
       "      <td>187</td>\n",
       "      <td>sabrinabrown</td>\n",
       "      <td>4</td>\n",
       "    </tr>\n",
       "    <tr>\n",
       "      <th>5067</th>\n",
       "      <td>5068</td>\n",
       "      <td>779</td>\n",
       "      <td>lharvey</td>\n",
       "      <td>3</td>\n",
       "    </tr>\n",
       "    <tr>\n",
       "      <th>3771</th>\n",
       "      <td>3772</td>\n",
       "      <td>623</td>\n",
       "      <td>williamsangela</td>\n",
       "      <td>3</td>\n",
       "    </tr>\n",
       "    <tr>\n",
       "      <th>3139</th>\n",
       "      <td>3140</td>\n",
       "      <td>491</td>\n",
       "      <td>scotttamara</td>\n",
       "      <td>5</td>\n",
       "    </tr>\n",
       "    <tr>\n",
       "      <th>4851</th>\n",
       "      <td>4852</td>\n",
       "      <td>750</td>\n",
       "      <td>dharris</td>\n",
       "      <td>2</td>\n",
       "    </tr>\n",
       "    <tr>\n",
       "      <th>162</th>\n",
       "      <td>163</td>\n",
       "      <td>35</td>\n",
       "      <td>npowers</td>\n",
       "      <td>3</td>\n",
       "    </tr>\n",
       "    <tr>\n",
       "      <th>6104</th>\n",
       "      <td>6105</td>\n",
       "      <td>948</td>\n",
       "      <td>kevincampbell</td>\n",
       "      <td>3</td>\n",
       "    </tr>\n",
       "    <tr>\n",
       "      <th>479</th>\n",
       "      <td>480</td>\n",
       "      <td>79</td>\n",
       "      <td>anthonyanderson</td>\n",
       "      <td>5</td>\n",
       "    </tr>\n",
       "    <tr>\n",
       "      <th>4536</th>\n",
       "      <td>4537</td>\n",
       "      <td>722</td>\n",
       "      <td>walter49</td>\n",
       "      <td>3</td>\n",
       "    </tr>\n",
       "    <tr>\n",
       "      <th>2306</th>\n",
       "      <td>2307</td>\n",
       "      <td>366</td>\n",
       "      <td>ashleymalone</td>\n",
       "      <td>4</td>\n",
       "    </tr>\n",
       "  </tbody>\n",
       "</table>\n",
       "</div>"
      ],
      "text/plain": [
       "      rating_id  book_id          username  rating\n",
       "5663       5664      867      ashleyjoshua       2\n",
       "1213       1214      207     serranoangela       2\n",
       "779         780      125  yvonnevillarreal       3\n",
       "3524       3525      571          daniel19       2\n",
       "116         117       26   anthonyanderson       4\n",
       "5616       5617      864       brentpowers       4\n",
       "4416       4417      696      adamsabigail       4\n",
       "1687       1688      299     shafferrobert       4\n",
       "894         895      145           rmiller       2\n",
       "1094       1095      186           tanya01       4\n",
       "1097       1098      187      sabrinabrown       4\n",
       "5067       5068      779           lharvey       3\n",
       "3771       3772      623    williamsangela       3\n",
       "3139       3140      491       scotttamara       5\n",
       "4851       4852      750           dharris       2\n",
       "162         163       35           npowers       3\n",
       "6104       6105      948     kevincampbell       3\n",
       "479         480       79   anthonyanderson       5\n",
       "4536       4537      722          walter49       3\n",
       "2306       2307      366      ashleymalone       4"
      ]
     },
     "metadata": {},
     "output_type": "display_data"
    }
   ],
   "source": [
    "df_firstView(ratings)"
   ]
  },
  {
   "cell_type": "markdown",
   "metadata": {},
   "source": [
    "### посмотрим на таблицу - reviews"
   ]
  },
  {
   "cell_type": "code",
   "execution_count": 9,
   "metadata": {},
   "outputs": [
    {
     "data": {
      "text/plain": [
       "'Размер набора данных (строк, столбцов):'"
      ]
     },
     "metadata": {},
     "output_type": "display_data"
    },
    {
     "data": {
      "text/plain": [
       "(2793, 4)"
      ]
     },
     "metadata": {},
     "output_type": "display_data"
    },
    {
     "data": {
      "text/plain": [
       "'Количество грубых дубликатов в наборе данных:'"
      ]
     },
     "metadata": {},
     "output_type": "display_data"
    },
    {
     "data": {
      "text/plain": [
       "0"
      ]
     },
     "metadata": {},
     "output_type": "display_data"
    },
    {
     "data": {
      "text/plain": [
       "'Наименование столбцов:'"
      ]
     },
     "metadata": {},
     "output_type": "display_data"
    },
    {
     "data": {
      "text/plain": [
       "Index(['review_id', 'book_id', 'username', 'text'], dtype='object')"
      ]
     },
     "metadata": {},
     "output_type": "display_data"
    },
    {
     "data": {
      "text/plain": [
       "'Просмотр типов данных в столбцах'"
      ]
     },
     "metadata": {},
     "output_type": "display_data"
    },
    {
     "name": "stdout",
     "output_type": "stream",
     "text": [
      "<class 'pandas.core.frame.DataFrame'>\n",
      "RangeIndex: 2793 entries, 0 to 2792\n",
      "Data columns (total 4 columns):\n",
      "review_id    2793 non-null int64\n",
      "book_id      2793 non-null int64\n",
      "username     2793 non-null object\n",
      "text         2793 non-null object\n",
      "dtypes: int64(2), object(2)\n",
      "memory usage: 87.4+ KB\n"
     ]
    },
    {
     "data": {
      "text/plain": [
       "''"
      ]
     },
     "metadata": {},
     "output_type": "display_data"
    },
    {
     "data": {
      "text/plain": [
       "'Вывод набора случайных строк'"
      ]
     },
     "metadata": {},
     "output_type": "display_data"
    },
    {
     "data": {
      "text/html": [
       "<div>\n",
       "<style scoped>\n",
       "    .dataframe tbody tr th:only-of-type {\n",
       "        vertical-align: middle;\n",
       "    }\n",
       "\n",
       "    .dataframe tbody tr th {\n",
       "        vertical-align: top;\n",
       "    }\n",
       "\n",
       "    .dataframe thead th {\n",
       "        text-align: right;\n",
       "    }\n",
       "</style>\n",
       "<table border=\"1\" class=\"dataframe\">\n",
       "  <thead>\n",
       "    <tr style=\"text-align: right;\">\n",
       "      <th></th>\n",
       "      <th>review_id</th>\n",
       "      <th>book_id</th>\n",
       "      <th>username</th>\n",
       "      <th>text</th>\n",
       "    </tr>\n",
       "  </thead>\n",
       "  <tbody>\n",
       "    <tr>\n",
       "      <th>479</th>\n",
       "      <td>479</td>\n",
       "      <td>175</td>\n",
       "      <td>danielchung</td>\n",
       "      <td>Region yourself help compare Mr community.</td>\n",
       "    </tr>\n",
       "    <tr>\n",
       "      <th>1996</th>\n",
       "      <td>1995</td>\n",
       "      <td>722</td>\n",
       "      <td>eallen</td>\n",
       "      <td>Us animal including read little cost. Grow its...</td>\n",
       "    </tr>\n",
       "    <tr>\n",
       "      <th>1089</th>\n",
       "      <td>1090</td>\n",
       "      <td>402</td>\n",
       "      <td>emcdaniel</td>\n",
       "      <td>Now turn might war green site there. Law thems...</td>\n",
       "    </tr>\n",
       "    <tr>\n",
       "      <th>1863</th>\n",
       "      <td>1862</td>\n",
       "      <td>676</td>\n",
       "      <td>jeromebowen</td>\n",
       "      <td>Of Democrat century bring. Outside treatment e...</td>\n",
       "    </tr>\n",
       "    <tr>\n",
       "      <th>1031</th>\n",
       "      <td>1032</td>\n",
       "      <td>379</td>\n",
       "      <td>valenciaanne</td>\n",
       "      <td>Mr during drug gun receive likely economy cent...</td>\n",
       "    </tr>\n",
       "    <tr>\n",
       "      <th>1763</th>\n",
       "      <td>1762</td>\n",
       "      <td>637</td>\n",
       "      <td>bobbyhood</td>\n",
       "      <td>Force article adult film attention man entire ...</td>\n",
       "    </tr>\n",
       "    <tr>\n",
       "      <th>371</th>\n",
       "      <td>371</td>\n",
       "      <td>132</td>\n",
       "      <td>webbmichelle</td>\n",
       "      <td>Bit effect mother become head character thousa...</td>\n",
       "    </tr>\n",
       "    <tr>\n",
       "      <th>1220</th>\n",
       "      <td>1220</td>\n",
       "      <td>444</td>\n",
       "      <td>nicoleburns</td>\n",
       "      <td>Pretty under while but method. In total color ...</td>\n",
       "    </tr>\n",
       "    <tr>\n",
       "      <th>1748</th>\n",
       "      <td>1747</td>\n",
       "      <td>633</td>\n",
       "      <td>gmccann</td>\n",
       "      <td>Beat lot take care.</td>\n",
       "    </tr>\n",
       "    <tr>\n",
       "      <th>351</th>\n",
       "      <td>351</td>\n",
       "      <td>124</td>\n",
       "      <td>lesliegibbs</td>\n",
       "      <td>Describe economy accept just program. Church y...</td>\n",
       "    </tr>\n",
       "    <tr>\n",
       "      <th>1707</th>\n",
       "      <td>1706</td>\n",
       "      <td>621</td>\n",
       "      <td>susan85</td>\n",
       "      <td>Fight investment part himself town. Space true...</td>\n",
       "    </tr>\n",
       "    <tr>\n",
       "      <th>683</th>\n",
       "      <td>682</td>\n",
       "      <td>253</td>\n",
       "      <td>taylorjeffrey</td>\n",
       "      <td>Idea grow whether land my significant importan...</td>\n",
       "    </tr>\n",
       "    <tr>\n",
       "      <th>1961</th>\n",
       "      <td>1960</td>\n",
       "      <td>707</td>\n",
       "      <td>patriciajohnson</td>\n",
       "      <td>Lot ahead give face forward start drop identif...</td>\n",
       "    </tr>\n",
       "    <tr>\n",
       "      <th>367</th>\n",
       "      <td>367</td>\n",
       "      <td>131</td>\n",
       "      <td>jessica49</td>\n",
       "      <td>Measure hold bank world just. Produce oil song...</td>\n",
       "    </tr>\n",
       "    <tr>\n",
       "      <th>2134</th>\n",
       "      <td>2134</td>\n",
       "      <td>767</td>\n",
       "      <td>lewisdesiree</td>\n",
       "      <td>Reveal prove traditional similar firm economic...</td>\n",
       "    </tr>\n",
       "    <tr>\n",
       "      <th>2475</th>\n",
       "      <td>2475</td>\n",
       "      <td>885</td>\n",
       "      <td>lharvey</td>\n",
       "      <td>Republican help north worry eat bill all place...</td>\n",
       "    </tr>\n",
       "    <tr>\n",
       "      <th>105</th>\n",
       "      <td>105</td>\n",
       "      <td>38</td>\n",
       "      <td>michele09</td>\n",
       "      <td>Perform like news base yet mouth during. Recen...</td>\n",
       "    </tr>\n",
       "    <tr>\n",
       "      <th>1297</th>\n",
       "      <td>1297</td>\n",
       "      <td>472</td>\n",
       "      <td>ehall</td>\n",
       "      <td>What minute mention often yes she sell. Seriou...</td>\n",
       "    </tr>\n",
       "    <tr>\n",
       "      <th>2340</th>\n",
       "      <td>2339</td>\n",
       "      <td>839</td>\n",
       "      <td>perrypatricia</td>\n",
       "      <td>Worry key site total produce effort. Law pay a...</td>\n",
       "    </tr>\n",
       "    <tr>\n",
       "      <th>1134</th>\n",
       "      <td>1134</td>\n",
       "      <td>417</td>\n",
       "      <td>kristykirby</td>\n",
       "      <td>Benefit morning the affect carry dog wonder st...</td>\n",
       "    </tr>\n",
       "  </tbody>\n",
       "</table>\n",
       "</div>"
      ],
      "text/plain": [
       "      review_id  book_id         username  \\\n",
       "479         479      175      danielchung   \n",
       "1996       1995      722           eallen   \n",
       "1089       1090      402        emcdaniel   \n",
       "1863       1862      676      jeromebowen   \n",
       "1031       1032      379     valenciaanne   \n",
       "1763       1762      637        bobbyhood   \n",
       "371         371      132     webbmichelle   \n",
       "1220       1220      444      nicoleburns   \n",
       "1748       1747      633          gmccann   \n",
       "351         351      124      lesliegibbs   \n",
       "1707       1706      621          susan85   \n",
       "683         682      253    taylorjeffrey   \n",
       "1961       1960      707  patriciajohnson   \n",
       "367         367      131        jessica49   \n",
       "2134       2134      767     lewisdesiree   \n",
       "2475       2475      885          lharvey   \n",
       "105         105       38        michele09   \n",
       "1297       1297      472            ehall   \n",
       "2340       2339      839    perrypatricia   \n",
       "1134       1134      417      kristykirby   \n",
       "\n",
       "                                                   text  \n",
       "479          Region yourself help compare Mr community.  \n",
       "1996  Us animal including read little cost. Grow its...  \n",
       "1089  Now turn might war green site there. Law thems...  \n",
       "1863  Of Democrat century bring. Outside treatment e...  \n",
       "1031  Mr during drug gun receive likely economy cent...  \n",
       "1763  Force article adult film attention man entire ...  \n",
       "371   Bit effect mother become head character thousa...  \n",
       "1220  Pretty under while but method. In total color ...  \n",
       "1748                                Beat lot take care.  \n",
       "351   Describe economy accept just program. Church y...  \n",
       "1707  Fight investment part himself town. Space true...  \n",
       "683   Idea grow whether land my significant importan...  \n",
       "1961  Lot ahead give face forward start drop identif...  \n",
       "367   Measure hold bank world just. Produce oil song...  \n",
       "2134  Reveal prove traditional similar firm economic...  \n",
       "2475  Republican help north worry eat bill all place...  \n",
       "105   Perform like news base yet mouth during. Recen...  \n",
       "1297  What minute mention often yes she sell. Seriou...  \n",
       "2340  Worry key site total produce effort. Law pay a...  \n",
       "1134  Benefit morning the affect carry dog wonder st...  "
      ]
     },
     "metadata": {},
     "output_type": "display_data"
    }
   ],
   "source": [
    "df_firstView(reviews)"
   ]
  },
  {
   "cell_type": "markdown",
   "metadata": {},
   "source": [
    "**Выводы шагу:**\n",
    "- пропуски не обнаружены;\n",
    "- грубых дубликатов не обнаружено;\n",
    "- наименования столбцов корректны;\n",
    "- типы данных не требуют вмешательства."
   ]
  },
  {
   "cell_type": "markdown",
   "metadata": {},
   "source": [
    "### Посчитаем количество книг, выпущенных после 1 января 2000 года<a id=\"step7\"></a>   \n",
    "</div>"
   ]
  },
  {
   "cell_type": "markdown",
   "metadata": {},
   "source": [
    "Для удобства работы напишем функцию которая примет на вход запрос к БД и вернет результат."
   ]
  },
  {
   "cell_type": "code",
   "execution_count": 10,
   "metadata": {},
   "outputs": [],
   "source": [
    "def go_SQL(sql):\n",
    "    return pd.io.sql.read_sql(sql, con = engine)"
   ]
  },
  {
   "cell_type": "code",
   "execution_count": 11,
   "metadata": {},
   "outputs": [
    {
     "data": {
      "text/html": [
       "<div>\n",
       "<style scoped>\n",
       "    .dataframe tbody tr th:only-of-type {\n",
       "        vertical-align: middle;\n",
       "    }\n",
       "\n",
       "    .dataframe tbody tr th {\n",
       "        vertical-align: top;\n",
       "    }\n",
       "\n",
       "    .dataframe thead th {\n",
       "        text-align: right;\n",
       "    }\n",
       "</style>\n",
       "<table border=\"1\" class=\"dataframe\">\n",
       "  <thead>\n",
       "    <tr style=\"text-align: right;\">\n",
       "      <th></th>\n",
       "      <th>books_cnt</th>\n",
       "    </tr>\n",
       "  </thead>\n",
       "  <tbody>\n",
       "    <tr>\n",
       "      <th>0</th>\n",
       "      <td>819</td>\n",
       "    </tr>\n",
       "  </tbody>\n",
       "</table>\n",
       "</div>"
      ],
      "text/plain": [
       "   books_cnt\n",
       "0        819"
      ]
     },
     "execution_count": 11,
     "metadata": {},
     "output_type": "execute_result"
    }
   ],
   "source": [
    "#формируем запрос\n",
    "books_count = '''SELECT COUNT(book_id) AS books_cnt FROM books WHERE publication_date >= '2000-01-02' '''\n",
    "\n",
    "go_SQL(books_count)"
   ]
  },
  {
   "cell_type": "markdown",
   "metadata": {},
   "source": [
    "Количество книг выпущенных, после 01.01.2000 г. - **819 шт.**"
   ]
  },
  {
   "cell_type": "markdown",
   "metadata": {},
   "source": [
    "### Посчитаем количество пользовательских обзоров и среднюю оценку для каждой книги<a id=\"step8\"></a>   \n",
    "</div>"
   ]
  },
  {
   "cell_type": "code",
   "execution_count": 12,
   "metadata": {},
   "outputs": [
    {
     "data": {
      "text/html": [
       "<div>\n",
       "<style scoped>\n",
       "    .dataframe tbody tr th:only-of-type {\n",
       "        vertical-align: middle;\n",
       "    }\n",
       "\n",
       "    .dataframe tbody tr th {\n",
       "        vertical-align: top;\n",
       "    }\n",
       "\n",
       "    .dataframe thead th {\n",
       "        text-align: right;\n",
       "    }\n",
       "</style>\n",
       "<table border=\"1\" class=\"dataframe\">\n",
       "  <thead>\n",
       "    <tr style=\"text-align: right;\">\n",
       "      <th></th>\n",
       "      <th>title</th>\n",
       "      <th>id</th>\n",
       "      <th>avg_rating</th>\n",
       "      <th>cnt_reviews</th>\n",
       "    </tr>\n",
       "  </thead>\n",
       "  <tbody>\n",
       "    <tr>\n",
       "      <th>0</th>\n",
       "      <td>Twilight (Twilight  #1)</td>\n",
       "      <td>948</td>\n",
       "      <td>3.662500</td>\n",
       "      <td>7</td>\n",
       "    </tr>\n",
       "    <tr>\n",
       "      <th>1</th>\n",
       "      <td>The Da Vinci Code (Robert Langdon  #2)</td>\n",
       "      <td>696</td>\n",
       "      <td>3.830508</td>\n",
       "      <td>6</td>\n",
       "    </tr>\n",
       "    <tr>\n",
       "      <th>2</th>\n",
       "      <td>Eat  Pray  Love</td>\n",
       "      <td>207</td>\n",
       "      <td>3.395833</td>\n",
       "      <td>6</td>\n",
       "    </tr>\n",
       "    <tr>\n",
       "      <th>3</th>\n",
       "      <td>The Alchemist</td>\n",
       "      <td>627</td>\n",
       "      <td>3.789474</td>\n",
       "      <td>6</td>\n",
       "    </tr>\n",
       "    <tr>\n",
       "      <th>4</th>\n",
       "      <td>The Catcher in the Rye</td>\n",
       "      <td>673</td>\n",
       "      <td>3.825581</td>\n",
       "      <td>6</td>\n",
       "    </tr>\n",
       "    <tr>\n",
       "      <th>5</th>\n",
       "      <td>The Curious Incident of the Dog in the Night-Time</td>\n",
       "      <td>695</td>\n",
       "      <td>4.081081</td>\n",
       "      <td>6</td>\n",
       "    </tr>\n",
       "    <tr>\n",
       "      <th>6</th>\n",
       "      <td>Harry Potter and the Prisoner of Azkaban (Harr...</td>\n",
       "      <td>302</td>\n",
       "      <td>4.414634</td>\n",
       "      <td>6</td>\n",
       "    </tr>\n",
       "    <tr>\n",
       "      <th>7</th>\n",
       "      <td>Harry Potter and the Chamber of Secrets (Harry...</td>\n",
       "      <td>299</td>\n",
       "      <td>4.287500</td>\n",
       "      <td>6</td>\n",
       "    </tr>\n",
       "    <tr>\n",
       "      <th>8</th>\n",
       "      <td>Outlander (Outlander  #1)</td>\n",
       "      <td>497</td>\n",
       "      <td>4.125000</td>\n",
       "      <td>6</td>\n",
       "    </tr>\n",
       "    <tr>\n",
       "      <th>9</th>\n",
       "      <td>The Book Thief</td>\n",
       "      <td>656</td>\n",
       "      <td>4.264151</td>\n",
       "      <td>6</td>\n",
       "    </tr>\n",
       "  </tbody>\n",
       "</table>\n",
       "</div>"
      ],
      "text/plain": [
       "                                               title   id  avg_rating  \\\n",
       "0                            Twilight (Twilight  #1)  948    3.662500   \n",
       "1             The Da Vinci Code (Robert Langdon  #2)  696    3.830508   \n",
       "2                                    Eat  Pray  Love  207    3.395833   \n",
       "3                                      The Alchemist  627    3.789474   \n",
       "4                             The Catcher in the Rye  673    3.825581   \n",
       "5  The Curious Incident of the Dog in the Night-Time  695    4.081081   \n",
       "6  Harry Potter and the Prisoner of Azkaban (Harr...  302    4.414634   \n",
       "7  Harry Potter and the Chamber of Secrets (Harry...  299    4.287500   \n",
       "8                          Outlander (Outlander  #1)  497    4.125000   \n",
       "9                                     The Book Thief  656    4.264151   \n",
       "\n",
       "   cnt_reviews  \n",
       "0            7  \n",
       "1            6  \n",
       "2            6  \n",
       "3            6  \n",
       "4            6  \n",
       "5            6  \n",
       "6            6  \n",
       "7            6  \n",
       "8            6  \n",
       "9            6  "
      ]
     },
     "execution_count": 12,
     "metadata": {},
     "output_type": "execute_result"
    }
   ],
   "source": [
    "#формируем запрос\n",
    "reviews_agrgt = '''\n",
    "SELECT \n",
    "    books.title AS title, books.book_id AS id,\n",
    "    AVG(ratings.rating) AS avg_rating,\n",
    "    COUNT(DISTINCT reviews.text) AS cnt_reviews\n",
    "FROM\n",
    "    books\n",
    "INNER JOIN ratings ON ratings.book_id = books.book_id\n",
    "INNER JOIN reviews ON reviews.book_id = books.book_id\n",
    "GROUP BY\n",
    "     books.title, books.book_id\n",
    "order by\n",
    "     cnt_reviews DESC\n",
    "limit 10\n",
    "'''\n",
    "#работаем по запросу\n",
    "go_SQL(reviews_agrgt)"
   ]
  },
  {
   "cell_type": "markdown",
   "metadata": {},
   "source": [
    "Посчитали количество пользовательских обзоров и среднюю оценку для каждой книги, максимальное количество обзоров - 7, у книги \"Сумерки\", при этом средний рейтинг не высок. Книги а приключениях Гарри Потера выглядят по этому соотношению солидней."
   ]
  },
  {
   "cell_type": "markdown",
   "metadata": {},
   "source": [
    "### Определим издательство, которое издало наибольшее число книг толще 50 страниц <a id=\"step9\"></a>   \n",
    "</div>"
   ]
  },
  {
   "cell_type": "code",
   "execution_count": 13,
   "metadata": {},
   "outputs": [
    {
     "data": {
      "text/html": [
       "<div>\n",
       "<style scoped>\n",
       "    .dataframe tbody tr th:only-of-type {\n",
       "        vertical-align: middle;\n",
       "    }\n",
       "\n",
       "    .dataframe tbody tr th {\n",
       "        vertical-align: top;\n",
       "    }\n",
       "\n",
       "    .dataframe thead th {\n",
       "        text-align: right;\n",
       "    }\n",
       "</style>\n",
       "<table border=\"1\" class=\"dataframe\">\n",
       "  <thead>\n",
       "    <tr style=\"text-align: right;\">\n",
       "      <th></th>\n",
       "      <th>name_publisher</th>\n",
       "      <th>cnt_of_published_books</th>\n",
       "    </tr>\n",
       "  </thead>\n",
       "  <tbody>\n",
       "    <tr>\n",
       "      <th>0</th>\n",
       "      <td>Penguin Books</td>\n",
       "      <td>42</td>\n",
       "    </tr>\n",
       "  </tbody>\n",
       "</table>\n",
       "</div>"
      ],
      "text/plain": [
       "  name_publisher  cnt_of_published_books\n",
       "0  Penguin Books                      42"
      ]
     },
     "execution_count": 13,
     "metadata": {},
     "output_type": "execute_result"
    }
   ],
   "source": [
    "#формируем запрос\n",
    "book_top_publisher = '''\n",
    "SELECT\n",
    "     publishers.publisher AS name_publisher,\n",
    "     COUNT(books.book_id) AS cnt_of_published_books\n",
    "FROM\n",
    "    publishers\n",
    "INNER JOIN books ON books.publisher_id = publishers.publisher_id\n",
    "WHERE\n",
    "    books.num_pages > 50\n",
    "GROUP BY\n",
    "    name_publisher\n",
    "ORDER BY \n",
    "    cnt_of_published_books DESC\n",
    "LIMIT 1\n",
    "'''\n",
    "#работаем по запросу\n",
    "go_SQL(book_top_publisher)"
   ]
  },
  {
   "cell_type": "markdown",
   "metadata": {},
   "source": [
    "Издательство, которое издало наибольшее число книг толще 50 страниц - **Penguin Books.**"
   ]
  },
  {
   "cell_type": "markdown",
   "metadata": {},
   "source": [
    "### Определим автора с самой высокой средней оценкой книг — учитывая книги с 50 и более пользовательскими оценками<a id=\"step10\"></a>   \n",
    "</div>"
   ]
  },
  {
   "cell_type": "code",
   "execution_count": 14,
   "metadata": {},
   "outputs": [
    {
     "data": {
      "text/html": [
       "<div>\n",
       "<style scoped>\n",
       "    .dataframe tbody tr th:only-of-type {\n",
       "        vertical-align: middle;\n",
       "    }\n",
       "\n",
       "    .dataframe tbody tr th {\n",
       "        vertical-align: top;\n",
       "    }\n",
       "\n",
       "    .dataframe thead th {\n",
       "        text-align: right;\n",
       "    }\n",
       "</style>\n",
       "<table border=\"1\" class=\"dataframe\">\n",
       "  <thead>\n",
       "    <tr style=\"text-align: right;\">\n",
       "      <th></th>\n",
       "      <th>author</th>\n",
       "      <th>avg_rating</th>\n",
       "    </tr>\n",
       "  </thead>\n",
       "  <tbody>\n",
       "    <tr>\n",
       "      <th>0</th>\n",
       "      <td>J.K. Rowling/Mary GrandPré</td>\n",
       "      <td>4.283844</td>\n",
       "    </tr>\n",
       "    <tr>\n",
       "      <th>1</th>\n",
       "      <td>Markus Zusak/Cao Xuân Việt Khương</td>\n",
       "      <td>4.264151</td>\n",
       "    </tr>\n",
       "    <tr>\n",
       "      <th>2</th>\n",
       "      <td>J.R.R. Tolkien</td>\n",
       "      <td>4.258446</td>\n",
       "    </tr>\n",
       "    <tr>\n",
       "      <th>3</th>\n",
       "      <td>Louisa May Alcott</td>\n",
       "      <td>4.192308</td>\n",
       "    </tr>\n",
       "    <tr>\n",
       "      <th>4</th>\n",
       "      <td>Rick Riordan</td>\n",
       "      <td>4.080645</td>\n",
       "    </tr>\n",
       "  </tbody>\n",
       "</table>\n",
       "</div>"
      ],
      "text/plain": [
       "                              author  avg_rating\n",
       "0         J.K. Rowling/Mary GrandPré    4.283844\n",
       "1  Markus Zusak/Cao Xuân Việt Khương    4.264151\n",
       "2                     J.R.R. Tolkien    4.258446\n",
       "3                  Louisa May Alcott    4.192308\n",
       "4                       Rick Riordan    4.080645"
      ]
     },
     "execution_count": 14,
     "metadata": {},
     "output_type": "execute_result"
    }
   ],
   "source": [
    "#формируем запрос\n",
    "top_author_avg_rating = '''\n",
    "SELECT\n",
    "      SUBQ.author AS author,\n",
    "      AVG(SUBQ.avg_rating) AS avg_rating\n",
    "FROM\n",
    "(SELECT\n",
    "     authors.author AS author, books.book_id AS id,\n",
    "     AVG(ratings.rating) AS avg_rating,\n",
    "     COUNT(ratings.rating) AS cnt_rating\n",
    "FROM\n",
    "    authors\n",
    "INNER JOIN books ON books.author_id = authors.author_id\n",
    "INNER JOIN ratings ON ratings.book_id = books.book_id\n",
    "GROUP BY\n",
    "    author, id\n",
    "    HAVING\n",
    "    COUNT(ratings.rating) >= 50) AS SUBQ\n",
    "GROUP BY\n",
    "    author\n",
    "ORDER BY\n",
    "    avg_rating DESC\n",
    "LIMIT 5\n",
    "'''\n",
    "#работаем по запросу\n",
    "go_SQL(top_author_avg_rating)"
   ]
  },
  {
   "cell_type": "markdown",
   "metadata": {},
   "source": [
    "Ожидаемо самый высокий рейтинг у книг Джоан Роулинг о маленьком волшебнике, это можно было спрогнозировать по итогам подсчета количество пользовательских обзоров и среднюю оценку для каждой книги, взглянув на топ 10."
   ]
  },
  {
   "cell_type": "markdown",
   "metadata": {},
   "source": [
    "### Посчитаем среднее количество текстовых обзоров пользователей, которые поставили более чем по 50 оценок.<a id=\"step11\"></a>   \n",
    "</div>"
   ]
  },
  {
   "cell_type": "code",
   "execution_count": 15,
   "metadata": {},
   "outputs": [
    {
     "data": {
      "text/html": [
       "<div>\n",
       "<style scoped>\n",
       "    .dataframe tbody tr th:only-of-type {\n",
       "        vertical-align: middle;\n",
       "    }\n",
       "\n",
       "    .dataframe tbody tr th {\n",
       "        vertical-align: top;\n",
       "    }\n",
       "\n",
       "    .dataframe thead th {\n",
       "        text-align: right;\n",
       "    }\n",
       "</style>\n",
       "<table border=\"1\" class=\"dataframe\">\n",
       "  <thead>\n",
       "    <tr style=\"text-align: right;\">\n",
       "      <th></th>\n",
       "      <th>round</th>\n",
       "    </tr>\n",
       "  </thead>\n",
       "  <tbody>\n",
       "    <tr>\n",
       "      <th>0</th>\n",
       "      <td>24.0</td>\n",
       "    </tr>\n",
       "  </tbody>\n",
       "</table>\n",
       "</div>"
      ],
      "text/plain": [
       "   round\n",
       "0   24.0"
      ]
     },
     "execution_count": 15,
     "metadata": {},
     "output_type": "execute_result"
    }
   ],
   "source": [
    "#формируем запрос\n",
    "text_reviews_avg = '''\n",
    "SELECT ROUND(avg(count)) \n",
    "FROM\n",
    "(SELECT\n",
    "    COUNT(text)\n",
    "FROM \n",
    "    reviews\n",
    "FULL OUTER JOIN (SELECT username,\n",
    "                COUNT(rating_id) as cnt\n",
    "FROM \n",
    "    ratings\n",
    "GROUP BY\n",
    "        username) AS cnt_rating\n",
    "ON cnt_rating.username = reviews.username\n",
    "where cnt > 50\n",
    "GROUP BY reviews.username) as count;                                  \n",
    "'''\n",
    "#работаем по запросу\n",
    "go_SQL(text_reviews_avg)"
   ]
  },
  {
   "cell_type": "markdown",
   "metadata": {},
   "source": [
    "Среднее количество текстовых обзоров пользователей, которые поставили более чем по 50 оценок - **24 шт.**"
   ]
  },
  {
   "cell_type": "markdown",
   "metadata": {},
   "source": [
    "## Общий вывод    <a id=\"step12\"></a>   \n",
    "</div>"
   ]
  },
  {
   "cell_type": "markdown",
   "metadata": {},
   "source": [
    "Количество книг выпущенных, после 01.01.2000 г. - **819 шт.**\n",
    "\n",
    "Посчитали количество пользовательских обзоров и среднюю оценку для каждой книги, максимальное количество обзоров - 7, у книги \"Сумерки\", при этом средний рейтинг не высок. Книги а приключениях Гарри Потера выглядят по этому соотношению солидней.\n",
    "\n",
    "Ожидаемо самый высокий рейтинг у книг Джоан Роулинг о маленьком волшебнике.\n",
    "\n",
    "Издательство, которое издало наибольшее число книг толще 50 страниц - **Penguin Books.**\n",
    "\n",
    "Среднее количество текстовых обзоров пользователей, которые поставили более чем по 50 оценок - **24 шт.**\n",
    "\n",
    "**Вывод:** для формирования ценностного предложения информации на данном этапе не достаточно, нужен более глубокий анализ, сейчас заданы лишь основные направления по крупным издательствам и популярным авторам."
   ]
  }
 ],
 "metadata": {
  "kernelspec": {
   "display_name": "Python 3",
   "language": "python",
   "name": "python3"
  },
  "language_info": {
   "codemirror_mode": {
    "name": "ipython",
    "version": 3
   },
   "file_extension": ".py",
   "mimetype": "text/x-python",
   "name": "python",
   "nbconvert_exporter": "python",
   "pygments_lexer": "ipython3",
   "version": "3.7.3"
  }
 },
 "nbformat": 4,
 "nbformat_minor": 2
}
